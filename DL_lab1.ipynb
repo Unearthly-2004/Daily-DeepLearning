{
  "cells": [
    {
      "cell_type": "markdown",
      "metadata": {
        "id": "LuennjsNWJ7F"
      },
      "source": [
        "# Simple Perceptron function\n",
        "\n"
      ]
    },
    {
      "cell_type": "code",
      "execution_count": null,
      "metadata": {
        "id": "W555tOSvSymW"
      },
      "outputs": [],
      "source": [
        "x_input=[0.1,0.5,0.2]\n",
        "w_weight=[0.62,0.63,0.62]\n",
        "threshold=0.5"
      ]
    },
    {
      "cell_type": "code",
      "execution_count": null,
      "metadata": {
        "id": "oZw9N9dlTlqz"
      },
      "outputs": [],
      "source": [
        "def step(weighted_sum):\n",
        "  if weighted_sum>threshold:\n",
        "    return 1\n",
        "  else:\n",
        "    return 0"
      ]
    },
    {
      "cell_type": "code",
      "execution_count": null,
      "metadata": {
        "id": "ejU7RfjPUN45"
      },
      "outputs": [],
      "source": [
        "def perceptron():\n",
        "  weighted_sum=0\n",
        "  for x,w in zip(x_input,w_weight):\n",
        "    weighted_sum+=x*w\n",
        "    print(weighted_sum)\n",
        "  return step(weighted_sum)"
      ]
    },
    {
      "cell_type": "code",
      "execution_count": null,
      "metadata": {
        "colab": {
          "base_uri": "https://localhost:8080/"
        },
        "id": "iNFO1IzaUb1X",
        "outputId": "3765ac97-bb28-4bf3-8e74-be7ce1687a64"
      },
      "outputs": [
        {
          "name": "stdout",
          "output_type": "stream",
          "text": [
            "0.062\n",
            "0.377\n",
            "0.501\n",
            "Output = 1\n"
          ]
        }
      ],
      "source": [
        "output=perceptron()\n",
        "print(\"Output =\",output)"
      ]
    },
    {
      "cell_type": "markdown",
      "metadata": {
        "id": "vO3uDw4AcEVq"
      },
      "source": [
        "# Perceptron Learning Algorithm"
      ]
    },
    {
      "cell_type": "code",
      "execution_count": null,
      "metadata": {
        "id": "-5cEX46KcC5q"
      },
      "outputs": [],
      "source": [
        "def perceptron1(x_input,w_weight):\n",
        "  weighted_sum=0\n",
        "  for x,w in zip(x_input,w_weight):\n",
        "    weighted_sum+=x*w\n",
        "    # print(weighted_sum)\n",
        "  return step(weighted_sum)\n"
      ]
    },
    {
      "cell_type": "code",
      "execution_count": null,
      "metadata": {
        "id": "Z-Dhp-mmYlPO"
      },
      "outputs": [],
      "source": [
        "def perceptron_learning():\n",
        "    optimized_weights = [0, 0, 0]\n",
        "    learning_rate = 0.01\n",
        "    while perceptron1(x_input, optimized_weights) != 1:\n",
        "      for i in optimized_weights:\n",
        "        # optimized_weights[i] += learning_rate\n",
        "        optimized_weights[0] += learning_rate\n",
        "        optimized_weights[1] += learning_rate\n",
        "        optimized_weights[2] += learning_rate\n",
        "\n",
        "    return optimized_weights"
      ]
    },
    {
      "cell_type": "code",
      "execution_count": null,
      "metadata": {
        "colab": {
          "base_uri": "https://localhost:8080/"
        },
        "id": "i1eGHgp7ZrUw",
        "outputId": "e753d317-450e-4889-e30d-32767e0822a2"
      },
      "outputs": [
        {
          "data": {
            "text/plain": [
              "[0.6300000000000003, 0.6300000000000003, 0.6300000000000003]"
            ]
          },
          "execution_count": 107,
          "metadata": {},
          "output_type": "execute_result"
        }
      ],
      "source": [
        "perceptron_learning()"
      ]
    },
    {
      "cell_type": "markdown",
      "metadata": {
        "id": "2ecwCWZzdjYJ"
      },
      "source": [
        "## Increasing individual weights"
      ]
    },
    {
      "cell_type": "code",
      "execution_count": null,
      "metadata": {
        "id": "OAQzmjifZx4d"
      },
      "outputs": [],
      "source": [
        "def perceptron_learning1():\n",
        "  optimised_weights = [0,0,0]\n",
        "  learning_rate = 0.01\n",
        "  while perceptron1(x_input, optimised_weights) != 1:\n",
        "    for i in range(len(optimised_weights)):\n",
        "      optimised_weights[i] = optimised_weights[i] + learning_rate * x_input[i]\n",
        "  return optimised_weights"
      ]
    },
    {
      "cell_type": "code",
      "execution_count": null,
      "metadata": {
        "colab": {
          "base_uri": "https://localhost:8080/"
        },
        "id": "LD_GuXSqbycR",
        "outputId": "7b4656c4-7b22-4616-846b-a7001d5cea87"
      },
      "outputs": [
        {
          "data": {
            "text/plain": [
              "[0.16700000000000012, 0.8350000000000006, 0.33400000000000024]"
            ]
          },
          "execution_count": 109,
          "metadata": {},
          "output_type": "execute_result"
        }
      ],
      "source": [
        "perceptron_learning1()"
      ]
    },
    {
      "cell_type": "markdown",
      "metadata": {
        "id": "sSD2V12xf3pU"
      },
      "source": [
        "# MCP Neuron"
      ]
    },
    {
      "cell_type": "markdown",
      "metadata": {
        "id": "e2CcrsR-gsaL"
      },
      "source": [
        "## OR gate"
      ]
    },
    {
      "cell_type": "code",
      "execution_count": null,
      "metadata": {
        "id": "hXkqQcNAb1mq"
      },
      "outputs": [],
      "source": [
        "def step(input_sum,threshold):\n",
        "  if input_sum>=threshold:\n",
        "    return 1\n",
        "  else:\n",
        "    return 0"
      ]
    },
    {
      "cell_type": "code",
      "execution_count": null,
      "metadata": {
        "id": "HrC3teCBgrPe"
      },
      "outputs": [],
      "source": [
        "def and_gate(inputs):\n",
        "  input_sum=0\n",
        "  threshold=len(inputs)\n",
        "  for i in inputs:\n",
        "    input_sum+=i\n",
        "  return step(input_sum,threshold)"
      ]
    },
    {
      "cell_type": "code",
      "execution_count": null,
      "metadata": {
        "colab": {
          "base_uri": "https://localhost:8080/"
        },
        "id": "QaVFnOQphG3g",
        "outputId": "003002e7-8f7f-416d-a55f-eb3d4629c882"
      },
      "outputs": [
        {
          "name": "stdout",
          "output_type": "stream",
          "text": [
            "[0, 0] = 0\n",
            "[0, 1] = 0\n",
            "[1, 0] = 0\n",
            "[1, 1] = 1\n"
          ]
        }
      ],
      "source": [
        "inputs=[[0,0],[0,1],[1,0],[1,1]]\n",
        "for i in inputs:\n",
        "  print(i,\"=\",and_gate(i))"
      ]
    },
    {
      "cell_type": "markdown",
      "metadata": {
        "id": "hqZkj8V8hyFK"
      },
      "source": [
        "## AND using perceptron"
      ]
    },
    {
      "cell_type": "code",
      "execution_count": 48,
      "metadata": {
        "id": "HIf2Jq3Zkgga"
      },
      "outputs": [],
      "source": [
        "def step(input_sum,threshold):\n",
        "  if input_sum>=threshold:\n",
        "    return 1\n",
        "  else:\n",
        "    return 0"
      ]
    },
    {
      "cell_type": "code",
      "execution_count": 49,
      "metadata": {
        "id": "w-6N9TnFhV2s"
      },
      "outputs": [],
      "source": [
        "def perceptron(inputs, weights):\n",
        "    input_sum=0\n",
        "    threshold=0\n",
        "    bias=-2\n",
        "    for i in range(len(inputs)):\n",
        "        input_sum+=inputs[i]*weights[i]\n",
        "    return step(input_sum+bias,threshold)         \n",
        "    "
      ]
    },
    {
      "cell_type": "code",
      "execution_count": 50,
      "metadata": {
        "colab": {
          "base_uri": "https://localhost:8080/"
        },
        "id": "YISG-eYfjouK",
        "outputId": "419c38e1-9383-44fe-ee83-dbcb425e3829"
      },
      "outputs": [
        {
          "name": "stdout",
          "output_type": "stream",
          "text": [
            "[0, 0] = 0\n",
            "[0, 1] = 0\n",
            "[1, 0] = 0\n",
            "[1, 1] = 1\n"
          ]
        }
      ],
      "source": [
        "inputs = [[0, 0], [0, 1], [1, 0], [1, 1]]\n",
        "weights = [1, 1]\n",
        "\n",
        "for i in inputs:\n",
        "    print(i, \"=\", perceptron(i, weights))"
      ]
    },
    {
      "cell_type": "markdown",
      "metadata": {
        "id": "2t3h4JMKj3Rn"
      },
      "source": [
        "## AND using perceptron for 3 inputs"
      ]
    },
    {
      "cell_type": "code",
      "execution_count": 51,
      "metadata": {},
      "outputs": [
        {
          "name": "stdout",
          "output_type": "stream",
          "text": [
            "[0, 0, 0] = 0\n",
            "[0, 0, 1] = 0\n",
            "[0, 1, 0] = 0\n",
            "[0, 1, 1] = 0\n",
            "[1, 0, 0] = 0\n",
            "[1, 0, 1] = 0\n",
            "[1, 1, 0] = 0\n",
            "[1, 1, 1] = 1\n"
          ]
        }
      ],
      "source": [
        "def perceptron(inputs, weights):\n",
        "    input_sum = 0\n",
        "    threshold = 0\n",
        "    bias = -3\n",
        "    for i in range(len(inputs)):\n",
        "        input_sum += inputs[i] * weights[i]\n",
        "    return step(input_sum + bias, threshold)\n",
        "\n",
        "inputs = [[0, 0, 0], [0, 0, 1], [0, 1, 0], [0, 1, 1], [1, 0, 0], [1, 0, 1], [1, 1, 0], [1, 1, 1]]\n",
        "weights = [1,1,1]\n",
        "for i in inputs:\n",
        "    print(i, \"=\", perceptron(i, weights))"
      ]
    },
    {
      "cell_type": "markdown",
      "metadata": {},
      "source": [
        "## NAND using perceptron for 3 inputs"
      ]
    },
    {
      "cell_type": "code",
      "execution_count": 113,
      "metadata": {},
      "outputs": [
        {
          "name": "stdout",
          "output_type": "stream",
          "text": [
            "[-1, -1, -1] = 1\n",
            "[-1, -1, 1] = 1\n",
            "[-1, 1, -1] = 1\n",
            "[-1, 1, 1] = 1\n",
            "[1, -1, -1] = 1\n",
            "[1, -1, 1] = 1\n",
            "[1, 1, -1] = 1\n",
            "[1, 1, 1] = 0\n"
          ]
        }
      ],
      "source": [
        "def perceptron(inputs, weights):\n",
        "    input_sum = 0\n",
        "    threshold = 0\n",
        "    bias = 1.5\n",
        "    for i in range(len(inputs)):\n",
        "        input_sum += inputs[i] * weights[i]\n",
        "    return step(input_sum + bias, threshold)\n",
        "\n",
        "inputs = [[-1, -1, -1], [-1, -1, 1], [-1, 1, -1], [-1, 1, 1], [1, -1, -1], [1, -1, 1], [1, 1, -1], [1, 1, 1]]\n",
        "weights = [-1.5, -0.5, -0.5]\n",
        "for i in inputs:\n",
        "    print(i, \"=\", perceptron(i, weights))"
      ]
    },
    {
      "cell_type": "markdown",
      "metadata": {},
      "source": [
        "## OR using perceptron for 3 inputs"
      ]
    },
    {
      "cell_type": "code",
      "execution_count": 54,
      "metadata": {},
      "outputs": [
        {
          "name": "stdout",
          "output_type": "stream",
          "text": [
            "[0, 0, 0] = 0\n",
            "[0, 0, 1] = 1\n",
            "[0, 1, 0] = 1\n",
            "[0, 1, 1] = 1\n",
            "[1, 0, 0] = 1\n",
            "[1, 0, 1] = 1\n",
            "[1, 1, 0] = 1\n",
            "[1, 1, 1] = 1\n"
          ]
        }
      ],
      "source": [
        "def perceptron(inputs, weights):\n",
        "    input_sum = 0\n",
        "    threshold = 0\n",
        "    bias = -1\n",
        "    for i in range(len(inputs)):\n",
        "        input_sum += inputs[i] * weights[i]\n",
        "    return step(input_sum + bias, threshold)\n",
        "\n",
        "inputs = [[0, 0, 0], [0, 0, 1], [0, 1, 0], [0, 1, 1], [1, 0, 0], [1, 0, 1], [1, 1, 0], [1, 1, 1]]\n",
        "weights = [1,1,1]\n",
        "for i in inputs:\n",
        "    print(i, \"=\", perceptron(i, weights))"
      ]
    },
    {
      "cell_type": "markdown",
      "metadata": {},
      "source": [
        "## Perceptron Learning NAND\n"
      ]
    },
    {
      "cell_type": "code",
      "execution_count": 109,
      "metadata": {},
      "outputs": [],
      "source": [
        "def perceptron(inputs, weights, op_bias):\n",
        "    input_sum = 0\n",
        "    threshold = 0\n",
        "    bias=op_bias\n",
        "    for i in range(len(inputs)):\n",
        "        input_sum += inputs[i] * weights[i]\n",
        "    return step(input_sum + bias, threshold)\n",
        "\n",
        "def step(input_sum, threshold):\n",
        "    if input_sum >= threshold:\n",
        "        return 1\n",
        "    else:\n",
        "        return 0\n",
        "\n",
        "# def perceptron_learning_nand():\n",
        "#     optimized_weights = [0, 0, 0]\n",
        "#     optimized_bias = 0\n",
        "#     learning_rate = 0.5\n",
        "\n",
        "#     inputs = [(-1,-1,-1), (-1,-1,1), (-1,1,-1), (-1,1,1), (1,-1,-1), (1,-1,1), (1,1,-1), (1,1,1)]\n",
        "#     expected_outputs = [1, 1, 1, 1, 1, 1, 1, 0]\n",
        "\n",
        "#     for _ in range(100):\n",
        "#         for input_set, expected in zip(inputs, expected_outputs):\n",
        "#             prediction = perceptron(input_set, optimized_weights, optimized_bias)\n",
        "#             for i in range(len(optimized_weights)):\n",
        "#                 optimized_weights[i] += learning_rate * (expected - prediction) * input_set[i]\n",
        "#             optimized_bias += learning_rate * (expected - prediction)\n",
        "#             # print(optimized_bias,optimized_weights)\n",
        "    \n",
        "#     return optimized_weights, optimized_bias\n",
        "\n",
        "# final_weights, final_bias = perceptron_learning_nand()\n",
        "# print(\"Optimized weights:\", final_weights)\n",
        "# print(\"Optimized bias:\", final_bias)"
      ]
    },
    {
      "cell_type": "code",
      "execution_count": 110,
      "metadata": {},
      "outputs": [],
      "source": [
        "def perceptron_learning(limit, inputs, outputs):\n",
        "    optimized_weights = [0, 0, 0]\n",
        "    bias = 0\n",
        "    learning_rate = 0.5\n",
        "    while limit > 0:\n",
        "        limit = limit - 1\n",
        "        for ip, xp in zip(inputs, outputs):\n",
        "            y_pred = perceptron(ip, optimized_weights, bias)\n",
        "\n",
        "            for i in range(len(optimized_weights)):\n",
        "                optimized_weights[i] += learning_rate * ip[i] * (xp - y_pred)\n",
        "                bias += learning_rate * (xp - y_pred)\n",
        "\n",
        "        #print(optimized_weights, bias)\n",
        "    return optimized_weights, bias"
      ]
    },
    {
      "cell_type": "code",
      "execution_count": 111,
      "metadata": {},
      "outputs": [
        {
          "name": "stdout",
          "output_type": "stream",
          "text": [
            "[-1.5, -0.5, -0.5]\n",
            "1.5\n"
          ]
        }
      ],
      "source": [
        "inputs = [(-1,-1,-1), (-1,-1,1), (-1,1,-1), (-1,1,1), (1,-1,-1), (1,-1,1), (1,1,-1), (1,1,1)]\n",
        "outputs = [1, 1, 1, 1, 1, 1, 1, 0]\n",
        "limit=100\n",
        "weights,bias=perceptron_learning(limit,inputs,outputs)\n",
        "print(weights)\n",
        "print(bias)\n"
      ]
    },
    {
      "cell_type": "code",
      "execution_count": null,
      "metadata": {},
      "outputs": [],
      "source": []
    }
  ],
  "metadata": {
    "accelerator": "GPU",
    "colab": {
      "gpuType": "T4",
      "provenance": []
    },
    "kernelspec": {
      "display_name": "Python 3",
      "name": "python3"
    },
    "language_info": {
      "codemirror_mode": {
        "name": "ipython",
        "version": 3
      },
      "file_extension": ".py",
      "mimetype": "text/x-python",
      "name": "python",
      "nbconvert_exporter": "python",
      "pygments_lexer": "ipython3",
      "version": "3.12.4"
    }
  },
  "nbformat": 4,
  "nbformat_minor": 0
}
