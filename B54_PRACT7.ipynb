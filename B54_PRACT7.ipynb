{
 "cells": [
  {
   "cell_type": "markdown",
   "metadata": {
    "id": "K9a7GXBXaZUH"
   },
   "source": [
    "#  DL Practical No. : 6\n",
    "## Name : Shrujan Kharwadey\n",
    "## Roll No. : 52\n",
    "## Section & Batch : B3"
   ]
  },
  {
   "cell_type": "markdown",
   "metadata": {
    "id": "FM900GKCwsKR"
   },
   "source": [
    "## Classifying Clothing ittems using Tensorflow 2.x"
   ]
  },
  {
   "cell_type": "code",
   "execution_count": null,
   "metadata": {},
   "outputs": [],
   "source": []
  },
  {
   "cell_type": "code",
   "execution_count": 3,
   "metadata": {
    "colab": {
     "base_uri": "https://localhost:8080/"
    },
    "executionInfo": {
     "elapsed": 6215,
     "status": "ok",
     "timestamp": 1742670925047,
     "user": {
      "displayName": "A_52_Priyank Maheshwari",
      "userId": "00590290924200288402"
     },
     "user_tz": -330
    },
    "id": "cGHfYfFPw17R",
    "outputId": "b1f53331-609f-4e99-d064-56d3610810e7"
   },
   "outputs": [
    {
     "ename": "ModuleNotFoundError",
     "evalue": "No module named 'tensorflow'",
     "output_type": "error",
     "traceback": [
      "\u001b[1;31m---------------------------------------------------------------------------\u001b[0m",
      "\u001b[1;31mModuleNotFoundError\u001b[0m                       Traceback (most recent call last)",
      "Cell \u001b[1;32mIn[3], line 1\u001b[0m\n\u001b[1;32m----> 1\u001b[0m \u001b[38;5;28;01mimport\u001b[39;00m\u001b[38;5;250m \u001b[39m\u001b[38;5;21;01mtensorflow\u001b[39;00m\u001b[38;5;250m \u001b[39m\u001b[38;5;28;01mas\u001b[39;00m\u001b[38;5;250m \u001b[39m\u001b[38;5;21;01mtf\u001b[39;00m\n\u001b[0;32m      2\u001b[0m \u001b[38;5;28;01mfrom\u001b[39;00m\u001b[38;5;250m \u001b[39m\u001b[38;5;21;01mtensorflow\u001b[39;00m\u001b[38;5;250m \u001b[39m\u001b[38;5;28;01mimport\u001b[39;00m keras\n\u001b[0;32m      4\u001b[0m \u001b[38;5;28mprint\u001b[39m(tf\u001b[38;5;241m.\u001b[39m__version__)\n",
      "\u001b[1;31mModuleNotFoundError\u001b[0m: No module named 'tensorflow'"
     ]
    }
   ],
   "source": [
    "import tensorflow as tf\n",
    "from tensorflow import keras\n",
    "\n",
    "print(tf.__version__)"
   ]
  },
  {
   "cell_type": "markdown",
   "metadata": {
    "id": "VPxteUS6xGa5"
   },
   "source": [
    "### Preparing the data"
   ]
  },
  {
   "cell_type": "code",
   "execution_count": null,
   "metadata": {
    "executionInfo": {
     "elapsed": 576,
     "status": "ok",
     "timestamp": 1742670925617,
     "user": {
      "displayName": "A_52_Priyank Maheshwari",
      "userId": "00590290924200288402"
     },
     "user_tz": -330
    },
    "id": "a8lO4ZgkxAso"
   },
   "outputs": [],
   "source": [
    "# Loading MNIST dataset\n",
    "fashion_mnist = keras.datasets.fashion_mnist\n",
    "(X_train, Y_train), (X_test, Y_test) = fashion_mnist.load_data()"
   ]
  },
  {
   "cell_type": "code",
   "execution_count": null,
   "metadata": {
    "colab": {
     "base_uri": "https://localhost:8080/"
    },
    "executionInfo": {
     "elapsed": 10,
     "status": "ok",
     "timestamp": 1742670925629,
     "user": {
      "displayName": "A_52_Priyank Maheshwari",
      "userId": "00590290924200288402"
     },
     "user_tz": -330
    },
    "id": "W0VrM5QlxoRj",
    "outputId": "816219d8-96c5-4a64-a344-f7ea2bc7d53f"
   },
   "outputs": [
    {
     "name": "stdout",
     "output_type": "stream",
     "text": [
      "(60000, 28, 28)\n",
      "(10000, 28, 28)\n"
     ]
    }
   ],
   "source": [
    "print(X_train.shape)\n",
    "print(X_test.shape)"
   ]
  },
  {
   "cell_type": "markdown",
   "metadata": {
    "id": "rkM6caByxyz4"
   },
   "source": [
    "### Data Preprocessing"
   ]
  },
  {
   "cell_type": "code",
   "execution_count": null,
   "metadata": {
    "executionInfo": {
     "elapsed": 93,
     "status": "ok",
     "timestamp": 1742670925740,
     "user": {
      "displayName": "A_52_Priyank Maheshwari",
      "userId": "00590290924200288402"
     },
     "user_tz": -330
    },
    "id": "ZJ5vz92Sxw2R"
   },
   "outputs": [],
   "source": [
    "X_train = X_train.astype('float32')\n",
    "X_test = X_test.astype('float32')"
   ]
  },
  {
   "cell_type": "code",
   "execution_count": null,
   "metadata": {
    "colab": {
     "base_uri": "https://localhost:8080/"
    },
    "executionInfo": {
     "elapsed": 163,
     "status": "ok",
     "timestamp": 1742670925923,
     "user": {
      "displayName": "A_52_Priyank Maheshwari",
      "userId": "00590290924200288402"
     },
     "user_tz": -330
    },
    "id": "CCYYvjoIyAJk",
    "outputId": "89c1adc0-b9ad-4fc8-a2f6-fb4500a7f165"
   },
   "outputs": [
    {
     "name": "stdout",
     "output_type": "stream",
     "text": [
      "(60000, 784) train samples\n",
      "(10000, 784) test samples\n"
     ]
    }
   ],
   "source": [
    "# X_train is 60000 rows of 28x28 values; we reshape it to # 60000 x 784.\n",
    "RESHAPED = 784 # 28x28 = 784 neurons\n",
    "X_train = X_train.reshape(60000, RESHAPED)\n",
    "X_test = X_test.reshape(10000, RESHAPED)\n",
    "\n",
    "# Data is converted into float32 to use 32-bit precision when training a neural network\n",
    "X_train = X_train.astype('float32')\n",
    "X_test = X_test.astype('float32')\n",
    "\n",
    "# Normalizing the input to be within the range [0,1]\n",
    "X_train /= 255\n",
    "X_test /= 255\n",
    "\n",
    "print(X_train.shape, 'train samples')\n",
    "print(X_test.shape, 'test samples')"
   ]
  },
  {
   "cell_type": "code",
   "execution_count": null,
   "metadata": {
    "executionInfo": {
     "elapsed": 22,
     "status": "ok",
     "timestamp": 1742670925967,
     "user": {
      "displayName": "A_52_Priyank Maheshwari",
      "userId": "00590290924200288402"
     },
     "user_tz": -330
    },
    "id": "H_CW8q7ryaui"
   },
   "outputs": [],
   "source": [
    "# One-hot representation of the labels.\n",
    "Y_train = tf.keras.utils.to_categorical(Y_train, 10)\n",
    "Y_test = tf.keras.utils.to_categorical(Y_test, 10)"
   ]
  },
  {
   "cell_type": "markdown",
   "metadata": {
    "id": "r-m6yijLyfe4"
   },
   "source": [
    "### Designing the Model"
   ]
  },
  {
   "cell_type": "markdown",
   "metadata": {
    "id": "22quVWrlynNR"
   },
   "source": [
    "#### Preparing the Model 0: Single layer Perceptron"
   ]
  },
  {
   "cell_type": "markdown",
   "metadata": {
    "id": "96V8xiooyuUh"
   },
   "source": [
    "Building the `Sequential` model with 0 hidden layers. Choosing an optimizer and loss function for training:"
   ]
  },
  {
   "cell_type": "code",
   "execution_count": null,
   "metadata": {
    "executionInfo": {
     "elapsed": 23,
     "status": "ok",
     "timestamp": 1742670925992,
     "user": {
      "displayName": "A_52_Priyank Maheshwari",
      "userId": "00590290924200288402"
     },
     "user_tz": -330
    },
    "id": "mckXRAWXydaa"
   },
   "outputs": [],
   "source": [
    "import tensorflow as tf\n",
    "from tensorflow.keras.layers import Dense\n",
    "from tensorflow.keras import Sequential\n",
    "model_0 = Sequential()"
   ]
  },
  {
   "cell_type": "code",
   "execution_count": null,
   "metadata": {
    "colab": {
     "base_uri": "https://localhost:8080/"
    },
    "executionInfo": {
     "elapsed": 1411,
     "status": "ok",
     "timestamp": 1742670927408,
     "user": {
      "displayName": "A_52_Priyank Maheshwari",
      "userId": "00590290924200288402"
     },
     "user_tz": -330
    },
    "id": "034hRDzrzDki",
    "outputId": "66b2349f-1dda-4746-ff8f-2adab861c77a"
   },
   "outputs": [
    {
     "name": "stderr",
     "output_type": "stream",
     "text": [
      "/usr/local/lib/python3.11/dist-packages/keras/src/layers/core/dense.py:87: UserWarning: Do not pass an `input_shape`/`input_dim` argument to a layer. When using Sequential models, prefer using an `Input(shape)` object as the first layer in the model instead.\n",
      "  super().__init__(activity_regularizer=activity_regularizer, **kwargs)\n"
     ]
    }
   ],
   "source": [
    "# Now the model will take as input arrays of shape (*, 784)\n",
    "# And Output arrays of shape (*, 10)\n",
    "model_0.add(Dense(10,input_shape=(784,),name='dense_layer', activation='softmax'))"
   ]
  },
  {
   "cell_type": "code",
   "execution_count": null,
   "metadata": {
    "executionInfo": {
     "elapsed": 78,
     "status": "ok",
     "timestamp": 1742670927489,
     "user": {
      "displayName": "A_52_Priyank Maheshwari",
      "userId": "00590290924200288402"
     },
     "user_tz": -330
    },
    "id": "SsWv0bFozhbI"
   },
   "outputs": [],
   "source": [
    "# Compiling the model.\n",
    "model_0.compile(optimizer='SGD',loss='categorical_crossentropy',metrics=['accuracy'])"
   ]
  },
  {
   "cell_type": "code",
   "execution_count": null,
   "metadata": {
    "colab": {
     "base_uri": "https://localhost:8080/"
    },
    "executionInfo": {
     "elapsed": 181760,
     "status": "ok",
     "timestamp": 1742671109252,
     "user": {
      "displayName": "A_52_Priyank Maheshwari",
      "userId": "00590290924200288402"
     },
     "user_tz": -330
    },
    "id": "Iiv2gtDez00I",
    "outputId": "bc9cd126-813b-4562-a589-31e40eb050ac"
   },
   "outputs": [
    {
     "name": "stdout",
     "output_type": "stream",
     "text": [
      "Epoch 1/70\n",
      "\u001b[1m750/750\u001b[0m \u001b[32m━━━━━━━━━━━━━━━━━━━━\u001b[0m\u001b[37m\u001b[0m \u001b[1m4s\u001b[0m 4ms/step - accuracy: 0.5798 - loss: 1.3683 - val_accuracy: 0.7565 - val_loss: 0.7606\n",
      "Epoch 2/70\n",
      "\u001b[1m750/750\u001b[0m \u001b[32m━━━━━━━━━━━━━━━━━━━━\u001b[0m\u001b[37m\u001b[0m \u001b[1m4s\u001b[0m 3ms/step - accuracy: 0.7598 - loss: 0.7410 - val_accuracy: 0.7884 - val_loss: 0.6560\n",
      "Epoch 3/70\n",
      "\u001b[1m750/750\u001b[0m \u001b[32m━━━━━━━━━━━━━━━━━━━━\u001b[0m\u001b[37m\u001b[0m \u001b[1m3s\u001b[0m 3ms/step - accuracy: 0.7913 - loss: 0.6540 - val_accuracy: 0.8021 - val_loss: 0.6064\n",
      "Epoch 4/70\n",
      "\u001b[1m750/750\u001b[0m \u001b[32m━━━━━━━━━━━━━━━━━━━━\u001b[0m\u001b[37m\u001b[0m \u001b[1m5s\u001b[0m 3ms/step - accuracy: 0.8086 - loss: 0.5996 - val_accuracy: 0.8085 - val_loss: 0.5781\n",
      "Epoch 5/70\n",
      "\u001b[1m750/750\u001b[0m \u001b[32m━━━━━━━━━━━━━━━━━━━━\u001b[0m\u001b[37m\u001b[0m \u001b[1m3s\u001b[0m 3ms/step - accuracy: 0.8123 - loss: 0.5784 - val_accuracy: 0.8148 - val_loss: 0.5579\n",
      "Epoch 6/70\n",
      "\u001b[1m750/750\u001b[0m \u001b[32m━━━━━━━━━━━━━━━━━━━━\u001b[0m\u001b[37m\u001b[0m \u001b[1m3s\u001b[0m 3ms/step - accuracy: 0.8204 - loss: 0.5542 - val_accuracy: 0.8190 - val_loss: 0.5415\n",
      "Epoch 7/70\n",
      "\u001b[1m750/750\u001b[0m \u001b[32m━━━━━━━━━━━━━━━━━━━━\u001b[0m\u001b[37m\u001b[0m \u001b[1m3s\u001b[0m 3ms/step - accuracy: 0.8256 - loss: 0.5378 - val_accuracy: 0.8224 - val_loss: 0.5298\n",
      "Epoch 8/70\n",
      "\u001b[1m750/750\u001b[0m \u001b[32m━━━━━━━━━━━━━━━━━━━━\u001b[0m\u001b[37m\u001b[0m \u001b[1m2s\u001b[0m 3ms/step - accuracy: 0.8282 - loss: 0.5263 - val_accuracy: 0.8242 - val_loss: 0.5205\n",
      "Epoch 9/70\n",
      "\u001b[1m750/750\u001b[0m \u001b[32m━━━━━━━━━━━━━━━━━━━━\u001b[0m\u001b[37m\u001b[0m \u001b[1m3s\u001b[0m 3ms/step - accuracy: 0.8306 - loss: 0.5155 - val_accuracy: 0.8278 - val_loss: 0.5118\n",
      "Epoch 10/70\n",
      "\u001b[1m750/750\u001b[0m \u001b[32m━━━━━━━━━━━━━━━━━━━━\u001b[0m\u001b[37m\u001b[0m \u001b[1m3s\u001b[0m 3ms/step - accuracy: 0.8323 - loss: 0.5094 - val_accuracy: 0.8287 - val_loss: 0.5053\n",
      "Epoch 11/70\n",
      "\u001b[1m750/750\u001b[0m \u001b[32m━━━━━━━━━━━━━━━━━━━━\u001b[0m\u001b[37m\u001b[0m \u001b[1m3s\u001b[0m 3ms/step - accuracy: 0.8331 - loss: 0.5026 - val_accuracy: 0.8297 - val_loss: 0.4998\n",
      "Epoch 12/70\n",
      "\u001b[1m750/750\u001b[0m \u001b[32m━━━━━━━━━━━━━━━━━━━━\u001b[0m\u001b[37m\u001b[0m \u001b[1m2s\u001b[0m 3ms/step - accuracy: 0.8308 - loss: 0.5038 - val_accuracy: 0.8313 - val_loss: 0.4953\n",
      "Epoch 13/70\n",
      "\u001b[1m750/750\u001b[0m \u001b[32m━━━━━━━━━━━━━━━━━━━━\u001b[0m\u001b[37m\u001b[0m \u001b[1m2s\u001b[0m 3ms/step - accuracy: 0.8386 - loss: 0.4887 - val_accuracy: 0.8332 - val_loss: 0.4909\n",
      "Epoch 14/70\n",
      "\u001b[1m750/750\u001b[0m \u001b[32m━━━━━━━━━━━━━━━━━━━━\u001b[0m\u001b[37m\u001b[0m \u001b[1m2s\u001b[0m 3ms/step - accuracy: 0.8394 - loss: 0.4784 - val_accuracy: 0.8356 - val_loss: 0.4862\n",
      "Epoch 15/70\n",
      "\u001b[1m750/750\u001b[0m \u001b[32m━━━━━━━━━━━━━━━━━━━━\u001b[0m\u001b[37m\u001b[0m \u001b[1m2s\u001b[0m 3ms/step - accuracy: 0.8377 - loss: 0.4792 - val_accuracy: 0.8335 - val_loss: 0.4823\n",
      "Epoch 16/70\n",
      "\u001b[1m750/750\u001b[0m \u001b[32m━━━━━━━━━━━━━━━━━━━━\u001b[0m\u001b[37m\u001b[0m \u001b[1m3s\u001b[0m 3ms/step - accuracy: 0.8425 - loss: 0.4683 - val_accuracy: 0.8363 - val_loss: 0.4787\n",
      "Epoch 17/70\n",
      "\u001b[1m750/750\u001b[0m \u001b[32m━━━━━━━━━━━━━━━━━━━━\u001b[0m\u001b[37m\u001b[0m \u001b[1m2s\u001b[0m 3ms/step - accuracy: 0.8444 - loss: 0.4672 - val_accuracy: 0.8369 - val_loss: 0.4752\n",
      "Epoch 18/70\n",
      "\u001b[1m750/750\u001b[0m \u001b[32m━━━━━━━━━━━━━━━━━━━━\u001b[0m\u001b[37m\u001b[0m \u001b[1m2s\u001b[0m 3ms/step - accuracy: 0.8455 - loss: 0.4658 - val_accuracy: 0.8370 - val_loss: 0.4737\n",
      "Epoch 19/70\n",
      "\u001b[1m750/750\u001b[0m \u001b[32m━━━━━━━━━━━━━━━━━━━━\u001b[0m\u001b[37m\u001b[0m \u001b[1m2s\u001b[0m 3ms/step - accuracy: 0.8432 - loss: 0.4655 - val_accuracy: 0.8402 - val_loss: 0.4699\n",
      "Epoch 20/70\n",
      "\u001b[1m750/750\u001b[0m \u001b[32m━━━━━━━━━━━━━━━━━━━━\u001b[0m\u001b[37m\u001b[0m \u001b[1m3s\u001b[0m 3ms/step - accuracy: 0.8437 - loss: 0.4647 - val_accuracy: 0.8408 - val_loss: 0.4673\n",
      "Epoch 21/70\n",
      "\u001b[1m750/750\u001b[0m \u001b[32m━━━━━━━━━━━━━━━━━━━━\u001b[0m\u001b[37m\u001b[0m \u001b[1m2s\u001b[0m 3ms/step - accuracy: 0.8464 - loss: 0.4576 - val_accuracy: 0.8407 - val_loss: 0.4658\n",
      "Epoch 22/70\n",
      "\u001b[1m750/750\u001b[0m \u001b[32m━━━━━━━━━━━━━━━━━━━━\u001b[0m\u001b[37m\u001b[0m \u001b[1m3s\u001b[0m 3ms/step - accuracy: 0.8474 - loss: 0.4544 - val_accuracy: 0.8423 - val_loss: 0.4632\n",
      "Epoch 23/70\n",
      "\u001b[1m750/750\u001b[0m \u001b[32m━━━━━━━━━━━━━━━━━━━━\u001b[0m\u001b[37m\u001b[0m \u001b[1m2s\u001b[0m 3ms/step - accuracy: 0.8448 - loss: 0.4625 - val_accuracy: 0.8421 - val_loss: 0.4617\n",
      "Epoch 24/70\n",
      "\u001b[1m750/750\u001b[0m \u001b[32m━━━━━━━━━━━━━━━━━━━━\u001b[0m\u001b[37m\u001b[0m \u001b[1m2s\u001b[0m 3ms/step - accuracy: 0.8462 - loss: 0.4521 - val_accuracy: 0.8426 - val_loss: 0.4600\n",
      "Epoch 25/70\n",
      "\u001b[1m750/750\u001b[0m \u001b[32m━━━━━━━━━━━━━━━━━━━━\u001b[0m\u001b[37m\u001b[0m \u001b[1m2s\u001b[0m 3ms/step - accuracy: 0.8485 - loss: 0.4514 - val_accuracy: 0.8420 - val_loss: 0.4606\n",
      "Epoch 26/70\n",
      "\u001b[1m750/750\u001b[0m \u001b[32m━━━━━━━━━━━━━━━━━━━━\u001b[0m\u001b[37m\u001b[0m \u001b[1m3s\u001b[0m 3ms/step - accuracy: 0.8487 - loss: 0.4527 - val_accuracy: 0.8429 - val_loss: 0.4570\n",
      "Epoch 27/70\n",
      "\u001b[1m750/750\u001b[0m \u001b[32m━━━━━━━━━━━━━━━━━━━━\u001b[0m\u001b[37m\u001b[0m \u001b[1m3s\u001b[0m 3ms/step - accuracy: 0.8465 - loss: 0.4501 - val_accuracy: 0.8457 - val_loss: 0.4567\n",
      "Epoch 28/70\n",
      "\u001b[1m750/750\u001b[0m \u001b[32m━━━━━━━━━━━━━━━━━━━━\u001b[0m\u001b[37m\u001b[0m \u001b[1m2s\u001b[0m 3ms/step - accuracy: 0.8462 - loss: 0.4540 - val_accuracy: 0.8443 - val_loss: 0.4568\n",
      "Epoch 29/70\n",
      "\u001b[1m750/750\u001b[0m \u001b[32m━━━━━━━━━━━━━━━━━━━━\u001b[0m\u001b[37m\u001b[0m \u001b[1m3s\u001b[0m 3ms/step - accuracy: 0.8511 - loss: 0.4448 - val_accuracy: 0.8447 - val_loss: 0.4534\n",
      "Epoch 30/70\n",
      "\u001b[1m750/750\u001b[0m \u001b[32m━━━━━━━━━━━━━━━━━━━━\u001b[0m\u001b[37m\u001b[0m \u001b[1m3s\u001b[0m 3ms/step - accuracy: 0.8505 - loss: 0.4415 - val_accuracy: 0.8438 - val_loss: 0.4515\n",
      "Epoch 31/70\n",
      "\u001b[1m750/750\u001b[0m \u001b[32m━━━━━━━━━━━━━━━━━━━━\u001b[0m\u001b[37m\u001b[0m \u001b[1m2s\u001b[0m 3ms/step - accuracy: 0.8504 - loss: 0.4431 - val_accuracy: 0.8475 - val_loss: 0.4503\n",
      "Epoch 32/70\n",
      "\u001b[1m750/750\u001b[0m \u001b[32m━━━━━━━━━━━━━━━━━━━━\u001b[0m\u001b[37m\u001b[0m \u001b[1m2s\u001b[0m 3ms/step - accuracy: 0.8493 - loss: 0.4441 - val_accuracy: 0.8461 - val_loss: 0.4493\n",
      "Epoch 33/70\n",
      "\u001b[1m750/750\u001b[0m \u001b[32m━━━━━━━━━━━━━━━━━━━━\u001b[0m\u001b[37m\u001b[0m \u001b[1m3s\u001b[0m 3ms/step - accuracy: 0.8506 - loss: 0.4434 - val_accuracy: 0.8475 - val_loss: 0.4476\n",
      "Epoch 34/70\n",
      "\u001b[1m750/750\u001b[0m \u001b[32m━━━━━━━━━━━━━━━━━━━━\u001b[0m\u001b[37m\u001b[0m \u001b[1m2s\u001b[0m 3ms/step - accuracy: 0.8512 - loss: 0.4383 - val_accuracy: 0.8478 - val_loss: 0.4474\n",
      "Epoch 35/70\n",
      "\u001b[1m750/750\u001b[0m \u001b[32m━━━━━━━━━━━━━━━━━━━━\u001b[0m\u001b[37m\u001b[0m \u001b[1m3s\u001b[0m 3ms/step - accuracy: 0.8515 - loss: 0.4387 - val_accuracy: 0.8482 - val_loss: 0.4454\n",
      "Epoch 36/70\n",
      "\u001b[1m750/750\u001b[0m \u001b[32m━━━━━━━━━━━━━━━━━━━━\u001b[0m\u001b[37m\u001b[0m \u001b[1m2s\u001b[0m 3ms/step - accuracy: 0.8515 - loss: 0.4372 - val_accuracy: 0.8474 - val_loss: 0.4459\n",
      "Epoch 37/70\n",
      "\u001b[1m750/750\u001b[0m \u001b[32m━━━━━━━━━━━━━━━━━━━━\u001b[0m\u001b[37m\u001b[0m \u001b[1m2s\u001b[0m 3ms/step - accuracy: 0.8502 - loss: 0.4402 - val_accuracy: 0.8473 - val_loss: 0.4451\n",
      "Epoch 38/70\n",
      "\u001b[1m750/750\u001b[0m \u001b[32m━━━━━━━━━━━━━━━━━━━━\u001b[0m\u001b[37m\u001b[0m \u001b[1m3s\u001b[0m 3ms/step - accuracy: 0.8503 - loss: 0.4348 - val_accuracy: 0.8468 - val_loss: 0.4456\n",
      "Epoch 39/70\n",
      "\u001b[1m750/750\u001b[0m \u001b[32m━━━━━━━━━━━━━━━━━━━━\u001b[0m\u001b[37m\u001b[0m \u001b[1m3s\u001b[0m 3ms/step - accuracy: 0.8532 - loss: 0.4267 - val_accuracy: 0.8498 - val_loss: 0.4424\n",
      "Epoch 40/70\n",
      "\u001b[1m750/750\u001b[0m \u001b[32m━━━━━━━━━━━━━━━━━━━━\u001b[0m\u001b[37m\u001b[0m \u001b[1m2s\u001b[0m 3ms/step - accuracy: 0.8557 - loss: 0.4258 - val_accuracy: 0.8493 - val_loss: 0.4422\n",
      "Epoch 41/70\n",
      "\u001b[1m750/750\u001b[0m \u001b[32m━━━━━━━━━━━━━━━━━━━━\u001b[0m\u001b[37m\u001b[0m \u001b[1m3s\u001b[0m 3ms/step - accuracy: 0.8525 - loss: 0.4294 - val_accuracy: 0.8469 - val_loss: 0.4421\n",
      "Epoch 42/70\n",
      "\u001b[1m750/750\u001b[0m \u001b[32m━━━━━━━━━━━━━━━━━━━━\u001b[0m\u001b[37m\u001b[0m \u001b[1m4s\u001b[0m 3ms/step - accuracy: 0.8554 - loss: 0.4320 - val_accuracy: 0.8508 - val_loss: 0.4405\n",
      "Epoch 43/70\n",
      "\u001b[1m750/750\u001b[0m \u001b[32m━━━━━━━━━━━━━━━━━━━━\u001b[0m\u001b[37m\u001b[0m \u001b[1m2s\u001b[0m 3ms/step - accuracy: 0.8519 - loss: 0.4314 - val_accuracy: 0.8486 - val_loss: 0.4404\n",
      "Epoch 44/70\n",
      "\u001b[1m750/750\u001b[0m \u001b[32m━━━━━━━━━━━━━━━━━━━━\u001b[0m\u001b[37m\u001b[0m \u001b[1m3s\u001b[0m 3ms/step - accuracy: 0.8556 - loss: 0.4268 - val_accuracy: 0.8503 - val_loss: 0.4398\n",
      "Epoch 45/70\n",
      "\u001b[1m750/750\u001b[0m \u001b[32m━━━━━━━━━━━━━━━━━━━━\u001b[0m\u001b[37m\u001b[0m \u001b[1m2s\u001b[0m 3ms/step - accuracy: 0.8555 - loss: 0.4248 - val_accuracy: 0.8503 - val_loss: 0.4382\n",
      "Epoch 46/70\n",
      "\u001b[1m750/750\u001b[0m \u001b[32m━━━━━━━━━━━━━━━━━━━━\u001b[0m\u001b[37m\u001b[0m \u001b[1m2s\u001b[0m 3ms/step - accuracy: 0.8568 - loss: 0.4267 - val_accuracy: 0.8502 - val_loss: 0.4375\n",
      "Epoch 47/70\n",
      "\u001b[1m750/750\u001b[0m \u001b[32m━━━━━━━━━━━━━━━━━━━━\u001b[0m\u001b[37m\u001b[0m \u001b[1m2s\u001b[0m 3ms/step - accuracy: 0.8520 - loss: 0.4299 - val_accuracy: 0.8519 - val_loss: 0.4367\n",
      "Epoch 48/70\n",
      "\u001b[1m750/750\u001b[0m \u001b[32m━━━━━━━━━━━━━━━━━━━━\u001b[0m\u001b[37m\u001b[0m \u001b[1m2s\u001b[0m 3ms/step - accuracy: 0.8557 - loss: 0.4247 - val_accuracy: 0.8519 - val_loss: 0.4363\n",
      "Epoch 49/70\n",
      "\u001b[1m750/750\u001b[0m \u001b[32m━━━━━━━━━━━━━━━━━━━━\u001b[0m\u001b[37m\u001b[0m \u001b[1m3s\u001b[0m 3ms/step - accuracy: 0.8569 - loss: 0.4260 - val_accuracy: 0.8508 - val_loss: 0.4362\n",
      "Epoch 50/70\n",
      "\u001b[1m750/750\u001b[0m \u001b[32m━━━━━━━━━━━━━━━━━━━━\u001b[0m\u001b[37m\u001b[0m \u001b[1m3s\u001b[0m 3ms/step - accuracy: 0.8560 - loss: 0.4261 - val_accuracy: 0.8507 - val_loss: 0.4348\n",
      "Epoch 51/70\n",
      "\u001b[1m750/750\u001b[0m \u001b[32m━━━━━━━━━━━━━━━━━━━━\u001b[0m\u001b[37m\u001b[0m \u001b[1m2s\u001b[0m 3ms/step - accuracy: 0.8583 - loss: 0.4163 - val_accuracy: 0.8501 - val_loss: 0.4353\n",
      "Epoch 52/70\n",
      "\u001b[1m750/750\u001b[0m \u001b[32m━━━━━━━━━━━━━━━━━━━━\u001b[0m\u001b[37m\u001b[0m \u001b[1m3s\u001b[0m 3ms/step - accuracy: 0.8557 - loss: 0.4212 - val_accuracy: 0.8515 - val_loss: 0.4355\n",
      "Epoch 53/70\n",
      "\u001b[1m750/750\u001b[0m \u001b[32m━━━━━━━━━━━━━━━━━━━━\u001b[0m\u001b[37m\u001b[0m \u001b[1m3s\u001b[0m 3ms/step - accuracy: 0.8573 - loss: 0.4194 - val_accuracy: 0.8516 - val_loss: 0.4330\n",
      "Epoch 54/70\n",
      "\u001b[1m750/750\u001b[0m \u001b[32m━━━━━━━━━━━━━━━━━━━━\u001b[0m\u001b[37m\u001b[0m \u001b[1m2s\u001b[0m 3ms/step - accuracy: 0.8552 - loss: 0.4179 - val_accuracy: 0.8527 - val_loss: 0.4328\n",
      "Epoch 55/70\n",
      "\u001b[1m750/750\u001b[0m \u001b[32m━━━━━━━━━━━━━━━━━━━━\u001b[0m\u001b[37m\u001b[0m \u001b[1m3s\u001b[0m 3ms/step - accuracy: 0.8574 - loss: 0.4170 - val_accuracy: 0.8530 - val_loss: 0.4331\n",
      "Epoch 56/70\n",
      "\u001b[1m750/750\u001b[0m \u001b[32m━━━━━━━━━━━━━━━━━━━━\u001b[0m\u001b[37m\u001b[0m \u001b[1m5s\u001b[0m 3ms/step - accuracy: 0.8585 - loss: 0.4190 - val_accuracy: 0.8537 - val_loss: 0.4327\n",
      "Epoch 57/70\n",
      "\u001b[1m750/750\u001b[0m \u001b[32m━━━━━━━━━━━━━━━━━━━━\u001b[0m\u001b[37m\u001b[0m \u001b[1m2s\u001b[0m 3ms/step - accuracy: 0.8576 - loss: 0.4135 - val_accuracy: 0.8527 - val_loss: 0.4323\n",
      "Epoch 58/70\n",
      "\u001b[1m750/750\u001b[0m \u001b[32m━━━━━━━━━━━━━━━━━━━━\u001b[0m\u001b[37m\u001b[0m \u001b[1m2s\u001b[0m 3ms/step - accuracy: 0.8573 - loss: 0.4219 - val_accuracy: 0.8515 - val_loss: 0.4326\n",
      "Epoch 59/70\n",
      "\u001b[1m750/750\u001b[0m \u001b[32m━━━━━━━━━━━━━━━━━━━━\u001b[0m\u001b[37m\u001b[0m \u001b[1m2s\u001b[0m 3ms/step - accuracy: 0.8580 - loss: 0.4142 - val_accuracy: 0.8508 - val_loss: 0.4318\n",
      "Epoch 60/70\n",
      "\u001b[1m750/750\u001b[0m \u001b[32m━━━━━━━━━━━━━━━━━━━━\u001b[0m\u001b[37m\u001b[0m \u001b[1m2s\u001b[0m 3ms/step - accuracy: 0.8607 - loss: 0.4088 - val_accuracy: 0.8533 - val_loss: 0.4309\n",
      "Epoch 61/70\n",
      "\u001b[1m750/750\u001b[0m \u001b[32m━━━━━━━━━━━━━━━━━━━━\u001b[0m\u001b[37m\u001b[0m \u001b[1m2s\u001b[0m 3ms/step - accuracy: 0.8609 - loss: 0.4135 - val_accuracy: 0.8547 - val_loss: 0.4311\n",
      "Epoch 62/70\n",
      "\u001b[1m750/750\u001b[0m \u001b[32m━━━━━━━━━━━━━━━━━━━━\u001b[0m\u001b[37m\u001b[0m \u001b[1m2s\u001b[0m 3ms/step - accuracy: 0.8603 - loss: 0.4111 - val_accuracy: 0.8533 - val_loss: 0.4306\n",
      "Epoch 63/70\n",
      "\u001b[1m750/750\u001b[0m \u001b[32m━━━━━━━━━━━━━━━━━━━━\u001b[0m\u001b[37m\u001b[0m \u001b[1m3s\u001b[0m 3ms/step - accuracy: 0.8589 - loss: 0.4155 - val_accuracy: 0.8518 - val_loss: 0.4304\n",
      "Epoch 64/70\n",
      "\u001b[1m750/750\u001b[0m \u001b[32m━━━━━━━━━━━━━━━━━━━━\u001b[0m\u001b[37m\u001b[0m \u001b[1m3s\u001b[0m 3ms/step - accuracy: 0.8601 - loss: 0.4078 - val_accuracy: 0.8533 - val_loss: 0.4290\n",
      "Epoch 65/70\n",
      "\u001b[1m750/750\u001b[0m \u001b[32m━━━━━━━━━━━━━━━━━━━━\u001b[0m\u001b[37m\u001b[0m \u001b[1m2s\u001b[0m 3ms/step - accuracy: 0.8593 - loss: 0.4173 - val_accuracy: 0.8541 - val_loss: 0.4283\n",
      "Epoch 66/70\n",
      "\u001b[1m750/750\u001b[0m \u001b[32m━━━━━━━━━━━━━━━━━━━━\u001b[0m\u001b[37m\u001b[0m \u001b[1m2s\u001b[0m 3ms/step - accuracy: 0.8593 - loss: 0.4098 - val_accuracy: 0.8555 - val_loss: 0.4301\n",
      "Epoch 67/70\n",
      "\u001b[1m750/750\u001b[0m \u001b[32m━━━━━━━━━━━━━━━━━━━━\u001b[0m\u001b[37m\u001b[0m \u001b[1m3s\u001b[0m 3ms/step - accuracy: 0.8606 - loss: 0.4085 - val_accuracy: 0.8547 - val_loss: 0.4282\n",
      "Epoch 68/70\n",
      "\u001b[1m750/750\u001b[0m \u001b[32m━━━━━━━━━━━━━━━━━━━━\u001b[0m\u001b[37m\u001b[0m \u001b[1m2s\u001b[0m 3ms/step - accuracy: 0.8606 - loss: 0.4123 - val_accuracy: 0.8536 - val_loss: 0.4278\n",
      "Epoch 69/70\n",
      "\u001b[1m750/750\u001b[0m \u001b[32m━━━━━━━━━━━━━━━━━━━━\u001b[0m\u001b[37m\u001b[0m \u001b[1m2s\u001b[0m 3ms/step - accuracy: 0.8606 - loss: 0.4110 - val_accuracy: 0.8535 - val_loss: 0.4283\n",
      "Epoch 70/70\n",
      "\u001b[1m750/750\u001b[0m \u001b[32m━━━━━━━━━━━━━━━━━━━━\u001b[0m\u001b[37m\u001b[0m \u001b[1m3s\u001b[0m 3ms/step - accuracy: 0.8608 - loss: 0.4104 - val_accuracy: 0.8533 - val_loss: 0.4276\n"
     ]
    }
   ],
   "source": [
    "# Training the model.\n",
    "training = model_0.fit(X_train, Y_train, batch_size=64, epochs=70, validation_split=0.2)"
   ]
  },
  {
   "cell_type": "code",
   "execution_count": null,
   "metadata": {
    "colab": {
     "base_uri": "https://localhost:8080/"
    },
    "executionInfo": {
     "elapsed": 12,
     "status": "ok",
     "timestamp": 1742671109267,
     "user": {
      "displayName": "A_52_Priyank Maheshwari",
      "userId": "00590290924200288402"
     },
     "user_tz": -330
    },
    "id": "WlF5-eiGz38w",
    "outputId": "938ce5db-3750-45f5-c90f-54ed4e123276"
   },
   "outputs": [
    {
     "name": "stdout",
     "output_type": "stream",
     "text": [
      "dict_keys(['accuracy', 'loss', 'val_accuracy', 'val_loss'])\n"
     ]
    }
   ],
   "source": [
    "import matplotlib.pyplot as plt\n",
    "%matplotlib inline\n",
    "\n",
    "# Listing all data in training\n",
    "print(training.history.keys())"
   ]
  },
  {
   "cell_type": "code",
   "execution_count": null,
   "metadata": {
    "colab": {
     "base_uri": "https://localhost:8080/",
     "height": 472
    },
    "executionInfo": {
     "elapsed": 231,
     "status": "ok",
     "timestamp": 1742671109527,
     "user": {
      "displayName": "A_52_Priyank Maheshwari",
      "userId": "00590290924200288402"
     },
     "user_tz": -330
    },
    "id": "vQze1emR0qQa",
    "outputId": "4fe3ab2e-b0c5-4a56-a8c2-21a4f38adaab"
   },
   "outputs": [
    {
     "data": {
      "image/png": "[encoded data removed]",
      "text/plain": [
       "<Figure size 640x480 with 1 Axes>"
      ]
     },
     "metadata": {},
     "output_type": "display_data"
    }
   ],
   "source": [
    "# Summarizing training for accuracy\n",
    "\n",
    "plt.plot(training.history['accuracy'])\n",
    "plt.plot(training.history['val_accuracy'])\n",
    "plt.title('model accuracy')\n",
    "plt.ylabel('accuracy')\n",
    "plt.xlabel('epoch')\n",
    "plt.legend(['train', 'test'], loc='upper left')\n",
    "plt.show()"
   ]
  },
  {
   "cell_type": "code",
   "execution_count": null,
   "metadata": {
    "colab": {
     "base_uri": "https://localhost:8080/",
     "height": 472
    },
    "executionInfo": {
     "elapsed": 206,
     "status": "ok",
     "timestamp": 1742671109736,
     "user": {
      "displayName": "A_52_Priyank Maheshwari",
      "userId": "00590290924200288402"
     },
     "user_tz": -330
    },
    "id": "RDsum6i902LB",
    "outputId": "97fbf956-1252-443a-a6cd-aa3e67fc5978"
   },
   "outputs": [
    {
     "data": {
      "image/png": "[encoded data removed]",
      "text/plain": [
       "<Figure size 640x480 with 1 Axes>"
      ]
     },
     "metadata": {},
     "output_type": "display_data"
    }
   ],
   "source": [
    "# Summarizing traning for loss\n",
    "\n",
    "plt.plot(training.history['loss'])\n",
    "plt.plot(training.history['val_loss'])\n",
    "plt.title('model loss')\n",
    "plt.ylabel('loss')\n",
    "plt.xlabel('epoch')\n",
    "plt.legend(['train', 'test'], loc='upper left')\n",
    "plt.show()"
   ]
  },
  {
   "cell_type": "code",
   "execution_count": null,
   "metadata": {
    "colab": {
     "base_uri": "https://localhost:8080/"
    },
    "executionInfo": {
     "elapsed": 1225,
     "status": "ok",
     "timestamp": 1742671110956,
     "user": {
      "displayName": "A_52_Priyank Maheshwari",
      "userId": "00590290924200288402"
     },
     "user_tz": -330
    },
    "id": "MGDYdtbt0-xp",
    "outputId": "1c914111-783a-4b53-c8ef-979eb1440832"
   },
   "outputs": [
    {
     "name": "stdout",
     "output_type": "stream",
     "text": [
      "\u001b[1m313/313\u001b[0m \u001b[32m━━━━━━━━━━━━━━━━━━━━\u001b[0m\u001b[37m\u001b[0m \u001b[1m1s\u001b[0m 3ms/step - accuracy: 0.8433 - loss: 0.4455\n",
      "Test accuracy: 0.8396000266075134\n"
     ]
    }
   ],
   "source": [
    "#Evaluating the model\n",
    "\n",
    "test_loss, test_acc = model_0.evaluate(X_test, Y_test)\n",
    "print('Test accuracy:', test_acc)"
   ]
  },
  {
   "cell_type": "code",
   "execution_count": null,
   "metadata": {
    "colab": {
     "base_uri": "https://localhost:8080/",
     "height": 187
    },
    "executionInfo": {
     "elapsed": 87,
     "status": "ok",
     "timestamp": 1742671111045,
     "user": {
      "displayName": "A_52_Priyank Maheshwari",
      "userId": "00590290924200288402"
     },
     "user_tz": -330
    },
    "id": "OGBnyigY1IRR",
    "outputId": "f7c6e971-3457-4281-b545-87f2e3634d0e"
   },
   "outputs": [
    {
     "data": {
      "text/html": [
       "<pre style=\"white-space:pre;overflow-x:auto;line-height:normal;font-family:Menlo,'DejaVu Sans Mono',consolas,'Courier New',monospace\"><span style=\"font-weight: bold\">Model: \"sequential\"</span>\n",
       "</pre>\n"
      ],
      "text/plain": [
       "\u001b[1mModel: \"sequential\"\u001b[0m\n"
      ]
     },
     "metadata": {},
     "output_type": "display_data"
    },
    {
     "data": {
      "text/html": [
       "<pre style=\"white-space:pre;overflow-x:auto;line-height:normal;font-family:Menlo,'DejaVu Sans Mono',consolas,'Courier New',monospace\">┏━━━━━━━━━━━━━━━━━━━━━━━━━━━━━━━━━━━━━━┳━━━━━━━━━━━━━━━━━━━━━━━━━━━━━┳━━━━━━━━━━━━━━━━━┓\n",
       "┃<span style=\"font-weight: bold\"> Layer (type)                         </span>┃<span style=\"font-weight: bold\"> Output Shape                </span>┃<span style=\"font-weight: bold\">         Param # </span>┃\n",
       "┡━━━━━━━━━━━━━━━━━━━━━━━━━━━━━━━━━━━━━━╇━━━━━━━━━━━━━━━━━━━━━━━━━━━━━╇━━━━━━━━━━━━━━━━━┩\n",
       "│ dense_layer (<span style=\"color: #0087ff; text-decoration-color: #0087ff\">Dense</span>)                  │ (<span style=\"color: #00d7ff; text-decoration-color: #00d7ff\">None</span>, <span style=\"color: #00af00; text-decoration-color: #00af00\">10</span>)                  │           <span style=\"color: #00af00; text-decoration-color: #00af00\">7,850</span> │\n",
       "└──────────────────────────────────────┴─────────────────────────────┴─────────────────┘\n",
       "</pre>\n"
      ],
      "text/plain": [
       "┏━━━━━━━━━━━━━━━━━━━━━━━━━━━━━━━━━━━━━━┳━━━━━━━━━━━━━━━━━━━━━━━━━━━━━┳━━━━━━━━━━━━━━━━━┓\n",
       "┃\u001b[1m \u001b[0m\u001b[1mLayer (type)                        \u001b[0m\u001b[1m \u001b[0m┃\u001b[1m \u001b[0m\u001b[1mOutput Shape               \u001b[0m\u001b[1m \u001b[0m┃\u001b[1m \u001b[0m\u001b[1m        Param #\u001b[0m\u001b[1m \u001b[0m┃\n",
       "┡━━━━━━━━━━━━━━━━━━━━━━━━━━━━━━━━━━━━━━╇━━━━━━━━━━━━━━━━━━━━━━━━━━━━━╇━━━━━━━━━━━━━━━━━┩\n",
       "│ dense_layer (\u001b[38;5;33mDense\u001b[0m)                  │ (\u001b[38;5;45mNone\u001b[0m, \u001b[38;5;34m10\u001b[0m)                  │           \u001b[38;5;34m7,850\u001b[0m │\n",
       "└──────────────────────────────────────┴─────────────────────────────┴─────────────────┘\n"
      ]
     },
     "metadata": {},
     "output_type": "display_data"
    },
    {
     "data": {
      "text/html": [
       "<pre style=\"white-space:pre;overflow-x:auto;line-height:normal;font-family:Menlo,'DejaVu Sans Mono',consolas,'Courier New',monospace\"><span style=\"font-weight: bold\"> Total params: </span><span style=\"color: #00af00; text-decoration-color: #00af00\">7,852</span> (30.68 KB)\n",
       "</pre>\n"
      ],
      "text/plain": [
       "\u001b[1m Total params: \u001b[0m\u001b[38;5;34m7,852\u001b[0m (30.68 KB)\n"
      ]
     },
     "metadata": {},
     "output_type": "display_data"
    },
    {
     "data": {
      "text/html": [
       "<pre style=\"white-space:pre;overflow-x:auto;line-height:normal;font-family:Menlo,'DejaVu Sans Mono',consolas,'Courier New',monospace\"><span style=\"font-weight: bold\"> Trainable params: </span><span style=\"color: #00af00; text-decoration-color: #00af00\">7,850</span> (30.66 KB)\n",
       "</pre>\n"
      ],
      "text/plain": [
       "\u001b[1m Trainable params: \u001b[0m\u001b[38;5;34m7,850\u001b[0m (30.66 KB)\n"
      ]
     },
     "metadata": {},
     "output_type": "display_data"
    },
    {
     "data": {
      "text/html": [
       "<pre style=\"white-space:pre;overflow-x:auto;line-height:normal;font-family:Menlo,'DejaVu Sans Mono',consolas,'Courier New',monospace\"><span style=\"font-weight: bold\"> Non-trainable params: </span><span style=\"color: #00af00; text-decoration-color: #00af00\">0</span> (0.00 B)\n",
       "</pre>\n"
      ],
      "text/plain": [
       "\u001b[1m Non-trainable params: \u001b[0m\u001b[38;5;34m0\u001b[0m (0.00 B)\n"
      ]
     },
     "metadata": {},
     "output_type": "display_data"
    },
    {
     "data": {
      "text/html": [
       "<pre style=\"white-space:pre;overflow-x:auto;line-height:normal;font-family:Menlo,'DejaVu Sans Mono',consolas,'Courier New',monospace\"><span style=\"font-weight: bold\"> Optimizer params: </span><span style=\"color: #00af00; text-decoration-color: #00af00\">2</span> (12.00 B)\n",
       "</pre>\n"
      ],
      "text/plain": [
       "\u001b[1m Optimizer params: \u001b[0m\u001b[38;5;34m2\u001b[0m (12.00 B)\n"
      ]
     },
     "metadata": {},
     "output_type": "display_data"
    }
   ],
   "source": [
    "model_0.summary()"
   ]
  },
  {
   "cell_type": "markdown",
   "metadata": {
    "id": "389CEDbu1qgi"
   },
   "source": [
    "#### Improved Model 1: Adding Hidden Layer - Multi Layer Perceptron"
   ]
  },
  {
   "cell_type": "code",
   "execution_count": null,
   "metadata": {
    "executionInfo": {
     "elapsed": 47,
     "status": "ok",
     "timestamp": 1742671111095,
     "user": {
      "displayName": "A_52_Priyank Maheshwari",
      "userId": "00590290924200288402"
     },
     "user_tz": -330
    },
    "id": "pG9Ie2qB1S2K"
   },
   "outputs": [],
   "source": [
    "#Most common type of model is stack of layers\n",
    "model_1 = tf.keras.Sequential()\n",
    "N_hidden = 64\n",
    "\n",
    "#Adding a densely-connected layer with 64 units to the model:\n",
    "model_1.add(Dense(N_hidden , name = 'dense_layer' , input_shape = (784,) , activation = 'relu'))\n",
    "\n",
    "model_1.add(Dense(N_hidden , name = 'dense_layer2' , activation = 'relu'))\n",
    "\n",
    "model_1.add(Dense(10 , name = 'dense_layer3' , activation = 'softmax'))"
   ]
  },
  {
   "cell_type": "code",
   "execution_count": null,
   "metadata": {
    "executionInfo": {
     "elapsed": 9,
     "status": "ok",
     "timestamp": 1742671111108,
     "user": {
      "displayName": "A_52_Priyank Maheshwari",
      "userId": "00590290924200288402"
     },
     "user_tz": -330
    },
    "id": "BURkPCl33TsS"
   },
   "outputs": [],
   "source": [
    "#Compiling the model\n",
    "model_1.compile(optimizer = 'SGD' , loss = 'categorical_crossentropy' , metrics = ['accuracy'])"
   ]
  },
  {
   "cell_type": "code",
   "execution_count": null,
   "metadata": {
    "colab": {
     "base_uri": "https://localhost:8080/"
    },
    "executionInfo": {
     "elapsed": 260698,
     "status": "ok",
     "timestamp": 1742671371809,
     "user": {
      "displayName": "A_52_Priyank Maheshwari",
      "userId": "00590290924200288402"
     },
     "user_tz": -330
    },
    "id": "9nAOzl444QMB",
    "outputId": "46f8c893-485b-42ff-c816-34fbe7503a83"
   },
   "outputs": [
    {
     "name": "stdout",
     "output_type": "stream",
     "text": [
      "Epoch 1/100\n",
      "\u001b[1m750/750\u001b[0m \u001b[32m━━━━━━━━━━━━━━━━━━━━\u001b[0m\u001b[37m\u001b[0m \u001b[1m4s\u001b[0m 4ms/step - accuracy: 0.5495 - loss: 1.4304 - val_accuracy: 0.7532 - val_loss: 0.6925\n",
      "Epoch 2/100\n",
      "\u001b[1m750/750\u001b[0m \u001b[32m━━━━━━━━━━━━━━━━━━━━\u001b[0m\u001b[37m\u001b[0m \u001b[1m3s\u001b[0m 4ms/step - accuracy: 0.7748 - loss: 0.6508 - val_accuracy: 0.8004 - val_loss: 0.5740\n",
      "Epoch 3/100\n",
      "\u001b[1m750/750\u001b[0m \u001b[32m━━━━━━━━━━━━━━━━━━━━\u001b[0m\u001b[37m\u001b[0m \u001b[1m5s\u001b[0m 3ms/step - accuracy: 0.8095 - loss: 0.5591 - val_accuracy: 0.8180 - val_loss: 0.5161\n",
      "Epoch 4/100\n",
      "\u001b[1m750/750\u001b[0m \u001b[32m━━━━━━━━━━━━━━━━━━━━\u001b[0m\u001b[37m\u001b[0m \u001b[1m2s\u001b[0m 3ms/step - accuracy: 0.8225 - loss: 0.5071 - val_accuracy: 0.8218 - val_loss: 0.4992\n",
      "Epoch 5/100\n",
      "\u001b[1m750/750\u001b[0m \u001b[32m━━━━━━━━━━━━━━━━━━━━\u001b[0m\u001b[37m\u001b[0m \u001b[1m2s\u001b[0m 3ms/step - accuracy: 0.8360 - loss: 0.4772 - val_accuracy: 0.8328 - val_loss: 0.4707\n",
      "Epoch 6/100\n",
      "\u001b[1m750/750\u001b[0m \u001b[32m━━━━━━━━━━━━━━━━━━━━\u001b[0m\u001b[37m\u001b[0m \u001b[1m3s\u001b[0m 4ms/step - accuracy: 0.8395 - loss: 0.4633 - val_accuracy: 0.8409 - val_loss: 0.4515\n",
      "Epoch 7/100\n",
      "\u001b[1m750/750\u001b[0m \u001b[32m━━━━━━━━━━━━━━━━━━━━\u001b[0m\u001b[37m\u001b[0m \u001b[1m2s\u001b[0m 3ms/step - accuracy: 0.8477 - loss: 0.4363 - val_accuracy: 0.8360 - val_loss: 0.4577\n",
      "Epoch 8/100\n",
      "\u001b[1m750/750\u001b[0m \u001b[32m━━━━━━━━━━━━━━━━━━━━\u001b[0m\u001b[37m\u001b[0m \u001b[1m2s\u001b[0m 3ms/step - accuracy: 0.8481 - loss: 0.4325 - val_accuracy: 0.8469 - val_loss: 0.4348\n",
      "Epoch 9/100\n",
      "\u001b[1m750/750\u001b[0m \u001b[32m━━━━━━━━━━━━━━━━━━━━\u001b[0m\u001b[37m\u001b[0m \u001b[1m2s\u001b[0m 3ms/step - accuracy: 0.8507 - loss: 0.4235 - val_accuracy: 0.8499 - val_loss: 0.4250\n",
      "Epoch 10/100\n",
      "\u001b[1m750/750\u001b[0m \u001b[32m━━━━━━━━━━━━━━━━━━━━\u001b[0m\u001b[37m\u001b[0m \u001b[1m2s\u001b[0m 3ms/step - accuracy: 0.8571 - loss: 0.4080 - val_accuracy: 0.8534 - val_loss: 0.4212\n",
      "Epoch 11/100\n",
      "\u001b[1m750/750\u001b[0m \u001b[32m━━━━━━━━━━━━━━━━━━━━\u001b[0m\u001b[37m\u001b[0m \u001b[1m2s\u001b[0m 3ms/step - accuracy: 0.8566 - loss: 0.4080 - val_accuracy: 0.8528 - val_loss: 0.4229\n",
      "Epoch 12/100\n",
      "\u001b[1m750/750\u001b[0m \u001b[32m━━━━━━━━━━━━━━━━━━━━\u001b[0m\u001b[37m\u001b[0m \u001b[1m2s\u001b[0m 3ms/step - accuracy: 0.8598 - loss: 0.3972 - val_accuracy: 0.8590 - val_loss: 0.4038\n",
      "Epoch 13/100\n",
      "\u001b[1m750/750\u001b[0m \u001b[32m━━━━━━━━━━━━━━━━━━━━\u001b[0m\u001b[37m\u001b[0m \u001b[1m2s\u001b[0m 3ms/step - accuracy: 0.8651 - loss: 0.3879 - val_accuracy: 0.8498 - val_loss: 0.4188\n",
      "Epoch 14/100\n",
      "\u001b[1m750/750\u001b[0m \u001b[32m━━━━━━━━━━━━━━━━━━━━\u001b[0m\u001b[37m\u001b[0m \u001b[1m2s\u001b[0m 3ms/step - accuracy: 0.8618 - loss: 0.3923 - val_accuracy: 0.8610 - val_loss: 0.3973\n",
      "Epoch 15/100\n",
      "\u001b[1m750/750\u001b[0m \u001b[32m━━━━━━━━━━━━━━━━━━━━\u001b[0m\u001b[37m\u001b[0m \u001b[1m2s\u001b[0m 3ms/step - accuracy: 0.8673 - loss: 0.3769 - val_accuracy: 0.8559 - val_loss: 0.4073\n",
      "Epoch 16/100\n",
      "\u001b[1m750/750\u001b[0m \u001b[32m━━━━━━━━━━━━━━━━━━━━\u001b[0m\u001b[37m\u001b[0m \u001b[1m3s\u001b[0m 3ms/step - accuracy: 0.8706 - loss: 0.3713 - val_accuracy: 0.8614 - val_loss: 0.3939\n",
      "Epoch 17/100\n",
      "\u001b[1m750/750\u001b[0m \u001b[32m━━━━━━━━━━━━━━━━━━━━\u001b[0m\u001b[37m\u001b[0m \u001b[1m3s\u001b[0m 3ms/step - accuracy: 0.8680 - loss: 0.3771 - val_accuracy: 0.8619 - val_loss: 0.3960\n",
      "Epoch 18/100\n",
      "\u001b[1m750/750\u001b[0m \u001b[32m━━━━━━━━━━━━━━━━━━━━\u001b[0m\u001b[37m\u001b[0m \u001b[1m2s\u001b[0m 3ms/step - accuracy: 0.8721 - loss: 0.3631 - val_accuracy: 0.8659 - val_loss: 0.3881\n",
      "Epoch 19/100\n",
      "\u001b[1m750/750\u001b[0m \u001b[32m━━━━━━━━━━━━━━━━━━━━\u001b[0m\u001b[37m\u001b[0m \u001b[1m2s\u001b[0m 3ms/step - accuracy: 0.8713 - loss: 0.3614 - val_accuracy: 0.8653 - val_loss: 0.3864\n",
      "Epoch 20/100\n",
      "\u001b[1m750/750\u001b[0m \u001b[32m━━━━━━━━━━━━━━━━━━━━\u001b[0m\u001b[37m\u001b[0m \u001b[1m2s\u001b[0m 3ms/step - accuracy: 0.8791 - loss: 0.3481 - val_accuracy: 0.8644 - val_loss: 0.3829\n",
      "Epoch 21/100\n",
      "\u001b[1m750/750\u001b[0m \u001b[32m━━━━━━━━━━━━━━━━━━━━\u001b[0m\u001b[37m\u001b[0m \u001b[1m3s\u001b[0m 3ms/step - accuracy: 0.8777 - loss: 0.3513 - val_accuracy: 0.8612 - val_loss: 0.3874\n",
      "Epoch 22/100\n",
      "\u001b[1m750/750\u001b[0m \u001b[32m━━━━━━━━━━━━━━━━━━━━\u001b[0m\u001b[37m\u001b[0m \u001b[1m3s\u001b[0m 3ms/step - accuracy: 0.8770 - loss: 0.3539 - val_accuracy: 0.8687 - val_loss: 0.3732\n",
      "Epoch 23/100\n",
      "\u001b[1m750/750\u001b[0m \u001b[32m━━━━━━━━━━━━━━━━━━━━\u001b[0m\u001b[37m\u001b[0m \u001b[1m5s\u001b[0m 3ms/step - accuracy: 0.8811 - loss: 0.3412 - val_accuracy: 0.8687 - val_loss: 0.3686\n",
      "Epoch 24/100\n",
      "\u001b[1m750/750\u001b[0m \u001b[32m━━━━━━━━━━━━━━━━━━━━\u001b[0m\u001b[37m\u001b[0m \u001b[1m2s\u001b[0m 3ms/step - accuracy: 0.8792 - loss: 0.3382 - val_accuracy: 0.8708 - val_loss: 0.3652\n",
      "Epoch 25/100\n",
      "\u001b[1m750/750\u001b[0m \u001b[32m━━━━━━━━━━━━━━━━━━━━\u001b[0m\u001b[37m\u001b[0m \u001b[1m2s\u001b[0m 3ms/step - accuracy: 0.8813 - loss: 0.3388 - val_accuracy: 0.8687 - val_loss: 0.3713\n",
      "Epoch 26/100\n",
      "\u001b[1m750/750\u001b[0m \u001b[32m━━━━━━━━━━━━━━━━━━━━\u001b[0m\u001b[37m\u001b[0m \u001b[1m3s\u001b[0m 4ms/step - accuracy: 0.8816 - loss: 0.3324 - val_accuracy: 0.8732 - val_loss: 0.3609\n",
      "Epoch 27/100\n",
      "\u001b[1m750/750\u001b[0m \u001b[32m━━━━━━━━━━━━━━━━━━━━\u001b[0m\u001b[37m\u001b[0m \u001b[1m4s\u001b[0m 3ms/step - accuracy: 0.8797 - loss: 0.3339 - val_accuracy: 0.8721 - val_loss: 0.3627\n",
      "Epoch 28/100\n",
      "\u001b[1m750/750\u001b[0m \u001b[32m━━━━━━━━━━━━━━━━━━━━\u001b[0m\u001b[37m\u001b[0m \u001b[1m3s\u001b[0m 3ms/step - accuracy: 0.8862 - loss: 0.3266 - val_accuracy: 0.8740 - val_loss: 0.3582\n",
      "Epoch 29/100\n",
      "\u001b[1m750/750\u001b[0m \u001b[32m━━━━━━━━━━━━━━━━━━━━\u001b[0m\u001b[37m\u001b[0m \u001b[1m3s\u001b[0m 3ms/step - accuracy: 0.8842 - loss: 0.3226 - val_accuracy: 0.8723 - val_loss: 0.3612\n",
      "Epoch 30/100\n",
      "\u001b[1m750/750\u001b[0m \u001b[32m━━━━━━━━━━━━━━━━━━━━\u001b[0m\u001b[37m\u001b[0m \u001b[1m3s\u001b[0m 3ms/step - accuracy: 0.8882 - loss: 0.3172 - val_accuracy: 0.8735 - val_loss: 0.3582\n",
      "Epoch 31/100\n",
      "\u001b[1m750/750\u001b[0m \u001b[32m━━━━━━━━━━━━━━━━━━━━\u001b[0m\u001b[37m\u001b[0m \u001b[1m2s\u001b[0m 3ms/step - accuracy: 0.8871 - loss: 0.3188 - val_accuracy: 0.8748 - val_loss: 0.3529\n",
      "Epoch 32/100\n",
      "\u001b[1m750/750\u001b[0m \u001b[32m━━━━━━━━━━━━━━━━━━━━\u001b[0m\u001b[37m\u001b[0m \u001b[1m2s\u001b[0m 3ms/step - accuracy: 0.8879 - loss: 0.3173 - val_accuracy: 0.8721 - val_loss: 0.3622\n",
      "Epoch 33/100\n",
      "\u001b[1m750/750\u001b[0m \u001b[32m━━━━━━━━━━━━━━━━━━━━\u001b[0m\u001b[37m\u001b[0m \u001b[1m3s\u001b[0m 3ms/step - accuracy: 0.8879 - loss: 0.3133 - val_accuracy: 0.8748 - val_loss: 0.3550\n",
      "Epoch 34/100\n",
      "\u001b[1m750/750\u001b[0m \u001b[32m━━━━━━━━━━━━━━━━━━━━\u001b[0m\u001b[37m\u001b[0m \u001b[1m3s\u001b[0m 3ms/step - accuracy: 0.8920 - loss: 0.3048 - val_accuracy: 0.8729 - val_loss: 0.3623\n",
      "Epoch 35/100\n",
      "\u001b[1m750/750\u001b[0m \u001b[32m━━━━━━━━━━━━━━━━━━━━\u001b[0m\u001b[37m\u001b[0m \u001b[1m5s\u001b[0m 3ms/step - accuracy: 0.8917 - loss: 0.3079 - val_accuracy: 0.8756 - val_loss: 0.3480\n",
      "Epoch 36/100\n",
      "\u001b[1m750/750\u001b[0m \u001b[32m━━━━━━━━━━━━━━━━━━━━\u001b[0m\u001b[37m\u001b[0m \u001b[1m2s\u001b[0m 3ms/step - accuracy: 0.8914 - loss: 0.3086 - val_accuracy: 0.8703 - val_loss: 0.3614\n",
      "Epoch 37/100\n",
      "\u001b[1m750/750\u001b[0m \u001b[32m━━━━━━━━━━━━━━━━━━━━\u001b[0m\u001b[37m\u001b[0m \u001b[1m2s\u001b[0m 3ms/step - accuracy: 0.8926 - loss: 0.3027 - val_accuracy: 0.8773 - val_loss: 0.3516\n",
      "Epoch 38/100\n",
      "\u001b[1m750/750\u001b[0m \u001b[32m━━━━━━━━━━━━━━━━━━━━\u001b[0m\u001b[37m\u001b[0m \u001b[1m3s\u001b[0m 3ms/step - accuracy: 0.8945 - loss: 0.3003 - val_accuracy: 0.8763 - val_loss: 0.3527\n",
      "Epoch 39/100\n",
      "\u001b[1m750/750\u001b[0m \u001b[32m━━━━━━━━━━━━━━━━━━━━\u001b[0m\u001b[37m\u001b[0m \u001b[1m2s\u001b[0m 3ms/step - accuracy: 0.8948 - loss: 0.2977 - val_accuracy: 0.8790 - val_loss: 0.3449\n",
      "Epoch 40/100\n",
      "\u001b[1m750/750\u001b[0m \u001b[32m━━━━━━━━━━━━━━━━━━━━\u001b[0m\u001b[37m\u001b[0m \u001b[1m2s\u001b[0m 3ms/step - accuracy: 0.8927 - loss: 0.2992 - val_accuracy: 0.8778 - val_loss: 0.3442\n",
      "Epoch 41/100\n",
      "\u001b[1m750/750\u001b[0m \u001b[32m━━━━━━━━━━━━━━━━━━━━\u001b[0m\u001b[37m\u001b[0m \u001b[1m3s\u001b[0m 3ms/step - accuracy: 0.8968 - loss: 0.2898 - val_accuracy: 0.8787 - val_loss: 0.3421\n",
      "Epoch 42/100\n",
      "\u001b[1m750/750\u001b[0m \u001b[32m━━━━━━━━━━━━━━━━━━━━\u001b[0m\u001b[37m\u001b[0m \u001b[1m2s\u001b[0m 3ms/step - accuracy: 0.8988 - loss: 0.2875 - val_accuracy: 0.8769 - val_loss: 0.3541\n",
      "Epoch 43/100\n",
      "\u001b[1m750/750\u001b[0m \u001b[32m━━━━━━━━━━━━━━━━━━━━\u001b[0m\u001b[37m\u001b[0m \u001b[1m3s\u001b[0m 4ms/step - accuracy: 0.9003 - loss: 0.2854 - val_accuracy: 0.8743 - val_loss: 0.3504\n",
      "Epoch 44/100\n",
      "\u001b[1m750/750\u001b[0m \u001b[32m━━━━━━━━━━━━━━━━━━━━\u001b[0m\u001b[37m\u001b[0m \u001b[1m5s\u001b[0m 3ms/step - accuracy: 0.8964 - loss: 0.2887 - val_accuracy: 0.8758 - val_loss: 0.3454\n",
      "Epoch 45/100\n",
      "\u001b[1m750/750\u001b[0m \u001b[32m━━━━━━━━━━━━━━━━━━━━\u001b[0m\u001b[37m\u001b[0m \u001b[1m3s\u001b[0m 3ms/step - accuracy: 0.8985 - loss: 0.2877 - val_accuracy: 0.8760 - val_loss: 0.3487\n",
      "Epoch 46/100\n",
      "\u001b[1m750/750\u001b[0m \u001b[32m━━━━━━━━━━━━━━━━━━━━\u001b[0m\u001b[37m\u001b[0m \u001b[1m2s\u001b[0m 3ms/step - accuracy: 0.9022 - loss: 0.2842 - val_accuracy: 0.8710 - val_loss: 0.3664\n",
      "Epoch 47/100\n",
      "\u001b[1m750/750\u001b[0m \u001b[32m━━━━━━━━━━━━━━━━━━━━\u001b[0m\u001b[37m\u001b[0m \u001b[1m3s\u001b[0m 4ms/step - accuracy: 0.8990 - loss: 0.2826 - val_accuracy: 0.8792 - val_loss: 0.3419\n",
      "Epoch 48/100\n",
      "\u001b[1m750/750\u001b[0m \u001b[32m━━━━━━━━━━━━━━━━━━━━\u001b[0m\u001b[37m\u001b[0m \u001b[1m2s\u001b[0m 3ms/step - accuracy: 0.9026 - loss: 0.2715 - val_accuracy: 0.8761 - val_loss: 0.3450\n",
      "Epoch 49/100\n",
      "\u001b[1m750/750\u001b[0m \u001b[32m━━━━━━━━━━━━━━━━━━━━\u001b[0m\u001b[37m\u001b[0m \u001b[1m3s\u001b[0m 3ms/step - accuracy: 0.9006 - loss: 0.2771 - val_accuracy: 0.8781 - val_loss: 0.3430\n",
      "Epoch 50/100\n",
      "\u001b[1m750/750\u001b[0m \u001b[32m━━━━━━━━━━━━━━━━━━━━\u001b[0m\u001b[37m\u001b[0m \u001b[1m2s\u001b[0m 3ms/step - accuracy: 0.9033 - loss: 0.2741 - val_accuracy: 0.8815 - val_loss: 0.3349\n",
      "Epoch 51/100\n",
      "\u001b[1m750/750\u001b[0m \u001b[32m━━━━━━━━━━━━━━━━━━━━\u001b[0m\u001b[37m\u001b[0m \u001b[1m2s\u001b[0m 3ms/step - accuracy: 0.9026 - loss: 0.2758 - val_accuracy: 0.8812 - val_loss: 0.3332\n",
      "Epoch 52/100\n",
      "\u001b[1m750/750\u001b[0m \u001b[32m━━━━━━━━━━━━━━━━━━━━\u001b[0m\u001b[37m\u001b[0m \u001b[1m3s\u001b[0m 4ms/step - accuracy: 0.9041 - loss: 0.2721 - val_accuracy: 0.8775 - val_loss: 0.3434\n",
      "Epoch 53/100\n",
      "\u001b[1m750/750\u001b[0m \u001b[32m━━━━━━━━━━━━━━━━━━━━\u001b[0m\u001b[37m\u001b[0m \u001b[1m2s\u001b[0m 3ms/step - accuracy: 0.9043 - loss: 0.2720 - val_accuracy: 0.8717 - val_loss: 0.3724\n",
      "Epoch 54/100\n",
      "\u001b[1m750/750\u001b[0m \u001b[32m━━━━━━━━━━━━━━━━━━━━\u001b[0m\u001b[37m\u001b[0m \u001b[1m2s\u001b[0m 3ms/step - accuracy: 0.9065 - loss: 0.2664 - val_accuracy: 0.8811 - val_loss: 0.3369\n",
      "Epoch 55/100\n",
      "\u001b[1m750/750\u001b[0m \u001b[32m━━━━━━━━━━━━━━━━━━━━\u001b[0m\u001b[37m\u001b[0m \u001b[1m3s\u001b[0m 3ms/step - accuracy: 0.9052 - loss: 0.2688 - val_accuracy: 0.8750 - val_loss: 0.3503\n",
      "Epoch 56/100\n",
      "\u001b[1m750/750\u001b[0m \u001b[32m━━━━━━━━━━━━━━━━━━━━\u001b[0m\u001b[37m\u001b[0m \u001b[1m2s\u001b[0m 3ms/step - accuracy: 0.9059 - loss: 0.2647 - val_accuracy: 0.8790 - val_loss: 0.3448\n",
      "Epoch 57/100\n",
      "\u001b[1m750/750\u001b[0m \u001b[32m━━━━━━━━━━━━━━━━━━━━\u001b[0m\u001b[37m\u001b[0m \u001b[1m3s\u001b[0m 4ms/step - accuracy: 0.9061 - loss: 0.2664 - val_accuracy: 0.8788 - val_loss: 0.3453\n",
      "Epoch 58/100\n",
      "\u001b[1m750/750\u001b[0m \u001b[32m━━━━━━━━━━━━━━━━━━━━\u001b[0m\u001b[37m\u001b[0m \u001b[1m2s\u001b[0m 3ms/step - accuracy: 0.9081 - loss: 0.2648 - val_accuracy: 0.8819 - val_loss: 0.3297\n",
      "Epoch 59/100\n",
      "\u001b[1m750/750\u001b[0m \u001b[32m━━━━━━━━━━━━━━━━━━━━\u001b[0m\u001b[37m\u001b[0m \u001b[1m2s\u001b[0m 3ms/step - accuracy: 0.9077 - loss: 0.2602 - val_accuracy: 0.8687 - val_loss: 0.3672\n",
      "Epoch 60/100\n",
      "\u001b[1m750/750\u001b[0m \u001b[32m━━━━━━━━━━━━━━━━━━━━\u001b[0m\u001b[37m\u001b[0m \u001b[1m2s\u001b[0m 3ms/step - accuracy: 0.9084 - loss: 0.2556 - val_accuracy: 0.8826 - val_loss: 0.3357\n",
      "Epoch 61/100\n",
      "\u001b[1m750/750\u001b[0m \u001b[32m━━━━━━━━━━━━━━━━━━━━\u001b[0m\u001b[37m\u001b[0m \u001b[1m3s\u001b[0m 3ms/step - accuracy: 0.9086 - loss: 0.2574 - val_accuracy: 0.8796 - val_loss: 0.3371\n",
      "Epoch 62/100\n",
      "\u001b[1m750/750\u001b[0m \u001b[32m━━━━━━━━━━━━━━━━━━━━\u001b[0m\u001b[37m\u001b[0m \u001b[1m3s\u001b[0m 4ms/step - accuracy: 0.9117 - loss: 0.2503 - val_accuracy: 0.8813 - val_loss: 0.3366\n",
      "Epoch 63/100\n",
      "\u001b[1m750/750\u001b[0m \u001b[32m━━━━━━━━━━━━━━━━━━━━\u001b[0m\u001b[37m\u001b[0m \u001b[1m5s\u001b[0m 3ms/step - accuracy: 0.9112 - loss: 0.2504 - val_accuracy: 0.8789 - val_loss: 0.3411\n",
      "Epoch 64/100\n",
      "\u001b[1m750/750\u001b[0m \u001b[32m━━━━━━━━━━━━━━━━━━━━\u001b[0m\u001b[37m\u001b[0m \u001b[1m2s\u001b[0m 3ms/step - accuracy: 0.9118 - loss: 0.2514 - val_accuracy: 0.8836 - val_loss: 0.3306\n",
      "Epoch 65/100\n",
      "\u001b[1m750/750\u001b[0m \u001b[32m━━━━━━━━━━━━━━━━━━━━\u001b[0m\u001b[37m\u001b[0m \u001b[1m2s\u001b[0m 3ms/step - accuracy: 0.9119 - loss: 0.2511 - val_accuracy: 0.8797 - val_loss: 0.3447\n",
      "Epoch 66/100\n",
      "\u001b[1m750/750\u001b[0m \u001b[32m━━━━━━━━━━━━━━━━━━━━\u001b[0m\u001b[37m\u001b[0m \u001b[1m3s\u001b[0m 4ms/step - accuracy: 0.9119 - loss: 0.2507 - val_accuracy: 0.8777 - val_loss: 0.3494\n",
      "Epoch 67/100\n",
      "\u001b[1m750/750\u001b[0m \u001b[32m━━━━━━━━━━━━━━━━━━━━\u001b[0m\u001b[37m\u001b[0m \u001b[1m4s\u001b[0m 3ms/step - accuracy: 0.9121 - loss: 0.2458 - val_accuracy: 0.8822 - val_loss: 0.3320\n",
      "Epoch 68/100\n",
      "\u001b[1m750/750\u001b[0m \u001b[32m━━━━━━━━━━━━━━━━━━━━\u001b[0m\u001b[37m\u001b[0m \u001b[1m2s\u001b[0m 3ms/step - accuracy: 0.9122 - loss: 0.2469 - val_accuracy: 0.8812 - val_loss: 0.3325\n",
      "Epoch 69/100\n",
      "\u001b[1m750/750\u001b[0m \u001b[32m━━━━━━━━━━━━━━━━━━━━\u001b[0m\u001b[37m\u001b[0m \u001b[1m2s\u001b[0m 3ms/step - accuracy: 0.9146 - loss: 0.2405 - val_accuracy: 0.8829 - val_loss: 0.3341\n",
      "Epoch 70/100\n",
      "\u001b[1m750/750\u001b[0m \u001b[32m━━━━━━━━━━━━━━━━━━━━\u001b[0m\u001b[37m\u001b[0m \u001b[1m3s\u001b[0m 4ms/step - accuracy: 0.9167 - loss: 0.2384 - val_accuracy: 0.8816 - val_loss: 0.3357\n",
      "Epoch 71/100\n",
      "\u001b[1m750/750\u001b[0m \u001b[32m━━━━━━━━━━━━━━━━━━━━\u001b[0m\u001b[37m\u001b[0m \u001b[1m5s\u001b[0m 3ms/step - accuracy: 0.9149 - loss: 0.2421 - val_accuracy: 0.8784 - val_loss: 0.3570\n",
      "Epoch 72/100\n",
      "\u001b[1m750/750\u001b[0m \u001b[32m━━━━━━━━━━━━━━━━━━━━\u001b[0m\u001b[37m\u001b[0m \u001b[1m2s\u001b[0m 3ms/step - accuracy: 0.9133 - loss: 0.2414 - val_accuracy: 0.8835 - val_loss: 0.3282\n",
      "Epoch 73/100\n",
      "\u001b[1m750/750\u001b[0m \u001b[32m━━━━━━━━━━━━━━━━━━━━\u001b[0m\u001b[37m\u001b[0m \u001b[1m3s\u001b[0m 3ms/step - accuracy: 0.9154 - loss: 0.2410 - val_accuracy: 0.8845 - val_loss: 0.3272\n",
      "Epoch 74/100\n",
      "\u001b[1m750/750\u001b[0m \u001b[32m━━━━━━━━━━━━━━━━━━━━\u001b[0m\u001b[37m\u001b[0m \u001b[1m3s\u001b[0m 4ms/step - accuracy: 0.9170 - loss: 0.2335 - val_accuracy: 0.8839 - val_loss: 0.3304\n",
      "Epoch 75/100\n",
      "\u001b[1m750/750\u001b[0m \u001b[32m━━━━━━━━━━━━━━━━━━━━\u001b[0m\u001b[37m\u001b[0m \u001b[1m2s\u001b[0m 3ms/step - accuracy: 0.9172 - loss: 0.2371 - val_accuracy: 0.8801 - val_loss: 0.3431\n",
      "Epoch 76/100\n",
      "\u001b[1m750/750\u001b[0m \u001b[32m━━━━━━━━━━━━━━━━━━━━\u001b[0m\u001b[37m\u001b[0m \u001b[1m2s\u001b[0m 3ms/step - accuracy: 0.9164 - loss: 0.2315 - val_accuracy: 0.8851 - val_loss: 0.3284\n",
      "Epoch 77/100\n",
      "\u001b[1m750/750\u001b[0m \u001b[32m━━━━━━━━━━━━━━━━━━━━\u001b[0m\u001b[37m\u001b[0m \u001b[1m2s\u001b[0m 3ms/step - accuracy: 0.9179 - loss: 0.2283 - val_accuracy: 0.8838 - val_loss: 0.3292\n",
      "Epoch 78/100\n",
      "\u001b[1m750/750\u001b[0m \u001b[32m━━━━━━━━━━━━━━━━━━━━\u001b[0m\u001b[37m\u001b[0m \u001b[1m2s\u001b[0m 3ms/step - accuracy: 0.9197 - loss: 0.2297 - val_accuracy: 0.8827 - val_loss: 0.3324\n",
      "Epoch 79/100\n",
      "\u001b[1m750/750\u001b[0m \u001b[32m━━━━━━━━━━━━━━━━━━━━\u001b[0m\u001b[37m\u001b[0m \u001b[1m2s\u001b[0m 3ms/step - accuracy: 0.9184 - loss: 0.2292 - val_accuracy: 0.8828 - val_loss: 0.3315\n",
      "Epoch 80/100\n",
      "\u001b[1m750/750\u001b[0m \u001b[32m━━━━━━━━━━━━━━━━━━━━\u001b[0m\u001b[37m\u001b[0m \u001b[1m3s\u001b[0m 3ms/step - accuracy: 0.9208 - loss: 0.2209 - val_accuracy: 0.8841 - val_loss: 0.3293\n",
      "Epoch 81/100\n",
      "\u001b[1m750/750\u001b[0m \u001b[32m━━━━━━━━━━━━━━━━━━━━\u001b[0m\u001b[37m\u001b[0m \u001b[1m2s\u001b[0m 3ms/step - accuracy: 0.9200 - loss: 0.2270 - val_accuracy: 0.8808 - val_loss: 0.3361\n",
      "Epoch 82/100\n",
      "\u001b[1m750/750\u001b[0m \u001b[32m━━━━━━━━━━━━━━━━━━━━\u001b[0m\u001b[37m\u001b[0m \u001b[1m3s\u001b[0m 3ms/step - accuracy: 0.9197 - loss: 0.2258 - val_accuracy: 0.8792 - val_loss: 0.3456\n",
      "Epoch 83/100\n",
      "\u001b[1m750/750\u001b[0m \u001b[32m━━━━━━━━━━━━━━━━━━━━\u001b[0m\u001b[37m\u001b[0m \u001b[1m2s\u001b[0m 3ms/step - accuracy: 0.9234 - loss: 0.2195 - val_accuracy: 0.8814 - val_loss: 0.3337\n",
      "Epoch 84/100\n",
      "\u001b[1m750/750\u001b[0m \u001b[32m━━━━━━━━━━━━━━━━━━━━\u001b[0m\u001b[37m\u001b[0m \u001b[1m3s\u001b[0m 3ms/step - accuracy: 0.9235 - loss: 0.2199 - val_accuracy: 0.8822 - val_loss: 0.3386\n",
      "Epoch 85/100\n",
      "\u001b[1m750/750\u001b[0m \u001b[32m━━━━━━━━━━━━━━━━━━━━\u001b[0m\u001b[37m\u001b[0m \u001b[1m2s\u001b[0m 3ms/step - accuracy: 0.9232 - loss: 0.2172 - val_accuracy: 0.8822 - val_loss: 0.3338\n",
      "Epoch 86/100\n",
      "\u001b[1m750/750\u001b[0m \u001b[32m━━━━━━━━━━━━━━━━━━━━\u001b[0m\u001b[37m\u001b[0m \u001b[1m2s\u001b[0m 3ms/step - accuracy: 0.9222 - loss: 0.2192 - val_accuracy: 0.8858 - val_loss: 0.3351\n",
      "Epoch 87/100\n",
      "\u001b[1m750/750\u001b[0m \u001b[32m━━━━━━━━━━━━━━━━━━━━\u001b[0m\u001b[37m\u001b[0m \u001b[1m2s\u001b[0m 3ms/step - accuracy: 0.9235 - loss: 0.2174 - val_accuracy: 0.8859 - val_loss: 0.3314\n",
      "Epoch 88/100\n",
      "\u001b[1m750/750\u001b[0m \u001b[32m━━━━━━━━━━━━━━━━━━━━\u001b[0m\u001b[37m\u001b[0m \u001b[1m2s\u001b[0m 3ms/step - accuracy: 0.9263 - loss: 0.2146 - val_accuracy: 0.8839 - val_loss: 0.3342\n",
      "Epoch 89/100\n",
      "\u001b[1m750/750\u001b[0m \u001b[32m━━━━━━━━━━━━━━━━━━━━\u001b[0m\u001b[37m\u001b[0m \u001b[1m3s\u001b[0m 3ms/step - accuracy: 0.9248 - loss: 0.2126 - val_accuracy: 0.8827 - val_loss: 0.3373\n",
      "Epoch 90/100\n",
      "\u001b[1m750/750\u001b[0m \u001b[32m━━━━━━━━━━━━━━━━━━━━\u001b[0m\u001b[37m\u001b[0m \u001b[1m2s\u001b[0m 3ms/step - accuracy: 0.9229 - loss: 0.2182 - val_accuracy: 0.8832 - val_loss: 0.3341\n",
      "Epoch 91/100\n",
      "\u001b[1m750/750\u001b[0m \u001b[32m━━━━━━━━━━━━━━━━━━━━\u001b[0m\u001b[37m\u001b[0m \u001b[1m2s\u001b[0m 3ms/step - accuracy: 0.9261 - loss: 0.2074 - val_accuracy: 0.8841 - val_loss: 0.3344\n",
      "Epoch 92/100\n",
      "\u001b[1m750/750\u001b[0m \u001b[32m━━━━━━━━━━━━━━━━━━━━\u001b[0m\u001b[37m\u001b[0m \u001b[1m2s\u001b[0m 3ms/step - accuracy: 0.9229 - loss: 0.2134 - val_accuracy: 0.8841 - val_loss: 0.3314\n",
      "Epoch 93/100\n",
      "\u001b[1m750/750\u001b[0m \u001b[32m━━━━━━━━━━━━━━━━━━━━\u001b[0m\u001b[37m\u001b[0m \u001b[1m3s\u001b[0m 3ms/step - accuracy: 0.9237 - loss: 0.2146 - val_accuracy: 0.8856 - val_loss: 0.3334\n",
      "Epoch 94/100\n",
      "\u001b[1m750/750\u001b[0m \u001b[32m━━━━━━━━━━━━━━━━━━━━\u001b[0m\u001b[37m\u001b[0m \u001b[1m3s\u001b[0m 3ms/step - accuracy: 0.9256 - loss: 0.2108 - val_accuracy: 0.8706 - val_loss: 0.3678\n",
      "Epoch 95/100\n",
      "\u001b[1m750/750\u001b[0m \u001b[32m━━━━━━━━━━━━━━━━━━━━\u001b[0m\u001b[37m\u001b[0m \u001b[1m2s\u001b[0m 3ms/step - accuracy: 0.9270 - loss: 0.2064 - val_accuracy: 0.8798 - val_loss: 0.3461\n",
      "Epoch 96/100\n",
      "\u001b[1m750/750\u001b[0m \u001b[32m━━━━━━━━━━━━━━━━━━━━\u001b[0m\u001b[37m\u001b[0m \u001b[1m2s\u001b[0m 3ms/step - accuracy: 0.9260 - loss: 0.2070 - val_accuracy: 0.8847 - val_loss: 0.3393\n",
      "Epoch 97/100\n",
      "\u001b[1m750/750\u001b[0m \u001b[32m━━━━━━━━━━━━━━━━━━━━\u001b[0m\u001b[37m\u001b[0m \u001b[1m2s\u001b[0m 3ms/step - accuracy: 0.9291 - loss: 0.2059 - val_accuracy: 0.8860 - val_loss: 0.3312\n",
      "Epoch 98/100\n",
      "\u001b[1m750/750\u001b[0m \u001b[32m━━━━━━━━━━━━━━━━━━━━\u001b[0m\u001b[37m\u001b[0m \u001b[1m2s\u001b[0m 3ms/step - accuracy: 0.9278 - loss: 0.2035 - val_accuracy: 0.8807 - val_loss: 0.3434\n",
      "Epoch 99/100\n",
      "\u001b[1m750/750\u001b[0m \u001b[32m━━━━━━━━━━━━━━━━━━━━\u001b[0m\u001b[37m\u001b[0m \u001b[1m3s\u001b[0m 3ms/step - accuracy: 0.9275 - loss: 0.2044 - val_accuracy: 0.8863 - val_loss: 0.3328\n",
      "Epoch 100/100\n",
      "\u001b[1m750/750\u001b[0m \u001b[32m━━━━━━━━━━━━━━━━━━━━\u001b[0m\u001b[37m\u001b[0m \u001b[1m2s\u001b[0m 3ms/step - accuracy: 0.9299 - loss: 0.1969 - val_accuracy: 0.8820 - val_loss: 0.3447\n"
     ]
    }
   ],
   "source": [
    "#Training the model\n",
    "training = model_1.fit(X_train , Y_train , batch_size = 64 , epochs = 100 , validation_split = 0.2)"
   ]
  },
  {
   "cell_type": "code",
   "execution_count": null,
   "metadata": {
    "colab": {
     "base_uri": "https://localhost:8080/"
    },
    "executionInfo": {
     "elapsed": 16,
     "status": "ok",
     "timestamp": 1742671371828,
     "user": {
      "displayName": "A_52_Priyank Maheshwari",
      "userId": "00590290924200288402"
     },
     "user_tz": -330
    },
    "id": "3bYiIOyZ4xKq",
    "outputId": "5c19891b-9b24-4d6b-b8a6-37df6b5cb65f"
   },
   "outputs": [
    {
     "name": "stdout",
     "output_type": "stream",
     "text": [
      "dict_keys(['accuracy', 'loss', 'val_accuracy', 'val_loss'])\n"
     ]
    }
   ],
   "source": [
    "import matplotlib.pyplot as plt\n",
    "%matplotlib inline\n",
    "\n",
    "print(training.history.keys())"
   ]
  },
  {
   "cell_type": "code",
   "execution_count": null,
   "metadata": {
    "colab": {
     "base_uri": "https://localhost:8080/",
     "height": 472
    },
    "executionInfo": {
     "elapsed": 130,
     "status": "ok",
     "timestamp": 1742671371960,
     "user": {
      "displayName": "A_52_Priyank Maheshwari",
      "userId": "00590290924200288402"
     },
     "user_tz": -330
    },
    "id": "j5H3pDZH51Di",
    "outputId": "3fc29ffd-8246-48d5-ff0f-277842e612ff"
   },
   "outputs": [
    {
     "data": {
      "image/png": "[encoded data removed]",
      "text/plain": [
       "<Figure size 640x480 with 1 Axes>"
      ]
     },
     "metadata": {},
     "output_type": "display_data"
    }
   ],
   "source": [
    "# Summarizing training for accuracy\n",
    "\n",
    "plt.plot(training.history['accuracy'])\n",
    "plt.plot(training.history['val_accuracy'])\n",
    "plt.title('model accuracy')\n",
    "plt.ylabel('accuracy')\n",
    "plt.xlabel('epoch')\n",
    "plt.legend(['train', 'test'], loc='upper left')\n",
    "plt.show()"
   ]
  },
  {
   "cell_type": "code",
   "execution_count": null,
   "metadata": {
    "colab": {
     "base_uri": "https://localhost:8080/",
     "height": 472
    },
    "executionInfo": {
     "elapsed": 215,
     "status": "ok",
     "timestamp": 1742671372178,
     "user": {
      "displayName": "A_52_Priyank Maheshwari",
      "userId": "00590290924200288402"
     },
     "user_tz": -330
    },
    "id": "Nzh_KgO06N5y",
    "outputId": "10ec15f5-aa74-4cb8-d08c-d3fe9040b1ba"
   },
   "outputs": [
    {
     "data": {
      "image/png": "[encoded data removed]",
      "text/plain": [
       "<Figure size 640x480 with 1 Axes>"
      ]
     },
     "metadata": {},
     "output_type": "display_data"
    }
   ],
   "source": [
    "# Summarizing training for loss\n",
    "\n",
    "plt.plot(training.history['loss'])\n",
    "plt.plot(training.history['val_loss'])\n",
    "plt.title('model loss')\n",
    "plt.ylabel('loss')\n",
    "plt.xlabel('epoch')\n",
    "plt.legend(['train', 'test'], loc='upper left')\n",
    "plt.show()"
   ]
  },
  {
   "cell_type": "code",
   "execution_count": null,
   "metadata": {
    "colab": {
     "base_uri": "https://localhost:8080/"
    },
    "executionInfo": {
     "elapsed": 1012,
     "status": "ok",
     "timestamp": 1742671373186,
     "user": {
      "displayName": "A_52_Priyank Maheshwari",
      "userId": "00590290924200288402"
     },
     "user_tz": -330
    },
    "id": "-rc_aD5I6ZZK",
    "outputId": "e343d707-60d9-4c7f-f872-076c7bd4029d"
   },
   "outputs": [
    {
     "name": "stdout",
     "output_type": "stream",
     "text": [
      "\u001b[1m313/313\u001b[0m \u001b[32m━━━━━━━━━━━━━━━━━━━━\u001b[0m\u001b[37m\u001b[0m \u001b[1m1s\u001b[0m 3ms/step - accuracy: 0.8759 - loss: 0.3600\n",
      "Test accuracy :  0.8755000233650208\n"
     ]
    }
   ],
   "source": [
    "# Evaluating the model\n",
    "test_loss , test_acc = model_1.evaluate(X_test , Y_test)\n",
    "print('Test accuracy : ', test_acc)"
   ]
  },
  {
   "cell_type": "code",
   "execution_count": null,
   "metadata": {
    "colab": {
     "base_uri": "https://localhost:8080/",
     "height": 255
    },
    "executionInfo": {
     "elapsed": 34,
     "status": "ok",
     "timestamp": 1742671373245,
     "user": {
      "displayName": "A_52_Priyank Maheshwari",
      "userId": "00590290924200288402"
     },
     "user_tz": -330
    },
    "id": "lF7mtcuT65oj",
    "outputId": "44087dcb-d0c5-41c9-96c2-9c4fd320ec8a"
   },
   "outputs": [
    {
     "data": {
      "text/html": [
       "<pre style=\"white-space:pre;overflow-x:auto;line-height:normal;font-family:Menlo,'DejaVu Sans Mono',consolas,'Courier New',monospace\"><span style=\"font-weight: bold\">Model: \"sequential_1\"</span>\n",
       "</pre>\n"
      ],
      "text/plain": [
       "\u001b[1mModel: \"sequential_1\"\u001b[0m\n"
      ]
     },
     "metadata": {},
     "output_type": "display_data"
    },
    {
     "data": {
      "text/html": [
       "<pre style=\"white-space:pre;overflow-x:auto;line-height:normal;font-family:Menlo,'DejaVu Sans Mono',consolas,'Courier New',monospace\">┏━━━━━━━━━━━━━━━━━━━━━━━━━━━━━━━━━━━━━━┳━━━━━━━━━━━━━━━━━━━━━━━━━━━━━┳━━━━━━━━━━━━━━━━━┓\n",
       "┃<span style=\"font-weight: bold\"> Layer (type)                         </span>┃<span style=\"font-weight: bold\"> Output Shape                </span>┃<span style=\"font-weight: bold\">         Param # </span>┃\n",
       "┡━━━━━━━━━━━━━━━━━━━━━━━━━━━━━━━━━━━━━━╇━━━━━━━━━━━━━━━━━━━━━━━━━━━━━╇━━━━━━━━━━━━━━━━━┩\n",
       "│ dense_layer (<span style=\"color: #0087ff; text-decoration-color: #0087ff\">Dense</span>)                  │ (<span style=\"color: #00d7ff; text-decoration-color: #00d7ff\">None</span>, <span style=\"color: #00af00; text-decoration-color: #00af00\">64</span>)                  │          <span style=\"color: #00af00; text-decoration-color: #00af00\">50,240</span> │\n",
       "├──────────────────────────────────────┼─────────────────────────────┼─────────────────┤\n",
       "│ dense_layer2 (<span style=\"color: #0087ff; text-decoration-color: #0087ff\">Dense</span>)                 │ (<span style=\"color: #00d7ff; text-decoration-color: #00d7ff\">None</span>, <span style=\"color: #00af00; text-decoration-color: #00af00\">64</span>)                  │           <span style=\"color: #00af00; text-decoration-color: #00af00\">4,160</span> │\n",
       "├──────────────────────────────────────┼─────────────────────────────┼─────────────────┤\n",
       "│ dense_layer3 (<span style=\"color: #0087ff; text-decoration-color: #0087ff\">Dense</span>)                 │ (<span style=\"color: #00d7ff; text-decoration-color: #00d7ff\">None</span>, <span style=\"color: #00af00; text-decoration-color: #00af00\">10</span>)                  │             <span style=\"color: #00af00; text-decoration-color: #00af00\">650</span> │\n",
       "└──────────────────────────────────────┴─────────────────────────────┴─────────────────┘\n",
       "</pre>\n"
      ],
      "text/plain": [
       "┏━━━━━━━━━━━━━━━━━━━━━━━━━━━━━━━━━━━━━━┳━━━━━━━━━━━━━━━━━━━━━━━━━━━━━┳━━━━━━━━━━━━━━━━━┓\n",
       "┃\u001b[1m \u001b[0m\u001b[1mLayer (type)                        \u001b[0m\u001b[1m \u001b[0m┃\u001b[1m \u001b[0m\u001b[1mOutput Shape               \u001b[0m\u001b[1m \u001b[0m┃\u001b[1m \u001b[0m\u001b[1m        Param #\u001b[0m\u001b[1m \u001b[0m┃\n",
       "┡━━━━━━━━━━━━━━━━━━━━━━━━━━━━━━━━━━━━━━╇━━━━━━━━━━━━━━━━━━━━━━━━━━━━━╇━━━━━━━━━━━━━━━━━┩\n",
       "│ dense_layer (\u001b[38;5;33mDense\u001b[0m)                  │ (\u001b[38;5;45mNone\u001b[0m, \u001b[38;5;34m64\u001b[0m)                  │          \u001b[38;5;34m50,240\u001b[0m │\n",
       "├──────────────────────────────────────┼─────────────────────────────┼─────────────────┤\n",
       "│ dense_layer2 (\u001b[38;5;33mDense\u001b[0m)                 │ (\u001b[38;5;45mNone\u001b[0m, \u001b[38;5;34m64\u001b[0m)                  │           \u001b[38;5;34m4,160\u001b[0m │\n",
       "├──────────────────────────────────────┼─────────────────────────────┼─────────────────┤\n",
       "│ dense_layer3 (\u001b[38;5;33mDense\u001b[0m)                 │ (\u001b[38;5;45mNone\u001b[0m, \u001b[38;5;34m10\u001b[0m)                  │             \u001b[38;5;34m650\u001b[0m │\n",
       "└──────────────────────────────────────┴─────────────────────────────┴─────────────────┘\n"
      ]
     },
     "metadata": {},
     "output_type": "display_data"
    },
    {
     "data": {
      "text/html": [
       "<pre style=\"white-space:pre;overflow-x:auto;line-height:normal;font-family:Menlo,'DejaVu Sans Mono',consolas,'Courier New',monospace\"><span style=\"font-weight: bold\"> Total params: </span><span style=\"color: #00af00; text-decoration-color: #00af00\">55,052</span> (215.05 KB)\n",
       "</pre>\n"
      ],
      "text/plain": [
       "\u001b[1m Total params: \u001b[0m\u001b[38;5;34m55,052\u001b[0m (215.05 KB)\n"
      ]
     },
     "metadata": {},
     "output_type": "display_data"
    },
    {
     "data": {
      "text/html": [
       "<pre style=\"white-space:pre;overflow-x:auto;line-height:normal;font-family:Menlo,'DejaVu Sans Mono',consolas,'Courier New',monospace\"><span style=\"font-weight: bold\"> Trainable params: </span><span style=\"color: #00af00; text-decoration-color: #00af00\">55,050</span> (215.04 KB)\n",
       "</pre>\n"
      ],
      "text/plain": [
       "\u001b[1m Trainable params: \u001b[0m\u001b[38;5;34m55,050\u001b[0m (215.04 KB)\n"
      ]
     },
     "metadata": {},
     "output_type": "display_data"
    },
    {
     "data": {
      "text/html": [
       "<pre style=\"white-space:pre;overflow-x:auto;line-height:normal;font-family:Menlo,'DejaVu Sans Mono',consolas,'Courier New',monospace\"><span style=\"font-weight: bold\"> Non-trainable params: </span><span style=\"color: #00af00; text-decoration-color: #00af00\">0</span> (0.00 B)\n",
       "</pre>\n"
      ],
      "text/plain": [
       "\u001b[1m Non-trainable params: \u001b[0m\u001b[38;5;34m0\u001b[0m (0.00 B)\n"
      ]
     },
     "metadata": {},
     "output_type": "display_data"
    },
    {
     "data": {
      "text/html": [
       "<pre style=\"white-space:pre;overflow-x:auto;line-height:normal;font-family:Menlo,'DejaVu Sans Mono',consolas,'Courier New',monospace\"><span style=\"font-weight: bold\"> Optimizer params: </span><span style=\"color: #00af00; text-decoration-color: #00af00\">2</span> (12.00 B)\n",
       "</pre>\n"
      ],
      "text/plain": [
       "\u001b[1m Optimizer params: \u001b[0m\u001b[38;5;34m2\u001b[0m (12.00 B)\n"
      ]
     },
     "metadata": {},
     "output_type": "display_data"
    }
   ],
   "source": [
    "model_1.summary()"
   ]
  },
  {
   "cell_type": "code",
   "execution_count": null,
   "metadata": {
    "colab": {
     "base_uri": "https://localhost:8080/"
    },
    "executionInfo": {
     "elapsed": 44,
     "status": "ok",
     "timestamp": 1742671373292,
     "user": {
      "displayName": "A_52_Priyank Maheshwari",
      "userId": "00590290924200288402"
     },
     "user_tz": -330
    },
    "id": "xrV_wg7u7E2K",
    "outputId": "647fc4e2-829e-4378-db65-d364f6d8f42f"
   },
   "outputs": [
    {
     "data": {
      "text/plain": [
       "[<Variable path=sequential_1/dense_layer/kernel, shape=(784, 64), dtype=float32, value=[[ 0.01080724 -0.03877109  0.06082521 ... -0.03292297  0.01127034\n",
       "    0.06327945]\n",
       "  [ 0.007476    0.03272592  0.01845551 ... -0.02668094  0.07540774\n",
       "   -0.08146663]\n",
       "  [ 0.06672609 -0.05960947  0.01752718 ... -0.07543421 -0.0586587\n",
       "   -0.00278405]\n",
       "  ...\n",
       "  [ 0.08524934  0.02862733 -0.03431971 ... -0.02010771 -0.07436146\n",
       "    0.02966987]\n",
       "  [ 0.07483494  0.01279532  0.09920233 ... -0.06215668 -0.07441784\n",
       "    0.00774341]\n",
       "  [-0.01092106 -0.0060958  -0.07576849 ... -0.04537689  0.05092423\n",
       "   -0.04412058]]>,\n",
       " <Variable path=sequential_1/dense_layer/bias, shape=(64,), dtype=float32, value=[ 0.04828075  0.33389762 -0.15445475  0.01389467 -0.07988112 -0.0047144\n",
       "   0.03093898 -0.01640195  0.07023107  0.24131092  0.17562272 -0.0066801\n",
       "   0.07457893  0.00275344 -0.04973519 -0.08043569  0.13127066 -0.06153195\n",
       "   0.2094826  -0.26017782  0.00624734  0.5107937  -0.07334094  0.24029663\n",
       "   0.10366739 -0.17771667  0.23971465  0.06707436  0.21149576 -0.21881859\n",
       "   0.5264198   0.3485834   0.27568188  0.10527285  0.27552575  0.17309481\n",
       "  -0.00286145  0.11422282 -0.09365375  0.22046621  0.07608642  0.01888246\n",
       "   0.11251373 -0.00775713  0.0784199   0.08690885 -0.0034669   0.33352593\n",
       "  -0.01264977 -0.01888991  0.26421407  0.06809327 -0.01511501 -0.00896531\n",
       "   0.19233635  0.04552861 -0.08065749  0.06048614 -0.17154299 -0.01230044\n",
       "  -0.18074596  0.42105904 -0.00521672  0.11730608]>,\n",
       " <Variable path=sequential_1/dense_layer2/kernel, shape=(64, 64), dtype=float32, value=[[-0.1944141  -0.07897851  0.38028052 ... -0.1104641  -0.25514212\n",
       "   -0.04713056]\n",
       "  [ 0.01789379 -0.19296458 -0.0824264  ... -0.03460186  0.25894508\n",
       "    0.18355109]\n",
       "  [-0.19344454 -0.23199932  0.13126168 ... -0.16752963 -0.1338464\n",
       "   -0.15903999]\n",
       "  ...\n",
       "  [-0.11490761  0.24468067 -0.13223605 ... -0.20654716  0.22757296\n",
       "   -0.1684628 ]\n",
       "  [-0.19782567  0.15813991  0.03407498 ...  0.0215146   0.17819054\n",
       "   -0.20816018]\n",
       "  [-0.08381385 -0.01704548  0.1666013  ...  0.18017599 -0.01400239\n",
       "    0.01935062]]>,\n",
       " <Variable path=sequential_1/dense_layer2/bias, shape=(64,), dtype=float32, value=[ 0.11809202  0.11022243 -0.02274594 -0.00082503 -0.02923212 -0.09944117\n",
       "   0.03332216  0.07954729 -0.02580739 -0.01077959  0.17234553 -0.00496445\n",
       "   0.0933862   0.0564544   0.05201218  0.02617126  0.17921047  0.14535455\n",
       "  -0.0039719  -0.08806959  0.09003209  0.1024507   0.06169642  0.24930203\n",
       "   0.07415149  0.16993384 -0.0040742   0.11523922  0.12925993  0.11717975\n",
       "  -0.01458766 -0.01608234 -0.0064114  -0.00934199  0.00079171  0.12959264\n",
       "  -0.02538826  0.14301698  0.17886661  0.15554076  0.13706584  0.00149369\n",
       "   0.1221742   0.00705816  0.02527189  0.03862337 -0.1011041  -0.00637019\n",
       "   0.03884213  0.09463456  0.06064247 -0.10264406  0.0303134   0.05817889\n",
       "  -0.01673078  0.21467969  0.07684185 -0.00698267  0.039993   -0.09274491\n",
       "   0.17939468  0.01488402 -0.09704298  0.00326273]>,\n",
       " <Variable path=sequential_1/dense_layer3/kernel, shape=(64, 10), dtype=float32, value=[[-9.33230743e-02 -1.73047185e-01 -1.33004665e-01  2.50710368e-01\n",
       "   -2.13163048e-01 -9.30911396e-03  1.35772094e-01  5.40997803e-01\n",
       "   -2.71267980e-01 -2.42294461e-01]\n",
       "  [ 5.68865314e-02 -5.35120964e-02  6.79014027e-01 -2.74395704e-01\n",
       "    5.05475774e-02  1.33199483e-01 -6.35564446e-01  2.85100013e-01\n",
       "   -3.14402133e-01 -6.45985529e-02]\n",
       "  [ 8.49052370e-01 -1.24177590e-01 -1.67167385e-03 -6.13312721e-01\n",
       "    2.39727423e-01 -3.48646462e-01  3.86478812e-01 -3.84054810e-01\n",
       "    5.91465235e-01  2.16722906e-01]\n",
       "  [ 5.16470196e-03  2.37211078e-01  2.43619308e-01 -9.15513411e-02\n",
       "   -5.70610054e-02  3.04892641e-02  1.54938012e-01  2.46248007e-01\n",
       "    1.43903911e-01  1.83411285e-01]\n",
       "  [ 5.75373769e-02  8.84147733e-02  3.00973211e-03 -5.04946932e-02\n",
       "   -1.52547970e-01  3.34104449e-02  1.02547206e-01 -1.30570218e-01\n",
       "    2.65297711e-01  2.41755351e-01]\n",
       "  [-2.82024533e-01 -1.93901360e-01 -5.81828952e-01  3.59879285e-01\n",
       "    7.34099507e-01  1.80412740e-01 -2.85832107e-01 -3.87796998e-01\n",
       "    8.57091025e-02  2.30545133e-01]\n",
       "  [ 5.87231278e-01  3.59592408e-01 -5.36533594e-01  4.83277850e-02\n",
       "   -1.20340466e-01 -6.67379320e-01  8.75435397e-02 -7.76393786e-02\n",
       "   -4.11657155e-01  2.11347640e-01]\n",
       "  [ 9.11504403e-02 -2.38729298e-01 -4.28592116e-01  2.93781459e-01\n",
       "   -6.73058927e-01  3.15808564e-01  6.31263196e-01  4.14986968e-01\n",
       "   -4.01668042e-01 -2.98367590e-01]\n",
       "  [ 7.71506727e-02  1.83212072e-01 -7.34825656e-02 -1.54647902e-01\n",
       "   -1.77995339e-01  2.42909774e-01 -2.09256411e-01 -3.40564959e-02\n",
       "    1.14661939e-01  2.06411302e-01]\n",
       "  [ 2.51072645e-01  2.29473114e-01  2.12831065e-01 -2.36739349e-02\n",
       "   -2.28983864e-01 -2.58458644e-01 -1.19387269e-01  5.35968468e-02\n",
       "    1.11217625e-01 -1.11091718e-01]\n",
       "  [-3.94377530e-01 -4.05290186e-01  5.22614308e-02  5.03868699e-01\n",
       "   -6.47962913e-02  8.92450094e-01  5.58149397e-01 -7.43475974e-01\n",
       "   -3.03189784e-01 -7.85844743e-01]\n",
       "  [-2.05670848e-01  2.30855629e-01 -1.64941564e-01 -2.38333687e-01\n",
       "    5.42164259e-02 -4.36085016e-02  2.30814025e-01 -5.97502664e-02\n",
       "   -2.81565785e-01 -1.93350211e-01]\n",
       "  [ 4.12457168e-01 -4.43014026e-01 -2.70433813e-01  2.61559822e-02\n",
       "   -5.94293594e-01 -2.66373008e-01 -2.51196057e-01  1.98546425e-01\n",
       "   -1.11271277e-01  4.48055744e-01]\n",
       "  [ 2.73800548e-02 -3.35595459e-01 -1.53298482e-01  3.96784455e-01\n",
       "    9.26598236e-02 -1.23995803e-01 -1.45866290e-01  4.75504398e-02\n",
       "    2.88733870e-01  2.09119573e-01]\n",
       "  [-2.90988684e-01  2.30888769e-01 -4.24914025e-02  3.50776374e-01\n",
       "    3.79201412e-01 -7.90690407e-02 -6.93763137e-01 -4.29921627e-01\n",
       "    5.63510776e-01  2.05208346e-01]\n",
       "  [-8.89611021e-02 -2.14174092e-01 -2.62281336e-02  2.19762117e-01\n",
       "    1.09499268e-01  3.06362361e-01  1.22569121e-01 -1.75452352e-01\n",
       "    4.54720557e-02 -1.89427316e-01]\n",
       "  [ 1.84330314e-01  3.81774195e-02  3.43602985e-01  4.28603172e-01\n",
       "   -4.13728625e-01  1.72005206e-01 -4.32206929e-01  4.43846554e-01\n",
       "   -4.21084374e-01  1.44474864e-01]\n",
       "  [-1.95488244e-01 -3.36194932e-01  5.08287549e-01 -5.07135570e-01\n",
       "   -8.63389149e-02  2.98283786e-01 -6.86785817e-01 -2.88496584e-01\n",
       "    5.34041464e-01  1.15189739e-01]\n",
       "  [-5.79908676e-02 -1.99110165e-01  1.52444141e-02 -1.07652016e-01\n",
       "   -2.11064264e-01  1.39923319e-02  1.88952789e-01  1.89839482e-01\n",
       "    2.22507551e-01  8.05071667e-02]\n",
       "  [-1.93214983e-01  4.12042588e-01 -6.54429793e-01 -2.09466919e-01\n",
       "   -2.14463145e-01  2.46885970e-01 -1.08024538e-01 -5.22946060e-01\n",
       "   -3.50679457e-01  7.13522375e-01]\n",
       "  [-3.50287944e-01 -1.74807638e-01 -2.78475791e-01 -5.17088890e-01\n",
       "    9.07847211e-02  1.20267153e-01  7.63751287e-03  3.76622565e-02\n",
       "    4.06427771e-01  3.32566261e-01]\n",
       "  [ 2.12493926e-01 -1.59705430e-01  1.87812895e-01  1.23597100e-01\n",
       "   -2.51485765e-01 -3.88554126e-01 -4.00997072e-01  3.81973498e-02\n",
       "    3.66665393e-01 -1.39926255e-01]\n",
       "  [-2.65914828e-01 -1.39662877e-01 -3.29938889e-01  6.53269440e-02\n",
       "   -7.25277245e-01 -3.42078358e-01 -2.78631132e-02 -5.23042440e-01\n",
       "    6.99396074e-01 -2.19773278e-01]\n",
       "  [-3.08190793e-01 -4.15781848e-02  5.67697398e-02 -5.99447966e-01\n",
       "    3.47059399e-01  7.20408916e-01 -6.15554929e-01  4.42428648e-01\n",
       "    3.13777030e-01 -9.62821543e-02]\n",
       "  [ 3.78195673e-01 -6.09897189e-02  4.12064493e-01  4.15631950e-01\n",
       "   -3.77646536e-02 -6.58687472e-01  4.41164315e-01 -5.35268128e-01\n",
       "   -4.61335868e-01 -3.15676451e-01]\n",
       "  [-5.74122608e-01 -6.15726888e-01 -4.70436811e-02  6.63790286e-01\n",
       "   -2.82390788e-02  5.24909496e-01 -2.98997134e-01  2.09509611e-01\n",
       "    3.03199083e-01  1.50070742e-01]\n",
       "  [-3.70068625e-02 -4.96860266e-01 -2.86103755e-01 -4.10352834e-02\n",
       "    2.62756974e-01 -7.85847723e-01  7.58971989e-01  1.91233277e-01\n",
       "    1.90346733e-01 -4.92639616e-02]\n",
       "  [ 7.93455914e-02 -3.98196906e-01  5.33186257e-01 -7.45714754e-02\n",
       "    3.08302224e-01 -5.31505287e-01  1.15172505e-01 -4.94852588e-02\n",
       "    3.50738674e-01 -4.97957259e-01]\n",
       "  [ 7.39276648e-01 -2.46437445e-01  4.47757356e-02 -2.50161886e-01\n",
       "    2.95412652e-02  8.35061193e-01 -6.85518384e-02 -4.18878376e-01\n",
       "    2.01421425e-01 -8.12318981e-01]\n",
       "  [ 3.33921909e-01  3.00747156e-01  2.49394998e-01  7.16948628e-01\n",
       "    2.27184549e-01 -5.63832939e-01 -1.99352577e-01  1.35363415e-01\n",
       "   -2.56942660e-01 -4.91633296e-01]\n",
       "  [ 1.57105699e-01  6.48135226e-03  1.46587864e-01 -2.08619498e-02\n",
       "    2.31795952e-01 -1.12078339e-01  1.39249459e-01  1.24010794e-01\n",
       "   -2.61366647e-03 -1.05505854e-01]\n",
       "  [ 4.01392877e-01 -2.38697618e-01 -1.41346827e-01 -1.42635480e-02\n",
       "    1.31229475e-01 -1.54204562e-01 -6.38016611e-02 -2.20352367e-01\n",
       "    6.69492558e-02 -1.84625298e-01]\n",
       "  [-3.79034132e-02 -7.55483955e-02  2.56719232e-01 -3.45152654e-02\n",
       "    9.92061943e-02  2.44886100e-01  7.63459539e-04 -2.88090825e-01\n",
       "   -1.14896089e-01 -3.49342301e-02]\n",
       "  [ 2.65788168e-01  2.04554111e-01  2.66567379e-01 -5.05031757e-02\n",
       "   -2.21246794e-01  2.59200662e-01  1.43398717e-01 -1.51308998e-01\n",
       "   -2.66598761e-01  2.34298050e-01]\n",
       "  [ 1.21668264e-01  1.32193342e-01 -4.71993983e-01  1.77790284e-01\n",
       "    2.85898507e-01  5.14044523e-01 -4.22117621e-01  4.44393605e-02\n",
       "    3.87353480e-01 -6.51473820e-01]\n",
       "  [ 5.31634927e-01  4.49022710e-01 -8.84344697e-01 -2.37885877e-01\n",
       "   -4.55097139e-01 -1.60745874e-01  9.05177474e-01  3.95043880e-01\n",
       "   -2.58352280e-01 -3.29360873e-01]\n",
       "  [-2.26216540e-01 -9.56066474e-02  2.40358964e-01 -2.39350334e-01\n",
       "   -1.52987629e-01 -1.68122068e-01  2.68002808e-01 -1.60287365e-01\n",
       "   -2.43573457e-01 -8.08631703e-02]\n",
       "  [ 2.96832114e-01 -1.85549974e-01  4.62223202e-01 -2.10618481e-01\n",
       "    3.18250835e-01  6.59269512e-01  5.66259027e-01 -8.44932139e-01\n",
       "   -3.28942388e-01 -6.04952514e-01]\n",
       "  [-1.20723359e-01 -3.21546435e-01 -1.10952429e-01  3.52659255e-01\n",
       "   -5.77323020e-01  4.11268085e-01 -5.00603259e-01  4.91187185e-01\n",
       "   -2.91269664e-02  6.48047701e-02]\n",
       "  [-3.07306558e-01  7.60993734e-02  4.51265782e-01 -4.89969790e-01\n",
       "   -6.01021051e-01  2.45470390e-01  4.73278284e-01  4.57350016e-01\n",
       "   -9.01696160e-02  5.18346310e-01]\n",
       "  [ 1.85559113e-02 -2.53665477e-01  7.82610953e-01  4.93778065e-02\n",
       "    5.36884427e-01 -4.66734031e-03 -4.33507234e-01  2.33173236e-01\n",
       "   -1.90353841e-01  5.77707812e-02]\n",
       "  [-2.27748886e-01 -2.54481006e-03  1.36180967e-01  1.63621202e-01\n",
       "    1.55024737e-01  3.70984301e-02 -2.04468772e-01  1.83011025e-01\n",
       "   -1.41967312e-01 -2.34573916e-01]\n",
       "  [ 3.01242262e-01 -6.38800025e-01  4.26322341e-01  4.43616271e-01\n",
       "   -3.80876690e-01 -3.23851645e-01 -2.60271993e-03  2.98813939e-01\n",
       "   -2.13940620e-01 -1.71661675e-01]\n",
       "  [-5.66926181e-01  7.33190179e-01  4.51703429e-01 -6.44905400e-03\n",
       "   -3.18163037e-01 -1.49012655e-01 -5.33804774e-01  8.65255818e-02\n",
       "    2.10107341e-01  1.77335978e-01]\n",
       "  [ 4.78400052e-01  4.66513038e-01  5.06124318e-01  1.80798188e-01\n",
       "    9.81392190e-02 -2.33590424e-01 -1.09780114e-02 -1.68045089e-01\n",
       "   -5.05722880e-01  1.78216830e-01]\n",
       "  [ 3.25101465e-01  2.92628437e-01 -3.55323404e-02 -3.65128994e-01\n",
       "   -1.22319877e-01  2.05839962e-01 -7.41234779e-01 -1.16279274e-02\n",
       "    1.84092507e-01  1.88836068e-01]\n",
       "  [-4.94788915e-01  4.69552070e-01 -4.80473429e-01 -3.16664964e-01\n",
       "   -1.58307090e-01  2.65278816e-01  5.39958477e-01  2.01433823e-01\n",
       "   -1.52665064e-01 -4.02967215e-01]\n",
       "  [ 2.99400687e-01  5.94631374e-01 -3.15523475e-01 -2.16673806e-01\n",
       "    1.33377448e-01 -4.29979116e-01  9.11029205e-02 -4.11006778e-01\n",
       "    4.95592743e-01 -3.01611185e-01]\n",
       "  [-4.01930571e-01  4.76502419e-01  5.07832766e-01 -2.24975318e-01\n",
       "    4.90177274e-01 -4.07843351e-01  3.78884256e-01  2.44168751e-02\n",
       "   -6.98292255e-02 -6.46292329e-01]\n",
       "  [ 4.36195470e-02  2.37788439e-01 -3.48975975e-03 -2.67735213e-01\n",
       "    1.18425384e-01  2.03178376e-01  6.13698624e-02  3.45155269e-01\n",
       "   -5.15130043e-01  6.27350450e-01]\n",
       "  [-1.49626538e-01 -1.48968831e-01 -2.12694645e-01 -6.82856962e-02\n",
       "    1.93683848e-01  2.71165609e-01  1.87477067e-01  1.93123907e-01\n",
       "    8.13746750e-02 -2.64265612e-02]\n",
       "  [-2.75154561e-01  5.67161702e-02 -3.70202243e-01 -6.98765591e-02\n",
       "    2.30986401e-01 -1.99062631e-01 -6.56646013e-01  2.12585405e-01\n",
       "    2.69116700e-01 -2.45437726e-01]\n",
       "  [-2.42151380e-01  2.08961204e-01 -3.80670995e-01  7.53272116e-01\n",
       "    3.40614885e-01  2.02984780e-01  2.52030432e-01  4.61132079e-02\n",
       "   -2.04506755e-01  9.99609083e-02]\n",
       "  [-5.74689925e-01 -4.07578498e-01  9.18902531e-02  5.71689129e-01\n",
       "    2.84533054e-01 -2.84238070e-01  3.17593962e-01  1.24582238e-01\n",
       "   -4.46886867e-01  5.57224452e-01]\n",
       "  [-3.90949935e-01  2.93791920e-01 -4.39426631e-01  3.09929758e-01\n",
       "    4.73252177e-01 -1.16901889e-01 -5.56343734e-01  1.53218701e-01\n",
       "   -8.98654852e-03 -7.71054029e-02]\n",
       "  [-3.06698531e-01  5.69087900e-02 -2.72814751e-01 -3.51251751e-01\n",
       "   -3.86769146e-01  3.87347370e-01  9.82998371e-01  2.22130597e-01\n",
       "    3.66028190e-01  7.01606199e-02]\n",
       "  [-1.65527418e-01  1.38151422e-01  2.70061433e-01 -2.36328766e-01\n",
       "   -4.69634049e-02 -6.71805382e-01 -3.91942501e-01  5.92685938e-01\n",
       "    5.68464696e-01 -2.09504887e-01]\n",
       "  [-2.64638782e-01  2.56933481e-01  1.08610600e-01 -5.83539642e-02\n",
       "    3.96791577e-01 -1.39272317e-01  2.54790783e-01 -3.32365811e-01\n",
       "    7.63429212e-04 -5.34536421e-01]\n",
       "  [ 1.39419409e-02  7.48721361e-02 -8.49215910e-02 -1.64561361e-01\n",
       "   -1.15049645e-01  8.36258292e-01 -3.08568895e-01 -5.27280211e-01\n",
       "   -4.15474504e-01  6.26984119e-01]\n",
       "  [-2.23927408e-01 -3.03742111e-01  1.07382841e-01 -3.50183874e-01\n",
       "    5.16741812e-01 -7.45326161e-01  2.83697098e-01 -1.88426450e-01\n",
       "   -1.79977599e-03  2.06232086e-01]\n",
       "  [ 5.74084759e-01 -7.81851262e-02 -2.52896786e-01 -3.54154944e-01\n",
       "   -1.89293131e-01  2.84715742e-01  1.71384037e-01  3.84465337e-01\n",
       "   -7.66502619e-02 -1.65374383e-01]\n",
       "  [-1.08616553e-01  4.27908629e-01  4.06056106e-01  2.26118967e-01\n",
       "    6.08734488e-01  4.03158106e-02 -3.17207962e-01 -4.45757627e-01\n",
       "   -1.74496010e-01  1.42458916e-01]\n",
       "  [ 1.13344155e-01  3.73805970e-01 -2.75105596e-01 -5.13073057e-02\n",
       "   -1.13751307e-01 -3.70262802e-01 -5.80872536e-01 -3.29799742e-01\n",
       "    7.14225471e-01  4.36119765e-01]\n",
       "  [-1.24950588e-01  4.22731906e-01  1.06946127e-02 -2.19736055e-01\n",
       "   -6.60202503e-02  1.22657850e-01  5.86084323e-03  2.33192407e-02\n",
       "    2.69708514e-01  1.20038018e-01]]>,\n",
       " <Variable path=sequential_1/dense_layer3/bias, shape=(10,), dtype=float32, value=[ 0.05297004 -0.12414492  0.07296368  0.02785357 -0.18255487  0.28416982\n",
       "   0.08508615  0.07318593 -0.0002897  -0.28924102]>]"
      ]
     },
     "execution_count": 24,
     "metadata": {},
     "output_type": "execute_result"
    }
   ],
   "source": [
    "model_1.weights"
   ]
  },
  {
   "cell_type": "markdown",
   "metadata": {
    "id": "weepjXt17jti"
   },
   "source": [
    "#### Improved Model 2 - Adding Dropout to Avoid Overfitting"
   ]
  },
  {
   "cell_type": "code",
   "execution_count": null,
   "metadata": {
    "executionInfo": {
     "elapsed": 50,
     "status": "ok",
     "timestamp": 1742671373345,
     "user": {
      "displayName": "A_52_Priyank Maheshwari",
      "userId": "00590290924200288402"
     },
     "user_tz": -330
    },
    "id": "GppnXCaq7eYy"
   },
   "outputs": [],
   "source": [
    "from tensorflow.keras.layers import Dropout\n",
    "\n",
    "#Most common type of model is a stack of layers\n",
    "model_2 = tf.keras.Sequential()\n",
    "N_hidden = 128\n",
    "\n",
    "# Adding a densely-connected layer with 64 units to the model:\n",
    "model_2.add(Dense(N_hidden, name='dense_layer', input_shape=(784,), activation = 'relu'))\n",
    "model_2.add(Dropout(0.3))\n",
    "\n",
    "# Adding another dense layer:\n",
    "model_2.add(Dense(N_hidden, name='dense_layer_2', activation='relu'))\n",
    "model_2.add(Dropout(0.3))\n",
    "\n",
    "# Adding an output layer with 10 output units (10 different classes):\n",
    "model_2.add(Dense(10, name='dense_layer_3', activation = 'softmax'))"
   ]
  },
  {
   "cell_type": "code",
   "execution_count": null,
   "metadata": {
    "executionInfo": {
     "elapsed": 6,
     "status": "ok",
     "timestamp": 1742671373354,
     "user": {
      "displayName": "A_52_Priyank Maheshwari",
      "userId": "00590290924200288402"
     },
     "user_tz": -330
    },
    "id": "9___hHcP8VOh"
   },
   "outputs": [],
   "source": [
    "#Compiling the model\n",
    "model_2.compile(optimizer = 'SGD' , loss = 'categorical_crossentropy' , metrics = ['accuracy'])"
   ]
  },
  {
   "cell_type": "code",
   "execution_count": null,
   "metadata": {
    "colab": {
     "base_uri": "https://localhost:8080/"
    },
    "executionInfo": {
     "elapsed": 125441,
     "status": "ok",
     "timestamp": 1742671498798,
     "user": {
      "displayName": "A_52_Priyank Maheshwari",
      "userId": "00590290924200288402"
     },
     "user_tz": -330
    },
    "id": "NTlrwpHh8pbK",
    "outputId": "54d783b0-530a-4fda-c832-d87300b73ab2"
   },
   "outputs": [
    {
     "name": "stdout",
     "output_type": "stream",
     "text": [
      "Epoch 1/50\n",
      "\u001b[1m750/750\u001b[0m \u001b[32m━━━━━━━━━━━━━━━━━━━━\u001b[0m\u001b[37m\u001b[0m \u001b[1m5s\u001b[0m 4ms/step - accuracy: 0.4389 - loss: 1.5998 - val_accuracy: 0.7482 - val_loss: 0.7358\n",
      "Epoch 2/50\n",
      "\u001b[1m750/750\u001b[0m \u001b[32m━━━━━━━━━━━━━━━━━━━━\u001b[0m\u001b[37m\u001b[0m \u001b[1m2s\u001b[0m 3ms/step - accuracy: 0.7005 - loss: 0.8488 - val_accuracy: 0.7952 - val_loss: 0.6033\n",
      "Epoch 3/50\n",
      "\u001b[1m750/750\u001b[0m \u001b[32m━━━━━━━━━━━━━━━━━━━━\u001b[0m\u001b[37m\u001b[0m \u001b[1m3s\u001b[0m 3ms/step - accuracy: 0.7545 - loss: 0.7015 - val_accuracy: 0.8123 - val_loss: 0.5431\n",
      "Epoch 4/50\n",
      "\u001b[1m750/750\u001b[0m \u001b[32m━━━━━━━━━━━━━━━━━━━━\u001b[0m\u001b[37m\u001b[0m \u001b[1m2s\u001b[0m 3ms/step - accuracy: 0.7819 - loss: 0.6307 - val_accuracy: 0.8247 - val_loss: 0.5050\n",
      "Epoch 5/50\n",
      "\u001b[1m750/750\u001b[0m \u001b[32m━━━━━━━━━━━━━━━━━━━━\u001b[0m\u001b[37m\u001b[0m \u001b[1m3s\u001b[0m 3ms/step - accuracy: 0.7947 - loss: 0.5881 - val_accuracy: 0.8321 - val_loss: 0.4827\n",
      "Epoch 6/50\n",
      "\u001b[1m750/750\u001b[0m \u001b[32m━━━━━━━━━━━━━━━━━━━━\u001b[0m\u001b[37m\u001b[0m \u001b[1m2s\u001b[0m 3ms/step - accuracy: 0.8055 - loss: 0.5595 - val_accuracy: 0.8319 - val_loss: 0.4676\n",
      "Epoch 7/50\n",
      "\u001b[1m750/750\u001b[0m \u001b[32m━━━━━━━━━━━━━━━━━━━━\u001b[0m\u001b[37m\u001b[0m \u001b[1m2s\u001b[0m 3ms/step - accuracy: 0.8111 - loss: 0.5338 - val_accuracy: 0.8378 - val_loss: 0.4510\n",
      "Epoch 8/50\n",
      "\u001b[1m750/750\u001b[0m \u001b[32m━━━━━━━━━━━━━━━━━━━━\u001b[0m\u001b[37m\u001b[0m \u001b[1m2s\u001b[0m 3ms/step - accuracy: 0.8228 - loss: 0.5127 - val_accuracy: 0.8416 - val_loss: 0.4412\n",
      "Epoch 9/50\n",
      "\u001b[1m750/750\u001b[0m \u001b[32m━━━━━━━━━━━━━━━━━━━━\u001b[0m\u001b[37m\u001b[0m \u001b[1m2s\u001b[0m 3ms/step - accuracy: 0.8272 - loss: 0.4988 - val_accuracy: 0.8435 - val_loss: 0.4306\n",
      "Epoch 10/50\n",
      "\u001b[1m750/750\u001b[0m \u001b[32m━━━━━━━━━━━━━━━━━━━━\u001b[0m\u001b[37m\u001b[0m \u001b[1m2s\u001b[0m 3ms/step - accuracy: 0.8283 - loss: 0.4856 - val_accuracy: 0.8448 - val_loss: 0.4246\n",
      "Epoch 11/50\n",
      "\u001b[1m750/750\u001b[0m \u001b[32m━━━━━━━━━━━━━━━━━━━━\u001b[0m\u001b[37m\u001b[0m \u001b[1m2s\u001b[0m 3ms/step - accuracy: 0.8312 - loss: 0.4771 - val_accuracy: 0.8516 - val_loss: 0.4147\n",
      "Epoch 12/50\n",
      "\u001b[1m750/750\u001b[0m \u001b[32m━━━━━━━━━━━━━━━━━━━━\u001b[0m\u001b[37m\u001b[0m \u001b[1m2s\u001b[0m 3ms/step - accuracy: 0.8373 - loss: 0.4646 - val_accuracy: 0.8508 - val_loss: 0.4103\n",
      "Epoch 13/50\n",
      "\u001b[1m750/750\u001b[0m \u001b[32m━━━━━━━━━━━━━━━━━━━━\u001b[0m\u001b[37m\u001b[0m \u001b[1m3s\u001b[0m 4ms/step - accuracy: 0.8402 - loss: 0.4522 - val_accuracy: 0.8537 - val_loss: 0.4074\n",
      "Epoch 14/50\n",
      "\u001b[1m750/750\u001b[0m \u001b[32m━━━━━━━━━━━━━━━━━━━━\u001b[0m\u001b[37m\u001b[0m \u001b[1m2s\u001b[0m 3ms/step - accuracy: 0.8417 - loss: 0.4535 - val_accuracy: 0.8575 - val_loss: 0.3974\n",
      "Epoch 15/50\n",
      "\u001b[1m750/750\u001b[0m \u001b[32m━━━━━━━━━━━━━━━━━━━━\u001b[0m\u001b[37m\u001b[0m \u001b[1m2s\u001b[0m 3ms/step - accuracy: 0.8421 - loss: 0.4440 - val_accuracy: 0.8574 - val_loss: 0.4023\n",
      "Epoch 16/50\n",
      "\u001b[1m750/750\u001b[0m \u001b[32m━━━━━━━━━━━━━━━━━━━━\u001b[0m\u001b[37m\u001b[0m \u001b[1m2s\u001b[0m 3ms/step - accuracy: 0.8449 - loss: 0.4345 - val_accuracy: 0.8583 - val_loss: 0.3916\n",
      "Epoch 17/50\n",
      "\u001b[1m750/750\u001b[0m \u001b[32m━━━━━━━━━━━━━━━━━━━━\u001b[0m\u001b[37m\u001b[0m \u001b[1m2s\u001b[0m 3ms/step - accuracy: 0.8484 - loss: 0.4315 - val_accuracy: 0.8609 - val_loss: 0.3868\n",
      "Epoch 18/50\n",
      "\u001b[1m750/750\u001b[0m \u001b[32m━━━━━━━━━━━━━━━━━━━━\u001b[0m\u001b[37m\u001b[0m \u001b[1m3s\u001b[0m 3ms/step - accuracy: 0.8513 - loss: 0.4287 - val_accuracy: 0.8620 - val_loss: 0.3841\n",
      "Epoch 19/50\n",
      "\u001b[1m750/750\u001b[0m \u001b[32m━━━━━━━━━━━━━━━━━━━━\u001b[0m\u001b[37m\u001b[0m \u001b[1m2s\u001b[0m 3ms/step - accuracy: 0.8520 - loss: 0.4254 - val_accuracy: 0.8626 - val_loss: 0.3840\n",
      "Epoch 20/50\n",
      "\u001b[1m750/750\u001b[0m \u001b[32m━━━━━━━━━━━━━━━━━━━━\u001b[0m\u001b[37m\u001b[0m \u001b[1m2s\u001b[0m 3ms/step - accuracy: 0.8526 - loss: 0.4158 - val_accuracy: 0.8630 - val_loss: 0.3791\n",
      "Epoch 21/50\n",
      "\u001b[1m750/750\u001b[0m \u001b[32m━━━━━━━━━━━━━━━━━━━━\u001b[0m\u001b[37m\u001b[0m \u001b[1m2s\u001b[0m 3ms/step - accuracy: 0.8555 - loss: 0.4081 - val_accuracy: 0.8652 - val_loss: 0.3744\n",
      "Epoch 22/50\n",
      "\u001b[1m750/750\u001b[0m \u001b[32m━━━━━━━━━━━━━━━━━━━━\u001b[0m\u001b[37m\u001b[0m \u001b[1m3s\u001b[0m 3ms/step - accuracy: 0.8541 - loss: 0.4119 - val_accuracy: 0.8668 - val_loss: 0.3719\n",
      "Epoch 23/50\n",
      "\u001b[1m750/750\u001b[0m \u001b[32m━━━━━━━━━━━━━━━━━━━━\u001b[0m\u001b[37m\u001b[0m \u001b[1m3s\u001b[0m 3ms/step - accuracy: 0.8606 - loss: 0.3994 - val_accuracy: 0.8689 - val_loss: 0.3688\n",
      "Epoch 24/50\n",
      "\u001b[1m750/750\u001b[0m \u001b[32m━━━━━━━━━━━━━━━━━━━━\u001b[0m\u001b[37m\u001b[0m \u001b[1m2s\u001b[0m 3ms/step - accuracy: 0.8579 - loss: 0.4058 - val_accuracy: 0.8690 - val_loss: 0.3656\n",
      "Epoch 25/50\n",
      "\u001b[1m750/750\u001b[0m \u001b[32m━━━━━━━━━━━━━━━━━━━━\u001b[0m\u001b[37m\u001b[0m \u001b[1m2s\u001b[0m 3ms/step - accuracy: 0.8592 - loss: 0.3960 - val_accuracy: 0.8697 - val_loss: 0.3661\n",
      "Epoch 26/50\n",
      "\u001b[1m750/750\u001b[0m \u001b[32m━━━━━━━━━━━━━━━━━━━━\u001b[0m\u001b[37m\u001b[0m \u001b[1m2s\u001b[0m 3ms/step - accuracy: 0.8612 - loss: 0.3919 - val_accuracy: 0.8696 - val_loss: 0.3625\n",
      "Epoch 27/50\n",
      "\u001b[1m750/750\u001b[0m \u001b[32m━━━━━━━━━━━━━━━━━━━━\u001b[0m\u001b[37m\u001b[0m \u001b[1m3s\u001b[0m 3ms/step - accuracy: 0.8612 - loss: 0.3880 - val_accuracy: 0.8698 - val_loss: 0.3613\n",
      "Epoch 28/50\n",
      "\u001b[1m750/750\u001b[0m \u001b[32m━━━━━━━━━━━━━━━━━━━━\u001b[0m\u001b[37m\u001b[0m \u001b[1m3s\u001b[0m 3ms/step - accuracy: 0.8670 - loss: 0.3797 - val_accuracy: 0.8704 - val_loss: 0.3576\n",
      "Epoch 29/50\n",
      "\u001b[1m750/750\u001b[0m \u001b[32m━━━━━━━━━━━━━━━━━━━━\u001b[0m\u001b[37m\u001b[0m \u001b[1m2s\u001b[0m 3ms/step - accuracy: 0.8635 - loss: 0.3793 - val_accuracy: 0.8713 - val_loss: 0.3556\n",
      "Epoch 30/50\n",
      "\u001b[1m750/750\u001b[0m \u001b[32m━━━━━━━━━━━━━━━━━━━━\u001b[0m\u001b[37m\u001b[0m \u001b[1m2s\u001b[0m 3ms/step - accuracy: 0.8636 - loss: 0.3886 - val_accuracy: 0.8734 - val_loss: 0.3542\n",
      "Epoch 31/50\n",
      "\u001b[1m750/750\u001b[0m \u001b[32m━━━━━━━━━━━━━━━━━━━━\u001b[0m\u001b[37m\u001b[0m \u001b[1m2s\u001b[0m 3ms/step - accuracy: 0.8677 - loss: 0.3764 - val_accuracy: 0.8700 - val_loss: 0.3553\n",
      "Epoch 32/50\n",
      "\u001b[1m750/750\u001b[0m \u001b[32m━━━━━━━━━━━━━━━━━━━━\u001b[0m\u001b[37m\u001b[0m \u001b[1m2s\u001b[0m 3ms/step - accuracy: 0.8684 - loss: 0.3747 - val_accuracy: 0.8734 - val_loss: 0.3528\n",
      "Epoch 33/50\n",
      "\u001b[1m750/750\u001b[0m \u001b[32m━━━━━━━━━━━━━━━━━━━━\u001b[0m\u001b[37m\u001b[0m \u001b[1m3s\u001b[0m 3ms/step - accuracy: 0.8686 - loss: 0.3678 - val_accuracy: 0.8760 - val_loss: 0.3503\n",
      "Epoch 34/50\n",
      "\u001b[1m750/750\u001b[0m \u001b[32m━━━━━━━━━━━━━━━━━━━━\u001b[0m\u001b[37m\u001b[0m \u001b[1m2s\u001b[0m 3ms/step - accuracy: 0.8713 - loss: 0.3626 - val_accuracy: 0.8730 - val_loss: 0.3510\n",
      "Epoch 35/50\n",
      "\u001b[1m750/750\u001b[0m \u001b[32m━━━━━━━━━━━━━━━━━━━━\u001b[0m\u001b[37m\u001b[0m \u001b[1m3s\u001b[0m 3ms/step - accuracy: 0.8691 - loss: 0.3673 - val_accuracy: 0.8764 - val_loss: 0.3462\n",
      "Epoch 36/50\n",
      "\u001b[1m750/750\u001b[0m \u001b[32m━━━━━━━━━━━━━━━━━━━━\u001b[0m\u001b[37m\u001b[0m \u001b[1m2s\u001b[0m 3ms/step - accuracy: 0.8683 - loss: 0.3662 - val_accuracy: 0.8771 - val_loss: 0.3456\n",
      "Epoch 37/50\n",
      "\u001b[1m750/750\u001b[0m \u001b[32m━━━━━━━━━━━━━━━━━━━━\u001b[0m\u001b[37m\u001b[0m \u001b[1m3s\u001b[0m 3ms/step - accuracy: 0.8725 - loss: 0.3585 - val_accuracy: 0.8765 - val_loss: 0.3446\n",
      "Epoch 38/50\n",
      "\u001b[1m750/750\u001b[0m \u001b[32m━━━━━━━━━━━━━━━━━━━━\u001b[0m\u001b[37m\u001b[0m \u001b[1m3s\u001b[0m 3ms/step - accuracy: 0.8739 - loss: 0.3588 - val_accuracy: 0.8762 - val_loss: 0.3444\n",
      "Epoch 39/50\n",
      "\u001b[1m750/750\u001b[0m \u001b[32m━━━━━━━━━━━━━━━━━━━━\u001b[0m\u001b[37m\u001b[0m \u001b[1m2s\u001b[0m 3ms/step - accuracy: 0.8739 - loss: 0.3598 - val_accuracy: 0.8771 - val_loss: 0.3439\n",
      "Epoch 40/50\n",
      "\u001b[1m750/750\u001b[0m \u001b[32m━━━━━━━━━━━━━━━━━━━━\u001b[0m\u001b[37m\u001b[0m \u001b[1m3s\u001b[0m 3ms/step - accuracy: 0.8736 - loss: 0.3520 - val_accuracy: 0.8787 - val_loss: 0.3376\n",
      "Epoch 41/50\n",
      "\u001b[1m750/750\u001b[0m \u001b[32m━━━━━━━━━━━━━━━━━━━━\u001b[0m\u001b[37m\u001b[0m \u001b[1m2s\u001b[0m 3ms/step - accuracy: 0.8756 - loss: 0.3428 - val_accuracy: 0.8791 - val_loss: 0.3396\n",
      "Epoch 42/50\n",
      "\u001b[1m750/750\u001b[0m \u001b[32m━━━━━━━━━━━━━━━━━━━━\u001b[0m\u001b[37m\u001b[0m \u001b[1m3s\u001b[0m 4ms/step - accuracy: 0.8757 - loss: 0.3513 - val_accuracy: 0.8783 - val_loss: 0.3377\n",
      "Epoch 43/50\n",
      "\u001b[1m750/750\u001b[0m \u001b[32m━━━━━━━━━━━━━━━━━━━━\u001b[0m\u001b[37m\u001b[0m \u001b[1m2s\u001b[0m 3ms/step - accuracy: 0.8772 - loss: 0.3428 - val_accuracy: 0.8762 - val_loss: 0.3406\n",
      "Epoch 44/50\n",
      "\u001b[1m750/750\u001b[0m \u001b[32m━━━━━━━━━━━━━━━━━━━━\u001b[0m\u001b[37m\u001b[0m \u001b[1m2s\u001b[0m 3ms/step - accuracy: 0.8773 - loss: 0.3426 - val_accuracy: 0.8786 - val_loss: 0.3344\n",
      "Epoch 45/50\n",
      "\u001b[1m750/750\u001b[0m \u001b[32m━━━━━━━━━━━━━━━━━━━━\u001b[0m\u001b[37m\u001b[0m \u001b[1m2s\u001b[0m 3ms/step - accuracy: 0.8805 - loss: 0.3340 - val_accuracy: 0.8786 - val_loss: 0.3367\n",
      "Epoch 46/50\n",
      "\u001b[1m750/750\u001b[0m \u001b[32m━━━━━━━━━━━━━━━━━━━━\u001b[0m\u001b[37m\u001b[0m \u001b[1m3s\u001b[0m 3ms/step - accuracy: 0.8789 - loss: 0.3420 - val_accuracy: 0.8791 - val_loss: 0.3349\n",
      "Epoch 47/50\n",
      "\u001b[1m750/750\u001b[0m \u001b[32m━━━━━━━━━━━━━━━━━━━━\u001b[0m\u001b[37m\u001b[0m \u001b[1m3s\u001b[0m 4ms/step - accuracy: 0.8810 - loss: 0.3364 - val_accuracy: 0.8813 - val_loss: 0.3342\n",
      "Epoch 48/50\n",
      "\u001b[1m750/750\u001b[0m \u001b[32m━━━━━━━━━━━━━━━━━━━━\u001b[0m\u001b[37m\u001b[0m \u001b[1m4s\u001b[0m 3ms/step - accuracy: 0.8788 - loss: 0.3359 - val_accuracy: 0.8794 - val_loss: 0.3338\n",
      "Epoch 49/50\n",
      "\u001b[1m750/750\u001b[0m \u001b[32m━━━━━━━━━━━━━━━━━━━━\u001b[0m\u001b[37m\u001b[0m \u001b[1m2s\u001b[0m 3ms/step - accuracy: 0.8792 - loss: 0.3405 - val_accuracy: 0.8803 - val_loss: 0.3314\n",
      "Epoch 50/50\n",
      "\u001b[1m750/750\u001b[0m \u001b[32m━━━━━━━━━━━━━━━━━━━━\u001b[0m\u001b[37m\u001b[0m \u001b[1m2s\u001b[0m 3ms/step - accuracy: 0.8821 - loss: 0.3279 - val_accuracy: 0.8811 - val_loss: 0.3290\n"
     ]
    }
   ],
   "source": [
    "#Training the model\n",
    "training = model_2.fit(X_train , Y_train , batch_size = 64 , epochs = 50 , validation_split = 0.2 )"
   ]
  },
  {
   "cell_type": "code",
   "execution_count": null,
   "metadata": {
    "colab": {
     "base_uri": "https://localhost:8080/"
    },
    "executionInfo": {
     "elapsed": 43,
     "status": "ok",
     "timestamp": 1742671498844,
     "user": {
      "displayName": "A_52_Priyank Maheshwari",
      "userId": "00590290924200288402"
     },
     "user_tz": -330
    },
    "id": "-TnVbkpq9Hwh",
    "outputId": "ebfea715-650e-4cff-b8db-e3b9c7139b2c"
   },
   "outputs": [
    {
     "name": "stdout",
     "output_type": "stream",
     "text": [
      "dict_keys(['accuracy', 'loss', 'val_accuracy', 'val_loss'])\n"
     ]
    }
   ],
   "source": [
    "import matplotlib.pyplot as plt\n",
    "%matplotlib inline\n",
    "\n",
    "print(training.history.keys())"
   ]
  },
  {
   "cell_type": "code",
   "execution_count": null,
   "metadata": {
    "colab": {
     "base_uri": "https://localhost:8080/",
     "height": 472
    },
    "executionInfo": {
     "elapsed": 120,
     "status": "ok",
     "timestamp": 1742671498970,
     "user": {
      "displayName": "A_52_Priyank Maheshwari",
      "userId": "00590290924200288402"
     },
     "user_tz": -330
    },
    "id": "eB0aISd_9pGJ",
    "outputId": "fbc305ad-9fab-4e6f-d0a4-5dd85a0aa6dc"
   },
   "outputs": [
    {
     "data": {
      "image/png": "[encoded data removed]",
      "text/plain": [
       "<Figure size 640x480 with 1 Axes>"
      ]
     },
     "metadata": {},
     "output_type": "display_data"
    }
   ],
   "source": [
    "# Summarizng training for accuracy\n",
    "plt.plot(training.history['accuracy'])\n",
    "plt.plot(training.history['val_accuracy'])\n",
    "plt.title('model accuracy')\n",
    "plt.ylabel('accuracy')\n",
    "plt.xlabel('epoch')\n",
    "plt.legend(['train', 'test'], loc='upper left')\n",
    "plt.show()"
   ]
  },
  {
   "cell_type": "code",
   "execution_count": null,
   "metadata": {
    "colab": {
     "base_uri": "https://localhost:8080/",
     "height": 472
    },
    "executionInfo": {
     "elapsed": 138,
     "status": "ok",
     "timestamp": 1742671499110,
     "user": {
      "displayName": "A_52_Priyank Maheshwari",
      "userId": "00590290924200288402"
     },
     "user_tz": -330
    },
    "id": "Nd9KEqz79zRK",
    "outputId": "7e42fdd1-8c18-48c5-f787-e0f3806217dc"
   },
   "outputs": [
    {
     "data": {
      "image/png": "[encoded data removed]",
      "text/plain": [
       "<Figure size 640x480 with 1 Axes>"
      ]
     },
     "metadata": {},
     "output_type": "display_data"
    }
   ],
   "source": [
    "# Summarize traning for loss\n",
    "plt.plot(training.history['loss'])\n",
    "plt.plot(training.history['val_loss'])\n",
    "plt.title('model loss')\n",
    "plt.ylabel('loss')\n",
    "plt.xlabel('epoch')\n",
    "plt.legend(['train', 'test'], loc='upper left')\n",
    "plt.show()"
   ]
  },
  {
   "cell_type": "code",
   "execution_count": null,
   "metadata": {
    "colab": {
     "base_uri": "https://localhost:8080/"
    },
    "executionInfo": {
     "elapsed": 16,
     "status": "ok",
     "timestamp": 1742671499128,
     "user": {
      "displayName": "A_52_Priyank Maheshwari",
      "userId": "00590290924200288402"
     },
     "user_tz": -330
    },
    "id": "CQnk9582-ByK",
    "outputId": "7803a801-498c-4af7-d464-97bcf26a86dc"
   },
   "outputs": [
    {
     "data": {
      "text/plain": [
       "<Variable path=sequential_2/dense_layer/kernel, shape=(784, 128), dtype=float32, value=[[ 0.00561023  0.06980438 -0.05770398 ...  0.0458487   0.03938283\n",
       "  -0.01051193]\n",
       " [-0.0432436   0.01551446  0.01565635 ... -0.07039127 -0.03775485\n",
       "   0.02685705]\n",
       " [ 0.07849593  0.00658078  0.08120436 ... -0.04102171  0.05066822\n",
       "  -0.07658605]\n",
       " ...\n",
       " [ 0.03139528  0.01089263 -0.02275651 ... -0.01829788 -0.03300005\n",
       "   0.05566204]\n",
       " [-0.04408327 -0.0563628   0.07025455 ...  0.0350644  -0.0614877\n",
       "  -0.01816177]\n",
       " [-0.07512791  0.03035319  0.0627976  ... -0.07375714  0.06140793\n",
       "  -0.02243633]]>"
      ]
     },
     "execution_count": 31,
     "metadata": {},
     "output_type": "execute_result"
    }
   ],
   "source": [
    "model_2.weights[0]"
   ]
  },
  {
   "cell_type": "code",
   "execution_count": null,
   "metadata": {
    "colab": {
     "base_uri": "https://localhost:8080/"
    },
    "executionInfo": {
     "elapsed": 2591,
     "status": "ok",
     "timestamp": 1742671501724,
     "user": {
      "displayName": "A_52_Priyank Maheshwari",
      "userId": "00590290924200288402"
     },
     "user_tz": -330
    },
    "id": "P-LkQ6oZ-FZj",
    "outputId": "964de034-090d-4b79-9aa6-9a394fccff65"
   },
   "outputs": [
    {
     "name": "stdout",
     "output_type": "stream",
     "text": [
      "\u001b[1m313/313\u001b[0m \u001b[32m━━━━━━━━━━━━━━━━━━━━\u001b[0m\u001b[37m\u001b[0m \u001b[1m1s\u001b[0m 4ms/step - accuracy: 0.8750 - loss: 0.3474\n",
      "Test accuracy :  0.8727999925613403\n"
     ]
    }
   ],
   "source": [
    "#Evaluating the model\n",
    "test_loss , test_acc = model_2.evaluate(X_test , Y_test)\n",
    "print('Test accuracy : ',test_acc)"
   ]
  },
  {
   "cell_type": "code",
   "execution_count": null,
   "metadata": {
    "colab": {
     "base_uri": "https://localhost:8080/",
     "height": 323
    },
    "executionInfo": {
     "elapsed": 55,
     "status": "ok",
     "timestamp": 1742671501774,
     "user": {
      "displayName": "A_52_Priyank Maheshwari",
      "userId": "00590290924200288402"
     },
     "user_tz": -330
    },
    "id": "EdlzXeMl-YUy",
    "outputId": "2c11d5fb-0346-42f5-a707-c8dba6ccb15a"
   },
   "outputs": [
    {
     "data": {
      "text/html": [
       "<pre style=\"white-space:pre;overflow-x:auto;line-height:normal;font-family:Menlo,'DejaVu Sans Mono',consolas,'Courier New',monospace\"><span style=\"font-weight: bold\">Model: \"sequential_2\"</span>\n",
       "</pre>\n"
      ],
      "text/plain": [
       "\u001b[1mModel: \"sequential_2\"\u001b[0m\n"
      ]
     },
     "metadata": {},
     "output_type": "display_data"
    },
    {
     "data": {
      "text/html": [
       "<pre style=\"white-space:pre;overflow-x:auto;line-height:normal;font-family:Menlo,'DejaVu Sans Mono',consolas,'Courier New',monospace\">┏━━━━━━━━━━━━━━━━━━━━━━━━━━━━━━━━━━━━━━┳━━━━━━━━━━━━━━━━━━━━━━━━━━━━━┳━━━━━━━━━━━━━━━━━┓\n",
       "┃<span style=\"font-weight: bold\"> Layer (type)                         </span>┃<span style=\"font-weight: bold\"> Output Shape                </span>┃<span style=\"font-weight: bold\">         Param # </span>┃\n",
       "┡━━━━━━━━━━━━━━━━━━━━━━━━━━━━━━━━━━━━━━╇━━━━━━━━━━━━━━━━━━━━━━━━━━━━━╇━━━━━━━━━━━━━━━━━┩\n",
       "│ dense_layer (<span style=\"color: #0087ff; text-decoration-color: #0087ff\">Dense</span>)                  │ (<span style=\"color: #00d7ff; text-decoration-color: #00d7ff\">None</span>, <span style=\"color: #00af00; text-decoration-color: #00af00\">128</span>)                 │         <span style=\"color: #00af00; text-decoration-color: #00af00\">100,480</span> │\n",
       "├──────────────────────────────────────┼─────────────────────────────┼─────────────────┤\n",
       "│ dropout (<span style=\"color: #0087ff; text-decoration-color: #0087ff\">Dropout</span>)                    │ (<span style=\"color: #00d7ff; text-decoration-color: #00d7ff\">None</span>, <span style=\"color: #00af00; text-decoration-color: #00af00\">128</span>)                 │               <span style=\"color: #00af00; text-decoration-color: #00af00\">0</span> │\n",
       "├──────────────────────────────────────┼─────────────────────────────┼─────────────────┤\n",
       "│ dense_layer_2 (<span style=\"color: #0087ff; text-decoration-color: #0087ff\">Dense</span>)                │ (<span style=\"color: #00d7ff; text-decoration-color: #00d7ff\">None</span>, <span style=\"color: #00af00; text-decoration-color: #00af00\">128</span>)                 │          <span style=\"color: #00af00; text-decoration-color: #00af00\">16,512</span> │\n",
       "├──────────────────────────────────────┼─────────────────────────────┼─────────────────┤\n",
       "│ dropout_1 (<span style=\"color: #0087ff; text-decoration-color: #0087ff\">Dropout</span>)                  │ (<span style=\"color: #00d7ff; text-decoration-color: #00d7ff\">None</span>, <span style=\"color: #00af00; text-decoration-color: #00af00\">128</span>)                 │               <span style=\"color: #00af00; text-decoration-color: #00af00\">0</span> │\n",
       "├──────────────────────────────────────┼─────────────────────────────┼─────────────────┤\n",
       "│ dense_layer_3 (<span style=\"color: #0087ff; text-decoration-color: #0087ff\">Dense</span>)                │ (<span style=\"color: #00d7ff; text-decoration-color: #00d7ff\">None</span>, <span style=\"color: #00af00; text-decoration-color: #00af00\">10</span>)                  │           <span style=\"color: #00af00; text-decoration-color: #00af00\">1,290</span> │\n",
       "└──────────────────────────────────────┴─────────────────────────────┴─────────────────┘\n",
       "</pre>\n"
      ],
      "text/plain": [
       "┏━━━━━━━━━━━━━━━━━━━━━━━━━━━━━━━━━━━━━━┳━━━━━━━━━━━━━━━━━━━━━━━━━━━━━┳━━━━━━━━━━━━━━━━━┓\n",
       "┃\u001b[1m \u001b[0m\u001b[1mLayer (type)                        \u001b[0m\u001b[1m \u001b[0m┃\u001b[1m \u001b[0m\u001b[1mOutput Shape               \u001b[0m\u001b[1m \u001b[0m┃\u001b[1m \u001b[0m\u001b[1m        Param #\u001b[0m\u001b[1m \u001b[0m┃\n",
       "┡━━━━━━━━━━━━━━━━━━━━━━━━━━━━━━━━━━━━━━╇━━━━━━━━━━━━━━━━━━━━━━━━━━━━━╇━━━━━━━━━━━━━━━━━┩\n",
       "│ dense_layer (\u001b[38;5;33mDense\u001b[0m)                  │ (\u001b[38;5;45mNone\u001b[0m, \u001b[38;5;34m128\u001b[0m)                 │         \u001b[38;5;34m100,480\u001b[0m │\n",
       "├──────────────────────────────────────┼─────────────────────────────┼─────────────────┤\n",
       "│ dropout (\u001b[38;5;33mDropout\u001b[0m)                    │ (\u001b[38;5;45mNone\u001b[0m, \u001b[38;5;34m128\u001b[0m)                 │               \u001b[38;5;34m0\u001b[0m │\n",
       "├──────────────────────────────────────┼─────────────────────────────┼─────────────────┤\n",
       "│ dense_layer_2 (\u001b[38;5;33mDense\u001b[0m)                │ (\u001b[38;5;45mNone\u001b[0m, \u001b[38;5;34m128\u001b[0m)                 │          \u001b[38;5;34m16,512\u001b[0m │\n",
       "├──────────────────────────────────────┼─────────────────────────────┼─────────────────┤\n",
       "│ dropout_1 (\u001b[38;5;33mDropout\u001b[0m)                  │ (\u001b[38;5;45mNone\u001b[0m, \u001b[38;5;34m128\u001b[0m)                 │               \u001b[38;5;34m0\u001b[0m │\n",
       "├──────────────────────────────────────┼─────────────────────────────┼─────────────────┤\n",
       "│ dense_layer_3 (\u001b[38;5;33mDense\u001b[0m)                │ (\u001b[38;5;45mNone\u001b[0m, \u001b[38;5;34m10\u001b[0m)                  │           \u001b[38;5;34m1,290\u001b[0m │\n",
       "└──────────────────────────────────────┴─────────────────────────────┴─────────────────┘\n"
      ]
     },
     "metadata": {},
     "output_type": "display_data"
    },
    {
     "data": {
      "text/html": [
       "<pre style=\"white-space:pre;overflow-x:auto;line-height:normal;font-family:Menlo,'DejaVu Sans Mono',consolas,'Courier New',monospace\"><span style=\"font-weight: bold\"> Total params: </span><span style=\"color: #00af00; text-decoration-color: #00af00\">118,284</span> (462.05 KB)\n",
       "</pre>\n"
      ],
      "text/plain": [
       "\u001b[1m Total params: \u001b[0m\u001b[38;5;34m118,284\u001b[0m (462.05 KB)\n"
      ]
     },
     "metadata": {},
     "output_type": "display_data"
    },
    {
     "data": {
      "text/html": [
       "<pre style=\"white-space:pre;overflow-x:auto;line-height:normal;font-family:Menlo,'DejaVu Sans Mono',consolas,'Courier New',monospace\"><span style=\"font-weight: bold\"> Trainable params: </span><span style=\"color: #00af00; text-decoration-color: #00af00\">118,282</span> (462.04 KB)\n",
       "</pre>\n"
      ],
      "text/plain": [
       "\u001b[1m Trainable params: \u001b[0m\u001b[38;5;34m118,282\u001b[0m (462.04 KB)\n"
      ]
     },
     "metadata": {},
     "output_type": "display_data"
    },
    {
     "data": {
      "text/html": [
       "<pre style=\"white-space:pre;overflow-x:auto;line-height:normal;font-family:Menlo,'DejaVu Sans Mono',consolas,'Courier New',monospace\"><span style=\"font-weight: bold\"> Non-trainable params: </span><span style=\"color: #00af00; text-decoration-color: #00af00\">0</span> (0.00 B)\n",
       "</pre>\n"
      ],
      "text/plain": [
       "\u001b[1m Non-trainable params: \u001b[0m\u001b[38;5;34m0\u001b[0m (0.00 B)\n"
      ]
     },
     "metadata": {},
     "output_type": "display_data"
    },
    {
     "data": {
      "text/html": [
       "<pre style=\"white-space:pre;overflow-x:auto;line-height:normal;font-family:Menlo,'DejaVu Sans Mono',consolas,'Courier New',monospace\"><span style=\"font-weight: bold\"> Optimizer params: </span><span style=\"color: #00af00; text-decoration-color: #00af00\">2</span> (12.00 B)\n",
       "</pre>\n"
      ],
      "text/plain": [
       "\u001b[1m Optimizer params: \u001b[0m\u001b[38;5;34m2\u001b[0m (12.00 B)\n"
      ]
     },
     "metadata": {},
     "output_type": "display_data"
    }
   ],
   "source": [
    "model_2.summary()"
   ]
  },
  {
   "cell_type": "code",
   "execution_count": null,
   "metadata": {
    "colab": {
     "base_uri": "https://localhost:8080/"
    },
    "executionInfo": {
     "elapsed": 36,
     "status": "ok",
     "timestamp": 1742671501811,
     "user": {
      "displayName": "A_52_Priyank Maheshwari",
      "userId": "00590290924200288402"
     },
     "user_tz": -330
    },
    "id": "PInrrFJv-vi6",
    "outputId": "e8e1b03d-945b-4e76-d923-7e56248fba7a"
   },
   "outputs": [
    {
     "data": {
      "text/plain": [
       "[<Variable path=sequential_2/dense_layer/kernel, shape=(784, 128), dtype=float32, value=[[ 0.00561023  0.06980438 -0.05770398 ...  0.0458487   0.03938283\n",
       "   -0.01051193]\n",
       "  [-0.0432436   0.01551446  0.01565635 ... -0.07039127 -0.03775485\n",
       "    0.02685705]\n",
       "  [ 0.07849593  0.00658078  0.08120436 ... -0.04102171  0.05066822\n",
       "   -0.07658605]\n",
       "  ...\n",
       "  [ 0.03139528  0.01089263 -0.02275651 ... -0.01829788 -0.03300005\n",
       "    0.05566204]\n",
       "  [-0.04408327 -0.0563628   0.07025455 ...  0.0350644  -0.0614877\n",
       "   -0.01816177]\n",
       "  [-0.07512791  0.03035319  0.0627976  ... -0.07375714  0.06140793\n",
       "   -0.02243633]]>,\n",
       " <Variable path=sequential_2/dense_layer/bias, shape=(128,), dtype=float32, value=[ 4.85719293e-02 -2.04640314e-01  1.53302222e-01 -2.47505069e-01\n",
       "   4.91681360e-02 -7.13341758e-02  4.59327586e-02  4.77206409e-02\n",
       "  -1.12210084e-02 -5.66426367e-02  2.54099190e-01  5.45590669e-02\n",
       "  -4.24459577e-02 -1.16989706e-02  1.82523370e-01  7.82127827e-02\n",
       "  -2.04741843e-02  1.73172817e-01  1.32274270e-01  1.50414318e-01\n",
       "  -1.84729062e-02 -6.53732452e-04  8.90948996e-02  3.45259428e-01\n",
       "   3.64799313e-02 -6.01978600e-02 -2.33743191e-01 -9.23034400e-02\n",
       "  -6.55233860e-03  6.13475107e-02  2.63817996e-01  1.19154148e-01\n",
       "  -2.63724569e-02  1.05517343e-01  3.19497511e-02  1.81740418e-01\n",
       "  -1.20743349e-01  2.63454448e-02 -8.38426873e-02  1.86536554e-02\n",
       "  -8.05543140e-02  1.23938479e-01  2.27652311e-01  1.64306670e-01\n",
       "  -1.73312396e-01  2.40860619e-02 -8.66979733e-03  1.31579591e-02\n",
       "   1.37974352e-01  7.80214965e-02 -1.06872842e-02  7.60383904e-02\n",
       "   1.20242111e-01  2.22975761e-01  1.65875386e-02  1.76562175e-01\n",
       "  -7.35831633e-02  8.01701918e-02 -3.18032242e-02  1.95772443e-02\n",
       "   2.44639158e-01  6.83074147e-02  2.39691556e-01  5.40251508e-02\n",
       "   1.85872521e-02  2.07096204e-01  4.73916009e-02  2.05329657e-01\n",
       "   2.49106847e-02  3.27518173e-02  1.00894749e-01  7.12700114e-02\n",
       "   1.37360513e-01  2.43120283e-01  5.40938042e-02  3.81943136e-02\n",
       "   1.74463406e-01  1.43613815e-01 -1.57719217e-02 -5.72911575e-02\n",
       "   2.44884826e-02 -2.24097222e-02  1.84071869e-01  1.04227424e-01\n",
       "   1.24326326e-01  3.34146209e-02 -1.93374366e-01  3.90606225e-02\n",
       "   6.31349683e-02  1.20247342e-02 -2.63466407e-02 -9.13290009e-02\n",
       "   9.84631702e-02  3.82305402e-03  9.96147543e-02 -5.78616606e-03\n",
       "   1.78280294e-01  6.00443743e-02 -1.16901979e-01 -5.70729980e-03\n",
       "   9.19181630e-02  1.37377495e-03 -5.35465702e-02  1.50991127e-01\n",
       "   1.80438414e-01 -7.33177885e-02  9.15604234e-02  6.97088465e-02\n",
       "  -1.14374280e-01  1.43777668e-01  6.84458539e-02  1.15229562e-02\n",
       "   1.97087526e-01  1.48101673e-01  1.65027842e-01  9.18741152e-02\n",
       "  -1.24902604e-02 -3.64530310e-02 -6.27458654e-03  6.52836310e-03\n",
       "   1.88220009e-01  4.49438281e-02  5.77144846e-02  2.46112391e-01\n",
       "  -4.95729363e-03  1.05703548e-01 -4.57943194e-02 -6.46495464e-05]>,\n",
       " <Variable path=sequential_2/dense_layer_2/kernel, shape=(128, 128), dtype=float32, value=[[ 0.12558489 -0.00507104 -0.00062175 ...  0.1421658  -0.00687849\n",
       "    0.05321996]\n",
       "  [-0.08064915 -0.03184034  0.10505563 ...  0.0194785   0.07210486\n",
       "    0.048427  ]\n",
       "  [-0.02567858 -0.1128425   0.0007413  ...  0.03891328  0.02439496\n",
       "    0.17841524]\n",
       "  ...\n",
       "  [ 0.06242815 -0.00255774 -0.04048092 ...  0.05086702 -0.03434681\n",
       "   -0.07530984]\n",
       "  [-0.08914435  0.24316834  0.01756848 ... -0.08894035  0.04459375\n",
       "   -0.07598471]\n",
       "  [ 0.06635258  0.04793705  0.01499748 ...  0.09931818 -0.11791451\n",
       "    0.14974214]]>,\n",
       " <Variable path=sequential_2/dense_layer_2/bias, shape=(128,), dtype=float32, value=[ 0.10178141  0.01868142  0.14126515  0.14486241  0.1950285   0.02064774\n",
       "   0.10686494 -0.02552983  0.00509293  0.0640569   0.00313869  0.11636896\n",
       "   0.0833855   0.00835166  0.04076923  0.21980888  0.07038008  0.05993461\n",
       "   0.11808515  0.0602328   0.01297674  0.08814151  0.05740211  0.1814148\n",
       "   0.14552526  0.06134504  0.02096211 -0.01425725  0.21017683  0.10282461\n",
       "   0.13740097  0.01154271  0.1603157   0.1611952   0.11866401  0.01585591\n",
       "  -0.05420022  0.09973343  0.02640912 -0.00563873  0.15096806  0.07545022\n",
       "   0.09976785  0.07078499  0.0344451   0.07545216 -0.00067196  0.0447979\n",
       "   0.10105781  0.0455666   0.15309009  0.03325232  0.13140973  0.05452457\n",
       "   0.14489506  0.01460278  0.08107363 -0.0478282   0.087333    0.10212691\n",
       "   0.13116819 -0.00519143  0.06152498  0.08196994  0.17467421  0.00940308\n",
       "   0.06451749 -0.0025962   0.04311328  0.16191901  0.0235449  -0.02807371\n",
       "   0.11384576 -0.0163878  -0.00091604 -0.03993057 -0.05179323  0.10680788\n",
       "   0.00683819  0.00433591  0.0514544   0.0986932   0.00293306  0.07308755\n",
       "   0.06645514  0.07909602  0.0183223   0.03401775  0.03395528 -0.04084092\n",
       "   0.08312862  0.15581544  0.04807627  0.04472963  0.070663    0.00145286\n",
       "   0.07735463  0.07224064  0.1876245   0.05632242  0.00334625  0.19713394\n",
       "   0.16778232  0.12692004  0.11967709  0.164108    0.05984432 -0.01729847\n",
       "   0.08852731  0.00818137  0.07400318  0.0353954   0.20261586  0.05308003\n",
       "   0.00956777  0.20339696  0.0913767   0.20482743  0.19741781  0.05089515\n",
       "   0.0544227   0.11414425  0.03430066  0.11162607  0.07454039  0.06369118\n",
       "   0.13728918  0.07466237]>,\n",
       " <Variable path=sequential_2/dense_layer_3/kernel, shape=(128, 10), dtype=float32, value=[[ 0.0825929  -0.0092618  -0.12860055 ... -0.10851043  0.44785115\n",
       "   -0.2959426 ]\n",
       "  [-0.14433788  0.35459095  0.20543553 ... -0.21769825  0.08136895\n",
       "    0.04941016]\n",
       "  [-0.05765083  0.05836795  0.26845714 ... -0.29375446 -0.24028774\n",
       "   -0.13347937]\n",
       "  ...\n",
       "  [ 0.1776107  -0.01032838  0.09694821 ...  0.16769387 -0.01569998\n",
       "   -0.13072908]\n",
       "  [ 0.20624347 -0.31313187 -0.12545785 ...  0.04839513  0.31499538\n",
       "   -0.24177212]\n",
       "  [-0.07427    -0.16346772 -0.24285862 ... -0.21414523  0.15539187\n",
       "   -0.18887053]]>,\n",
       " <Variable path=sequential_2/dense_layer_3/bias, shape=(10,), dtype=float32, value=[-0.10495575 -0.20749156  0.14661455  0.34529167 -0.09492089  0.2800324\n",
       "   0.1758375   0.08197074 -0.16787302 -0.45450735]>]"
      ]
     },
     "execution_count": 34,
     "metadata": {},
     "output_type": "execute_result"
    }
   ],
   "source": [
    "model_2.weights"
   ]
  },
  {
   "cell_type": "code",
   "execution_count": null,
   "metadata": {
    "colab": {
     "base_uri": "https://localhost:8080/"
    },
    "executionInfo": {
     "elapsed": 12,
     "status": "ok",
     "timestamp": 1742671501827,
     "user": {
      "displayName": "A_52_Priyank Maheshwari",
      "userId": "00590290924200288402"
     },
     "user_tz": -330
    },
    "id": "778XzTej-7RS",
    "outputId": "e50872a8-3120-4142-c6ae-4bc7021d91e5"
   },
   "outputs": [
    {
     "data": {
      "text/plain": [
       "{'name': 'sequential_2',\n",
       " 'trainable': True,\n",
       " 'dtype': {'module': 'keras',\n",
       "  'class_name': 'DTypePolicy',\n",
       "  'config': {'name': 'float32'},\n",
       "  'registered_name': None},\n",
       " 'layers': [{'module': 'keras.layers',\n",
       "   'class_name': 'InputLayer',\n",
       "   'config': {'batch_shape': (None, 784),\n",
       "    'dtype': 'float32',\n",
       "    'sparse': False,\n",
       "    'name': 'input_layer_2'},\n",
       "   'registered_name': None},\n",
       "  {'module': 'keras.layers',\n",
       "   'class_name': 'Dense',\n",
       "   'config': {'name': 'dense_layer',\n",
       "    'trainable': True,\n",
       "    'dtype': {'module': 'keras',\n",
       "     'class_name': 'DTypePolicy',\n",
       "     'config': {'name': 'float32'},\n",
       "     'registered_name': None},\n",
       "    'units': 128,\n",
       "    'activation': 'relu',\n",
       "    'use_bias': True,\n",
       "    'kernel_initializer': {'module': 'keras.initializers',\n",
       "     'class_name': 'GlorotUniform',\n",
       "     'config': {'seed': None},\n",
       "     'registered_name': None},\n",
       "    'bias_initializer': {'module': 'keras.initializers',\n",
       "     'class_name': 'Zeros',\n",
       "     'config': {},\n",
       "     'registered_name': None},\n",
       "    'kernel_regularizer': None,\n",
       "    'bias_regularizer': None,\n",
       "    'kernel_constraint': None,\n",
       "    'bias_constraint': None},\n",
       "   'registered_name': None,\n",
       "   'build_config': {'input_shape': (None, 784)}},\n",
       "  {'module': 'keras.layers',\n",
       "   'class_name': 'Dropout',\n",
       "   'config': {'name': 'dropout',\n",
       "    'trainable': True,\n",
       "    'dtype': {'module': 'keras',\n",
       "     'class_name': 'DTypePolicy',\n",
       "     'config': {'name': 'float32'},\n",
       "     'registered_name': None},\n",
       "    'rate': 0.3,\n",
       "    'seed': None,\n",
       "    'noise_shape': None},\n",
       "   'registered_name': None},\n",
       "  {'module': 'keras.layers',\n",
       "   'class_name': 'Dense',\n",
       "   'config': {'name': 'dense_layer_2',\n",
       "    'trainable': True,\n",
       "    'dtype': {'module': 'keras',\n",
       "     'class_name': 'DTypePolicy',\n",
       "     'config': {'name': 'float32'},\n",
       "     'registered_name': None},\n",
       "    'units': 128,\n",
       "    'activation': 'relu',\n",
       "    'use_bias': True,\n",
       "    'kernel_initializer': {'module': 'keras.initializers',\n",
       "     'class_name': 'GlorotUniform',\n",
       "     'config': {'seed': None},\n",
       "     'registered_name': None},\n",
       "    'bias_initializer': {'module': 'keras.initializers',\n",
       "     'class_name': 'Zeros',\n",
       "     'config': {},\n",
       "     'registered_name': None},\n",
       "    'kernel_regularizer': None,\n",
       "    'bias_regularizer': None,\n",
       "    'kernel_constraint': None,\n",
       "    'bias_constraint': None},\n",
       "   'registered_name': None,\n",
       "   'build_config': {'input_shape': (None, 128)}},\n",
       "  {'module': 'keras.layers',\n",
       "   'class_name': 'Dropout',\n",
       "   'config': {'name': 'dropout_1',\n",
       "    'trainable': True,\n",
       "    'dtype': {'module': 'keras',\n",
       "     'class_name': 'DTypePolicy',\n",
       "     'config': {'name': 'float32'},\n",
       "     'registered_name': None},\n",
       "    'rate': 0.3,\n",
       "    'seed': None,\n",
       "    'noise_shape': None},\n",
       "   'registered_name': None},\n",
       "  {'module': 'keras.layers',\n",
       "   'class_name': 'Dense',\n",
       "   'config': {'name': 'dense_layer_3',\n",
       "    'trainable': True,\n",
       "    'dtype': {'module': 'keras',\n",
       "     'class_name': 'DTypePolicy',\n",
       "     'config': {'name': 'float32'},\n",
       "     'registered_name': None},\n",
       "    'units': 10,\n",
       "    'activation': 'softmax',\n",
       "    'use_bias': True,\n",
       "    'kernel_initializer': {'module': 'keras.initializers',\n",
       "     'class_name': 'GlorotUniform',\n",
       "     'config': {'seed': None},\n",
       "     'registered_name': None},\n",
       "    'bias_initializer': {'module': 'keras.initializers',\n",
       "     'class_name': 'Zeros',\n",
       "     'config': {},\n",
       "     'registered_name': None},\n",
       "    'kernel_regularizer': None,\n",
       "    'bias_regularizer': None,\n",
       "    'kernel_constraint': None,\n",
       "    'bias_constraint': None},\n",
       "   'registered_name': None,\n",
       "   'build_config': {'input_shape': (None, 128)}}],\n",
       " 'build_input_shape': (None, 784)}"
      ]
     },
     "execution_count": 35,
     "metadata": {},
     "output_type": "execute_result"
    }
   ],
   "source": [
    "model_2.get_config()"
   ]
  },
  {
   "cell_type": "markdown",
   "metadata": {
    "id": "VlLtW_hBCX3i"
   },
   "source": [
    "#### Improved Model 3: Changing the Optimizer - Adam"
   ]
  },
  {
   "cell_type": "code",
   "execution_count": null,
   "metadata": {
    "executionInfo": {
     "elapsed": 35,
     "status": "ok",
     "timestamp": 1742671501863,
     "user": {
      "displayName": "A_52_Priyank Maheshwari",
      "userId": "00590290924200288402"
     },
     "user_tz": -330
    },
    "id": "gteL8YN9-_7y"
   },
   "outputs": [],
   "source": [
    "#Most common type of model is a stack of layers\n",
    "model_3 = tf.keras.Sequential()\n",
    "N_hidden = 64\n",
    "\n",
    "# Adding a densely-connected layer with 64 units to the model:\n",
    "model_3.add(Dense(N_hidden, name='dense_layer', input_shape=(784,), activation = 'relu'))\n",
    "\n",
    "# Now the model will take as input arrays of shape (*, 784)# and output arrays of shape (*, 64)\n",
    "model_3.add(Dropout(0.3))\n",
    "\n",
    "# Adding another dense layer:\n",
    "model_3.add(Dense(N_hidden, name='dense_layer_2', activation='relu'))\n",
    "model_3.add(Dropout(0.3))\n",
    "\n",
    "model_3.add(Dense(10, name='dense_layer_3', activation = 'softmax'))"
   ]
  },
  {
   "cell_type": "code",
   "execution_count": null,
   "metadata": {
    "executionInfo": {
     "elapsed": 7,
     "status": "ok",
     "timestamp": 1742671501866,
     "user": {
      "displayName": "A_52_Priyank Maheshwari",
      "userId": "00590290924200288402"
     },
     "user_tz": -330
    },
    "id": "EHryQ_oxDtTC"
   },
   "outputs": [],
   "source": [
    "# Compiling the model.\n",
    "model_3.compile(optimizer='Adam', loss='categorical_crossentropy', metrics=['accuracy'])"
   ]
  },
  {
   "cell_type": "code",
   "execution_count": null,
   "metadata": {
    "colab": {
     "base_uri": "https://localhost:8080/"
    },
    "executionInfo": {
     "elapsed": 31921,
     "status": "ok",
     "timestamp": 1742671533788,
     "user": {
      "displayName": "A_52_Priyank Maheshwari",
      "userId": "00590290924200288402"
     },
     "user_tz": -330
    },
    "id": "HjT0Uss0Dxra",
    "outputId": "0ac8957f-964f-458d-f782-179177b9588e"
   },
   "outputs": [
    {
     "name": "stdout",
     "output_type": "stream",
     "text": [
      "Epoch 1/20\n",
      "\u001b[1m375/375\u001b[0m \u001b[32m━━━━━━━━━━━━━━━━━━━━\u001b[0m\u001b[37m\u001b[0m \u001b[1m5s\u001b[0m 7ms/step - accuracy: 0.5478 - loss: 1.2910 - val_accuracy: 0.8213 - val_loss: 0.4978\n",
      "Epoch 2/20\n",
      "\u001b[1m375/375\u001b[0m \u001b[32m━━━━━━━━━━━━━━━━━━━━\u001b[0m\u001b[37m\u001b[0m \u001b[1m2s\u001b[0m 3ms/step - accuracy: 0.7906 - loss: 0.6006 - val_accuracy: 0.8424 - val_loss: 0.4383\n",
      "Epoch 3/20\n",
      "\u001b[1m375/375\u001b[0m \u001b[32m━━━━━━━━━━━━━━━━━━━━\u001b[0m\u001b[37m\u001b[0m \u001b[1m1s\u001b[0m 3ms/step - accuracy: 0.8173 - loss: 0.5222 - val_accuracy: 0.8463 - val_loss: 0.4163\n",
      "Epoch 4/20\n",
      "\u001b[1m375/375\u001b[0m \u001b[32m━━━━━━━━━━━━━━━━━━━━\u001b[0m\u001b[37m\u001b[0m \u001b[1m2s\u001b[0m 4ms/step - accuracy: 0.8276 - loss: 0.4844 - val_accuracy: 0.8579 - val_loss: 0.3964\n",
      "Epoch 5/20\n",
      "\u001b[1m375/375\u001b[0m \u001b[32m━━━━━━━━━━━━━━━━━━━━\u001b[0m\u001b[37m\u001b[0m \u001b[1m2s\u001b[0m 3ms/step - accuracy: 0.8374 - loss: 0.4602 - val_accuracy: 0.8565 - val_loss: 0.3857\n",
      "Epoch 6/20\n",
      "\u001b[1m375/375\u001b[0m \u001b[32m━━━━━━━━━━━━━━━━━━━━\u001b[0m\u001b[37m\u001b[0m \u001b[1m1s\u001b[0m 3ms/step - accuracy: 0.8443 - loss: 0.4450 - val_accuracy: 0.8645 - val_loss: 0.3821\n",
      "Epoch 7/20\n",
      "\u001b[1m375/375\u001b[0m \u001b[32m━━━━━━━━━━━━━━━━━━━━\u001b[0m\u001b[37m\u001b[0m \u001b[1m1s\u001b[0m 3ms/step - accuracy: 0.8502 - loss: 0.4239 - val_accuracy: 0.8651 - val_loss: 0.3696\n",
      "Epoch 8/20\n",
      "\u001b[1m375/375\u001b[0m \u001b[32m━━━━━━━━━━━━━━━━━━━━\u001b[0m\u001b[37m\u001b[0m \u001b[1m1s\u001b[0m 3ms/step - accuracy: 0.8482 - loss: 0.4190 - val_accuracy: 0.8630 - val_loss: 0.3712\n",
      "Epoch 9/20\n",
      "\u001b[1m375/375\u001b[0m \u001b[32m━━━━━━━━━━━━━━━━━━━━\u001b[0m\u001b[37m\u001b[0m \u001b[1m1s\u001b[0m 3ms/step - accuracy: 0.8493 - loss: 0.4154 - val_accuracy: 0.8708 - val_loss: 0.3646\n",
      "Epoch 10/20\n",
      "\u001b[1m375/375\u001b[0m \u001b[32m━━━━━━━━━━━━━━━━━━━━\u001b[0m\u001b[37m\u001b[0m \u001b[1m1s\u001b[0m 3ms/step - accuracy: 0.8570 - loss: 0.4002 - val_accuracy: 0.8710 - val_loss: 0.3586\n",
      "Epoch 11/20\n",
      "\u001b[1m375/375\u001b[0m \u001b[32m━━━━━━━━━━━━━━━━━━━━\u001b[0m\u001b[37m\u001b[0m \u001b[1m1s\u001b[0m 3ms/step - accuracy: 0.8618 - loss: 0.3870 - val_accuracy: 0.8707 - val_loss: 0.3667\n",
      "Epoch 12/20\n",
      "\u001b[1m375/375\u001b[0m \u001b[32m━━━━━━━━━━━━━━━━━━━━\u001b[0m\u001b[37m\u001b[0m \u001b[1m1s\u001b[0m 3ms/step - accuracy: 0.8585 - loss: 0.3992 - val_accuracy: 0.8719 - val_loss: 0.3542\n",
      "Epoch 13/20\n",
      "\u001b[1m375/375\u001b[0m \u001b[32m━━━━━━━━━━━━━━━━━━━━\u001b[0m\u001b[37m\u001b[0m \u001b[1m2s\u001b[0m 5ms/step - accuracy: 0.8592 - loss: 0.3909 - val_accuracy: 0.8742 - val_loss: 0.3574\n",
      "Epoch 14/20\n",
      "\u001b[1m375/375\u001b[0m \u001b[32m━━━━━━━━━━━━━━━━━━━━\u001b[0m\u001b[37m\u001b[0m \u001b[1m1s\u001b[0m 3ms/step - accuracy: 0.8648 - loss: 0.3745 - val_accuracy: 0.8703 - val_loss: 0.3587\n",
      "Epoch 15/20\n",
      "\u001b[1m375/375\u001b[0m \u001b[32m━━━━━━━━━━━━━━━━━━━━\u001b[0m\u001b[37m\u001b[0m \u001b[1m1s\u001b[0m 3ms/step - accuracy: 0.8615 - loss: 0.3794 - val_accuracy: 0.8748 - val_loss: 0.3513\n",
      "Epoch 16/20\n",
      "\u001b[1m375/375\u001b[0m \u001b[32m━━━━━━━━━━━━━━━━━━━━\u001b[0m\u001b[37m\u001b[0m \u001b[1m1s\u001b[0m 3ms/step - accuracy: 0.8696 - loss: 0.3649 - val_accuracy: 0.8725 - val_loss: 0.3549\n",
      "Epoch 17/20\n",
      "\u001b[1m375/375\u001b[0m \u001b[32m━━━━━━━━━━━━━━━━━━━━\u001b[0m\u001b[37m\u001b[0m \u001b[1m1s\u001b[0m 3ms/step - accuracy: 0.8683 - loss: 0.3631 - val_accuracy: 0.8780 - val_loss: 0.3467\n",
      "Epoch 18/20\n",
      "\u001b[1m375/375\u001b[0m \u001b[32m━━━━━━━━━━━━━━━━━━━━\u001b[0m\u001b[37m\u001b[0m \u001b[1m1s\u001b[0m 3ms/step - accuracy: 0.8686 - loss: 0.3577 - val_accuracy: 0.8742 - val_loss: 0.3515\n",
      "Epoch 19/20\n",
      "\u001b[1m375/375\u001b[0m \u001b[32m━━━━━━━━━━━━━━━━━━━━\u001b[0m\u001b[37m\u001b[0m \u001b[1m1s\u001b[0m 3ms/step - accuracy: 0.8693 - loss: 0.3574 - val_accuracy: 0.8785 - val_loss: 0.3469\n",
      "Epoch 20/20\n",
      "\u001b[1m375/375\u001b[0m \u001b[32m━━━━━━━━━━━━━━━━━━━━\u001b[0m\u001b[37m\u001b[0m \u001b[1m1s\u001b[0m 3ms/step - accuracy: 0.8713 - loss: 0.3554 - val_accuracy: 0.8771 - val_loss: 0.3405\n"
     ]
    }
   ],
   "source": [
    "# Training the model.\n",
    "training = model_3.fit(X_train, Y_train, batch_size=128, epochs=20, validation_split=0.2)\n"
   ]
  },
  {
   "cell_type": "code",
   "execution_count": null,
   "metadata": {
    "colab": {
     "base_uri": "https://localhost:8080/"
    },
    "executionInfo": {
     "elapsed": 28,
     "status": "ok",
     "timestamp": 1742671533818,
     "user": {
      "displayName": "A_52_Priyank Maheshwari",
      "userId": "00590290924200288402"
     },
     "user_tz": -330
    },
    "id": "Rnr6_jzRDzxx",
    "outputId": "c87c87bb-ab5d-4c39-bee5-f6dd7d393516"
   },
   "outputs": [
    {
     "name": "stdout",
     "output_type": "stream",
     "text": [
      "dict_keys(['accuracy', 'loss', 'val_accuracy', 'val_loss'])\n"
     ]
    }
   ],
   "source": [
    "import matplotlib.pyplot as plt\n",
    "%matplotlib inline\n",
    "# list all data in training\n",
    "print(training.history.keys())"
   ]
  },
  {
   "cell_type": "code",
   "execution_count": null,
   "metadata": {
    "colab": {
     "base_uri": "https://localhost:8080/",
     "height": 472
    },
    "executionInfo": {
     "elapsed": 152,
     "status": "ok",
     "timestamp": 1742671533972,
     "user": {
      "displayName": "A_52_Priyank Maheshwari",
      "userId": "00590290924200288402"
     },
     "user_tz": -330
    },
    "id": "36YLf2MKD4QZ",
    "outputId": "2048e39f-0086-48cb-d3d4-d65082a0b1ed"
   },
   "outputs": [
    {
     "data": {
      "image/png": "[encoded data removed]",
      "text/plain": [
       "<Figure size 640x480 with 1 Axes>"
      ]
     },
     "metadata": {},
     "output_type": "display_data"
    }
   ],
   "source": [
    "# Summarizing training for accuracy\n",
    "plt.plot(training.history['accuracy'])\n",
    "plt.plot(training.history['val_accuracy'])\n",
    "plt.title('model accuracy')\n",
    "plt.ylabel('accuracy')\n",
    "plt.xlabel('epoch')\n",
    "plt.legend(['train', 'test'], loc='upper left')\n",
    "plt.show()"
   ]
  },
  {
   "cell_type": "code",
   "execution_count": null,
   "metadata": {
    "colab": {
     "base_uri": "https://localhost:8080/",
     "height": 472
    },
    "executionInfo": {
     "elapsed": 120,
     "status": "ok",
     "timestamp": 1742671534094,
     "user": {
      "displayName": "A_52_Priyank Maheshwari",
      "userId": "00590290924200288402"
     },
     "user_tz": -330
    },
    "id": "abq9nEKGD9hq",
    "outputId": "2d4aeb4b-9c68-41da-f701-c25257c8758e"
   },
   "outputs": [
    {
     "data": {
      "image/png": "[encoded data removed]",
      "text/plain": [
       "<Figure size 640x480 with 1 Axes>"
      ]
     },
     "metadata": {},
     "output_type": "display_data"
    }
   ],
   "source": [
    "# Summarizing traning for loss\n",
    "plt.plot(training.history['loss'])\n",
    "plt.plot(training.history['val_loss'])\n",
    "plt.title('model loss')\n",
    "plt.ylabel('loss')\n",
    "plt.xlabel('epoch')\n",
    "plt.legend(['train', 'test'], loc='upper left')\n",
    "plt.show()"
   ]
  },
  {
   "cell_type": "code",
   "execution_count": null,
   "metadata": {
    "colab": {
     "base_uri": "https://localhost:8080/"
    },
    "executionInfo": {
     "elapsed": 1214,
     "status": "ok",
     "timestamp": 1742671535305,
     "user": {
      "displayName": "A_52_Priyank Maheshwari",
      "userId": "00590290924200288402"
     },
     "user_tz": -330
    },
    "id": "qxy65z3DEBzT",
    "outputId": "92b69733-63a4-45df-9f75-d1d27b9d56a1"
   },
   "outputs": [
    {
     "name": "stdout",
     "output_type": "stream",
     "text": [
      "\u001b[1m313/313\u001b[0m \u001b[32m━━━━━━━━━━━━━━━━━━━━\u001b[0m\u001b[37m\u001b[0m \u001b[1m1s\u001b[0m 3ms/step - accuracy: 0.8730 - loss: 0.3535\n",
      "Test accuracy: 0.8707000017166138\n"
     ]
    }
   ],
   "source": [
    "#Evaluating the model\n",
    "test_loss, test_acc = model_3.evaluate(X_test, Y_test)\n",
    "print('Test accuracy:', test_acc)"
   ]
  },
  {
   "cell_type": "code",
   "execution_count": null,
   "metadata": {
    "colab": {
     "base_uri": "https://localhost:8080/",
     "height": 323
    },
    "executionInfo": {
     "elapsed": 79,
     "status": "ok",
     "timestamp": 1742671535385,
     "user": {
      "displayName": "A_52_Priyank Maheshwari",
      "userId": "00590290924200288402"
     },
     "user_tz": -330
    },
    "id": "1n95T20WEFer",
    "outputId": "bdb25e47-a022-47c3-cd3e-ac99c731c3a7"
   },
   "outputs": [
    {
     "data": {
      "text/html": [
       "<pre style=\"white-space:pre;overflow-x:auto;line-height:normal;font-family:Menlo,'DejaVu Sans Mono',consolas,'Courier New',monospace\"><span style=\"font-weight: bold\">Model: \"sequential_3\"</span>\n",
       "</pre>\n"
      ],
      "text/plain": [
       "\u001b[1mModel: \"sequential_3\"\u001b[0m\n"
      ]
     },
     "metadata": {},
     "output_type": "display_data"
    },
    {
     "data": {
      "text/html": [
       "<pre style=\"white-space:pre;overflow-x:auto;line-height:normal;font-family:Menlo,'DejaVu Sans Mono',consolas,'Courier New',monospace\">┏━━━━━━━━━━━━━━━━━━━━━━━━━━━━━━━━━━━━━━┳━━━━━━━━━━━━━━━━━━━━━━━━━━━━━┳━━━━━━━━━━━━━━━━━┓\n",
       "┃<span style=\"font-weight: bold\"> Layer (type)                         </span>┃<span style=\"font-weight: bold\"> Output Shape                </span>┃<span style=\"font-weight: bold\">         Param # </span>┃\n",
       "┡━━━━━━━━━━━━━━━━━━━━━━━━━━━━━━━━━━━━━━╇━━━━━━━━━━━━━━━━━━━━━━━━━━━━━╇━━━━━━━━━━━━━━━━━┩\n",
       "│ dense_layer (<span style=\"color: #0087ff; text-decoration-color: #0087ff\">Dense</span>)                  │ (<span style=\"color: #00d7ff; text-decoration-color: #00d7ff\">None</span>, <span style=\"color: #00af00; text-decoration-color: #00af00\">64</span>)                  │          <span style=\"color: #00af00; text-decoration-color: #00af00\">50,240</span> │\n",
       "├──────────────────────────────────────┼─────────────────────────────┼─────────────────┤\n",
       "│ dropout_2 (<span style=\"color: #0087ff; text-decoration-color: #0087ff\">Dropout</span>)                  │ (<span style=\"color: #00d7ff; text-decoration-color: #00d7ff\">None</span>, <span style=\"color: #00af00; text-decoration-color: #00af00\">64</span>)                  │               <span style=\"color: #00af00; text-decoration-color: #00af00\">0</span> │\n",
       "├──────────────────────────────────────┼─────────────────────────────┼─────────────────┤\n",
       "│ dense_layer_2 (<span style=\"color: #0087ff; text-decoration-color: #0087ff\">Dense</span>)                │ (<span style=\"color: #00d7ff; text-decoration-color: #00d7ff\">None</span>, <span style=\"color: #00af00; text-decoration-color: #00af00\">64</span>)                  │           <span style=\"color: #00af00; text-decoration-color: #00af00\">4,160</span> │\n",
       "├──────────────────────────────────────┼─────────────────────────────┼─────────────────┤\n",
       "│ dropout_3 (<span style=\"color: #0087ff; text-decoration-color: #0087ff\">Dropout</span>)                  │ (<span style=\"color: #00d7ff; text-decoration-color: #00d7ff\">None</span>, <span style=\"color: #00af00; text-decoration-color: #00af00\">64</span>)                  │               <span style=\"color: #00af00; text-decoration-color: #00af00\">0</span> │\n",
       "├──────────────────────────────────────┼─────────────────────────────┼─────────────────┤\n",
       "│ dense_layer_3 (<span style=\"color: #0087ff; text-decoration-color: #0087ff\">Dense</span>)                │ (<span style=\"color: #00d7ff; text-decoration-color: #00d7ff\">None</span>, <span style=\"color: #00af00; text-decoration-color: #00af00\">10</span>)                  │             <span style=\"color: #00af00; text-decoration-color: #00af00\">650</span> │\n",
       "└──────────────────────────────────────┴─────────────────────────────┴─────────────────┘\n",
       "</pre>\n"
      ],
      "text/plain": [
       "┏━━━━━━━━━━━━━━━━━━━━━━━━━━━━━━━━━━━━━━┳━━━━━━━━━━━━━━━━━━━━━━━━━━━━━┳━━━━━━━━━━━━━━━━━┓\n",
       "┃\u001b[1m \u001b[0m\u001b[1mLayer (type)                        \u001b[0m\u001b[1m \u001b[0m┃\u001b[1m \u001b[0m\u001b[1mOutput Shape               \u001b[0m\u001b[1m \u001b[0m┃\u001b[1m \u001b[0m\u001b[1m        Param #\u001b[0m\u001b[1m \u001b[0m┃\n",
       "┡━━━━━━━━━━━━━━━━━━━━━━━━━━━━━━━━━━━━━━╇━━━━━━━━━━━━━━━━━━━━━━━━━━━━━╇━━━━━━━━━━━━━━━━━┩\n",
       "│ dense_layer (\u001b[38;5;33mDense\u001b[0m)                  │ (\u001b[38;5;45mNone\u001b[0m, \u001b[38;5;34m64\u001b[0m)                  │          \u001b[38;5;34m50,240\u001b[0m │\n",
       "├──────────────────────────────────────┼─────────────────────────────┼─────────────────┤\n",
       "│ dropout_2 (\u001b[38;5;33mDropout\u001b[0m)                  │ (\u001b[38;5;45mNone\u001b[0m, \u001b[38;5;34m64\u001b[0m)                  │               \u001b[38;5;34m0\u001b[0m │\n",
       "├──────────────────────────────────────┼─────────────────────────────┼─────────────────┤\n",
       "│ dense_layer_2 (\u001b[38;5;33mDense\u001b[0m)                │ (\u001b[38;5;45mNone\u001b[0m, \u001b[38;5;34m64\u001b[0m)                  │           \u001b[38;5;34m4,160\u001b[0m │\n",
       "├──────────────────────────────────────┼─────────────────────────────┼─────────────────┤\n",
       "│ dropout_3 (\u001b[38;5;33mDropout\u001b[0m)                  │ (\u001b[38;5;45mNone\u001b[0m, \u001b[38;5;34m64\u001b[0m)                  │               \u001b[38;5;34m0\u001b[0m │\n",
       "├──────────────────────────────────────┼─────────────────────────────┼─────────────────┤\n",
       "│ dense_layer_3 (\u001b[38;5;33mDense\u001b[0m)                │ (\u001b[38;5;45mNone\u001b[0m, \u001b[38;5;34m10\u001b[0m)                  │             \u001b[38;5;34m650\u001b[0m │\n",
       "└──────────────────────────────────────┴─────────────────────────────┴─────────────────┘\n"
      ]
     },
     "metadata": {},
     "output_type": "display_data"
    },
    {
     "data": {
      "text/html": [
       "<pre style=\"white-space:pre;overflow-x:auto;line-height:normal;font-family:Menlo,'DejaVu Sans Mono',consolas,'Courier New',monospace\"><span style=\"font-weight: bold\"> Total params: </span><span style=\"color: #00af00; text-decoration-color: #00af00\">165,152</span> (645.13 KB)\n",
       "</pre>\n"
      ],
      "text/plain": [
       "\u001b[1m Total params: \u001b[0m\u001b[38;5;34m165,152\u001b[0m (645.13 KB)\n"
      ]
     },
     "metadata": {},
     "output_type": "display_data"
    },
    {
     "data": {
      "text/html": [
       "<pre style=\"white-space:pre;overflow-x:auto;line-height:normal;font-family:Menlo,'DejaVu Sans Mono',consolas,'Courier New',monospace\"><span style=\"font-weight: bold\"> Trainable params: </span><span style=\"color: #00af00; text-decoration-color: #00af00\">55,050</span> (215.04 KB)\n",
       "</pre>\n"
      ],
      "text/plain": [
       "\u001b[1m Trainable params: \u001b[0m\u001b[38;5;34m55,050\u001b[0m (215.04 KB)\n"
      ]
     },
     "metadata": {},
     "output_type": "display_data"
    },
    {
     "data": {
      "text/html": [
       "<pre style=\"white-space:pre;overflow-x:auto;line-height:normal;font-family:Menlo,'DejaVu Sans Mono',consolas,'Courier New',monospace\"><span style=\"font-weight: bold\"> Non-trainable params: </span><span style=\"color: #00af00; text-decoration-color: #00af00\">0</span> (0.00 B)\n",
       "</pre>\n"
      ],
      "text/plain": [
       "\u001b[1m Non-trainable params: \u001b[0m\u001b[38;5;34m0\u001b[0m (0.00 B)\n"
      ]
     },
     "metadata": {},
     "output_type": "display_data"
    },
    {
     "data": {
      "text/html": [
       "<pre style=\"white-space:pre;overflow-x:auto;line-height:normal;font-family:Menlo,'DejaVu Sans Mono',consolas,'Courier New',monospace\"><span style=\"font-weight: bold\"> Optimizer params: </span><span style=\"color: #00af00; text-decoration-color: #00af00\">110,102</span> (430.09 KB)\n",
       "</pre>\n"
      ],
      "text/plain": [
       "\u001b[1m Optimizer params: \u001b[0m\u001b[38;5;34m110,102\u001b[0m (430.09 KB)\n"
      ]
     },
     "metadata": {},
     "output_type": "display_data"
    }
   ],
   "source": [
    "model_3.summary()"
   ]
  },
  {
   "cell_type": "code",
   "execution_count": null,
   "metadata": {
    "colab": {
     "base_uri": "https://localhost:8080/"
    },
    "executionInfo": {
     "elapsed": 10,
     "status": "ok",
     "timestamp": 1742671535397,
     "user": {
      "displayName": "A_52_Priyank Maheshwari",
      "userId": "00590290924200288402"
     },
     "user_tz": -330
    },
    "id": "Dmki00iqEHdz",
    "outputId": "e7657afd-167d-48e8-db9c-7e1981c88994"
   },
   "outputs": [
    {
     "data": {
      "text/plain": [
       "[<Variable path=sequential_3/dense_layer/kernel, shape=(784, 64), dtype=float32, value=[[-0.07656157  0.06939093  0.13494907 ... -0.02764368  0.04661382\n",
       "   -0.08113867]\n",
       "  [-0.00146969 -0.01317793 -0.00575316 ... -0.01555309 -0.06147546\n",
       "    0.08409408]\n",
       "  [ 0.08401998 -0.13898    -0.19690844 ...  0.1081938  -0.02957553\n",
       "   -0.00383589]\n",
       "  ...\n",
       "  [ 0.02219089  0.04094774  0.244674   ... -0.12557429 -0.00669693\n",
       "   -0.12676343]\n",
       "  [-0.01754885 -0.09947702  0.2416129  ... -0.12833817 -0.07501289\n",
       "    0.02357688]\n",
       "  [ 0.01561709  0.00784486  0.2845134  ... -0.08087162  0.02045269\n",
       "    0.06691537]]>,\n",
       " <Variable path=sequential_3/dense_layer/bias, shape=(64,), dtype=float32, value=[-0.01389187  0.09524565 -0.14046925 -0.00753488 -0.02923339  0.2816015\n",
       "   0.1324124  -0.24620357 -0.07830571 -0.02504124 -0.6793384  -0.00529739\n",
       "   0.0775549   0.05500786  0.12805225 -0.024381   -0.04759477  0.22418419\n",
       "   0.590265    0.05216246  0.21685007 -0.04304745  0.37485558 -0.04509269\n",
       "  -0.04620941  0.4015599  -0.25306562  0.10615054  0.25787127  0.13745381\n",
       "   0.15566126  0.04780985 -0.00621094 -0.18505768  0.25927004  0.28606054\n",
       "   0.3761363  -0.32699868  0.55429435 -0.15930837  0.4068588   0.06142126\n",
       "   0.12679246 -0.11608868 -0.01369216  0.29842398 -0.03018212  0.35009372\n",
       "  -0.01475499  0.08171339  0.20778683  0.36421368  0.50806457  0.19821277\n",
       "  -0.22658554 -0.2704769  -0.22092937  0.13643551  0.02120854 -0.03076768\n",
       "  -0.01440764 -0.09369145  0.0931087  -0.033937  ]>,\n",
       " <Variable path=sequential_3/dense_layer_2/kernel, shape=(64, 64), dtype=float32, value=[[-0.1348891   0.14824878  0.09597353 ...  0.12549688  0.15615836\n",
       "   -0.14873943]\n",
       "  [-0.03947168 -0.05147808 -0.09195046 ...  0.01599739  0.28134897\n",
       "   -0.05286195]\n",
       "  [-0.18959826  0.0808529   0.04562481 ... -0.13461064  0.00941781\n",
       "    0.01016514]\n",
       "  ...\n",
       "  [-0.15845597 -0.01246426 -0.26311135 ...  0.15968479  0.3008758\n",
       "   -0.14024794]\n",
       "  [-0.08322891 -0.34068757  0.34016964 ... -0.41278294  0.31045508\n",
       "   -0.22089066]\n",
       "  [ 0.02932809  0.07644555 -0.10636095 ... -0.07844105  0.05082004\n",
       "   -0.06246641]]>,\n",
       " <Variable path=sequential_3/dense_layer_2/bias, shape=(64,), dtype=float32, value=[-0.08636634  0.3859297   0.18554792  0.04828562  0.3341582  -0.07101229\n",
       "   0.29008308  0.14310715  0.2094089   0.05536149  0.20017546  0.10728633\n",
       "   0.07938036  0.41166446  0.31453618  0.19646193  0.2562154   0.22880518\n",
       "   0.19456153  0.44079536  0.04871125  0.19991024  0.26747787 -0.04445782\n",
       "   0.1841212   0.42394897  0.3372942   0.11707815  0.08331543  0.16863321\n",
       "   0.03811857  0.29464746 -0.00349865  0.29555792  0.19220379  0.18950889\n",
       "   0.17927474  0.01401297  0.25488272  0.44991288  0.21090312  0.4184771\n",
       "   0.06768844  0.22859617  0.16438621  0.05906957 -0.01798899 -0.02575552\n",
       "   0.10452475  0.01187367  0.20976564  0.457989    0.07840157  0.23035508\n",
       "   0.20588507  0.28016818  0.13762245  0.05220418  0.09512939  0.22576623\n",
       "   0.40593803  0.16777813  0.3736316   0.23446175]>,\n",
       " <Variable path=sequential_3/dense_layer_3/kernel, shape=(64, 10), dtype=float32, value=[[ 3.35698086e-03 -4.40795392e-01 -3.66647542e-01 -4.60880637e-01\n",
       "   -5.88567376e-01  1.59500048e-01 -3.23656797e-01  5.39646745e-02\n",
       "   -6.51516974e-01  1.65660843e-01]\n",
       "  [-2.41085991e-01 -1.42005429e-01  1.58730090e-01  1.67679369e-01\n",
       "    1.99297711e-01 -7.96766698e-01  1.64945260e-01 -1.30507278e+00\n",
       "   -2.30565831e-01 -2.93691367e-01]\n",
       "  [ 8.30117390e-02  9.42535922e-02 -3.24381858e-01  9.48518515e-02\n",
       "   -3.82043153e-01 -5.20281911e-01  7.41125420e-02 -5.86563088e-02\n",
       "   -4.60087717e-01 -4.06490527e-02]\n",
       "  [ 7.42808357e-02  2.11169019e-01 -2.82451093e-01 -2.70578444e-01\n",
       "   -9.18354373e-03  1.09969914e-01 -1.51012139e-02 -2.97717869e-01\n",
       "    1.10723332e-01 -6.65733635e-01]\n",
       "  [-2.59776264e-01 -5.92980325e-01  3.23362023e-01 -2.49596834e-01\n",
       "    3.27782810e-01  1.47203028e-01  2.99992532e-01  7.93667659e-02\n",
       "   -5.44089600e-02 -3.88408601e-01]\n",
       "  [ 1.45352837e-02  2.42475092e-01 -3.91391009e-01 -5.40491045e-01\n",
       "    5.73600158e-02  3.03891778e-01 -3.27583373e-01  5.73307723e-02\n",
       "    2.31519356e-01  2.40203515e-01]\n",
       "  [-1.62806377e-01 -2.98680902e-01 -3.54613513e-01  7.87630156e-02\n",
       "    5.05607501e-02 -5.87028682e-01  1.87593997e-02 -3.55862230e-02\n",
       "    3.76542248e-02 -2.93552816e-01]\n",
       "  [ 1.19798377e-01 -6.18581295e-01 -3.84887308e-01 -5.07964611e-01\n",
       "   -3.46033335e-01  2.00345755e-01  9.43772867e-02  1.75407574e-01\n",
       "    1.02587059e-01  1.96024358e-01]\n",
       "  [ 6.43946975e-03  2.80958205e-01 -2.56101489e-01  2.34970897e-01\n",
       "    1.53381035e-01 -6.52662933e-01  1.72608376e-01 -9.13954437e-01\n",
       "   -5.27893484e-01 -1.60701394e-01]\n",
       "  [ 1.82573348e-01  1.77970484e-01 -2.71881312e-01  1.55840904e-01\n",
       "   -2.45379508e-01 -3.98751825e-01  1.08325697e-01  2.57311195e-01\n",
       "   -5.25256395e-01  3.21575701e-01]\n",
       "  [-4.53906059e-01 -1.03068270e-01 -4.68587786e-01  1.10034898e-01\n",
       "    3.97514552e-02  2.45489448e-01 -3.28739971e-01  2.55196095e-01\n",
       "    5.66610182e-03  2.63880253e-01]\n",
       "  [-1.98100582e-01 -1.81866720e-01  2.28437617e-01 -7.95148015e-01\n",
       "    2.22223818e-01 -2.63563782e-01 -4.45571467e-02  1.93642631e-01\n",
       "    1.73861042e-01  2.25164026e-01]\n",
       "  [ 3.01515818e-01  4.05001678e-02 -1.01113252e-01  2.23052263e-01\n",
       "    3.07190329e-01 -2.65460759e-01 -9.67170000e-02 -3.37998122e-01\n",
       "    3.15802664e-01 -3.33052754e-01]\n",
       "  [ 1.59546003e-01  9.82424691e-02  1.44350380e-01  1.44420117e-01\n",
       "    1.65450722e-01 -1.01615286e+00  1.50337398e-01 -9.76189733e-01\n",
       "   -5.60449123e-01 -6.83127165e-01]\n",
       "  [ 2.50892729e-01 -9.95129123e-02  2.48642758e-01  2.35477388e-01\n",
       "    2.63645202e-01  2.69715842e-02  2.32535243e-01 -8.48864436e-01\n",
       "   -2.49881670e-01 -8.24088275e-01]\n",
       "  [ 3.57059725e-02 -3.86714309e-01 -5.17104268e-01  4.94560078e-02\n",
       "   -2.30372861e-01  1.74912661e-01 -7.04208314e-02  1.61135688e-01\n",
       "   -4.57177073e-01  1.83309183e-01]\n",
       "  [ 2.62470879e-02 -5.71765661e-01 -1.20815605e-01 -4.31114733e-01\n",
       "    2.66013861e-01 -6.28579557e-01  4.17054743e-01 -7.64639437e-01\n",
       "    7.39219710e-02 -4.78039950e-01]\n",
       "  [-4.56470966e-01 -6.22602068e-02  1.17530003e-01 -4.22907561e-01\n",
       "   -1.65853024e-01  2.63686299e-01 -3.74249995e-01  2.21184105e-01\n",
       "   -7.49831021e-01  2.47500628e-01]\n",
       "  [-3.01046163e-01 -6.31653130e-01 -3.30781132e-01 -1.20995708e-01\n",
       "   -4.24041376e-02  7.59369135e-02 -4.51651245e-01  1.66760176e-01\n",
       "    2.76784867e-01 -2.54791211e-02]\n",
       "  [ 2.10540295e-01 -5.27259111e-01  1.68742672e-01 -3.40221217e-03\n",
       "   -2.79247850e-01 -6.28844619e-01  2.17054814e-01 -6.54562831e-01\n",
       "    1.07961640e-01 -3.40914220e-01]\n",
       "  [-2.17746168e-01  6.16324961e-01 -3.29502165e-01 -3.81095827e-01\n",
       "   -3.35322887e-01  2.45068148e-01 -1.17816897e-02  2.23055869e-01\n",
       "   -2.29438886e-01 -2.39309430e-01]\n",
       "  [-2.97765464e-01  4.11905125e-02  1.63240045e-01 -5.44956028e-02\n",
       "    1.89338669e-01 -2.30916992e-01  1.77039176e-01 -8.30812335e-01\n",
       "    5.98763078e-02 -1.70446001e-02]\n",
       "  [-3.88600647e-01  1.16289675e-03  8.92974287e-02  1.12642705e-01\n",
       "    8.87791216e-02  2.30085358e-01 -2.61979640e-01  2.20696226e-01\n",
       "   -4.35695291e-01 -4.22277391e-01]\n",
       "  [-2.21192479e-01  3.49795878e-01 -3.08770835e-01 -8.87523368e-02\n",
       "   -1.12979613e-01 -4.71839577e-01 -2.95849323e-01 -3.07143599e-01\n",
       "    3.62797230e-01 -3.91447783e-01]\n",
       "  [ 1.55649945e-01  2.39550993e-01 -1.81826904e-01  2.19948873e-01\n",
       "   -4.69133228e-01  6.95912465e-02  9.94168520e-02 -8.22528541e-01\n",
       "    5.89745753e-02 -3.61878812e-01]\n",
       "  [ 2.88217515e-01  7.02406690e-02  1.33538574e-01  2.97195524e-01\n",
       "   -3.07648361e-01 -5.67448258e-01  2.83957869e-01 -4.63550650e-02\n",
       "   -5.42735577e-01 -5.12703896e-01]\n",
       "  [ 2.65351504e-01 -2.44541511e-01  2.40766346e-01  2.58367658e-01\n",
       "    5.54033853e-02  7.61432424e-02  2.46554106e-01 -7.62678325e-01\n",
       "    2.53621459e-01 -5.97878814e-01]\n",
       "  [-2.66936362e-01  2.52269477e-01 -2.80813634e-01  1.47226363e-01\n",
       "   -2.62349784e-01 -2.52233356e-01 -4.09831285e-01  3.32218289e-01\n",
       "    3.20990652e-01  3.93407226e-01]\n",
       "  [ 2.02660561e-01 -3.44656110e-01 -3.00665259e-01 -2.99274102e-02\n",
       "   -6.71186298e-02 -2.41646141e-01  1.68896332e-01  1.04483038e-01\n",
       "   -5.14017165e-01  2.19827980e-01]\n",
       "  [ 6.05455302e-02 -4.51898575e-01  1.24375664e-01 -7.22120225e-01\n",
       "    9.72879305e-02  9.84276980e-02  9.98289958e-02 -1.13821663e-01\n",
       "   -7.87630379e-01  1.21970490e-01]\n",
       "  [-1.89777970e-01  2.24784315e-01 -5.51063955e-01 -5.54858148e-01\n",
       "   -3.08900446e-01  1.51299968e-01 -4.65983212e-01  1.42057419e-01\n",
       "   -6.44672871e-01  1.59588858e-01]\n",
       "  [-3.93295377e-01 -6.65608644e-01 -3.99987906e-01 -5.22166312e-01\n",
       "   -4.12891328e-01  3.29901546e-01 -3.50370616e-01  2.59402335e-01\n",
       "    1.81239724e-01 -1.26534283e-01]\n",
       "  [-1.27603456e-01  1.91210955e-02 -3.76983255e-01 -1.72104985e-02\n",
       "   -1.54580399e-01 -3.68879884e-01 -4.43801321e-02  3.87490630e-01\n",
       "   -4.60900247e-01  3.85246068e-01]\n",
       "  [ 1.31291077e-01 -2.90555120e-01 -1.32163018e-01  1.45032510e-01\n",
       "   -2.60449111e-01 -6.17417812e-01  1.37842149e-01 -7.72306323e-01\n",
       "    1.50368512e-01 -3.83537799e-01]\n",
       "  [-1.71189606e-01 -6.50809035e-02  3.93360183e-02 -4.78255689e-01\n",
       "    1.10846460e-01 -5.68372667e-01  7.28204176e-02 -1.46045014e-01\n",
       "    6.68705776e-02 -5.09427786e-01]\n",
       "  [-1.14856407e-01  2.56071627e-01 -4.08090800e-01  2.71227986e-01\n",
       "   -5.10879196e-02 -3.79483134e-01 -1.94395870e-01  1.88144699e-01\n",
       "   -4.49330389e-01  1.81848317e-01]\n",
       "  [ 2.11573690e-01 -3.04921120e-01 -1.87123567e-01 -3.04511547e-01\n",
       "    1.74543172e-01 -2.43685886e-01  1.80351138e-01  4.20385711e-02\n",
       "   -2.50201464e-01 -1.68393776e-01]\n",
       "  [-2.63963848e-01  1.55402437e-01 -2.88560122e-01 -3.87404501e-01\n",
       "   -1.32779013e-02  1.15810953e-01 -5.48118234e-01  9.85512584e-02\n",
       "    9.60080922e-02  6.79390365e-03]\n",
       "  [-4.14769441e-01 -3.20257097e-02  1.00661464e-01  1.34150013e-01\n",
       "    1.90199122e-01 -1.16493046e+00 -1.92833737e-01 -9.43823278e-01\n",
       "   -4.03983682e-01 -8.92901480e-01]\n",
       "  [ 1.41776741e-01 -3.07844073e-01  1.84481189e-01 -2.39415973e-01\n",
       "   -2.88626850e-01 -5.79712279e-02  1.38824657e-01 -2.13669762e-01\n",
       "   -6.24802336e-03 -7.82884121e-01]\n",
       "  [ 2.26236477e-01 -2.54592020e-02 -1.95788637e-01  2.14835241e-01\n",
       "    9.98248905e-02 -2.25905821e-01 -9.73957926e-02  2.19888240e-01\n",
       "    3.33617032e-01 -1.42204911e-01]\n",
       "  [-6.42386079e-01 -6.25433862e-01  2.68785983e-01 -6.40430629e-01\n",
       "   -1.50107712e-01  3.64741206e-01  3.76126952e-02  1.91119555e-02\n",
       "   -4.45523560e-02 -3.38416487e-01]\n",
       "  [ 1.86744500e-02 -5.18924832e-01 -4.27941233e-01 -4.03789043e-01\n",
       "   -2.73029983e-01 -3.89506459e-01  2.01613214e-02 -1.82720646e-01\n",
       "    1.83051273e-01  3.20057720e-01]\n",
       "  [ 5.07205129e-02  1.97544247e-01  1.52881712e-01  1.50768757e-01\n",
       "    1.64139941e-01 -5.25472403e-01 -6.25700280e-02  1.15808826e-02\n",
       "   -5.30042410e-01 -5.57672739e-01]\n",
       "  [-2.19274595e-01 -2.74675578e-01 -4.66498345e-01  8.64755735e-03\n",
       "   -5.09288192e-01  2.88769454e-01 -5.59030831e-01  2.77496278e-01\n",
       "    2.18154430e-01  2.80900896e-01]\n",
       "  [-3.11107039e-01  2.31742591e-01  8.66322219e-02  1.17719971e-01\n",
       "    1.64753497e-01  3.38276513e-02 -2.61559457e-01 -4.54858691e-01\n",
       "   -7.43824542e-02 -6.69297695e-01]\n",
       "  [-1.84898049e-01  2.37827912e-01  2.08459795e-01  2.58202434e-01\n",
       "    2.69162834e-01  3.23965400e-02 -2.83246785e-02 -2.67592609e-01\n",
       "    1.62946656e-01  3.20046932e-01]\n",
       "  [-2.61647962e-02  1.65291607e-01 -3.66320223e-01 -4.02106166e-01\n",
       "   -4.79378462e-01  2.85465717e-01 -2.26132676e-01 -9.11267325e-02\n",
       "   -6.41713619e-01  2.92732060e-01]\n",
       "  [ 4.80688177e-02  8.49740487e-03 -3.16274673e-01 -5.29939592e-01\n",
       "   -8.54674429e-02 -3.99987340e-01  2.68805083e-02 -1.65593147e-01\n",
       "    8.23129639e-02 -3.50027978e-02]\n",
       "  [ 2.04273481e-02  2.13167623e-01  2.53806651e-01 -5.20423293e-01\n",
       "    2.57517815e-01 -1.12279207e-01 -8.77095461e-02 -4.10724312e-01\n",
       "   -4.30260807e-01  8.53605494e-02]\n",
       "  [ 2.21196800e-01  2.86715388e-01  2.46686012e-01  2.78167725e-01\n",
       "    2.78727058e-02 -8.89380574e-01 -6.01700656e-02 -5.58309376e-01\n",
       "   -2.75942594e-01 -6.17854297e-01]\n",
       "  [ 9.31519493e-02 -3.46279383e-01  2.00523779e-01  1.39853269e-01\n",
       "    2.17507094e-01 -8.47061932e-01  2.05465391e-01 -8.96536291e-01\n",
       "    1.07836150e-01 -7.51688659e-01]\n",
       "  [-3.56742442e-01  3.73366922e-01  7.60885403e-02 -1.47506639e-01\n",
       "    2.11130589e-01 -3.02597523e-01 -2.25608379e-01  2.17634588e-01\n",
       "    1.25857040e-01 -2.36664802e-01]\n",
       "  [ 1.81517109e-01  9.88961086e-02  2.10726127e-01  2.11028427e-01\n",
       "   -3.58890891e-01 -1.11155428e-01 -3.81906554e-02 -5.72765231e-01\n",
       "   -2.76153177e-01 -1.96264754e-03]\n",
       "  [ 1.05429515e-01 -4.19373512e-01  2.06003606e-01 -7.55972743e-01\n",
       "   -5.09792447e-01 -4.87375297e-02 -2.51941562e-01  1.20099306e-01\n",
       "   -2.81559587e-01  4.10721451e-02]\n",
       "  [ 2.21933052e-01 -6.61982059e-01  3.85678150e-02 -4.16399300e-01\n",
       "   -8.63809437e-02  1.46279335e-01  2.20306933e-01 -4.07152206e-01\n",
       "    3.11894685e-01 -3.69794905e-01]\n",
       "  [ 1.49159953e-01  2.54755884e-01  1.15316115e-01  2.53347039e-01\n",
       "   -2.68224448e-01  1.45782540e-02 -1.68643653e-01 -6.83609545e-01\n",
       "    2.04595640e-01 -1.28739774e-01]\n",
       "  [-3.76807272e-01 -6.41352415e-01 -1.39074519e-01  8.10566172e-02\n",
       "    1.78776950e-01 -4.02048171e-01 -1.39806479e-01 -4.09072101e-01\n",
       "    9.27158892e-02  1.92789897e-01]\n",
       "  [-1.12846099e-01 -3.97704005e-01 -2.62188882e-01 -4.92293000e-01\n",
       "   -2.95042455e-01  3.03167284e-01 -2.24636167e-01  3.00219953e-01\n",
       "    2.87228882e-01  3.06575060e-01]\n",
       "  [-2.38103867e-01 -4.76549655e-01 -1.32165745e-01  1.10716574e-01\n",
       "    1.79424912e-01  2.24482298e-01  1.57457635e-01  2.76221871e-01\n",
       "    3.19753855e-01  2.37417281e-01]\n",
       "  [-2.25107253e-01 -5.81221342e-01  2.02905506e-01 -1.70081109e-01\n",
       "    2.06599265e-01 -1.02921501e-01  1.67236611e-01  8.02308843e-02\n",
       "    8.05614889e-02 -3.68316829e-01]\n",
       "  [ 1.59298345e-01 -3.78090531e-01  3.80771831e-02 -3.85135233e-01\n",
       "   -4.40020382e-01 -1.80141538e-01  1.30441770e-01 -4.31249529e-01\n",
       "    1.02059223e-01  1.10495411e-01]\n",
       "  [-5.96063510e-02 -6.20457083e-02  2.62868196e-01 -4.74381924e-01\n",
       "    3.24377930e-03 -5.06755114e-01  8.27820003e-02  1.19565867e-01\n",
       "    3.11427087e-01 -2.23925784e-01]\n",
       "  [-1.63345248e-01 -5.06719410e-01  2.56592244e-01 -5.06767333e-01\n",
       "   -2.94848293e-01  2.17035994e-01 -2.36451924e-01  1.09878771e-01\n",
       "    1.10301180e-02  2.16183305e-01]]>,\n",
       " <Variable path=sequential_3/dense_layer_3/bias, shape=(10,), dtype=float32, value=[ 0.01886753 -0.5123207   0.16778854  0.31175193 -0.01905801 -0.08398385\n",
       "   0.15342864  0.17176189 -0.14950395 -0.48758546]>]"
      ]
     },
     "execution_count": 44,
     "metadata": {},
     "output_type": "execute_result"
    }
   ],
   "source": [
    "model_3.weights"
   ]
  },
  {
   "cell_type": "code",
   "execution_count": null,
   "metadata": {
    "colab": {
     "base_uri": "https://localhost:8080/"
    },
    "executionInfo": {
     "elapsed": 45,
     "status": "ok",
     "timestamp": 1742671535444,
     "user": {
      "displayName": "A_52_Priyank Maheshwari",
      "userId": "00590290924200288402"
     },
     "user_tz": -330
    },
    "id": "XpkGDVsKEW7D",
    "outputId": "9ce0733c-b338-4c23-bcc0-1dc9bc2fc93d"
   },
   "outputs": [
    {
     "data": {
      "text/plain": [
       "{'name': 'sequential_3',\n",
       " 'trainable': True,\n",
       " 'dtype': {'module': 'keras',\n",
       "  'class_name': 'DTypePolicy',\n",
       "  'config': {'name': 'float32'},\n",
       "  'registered_name': None},\n",
       " 'layers': [{'module': 'keras.layers',\n",
       "   'class_name': 'InputLayer',\n",
       "   'config': {'batch_shape': (None, 784),\n",
       "    'dtype': 'float32',\n",
       "    'sparse': False,\n",
       "    'name': 'input_layer_3'},\n",
       "   'registered_name': None},\n",
       "  {'module': 'keras.layers',\n",
       "   'class_name': 'Dense',\n",
       "   'config': {'name': 'dense_layer',\n",
       "    'trainable': True,\n",
       "    'dtype': {'module': 'keras',\n",
       "     'class_name': 'DTypePolicy',\n",
       "     'config': {'name': 'float32'},\n",
       "     'registered_name': None},\n",
       "    'units': 64,\n",
       "    'activation': 'relu',\n",
       "    'use_bias': True,\n",
       "    'kernel_initializer': {'module': 'keras.initializers',\n",
       "     'class_name': 'GlorotUniform',\n",
       "     'config': {'seed': None},\n",
       "     'registered_name': None},\n",
       "    'bias_initializer': {'module': 'keras.initializers',\n",
       "     'class_name': 'Zeros',\n",
       "     'config': {},\n",
       "     'registered_name': None},\n",
       "    'kernel_regularizer': None,\n",
       "    'bias_regularizer': None,\n",
       "    'kernel_constraint': None,\n",
       "    'bias_constraint': None},\n",
       "   'registered_name': None,\n",
       "   'build_config': {'input_shape': (None, 784)}},\n",
       "  {'module': 'keras.layers',\n",
       "   'class_name': 'Dropout',\n",
       "   'config': {'name': 'dropout_2',\n",
       "    'trainable': True,\n",
       "    'dtype': {'module': 'keras',\n",
       "     'class_name': 'DTypePolicy',\n",
       "     'config': {'name': 'float32'},\n",
       "     'registered_name': None},\n",
       "    'rate': 0.3,\n",
       "    'seed': None,\n",
       "    'noise_shape': None},\n",
       "   'registered_name': None},\n",
       "  {'module': 'keras.layers',\n",
       "   'class_name': 'Dense',\n",
       "   'config': {'name': 'dense_layer_2',\n",
       "    'trainable': True,\n",
       "    'dtype': {'module': 'keras',\n",
       "     'class_name': 'DTypePolicy',\n",
       "     'config': {'name': 'float32'},\n",
       "     'registered_name': None},\n",
       "    'units': 64,\n",
       "    'activation': 'relu',\n",
       "    'use_bias': True,\n",
       "    'kernel_initializer': {'module': 'keras.initializers',\n",
       "     'class_name': 'GlorotUniform',\n",
       "     'config': {'seed': None},\n",
       "     'registered_name': None},\n",
       "    'bias_initializer': {'module': 'keras.initializers',\n",
       "     'class_name': 'Zeros',\n",
       "     'config': {},\n",
       "     'registered_name': None},\n",
       "    'kernel_regularizer': None,\n",
       "    'bias_regularizer': None,\n",
       "    'kernel_constraint': None,\n",
       "    'bias_constraint': None},\n",
       "   'registered_name': None,\n",
       "   'build_config': {'input_shape': (None, 64)}},\n",
       "  {'module': 'keras.layers',\n",
       "   'class_name': 'Dropout',\n",
       "   'config': {'name': 'dropout_3',\n",
       "    'trainable': True,\n",
       "    'dtype': {'module': 'keras',\n",
       "     'class_name': 'DTypePolicy',\n",
       "     'config': {'name': 'float32'},\n",
       "     'registered_name': None},\n",
       "    'rate': 0.3,\n",
       "    'seed': None,\n",
       "    'noise_shape': None},\n",
       "   'registered_name': None},\n",
       "  {'module': 'keras.layers',\n",
       "   'class_name': 'Dense',\n",
       "   'config': {'name': 'dense_layer_3',\n",
       "    'trainable': True,\n",
       "    'dtype': {'module': 'keras',\n",
       "     'class_name': 'DTypePolicy',\n",
       "     'config': {'name': 'float32'},\n",
       "     'registered_name': None},\n",
       "    'units': 10,\n",
       "    'activation': 'softmax',\n",
       "    'use_bias': True,\n",
       "    'kernel_initializer': {'module': 'keras.initializers',\n",
       "     'class_name': 'GlorotUniform',\n",
       "     'config': {'seed': None},\n",
       "     'registered_name': None},\n",
       "    'bias_initializer': {'module': 'keras.initializers',\n",
       "     'class_name': 'Zeros',\n",
       "     'config': {},\n",
       "     'registered_name': None},\n",
       "    'kernel_regularizer': None,\n",
       "    'bias_regularizer': None,\n",
       "    'kernel_constraint': None,\n",
       "    'bias_constraint': None},\n",
       "   'registered_name': None,\n",
       "   'build_config': {'input_shape': (None, 64)}}],\n",
       " 'build_input_shape': (None, 784)}"
      ]
     },
     "execution_count": 45,
     "metadata": {},
     "output_type": "execute_result"
    }
   ],
   "source": [
    "model_3.get_config()"
   ]
  },
  {
   "cell_type": "markdown",
   "metadata": {
    "id": "Amy3SiysEbkS"
   },
   "source": [
    "#### Improved Model 4: Increasing the number of Hidden Layer neuron"
   ]
  },
  {
   "cell_type": "code",
   "execution_count": null,
   "metadata": {
    "executionInfo": {
     "elapsed": 51,
     "status": "ok",
     "timestamp": 1742671535494,
     "user": {
      "displayName": "A_52_Priyank Maheshwari",
      "userId": "00590290924200288402"
     },
     "user_tz": -330
    },
    "id": "up26WRslEZO6"
   },
   "outputs": [],
   "source": [
    "#Most common type of model is a stack of layers\n",
    "model_4 = tf.keras.Sequential()\n",
    "N_hidden = 512\n",
    "\n",
    "# Adding a densely-connected layer with 64 units to the model:\n",
    "model_4.add(Dense(N_hidden, name='dense_layer', input_shape=(784,), activation = 'relu'))\n",
    "\n",
    "# Now the model will take as input arrays of shape (*, 784)# and output arrays of shape (*, 64)\n",
    "model_4.add(Dropout(0.3))\n",
    "\n",
    "# Adding another dense layer:\n",
    "model_4.add(Dense(N_hidden, name='dense_layer_2', activation='relu'))\n",
    "model_4.add(Dropout(0.3))\n",
    "\n",
    "# After the first layer, you don't need to specify\n",
    "# the size of the input anymore:\n",
    "# Add an output layer with 10 output units (10 different classes):\n",
    "model_4.add(Dense(10, name='dense_layer_3', activation = 'softmax'))"
   ]
  },
  {
   "cell_type": "code",
   "execution_count": null,
   "metadata": {
    "executionInfo": {
     "elapsed": 6,
     "status": "ok",
     "timestamp": 1742671535505,
     "user": {
      "displayName": "A_52_Priyank Maheshwari",
      "userId": "00590290924200288402"
     },
     "user_tz": -330
    },
    "id": "dOiNgQ_lEkeb"
   },
   "outputs": [],
   "source": [
    "# Compiling the model.\n",
    "model_4.compile(optimizer='Adam', loss='categorical_crossentropy', metrics=['accuracy'])"
   ]
  },
  {
   "cell_type": "code",
   "execution_count": null,
   "metadata": {
    "colab": {
     "base_uri": "https://localhost:8080/"
    },
    "executionInfo": {
     "elapsed": 55084,
     "status": "ok",
     "timestamp": 1742671590591,
     "user": {
      "displayName": "A_52_Priyank Maheshwari",
      "userId": "00590290924200288402"
     },
     "user_tz": -330
    },
    "id": "5sjFkLwUEo1D",
    "outputId": "5dc2c5c5-b391-49a6-f5fb-eb6d859c9e2a"
   },
   "outputs": [
    {
     "name": "stdout",
     "output_type": "stream",
     "text": [
      "Epoch 1/31\n",
      "\u001b[1m375/375\u001b[0m \u001b[32m━━━━━━━━━━━━━━━━━━━━\u001b[0m\u001b[37m\u001b[0m \u001b[1m5s\u001b[0m 6ms/step - accuracy: 0.7337 - loss: 0.7518 - val_accuracy: 0.8446 - val_loss: 0.4189\n",
      "Epoch 2/31\n",
      "\u001b[1m375/375\u001b[0m \u001b[32m━━━━━━━━━━━━━━━━━━━━\u001b[0m\u001b[37m\u001b[0m \u001b[1m1s\u001b[0m 3ms/step - accuracy: 0.8455 - loss: 0.4224 - val_accuracy: 0.8668 - val_loss: 0.3627\n",
      "Epoch 3/31\n",
      "\u001b[1m375/375\u001b[0m \u001b[32m━━━━━━━━━━━━━━━━━━━━\u001b[0m\u001b[37m\u001b[0m \u001b[1m1s\u001b[0m 3ms/step - accuracy: 0.8585 - loss: 0.3812 - val_accuracy: 0.8771 - val_loss: 0.3443\n",
      "Epoch 4/31\n",
      "\u001b[1m375/375\u001b[0m \u001b[32m━━━━━━━━━━━━━━━━━━━━\u001b[0m\u001b[37m\u001b[0m \u001b[1m1s\u001b[0m 3ms/step - accuracy: 0.8712 - loss: 0.3461 - val_accuracy: 0.8736 - val_loss: 0.3497\n",
      "Epoch 5/31\n",
      "\u001b[1m375/375\u001b[0m \u001b[32m━━━━━━━━━━━━━━━━━━━━\u001b[0m\u001b[37m\u001b[0m \u001b[1m1s\u001b[0m 3ms/step - accuracy: 0.8739 - loss: 0.3379 - val_accuracy: 0.8820 - val_loss: 0.3304\n",
      "Epoch 6/31\n",
      "\u001b[1m375/375\u001b[0m \u001b[32m━━━━━━━━━━━━━━━━━━━━\u001b[0m\u001b[37m\u001b[0m \u001b[1m3s\u001b[0m 4ms/step - accuracy: 0.8805 - loss: 0.3290 - val_accuracy: 0.8863 - val_loss: 0.3179\n",
      "Epoch 7/31\n",
      "\u001b[1m375/375\u001b[0m \u001b[32m━━━━━━━━━━━━━━━━━━━━\u001b[0m\u001b[37m\u001b[0m \u001b[1m1s\u001b[0m 3ms/step - accuracy: 0.8839 - loss: 0.3095 - val_accuracy: 0.8812 - val_loss: 0.3180\n",
      "Epoch 8/31\n",
      "\u001b[1m375/375\u001b[0m \u001b[32m━━━━━━━━━━━━━━━━━━━━\u001b[0m\u001b[37m\u001b[0m \u001b[1m1s\u001b[0m 3ms/step - accuracy: 0.8866 - loss: 0.3044 - val_accuracy: 0.8826 - val_loss: 0.3273\n",
      "Epoch 9/31\n",
      "\u001b[1m375/375\u001b[0m \u001b[32m━━━━━━━━━━━━━━━━━━━━\u001b[0m\u001b[37m\u001b[0m \u001b[1m1s\u001b[0m 3ms/step - accuracy: 0.8913 - loss: 0.2915 - val_accuracy: 0.8862 - val_loss: 0.3154\n",
      "Epoch 10/31\n",
      "\u001b[1m375/375\u001b[0m \u001b[32m━━━━━━━━━━━━━━━━━━━━\u001b[0m\u001b[37m\u001b[0m \u001b[1m2s\u001b[0m 3ms/step - accuracy: 0.8920 - loss: 0.2869 - val_accuracy: 0.8825 - val_loss: 0.3203\n",
      "Epoch 11/31\n",
      "\u001b[1m375/375\u001b[0m \u001b[32m━━━━━━━━━━━━━━━━━━━━\u001b[0m\u001b[37m\u001b[0m \u001b[1m1s\u001b[0m 3ms/step - accuracy: 0.8955 - loss: 0.2764 - val_accuracy: 0.8896 - val_loss: 0.3163\n",
      "Epoch 12/31\n",
      "\u001b[1m375/375\u001b[0m \u001b[32m━━━━━━━━━━━━━━━━━━━━\u001b[0m\u001b[37m\u001b[0m \u001b[1m1s\u001b[0m 3ms/step - accuracy: 0.8970 - loss: 0.2747 - val_accuracy: 0.8831 - val_loss: 0.3214\n",
      "Epoch 13/31\n",
      "\u001b[1m375/375\u001b[0m \u001b[32m━━━━━━━━━━━━━━━━━━━━\u001b[0m\u001b[37m\u001b[0m \u001b[1m1s\u001b[0m 3ms/step - accuracy: 0.9002 - loss: 0.2634 - val_accuracy: 0.8904 - val_loss: 0.3070\n",
      "Epoch 14/31\n",
      "\u001b[1m375/375\u001b[0m \u001b[32m━━━━━━━━━━━━━━━━━━━━\u001b[0m\u001b[37m\u001b[0m \u001b[1m3s\u001b[0m 3ms/step - accuracy: 0.9017 - loss: 0.2563 - val_accuracy: 0.8903 - val_loss: 0.3075\n",
      "Epoch 15/31\n",
      "\u001b[1m375/375\u001b[0m \u001b[32m━━━━━━━━━━━━━━━━━━━━\u001b[0m\u001b[37m\u001b[0m \u001b[1m1s\u001b[0m 3ms/step - accuracy: 0.9031 - loss: 0.2581 - val_accuracy: 0.8916 - val_loss: 0.3078\n",
      "Epoch 16/31\n",
      "\u001b[1m375/375\u001b[0m \u001b[32m━━━━━━━━━━━━━━━━━━━━\u001b[0m\u001b[37m\u001b[0m \u001b[1m2s\u001b[0m 3ms/step - accuracy: 0.9055 - loss: 0.2526 - val_accuracy: 0.8880 - val_loss: 0.3131\n",
      "Epoch 17/31\n",
      "\u001b[1m375/375\u001b[0m \u001b[32m━━━━━━━━━━━━━━━━━━━━\u001b[0m\u001b[37m\u001b[0m \u001b[1m1s\u001b[0m 3ms/step - accuracy: 0.9025 - loss: 0.2551 - val_accuracy: 0.8927 - val_loss: 0.2980\n",
      "Epoch 18/31\n",
      "\u001b[1m375/375\u001b[0m \u001b[32m━━━━━━━━━━━━━━━━━━━━\u001b[0m\u001b[37m\u001b[0m \u001b[1m2s\u001b[0m 3ms/step - accuracy: 0.9097 - loss: 0.2404 - val_accuracy: 0.8935 - val_loss: 0.2953\n",
      "Epoch 19/31\n",
      "\u001b[1m375/375\u001b[0m \u001b[32m━━━━━━━━━━━━━━━━━━━━\u001b[0m\u001b[37m\u001b[0m \u001b[1m1s\u001b[0m 3ms/step - accuracy: 0.9086 - loss: 0.2425 - val_accuracy: 0.8963 - val_loss: 0.2969\n",
      "Epoch 20/31\n",
      "\u001b[1m375/375\u001b[0m \u001b[32m━━━━━━━━━━━━━━━━━━━━\u001b[0m\u001b[37m\u001b[0m \u001b[1m2s\u001b[0m 5ms/step - accuracy: 0.9111 - loss: 0.2357 - val_accuracy: 0.8932 - val_loss: 0.2957\n",
      "Epoch 21/31\n",
      "\u001b[1m375/375\u001b[0m \u001b[32m━━━━━━━━━━━━━━━━━━━━\u001b[0m\u001b[37m\u001b[0m \u001b[1m2s\u001b[0m 3ms/step - accuracy: 0.9133 - loss: 0.2252 - val_accuracy: 0.8953 - val_loss: 0.3008\n",
      "Epoch 22/31\n",
      "\u001b[1m375/375\u001b[0m \u001b[32m━━━━━━━━━━━━━━━━━━━━\u001b[0m\u001b[37m\u001b[0m \u001b[1m1s\u001b[0m 3ms/step - accuracy: 0.9127 - loss: 0.2307 - val_accuracy: 0.8978 - val_loss: 0.2942\n",
      "Epoch 23/31\n",
      "\u001b[1m375/375\u001b[0m \u001b[32m━━━━━━━━━━━━━━━━━━━━\u001b[0m\u001b[37m\u001b[0m \u001b[1m1s\u001b[0m 3ms/step - accuracy: 0.9151 - loss: 0.2249 - val_accuracy: 0.8947 - val_loss: 0.3005\n",
      "Epoch 24/31\n",
      "\u001b[1m375/375\u001b[0m \u001b[32m━━━━━━━━━━━━━━━━━━━━\u001b[0m\u001b[37m\u001b[0m \u001b[1m1s\u001b[0m 3ms/step - accuracy: 0.9149 - loss: 0.2178 - val_accuracy: 0.8970 - val_loss: 0.2951\n",
      "Epoch 25/31\n",
      "\u001b[1m375/375\u001b[0m \u001b[32m━━━━━━━━━━━━━━━━━━━━\u001b[0m\u001b[37m\u001b[0m \u001b[1m1s\u001b[0m 3ms/step - accuracy: 0.9196 - loss: 0.2071 - val_accuracy: 0.8970 - val_loss: 0.2949\n",
      "Epoch 26/31\n",
      "\u001b[1m375/375\u001b[0m \u001b[32m━━━━━━━━━━━━━━━━━━━━\u001b[0m\u001b[37m\u001b[0m \u001b[1m1s\u001b[0m 3ms/step - accuracy: 0.9162 - loss: 0.2159 - val_accuracy: 0.8960 - val_loss: 0.3021\n",
      "Epoch 27/31\n",
      "\u001b[1m375/375\u001b[0m \u001b[32m━━━━━━━━━━━━━━━━━━━━\u001b[0m\u001b[37m\u001b[0m \u001b[1m3s\u001b[0m 4ms/step - accuracy: 0.9194 - loss: 0.2121 - val_accuracy: 0.8954 - val_loss: 0.2994\n",
      "Epoch 28/31\n",
      "\u001b[1m375/375\u001b[0m \u001b[32m━━━━━━━━━━━━━━━━━━━━\u001b[0m\u001b[37m\u001b[0m \u001b[1m2s\u001b[0m 4ms/step - accuracy: 0.9220 - loss: 0.2051 - val_accuracy: 0.8938 - val_loss: 0.3107\n",
      "Epoch 29/31\n",
      "\u001b[1m375/375\u001b[0m \u001b[32m━━━━━━━━━━━━━━━━━━━━\u001b[0m\u001b[37m\u001b[0m \u001b[1m2s\u001b[0m 3ms/step - accuracy: 0.9207 - loss: 0.2060 - val_accuracy: 0.8969 - val_loss: 0.3082\n",
      "Epoch 30/31\n",
      "\u001b[1m375/375\u001b[0m \u001b[32m━━━━━━━━━━━━━━━━━━━━\u001b[0m\u001b[37m\u001b[0m \u001b[1m1s\u001b[0m 3ms/step - accuracy: 0.9219 - loss: 0.2033 - val_accuracy: 0.8920 - val_loss: 0.3136\n",
      "Epoch 31/31\n",
      "\u001b[1m375/375\u001b[0m \u001b[32m━━━━━━━━━━━━━━━━━━━━\u001b[0m\u001b[37m\u001b[0m \u001b[1m2s\u001b[0m 3ms/step - accuracy: 0.9230 - loss: 0.2011 - val_accuracy: 0.8957 - val_loss: 0.3095\n"
     ]
    }
   ],
   "source": [
    "# Training the model.\n",
    "training = model_4.fit(X_train, Y_train, batch_size=128, epochs=31, validation_split=0.2)"
   ]
  },
  {
   "cell_type": "code",
   "execution_count": null,
   "metadata": {
    "colab": {
     "base_uri": "https://localhost:8080/"
    },
    "executionInfo": {
     "elapsed": 2647,
     "status": "ok",
     "timestamp": 1742671593253,
     "user": {
      "displayName": "A_52_Priyank Maheshwari",
      "userId": "00590290924200288402"
     },
     "user_tz": -330
    },
    "id": "OTI2wdI3ErV5",
    "outputId": "794bec0a-b865-4119-980f-499af193c970"
   },
   "outputs": [
    {
     "name": "stdout",
     "output_type": "stream",
     "text": [
      "\u001b[1m313/313\u001b[0m \u001b[32m━━━━━━━━━━━━━━━━━━━━\u001b[0m\u001b[37m\u001b[0m \u001b[1m1s\u001b[0m 3ms/step - accuracy: 0.8882 - loss: 0.3381\n",
      "Test accuracy: 0.8902000188827515\n"
     ]
    }
   ],
   "source": [
    "#Evaluate the model_4\n",
    "test_loss, test_acc = model_4.evaluate(X_test, Y_test)\n",
    "print('Test accuracy:', test_acc)"
   ]
  },
  {
   "cell_type": "code",
   "execution_count": null,
   "metadata": {
    "colab": {
     "base_uri": "https://localhost:8080/"
    },
    "executionInfo": {
     "elapsed": 36,
     "status": "ok",
     "timestamp": 1742671593292,
     "user": {
      "displayName": "A_52_Priyank Maheshwari",
      "userId": "00590290924200288402"
     },
     "user_tz": -330
    },
    "id": "oVU0xpslEury",
    "outputId": "15ab13e7-6b3d-4ef6-c1a2-32758a7eec6f"
   },
   "outputs": [
    {
     "name": "stdout",
     "output_type": "stream",
     "text": [
      "dict_keys(['accuracy', 'loss', 'val_accuracy', 'val_loss'])\n"
     ]
    }
   ],
   "source": [
    "import matplotlib.pyplot as plt\n",
    "%matplotlib inline\n",
    "\n",
    "print(training.history.keys())"
   ]
  },
  {
   "cell_type": "code",
   "execution_count": null,
   "metadata": {
    "colab": {
     "base_uri": "https://localhost:8080/",
     "height": 472
    },
    "executionInfo": {
     "elapsed": 126,
     "status": "ok",
     "timestamp": 1742671593420,
     "user": {
      "displayName": "A_52_Priyank Maheshwari",
      "userId": "00590290924200288402"
     },
     "user_tz": -330
    },
    "id": "HZ5hlXO1Ex76",
    "outputId": "021083d2-f12d-4fc2-ccb2-967b8d6dca0f"
   },
   "outputs": [
    {
     "data": {
      "image/png": "[encoded data removed]",
      "text/plain": [
       "<Figure size 640x480 with 1 Axes>"
      ]
     },
     "metadata": {},
     "output_type": "display_data"
    }
   ],
   "source": [
    "# Summarizing training for accuracy\n",
    "plt.plot(training.history['accuracy'])\n",
    "plt.plot(training.history['val_accuracy'])\n",
    "plt.title('model accuracy')\n",
    "plt.ylabel('accuracy')\n",
    "plt.xlabel('epoch')\n",
    "plt.legend(['train', 'test'], loc='upper left')\n",
    "plt.show()"
   ]
  },
  {
   "cell_type": "code",
   "execution_count": null,
   "metadata": {
    "colab": {
     "base_uri": "https://localhost:8080/",
     "height": 472
    },
    "executionInfo": {
     "elapsed": 147,
     "status": "ok",
     "timestamp": 1742671593570,
     "user": {
      "displayName": "A_52_Priyank Maheshwari",
      "userId": "00590290924200288402"
     },
     "user_tz": -330
    },
    "id": "_lgEOSCbE1dp",
    "outputId": "9f5ded64-c26b-4989-d688-24a6099057a0"
   },
   "outputs": [
    {
     "data": {
      "image/png": "[encoded data removed]",
      "text/plain": [
       "<Figure size 640x480 with 1 Axes>"
      ]
     },
     "metadata": {},
     "output_type": "display_data"
    }
   ],
   "source": [
    "# Summarizing traning for loss\n",
    "plt.plot(training.history['loss'])\n",
    "plt.plot(training.history['val_loss'])\n",
    "plt.title('model loss')\n",
    "plt.ylabel('loss')\n",
    "plt.xlabel('epoch')\n",
    "plt.legend(['train', 'test'], loc='upper left')\n",
    "plt.show()"
   ]
  },
  {
   "cell_type": "code",
   "execution_count": null,
   "metadata": {
    "colab": {
     "base_uri": "https://localhost:8080/",
     "height": 323
    },
    "executionInfo": {
     "elapsed": 84,
     "status": "ok",
     "timestamp": 1742671593651,
     "user": {
      "displayName": "A_52_Priyank Maheshwari",
      "userId": "00590290924200288402"
     },
     "user_tz": -330
    },
    "id": "-mghQ9BsE44i",
    "outputId": "e9d55e05-c342-4fd4-fc8f-a87d5630953a"
   },
   "outputs": [
    {
     "data": {
      "text/html": [
       "<pre style=\"white-space:pre;overflow-x:auto;line-height:normal;font-family:Menlo,'DejaVu Sans Mono',consolas,'Courier New',monospace\"><span style=\"font-weight: bold\">Model: \"sequential_4\"</span>\n",
       "</pre>\n"
      ],
      "text/plain": [
       "\u001b[1mModel: \"sequential_4\"\u001b[0m\n"
      ]
     },
     "metadata": {},
     "output_type": "display_data"
    },
    {
     "data": {
      "text/html": [
       "<pre style=\"white-space:pre;overflow-x:auto;line-height:normal;font-family:Menlo,'DejaVu Sans Mono',consolas,'Courier New',monospace\">┏━━━━━━━━━━━━━━━━━━━━━━━━━━━━━━━━━━━━━━┳━━━━━━━━━━━━━━━━━━━━━━━━━━━━━┳━━━━━━━━━━━━━━━━━┓\n",
       "┃<span style=\"font-weight: bold\"> Layer (type)                         </span>┃<span style=\"font-weight: bold\"> Output Shape                </span>┃<span style=\"font-weight: bold\">         Param # </span>┃\n",
       "┡━━━━━━━━━━━━━━━━━━━━━━━━━━━━━━━━━━━━━━╇━━━━━━━━━━━━━━━━━━━━━━━━━━━━━╇━━━━━━━━━━━━━━━━━┩\n",
       "│ dense_layer (<span style=\"color: #0087ff; text-decoration-color: #0087ff\">Dense</span>)                  │ (<span style=\"color: #00d7ff; text-decoration-color: #00d7ff\">None</span>, <span style=\"color: #00af00; text-decoration-color: #00af00\">512</span>)                 │         <span style=\"color: #00af00; text-decoration-color: #00af00\">401,920</span> │\n",
       "├──────────────────────────────────────┼─────────────────────────────┼─────────────────┤\n",
       "│ dropout_4 (<span style=\"color: #0087ff; text-decoration-color: #0087ff\">Dropout</span>)                  │ (<span style=\"color: #00d7ff; text-decoration-color: #00d7ff\">None</span>, <span style=\"color: #00af00; text-decoration-color: #00af00\">512</span>)                 │               <span style=\"color: #00af00; text-decoration-color: #00af00\">0</span> │\n",
       "├──────────────────────────────────────┼─────────────────────────────┼─────────────────┤\n",
       "│ dense_layer_2 (<span style=\"color: #0087ff; text-decoration-color: #0087ff\">Dense</span>)                │ (<span style=\"color: #00d7ff; text-decoration-color: #00d7ff\">None</span>, <span style=\"color: #00af00; text-decoration-color: #00af00\">512</span>)                 │         <span style=\"color: #00af00; text-decoration-color: #00af00\">262,656</span> │\n",
       "├──────────────────────────────────────┼─────────────────────────────┼─────────────────┤\n",
       "│ dropout_5 (<span style=\"color: #0087ff; text-decoration-color: #0087ff\">Dropout</span>)                  │ (<span style=\"color: #00d7ff; text-decoration-color: #00d7ff\">None</span>, <span style=\"color: #00af00; text-decoration-color: #00af00\">512</span>)                 │               <span style=\"color: #00af00; text-decoration-color: #00af00\">0</span> │\n",
       "├──────────────────────────────────────┼─────────────────────────────┼─────────────────┤\n",
       "│ dense_layer_3 (<span style=\"color: #0087ff; text-decoration-color: #0087ff\">Dense</span>)                │ (<span style=\"color: #00d7ff; text-decoration-color: #00d7ff\">None</span>, <span style=\"color: #00af00; text-decoration-color: #00af00\">10</span>)                  │           <span style=\"color: #00af00; text-decoration-color: #00af00\">5,130</span> │\n",
       "└──────────────────────────────────────┴─────────────────────────────┴─────────────────┘\n",
       "</pre>\n"
      ],
      "text/plain": [
       "┏━━━━━━━━━━━━━━━━━━━━━━━━━━━━━━━━━━━━━━┳━━━━━━━━━━━━━━━━━━━━━━━━━━━━━┳━━━━━━━━━━━━━━━━━┓\n",
       "┃\u001b[1m \u001b[0m\u001b[1mLayer (type)                        \u001b[0m\u001b[1m \u001b[0m┃\u001b[1m \u001b[0m\u001b[1mOutput Shape               \u001b[0m\u001b[1m \u001b[0m┃\u001b[1m \u001b[0m\u001b[1m        Param #\u001b[0m\u001b[1m \u001b[0m┃\n",
       "┡━━━━━━━━━━━━━━━━━━━━━━━━━━━━━━━━━━━━━━╇━━━━━━━━━━━━━━━━━━━━━━━━━━━━━╇━━━━━━━━━━━━━━━━━┩\n",
       "│ dense_layer (\u001b[38;5;33mDense\u001b[0m)                  │ (\u001b[38;5;45mNone\u001b[0m, \u001b[38;5;34m512\u001b[0m)                 │         \u001b[38;5;34m401,920\u001b[0m │\n",
       "├──────────────────────────────────────┼─────────────────────────────┼─────────────────┤\n",
       "│ dropout_4 (\u001b[38;5;33mDropout\u001b[0m)                  │ (\u001b[38;5;45mNone\u001b[0m, \u001b[38;5;34m512\u001b[0m)                 │               \u001b[38;5;34m0\u001b[0m │\n",
       "├──────────────────────────────────────┼─────────────────────────────┼─────────────────┤\n",
       "│ dense_layer_2 (\u001b[38;5;33mDense\u001b[0m)                │ (\u001b[38;5;45mNone\u001b[0m, \u001b[38;5;34m512\u001b[0m)                 │         \u001b[38;5;34m262,656\u001b[0m │\n",
       "├──────────────────────────────────────┼─────────────────────────────┼─────────────────┤\n",
       "│ dropout_5 (\u001b[38;5;33mDropout\u001b[0m)                  │ (\u001b[38;5;45mNone\u001b[0m, \u001b[38;5;34m512\u001b[0m)                 │               \u001b[38;5;34m0\u001b[0m │\n",
       "├──────────────────────────────────────┼─────────────────────────────┼─────────────────┤\n",
       "│ dense_layer_3 (\u001b[38;5;33mDense\u001b[0m)                │ (\u001b[38;5;45mNone\u001b[0m, \u001b[38;5;34m10\u001b[0m)                  │           \u001b[38;5;34m5,130\u001b[0m │\n",
       "└──────────────────────────────────────┴─────────────────────────────┴─────────────────┘\n"
      ]
     },
     "metadata": {},
     "output_type": "display_data"
    },
    {
     "data": {
      "text/html": [
       "<pre style=\"white-space:pre;overflow-x:auto;line-height:normal;font-family:Menlo,'DejaVu Sans Mono',consolas,'Courier New',monospace\"><span style=\"font-weight: bold\"> Total params: </span><span style=\"color: #00af00; text-decoration-color: #00af00\">2,009,120</span> (7.66 MB)\n",
       "</pre>\n"
      ],
      "text/plain": [
       "\u001b[1m Total params: \u001b[0m\u001b[38;5;34m2,009,120\u001b[0m (7.66 MB)\n"
      ]
     },
     "metadata": {},
     "output_type": "display_data"
    },
    {
     "data": {
      "text/html": [
       "<pre style=\"white-space:pre;overflow-x:auto;line-height:normal;font-family:Menlo,'DejaVu Sans Mono',consolas,'Courier New',monospace\"><span style=\"font-weight: bold\"> Trainable params: </span><span style=\"color: #00af00; text-decoration-color: #00af00\">669,706</span> (2.55 MB)\n",
       "</pre>\n"
      ],
      "text/plain": [
       "\u001b[1m Trainable params: \u001b[0m\u001b[38;5;34m669,706\u001b[0m (2.55 MB)\n"
      ]
     },
     "metadata": {},
     "output_type": "display_data"
    },
    {
     "data": {
      "text/html": [
       "<pre style=\"white-space:pre;overflow-x:auto;line-height:normal;font-family:Menlo,'DejaVu Sans Mono',consolas,'Courier New',monospace\"><span style=\"font-weight: bold\"> Non-trainable params: </span><span style=\"color: #00af00; text-decoration-color: #00af00\">0</span> (0.00 B)\n",
       "</pre>\n"
      ],
      "text/plain": [
       "\u001b[1m Non-trainable params: \u001b[0m\u001b[38;5;34m0\u001b[0m (0.00 B)\n"
      ]
     },
     "metadata": {},
     "output_type": "display_data"
    },
    {
     "data": {
      "text/html": [
       "<pre style=\"white-space:pre;overflow-x:auto;line-height:normal;font-family:Menlo,'DejaVu Sans Mono',consolas,'Courier New',monospace\"><span style=\"font-weight: bold\"> Optimizer params: </span><span style=\"color: #00af00; text-decoration-color: #00af00\">1,339,414</span> (5.11 MB)\n",
       "</pre>\n"
      ],
      "text/plain": [
       "\u001b[1m Optimizer params: \u001b[0m\u001b[38;5;34m1,339,414\u001b[0m (5.11 MB)\n"
      ]
     },
     "metadata": {},
     "output_type": "display_data"
    }
   ],
   "source": [
    "model_4.summary()"
   ]
  },
  {
   "cell_type": "code",
   "execution_count": null,
   "metadata": {
    "colab": {
     "base_uri": "https://localhost:8080/"
    },
    "executionInfo": {
     "elapsed": 10,
     "status": "ok",
     "timestamp": 1742671593662,
     "user": {
      "displayName": "A_52_Priyank Maheshwari",
      "userId": "00590290924200288402"
     },
     "user_tz": -330
    },
    "id": "gPCgkmaPE6ta",
    "outputId": "5e7a909f-549a-4a5e-c76a-7b1ff31ab3f7"
   },
   "outputs": [
    {
     "data": {
      "text/plain": [
       "[<Variable path=sequential_4/dense_layer/kernel, shape=(784, 512), dtype=float32, value=[[ 0.00757102 -0.0126681  -0.002109   ... -0.28701088  0.00686169\n",
       "   -0.06140326]\n",
       "  [ 0.08719858  0.04353143 -0.06935089 ... -0.25510344  0.03209064\n",
       "    0.01754873]\n",
       "  [ 0.36605403 -0.0865925  -0.08897513 ... -0.22556321 -0.00068344\n",
       "    0.02809396]\n",
       "  ...\n",
       "  [-0.2456553  -0.04355163 -0.07670547 ... -0.05438009  0.04215553\n",
       "   -0.0217827 ]\n",
       "  [-0.10898499  0.05988137 -0.13267143 ... -0.16355725 -0.0223232\n",
       "   -0.01108688]\n",
       "  [-0.10671961  0.03904534  0.05224867 ... -0.14335704 -0.05591822\n",
       "   -0.00260117]]>,\n",
       " <Variable path=sequential_4/dense_layer/bias, shape=(512,), dtype=float32, value=[ 8.99342224e-02  3.08399387e-02  9.51585993e-02  5.51242232e-02\n",
       "   1.12751491e-01  1.15600221e-01 -2.31624678e-01  2.18138486e-01\n",
       "   3.08127552e-02 -1.21291913e-01  6.07339740e-02  1.63680032e-01\n",
       "  -2.39169337e-02 -5.67147695e-02  1.54534414e-01  9.64052882e-03\n",
       "   1.31928278e-02  2.03037903e-01  1.00973472e-01 -1.96683854e-02\n",
       "  -1.15974814e-01  8.91964436e-02 -9.69494432e-02  2.47983739e-01\n",
       "  -4.86858701e-03 -4.78958664e-03  1.75213352e-01  7.30451643e-02\n",
       "   1.38742894e-01 -2.47549981e-01  1.71266571e-01  8.00696686e-02\n",
       "   9.58050266e-02  1.26625687e-01  4.49783653e-01 -1.44492388e-01\n",
       "   5.46032377e-02 -2.79480200e-02  1.34628668e-01  1.09286599e-01\n",
       "   1.27677798e-01  2.44492024e-01  2.68369198e-01  2.81962126e-01\n",
       "   9.59508400e-03  3.10200483e-01  2.84777284e-01  2.29949564e-01\n",
       "   5.69799840e-02  5.11768535e-02 -2.04482943e-01 -1.06455358e-02\n",
       "  -1.00622803e-01  3.22991252e-01  2.93234646e-01 -5.67024909e-02\n",
       "   2.21801877e-01  2.77590334e-01  2.65261158e-03 -7.98698068e-02\n",
       "   2.81390458e-01 -4.17579748e-02  2.69900169e-02 -8.42100102e-03\n",
       "   1.43944025e-01  3.53554159e-01 -2.68488526e-01  2.42377371e-01\n",
       "   8.56148452e-02 -4.49350895e-03 -1.14521787e-01  2.06698790e-01\n",
       "   4.40922886e-01 -2.71862626e-01 -6.37213439e-02  1.34199366e-01\n",
       "   1.58650488e-01 -8.93965364e-02 -1.95162129e-02 -7.01943487e-02\n",
       "   9.19628590e-02  1.36503041e-01  1.92572609e-01  2.46762559e-02\n",
       "   2.41734624e-01 -4.54983860e-02  1.91946521e-01  2.55079269e-01\n",
       "  -7.00407997e-02 -1.73174724e-01  1.89421952e-01 -2.32424755e-02\n",
       "   2.18399227e-01  1.45076603e-01 -1.42567769e-01 -1.11398600e-01\n",
       "  -9.92576927e-02  2.90015399e-01 -9.59008038e-02 -5.61316073e-01\n",
       "   2.07532287e-01 -8.18845481e-02  1.36558279e-01 -1.48427710e-02\n",
       "   8.74173343e-02 -5.29640689e-02  8.28815177e-02  7.60584250e-02\n",
       "   3.21476996e-01 -2.42896691e-01  5.19873248e-03  5.38722938e-03\n",
       "   1.95140630e-01  2.38417566e-01 -3.96235250e-02  9.23501607e-03\n",
       "  -5.06173354e-03 -2.67325610e-01  3.72726470e-02  8.36002082e-02\n",
       "  -5.65659739e-02  1.13004886e-01 -8.04870855e-03  2.08478257e-01\n",
       "  -7.59669840e-02  2.27876052e-01  8.16894323e-02  2.87189513e-01\n",
       "  -2.66247928e-01 -9.62538570e-02  1.72674730e-01  2.53466934e-01\n",
       "   1.27427623e-01 -8.19138438e-03  8.12965780e-02 -9.29490291e-03\n",
       "   9.79121253e-02 -7.22699761e-02  1.51139855e-01  1.64286152e-01\n",
       "   2.25450739e-01  1.66028887e-01 -3.62019055e-02  8.75962973e-02\n",
       "  -5.99273622e-01  1.76778249e-02  1.87688842e-01 -1.89112052e-01\n",
       "  -3.79726678e-01  2.11765334e-01 -9.98514816e-02  2.42374334e-02\n",
       "   2.78075133e-02 -7.91636482e-02 -5.28379232e-02 -5.06228432e-02\n",
       "   1.32749900e-01 -2.03434397e-02  2.38226205e-02  5.47226109e-02\n",
       "  -3.42080183e-02 -1.26235232e-01  1.95355311e-01  4.07720245e-02\n",
       "   2.38392085e-01  2.03105241e-01  5.18196188e-02 -2.08967552e-02\n",
       "   1.73425004e-01  3.45344469e-02  1.16839774e-01  3.28396171e-01\n",
       "   2.43207216e-01  3.42212111e-01  9.86292399e-03  5.63005395e-02\n",
       "  -3.30862999e-01  3.20431665e-02 -4.23657999e-04 -5.40532023e-02\n",
       "   1.80790350e-01  3.90253067e-02 -6.89883009e-02  5.83934672e-02\n",
       "   2.12055922e-01 -2.88506359e-01  1.51427299e-01  1.79298267e-01\n",
       "   1.07638687e-01 -3.09430689e-01  5.90550080e-02 -1.95332959e-01\n",
       "  -1.50282517e-01  2.19387740e-01  1.15204908e-01  2.44852304e-01\n",
       "   3.20810109e-01  1.26898363e-01  1.35699928e-01  1.60727538e-02\n",
       "   4.13336568e-02 -1.55512178e-02 -1.32870255e-02 -2.12198142e-02\n",
       "  -2.64979035e-01  6.20737821e-02  1.13747239e-01  2.06233069e-01\n",
       "   9.53977779e-02  1.24181099e-01  5.57728624e-03 -2.33353704e-01\n",
       "  -1.30318729e-02  1.42768472e-01 -9.08945967e-03  1.14100546e-01\n",
       "   1.51168674e-01  2.86373556e-01  4.13631817e-04 -1.74115196e-01\n",
       "  -9.24674720e-02 -9.92539003e-02  8.61051232e-02  3.56412500e-01\n",
       "  -1.83264911e-01 -2.12578457e-02  1.11642577e-01 -2.04087347e-01\n",
       "   3.80345643e-01  2.54792094e-01 -3.73413414e-01  1.74490407e-01\n",
       "   4.26794635e-03  1.73683569e-01  8.92292634e-02  1.56650007e-01\n",
       "   2.10369825e-01  1.16832018e-01  1.10388212e-01  4.07248065e-02\n",
       "  -1.12527646e-01  6.95190728e-02 -3.20162028e-02 -5.36911711e-02\n",
       "   9.95094702e-02  1.40439272e-01 -6.79724216e-02 -2.71911860e-01\n",
       "  -5.87391257e-02  6.72740489e-02 -1.17955998e-01  2.29745552e-01\n",
       "   4.75157499e-02  1.09833904e-01 -6.89738244e-02  1.82738617e-01\n",
       "   3.99051867e-02  3.91077131e-01  2.82531157e-02  3.00941497e-01\n",
       "  -1.86064467e-01 -1.53441161e-01 -4.27068472e-02  1.34527713e-01\n",
       "  -2.12296713e-02 -2.10213676e-01  6.28524870e-02  7.29594529e-02\n",
       "   1.71558056e-02  2.97056120e-02 -8.19416791e-02  1.69004221e-02\n",
       "   5.70420437e-02  5.30528575e-02  2.59862214e-01  2.66213179e-01\n",
       "   5.45609035e-02  1.35378093e-01  5.36652561e-03  1.56259701e-01\n",
       "   2.03486025e-01  1.09282158e-01  2.52547532e-01 -4.16303650e-02\n",
       "  -5.84451258e-02  4.06897329e-02  2.48234928e-01 -2.06564665e-01\n",
       "  -4.66999322e-01  1.07064903e-01  2.95811415e-01  9.98573154e-02\n",
       "   1.32589549e-01 -7.78267011e-02  1.05973981e-01  1.01209000e-01\n",
       "   2.28861839e-01  1.28967334e-02  4.62079421e-03  1.39952362e-01\n",
       "  -5.50161786e-02 -8.75764042e-02 -2.29987353e-02  2.25107789e-01\n",
       "   4.53478582e-02  1.14881642e-01  3.07954531e-02 -2.56705210e-02\n",
       "   8.46513882e-02  1.43978596e-01 -1.32243000e-02 -3.37577820e-01\n",
       "  -1.21898353e-02  2.12597072e-01 -1.79379564e-02 -3.53662111e-02\n",
       "   1.37229264e-01 -1.93934858e-01  2.52613761e-02 -1.59165382e-01\n",
       "  -6.04990497e-03  1.15597174e-01  3.98873203e-02 -2.16496155e-01\n",
       "   9.76030231e-02 -3.27316523e-02  1.33283883e-01  1.97913814e-02\n",
       "   1.68084186e-02  1.82064980e-01 -2.25865081e-01  1.66993111e-01\n",
       "  -1.41603332e-02 -9.97759625e-02  1.98077649e-01 -3.01159848e-03\n",
       "   4.38635163e-02  1.17087781e-01 -7.72253098e-03  3.44213754e-01\n",
       "  -9.66854207e-03  1.42376602e-01  6.53033331e-02  3.51771377e-02\n",
       "  -5.02888858e-01 -5.88444881e-02 -5.92429712e-02 -3.99677083e-02\n",
       "   1.16457008e-01 -3.95144910e-01  3.46857794e-02  2.77371076e-03\n",
       "  -1.60265006e-02  1.85218215e-01  1.18255377e-01  8.44785348e-02\n",
       "  -4.11759177e-03  2.52686262e-01  7.64728114e-02  2.19921380e-01\n",
       "   1.43625990e-01 -7.13900030e-02 -4.62728262e-01  2.38165438e-01\n",
       "   1.83790147e-01  2.34057382e-01 -2.03209277e-02  7.46346414e-02\n",
       "   2.72993952e-01 -1.02247077e-03  4.09424454e-02  2.94276059e-01\n",
       "  -2.08171576e-01 -7.31517514e-03  2.28413463e-01  7.76382163e-02\n",
       "  -1.62249461e-01  3.31320018e-02  2.70120353e-01  6.98932335e-02\n",
       "  -1.50201753e-01  3.68926786e-02  5.69911972e-02  7.58550912e-02\n",
       "  -2.66946167e-01  1.99170411e-02  1.35479912e-01  9.61241405e-03\n",
       "   1.60438254e-01 -1.67345539e-01  1.14062324e-01  1.06284186e-01\n",
       "  -3.41954827e-02  1.07114062e-01  2.23279536e-01  9.74320769e-02\n",
       "   2.14968383e-01 -1.41546980e-01 -5.54254884e-03  4.46557179e-02\n",
       "   1.58734128e-01  1.06644042e-01  2.51265448e-02 -2.81731308e-01\n",
       "   2.15851814e-01  8.31857026e-02 -9.93062183e-03  1.96970448e-01\n",
       "   2.02946350e-01  4.39717108e-03  2.87579547e-04 -5.44859394e-02\n",
       "  -2.06319973e-01 -5.64017929e-02 -3.09672564e-01  1.34708628e-01\n",
       "   2.50870138e-01 -7.85529381e-04 -4.32647485e-03 -1.48890525e-01\n",
       "  -1.20334998e-01  4.30463292e-02  4.59084380e-03 -9.64733735e-02\n",
       "  -1.63935926e-02  1.97704554e-01  1.03734523e-01  3.06419972e-02\n",
       "  -2.73648463e-02  1.31656379e-01  1.95390821e-01  1.70914173e-01\n",
       "  -4.19856668e-01  1.76968530e-01  4.97681051e-02  8.28850046e-02\n",
       "   6.31070435e-02 -9.00175516e-03  2.10606039e-01 -2.01580554e-01\n",
       "  -9.07517970e-03  6.92963526e-02  1.12543121e-01  1.81526914e-01\n",
       "  -1.08534880e-02 -1.18260600e-01 -1.77228693e-02 -4.57851856e-04\n",
       "  -7.63271144e-03  6.04983121e-02  4.23635505e-02 -2.51850396e-01\n",
       "   9.83388051e-02  7.45106488e-02  1.40337452e-01  1.92209557e-01\n",
       "   1.82577930e-02 -2.44099915e-01  3.83723259e-01  1.50694132e-01\n",
       "  -1.96579937e-02 -1.13301955e-01  2.04649478e-01  3.78297538e-01\n",
       "   2.78644413e-02  2.90130582e-02  1.05748177e-01  1.67293385e-01\n",
       "   4.81972508e-02 -1.83957994e-01 -1.69907452e-03  1.44243330e-01\n",
       "  -2.14842265e-03 -7.19703455e-03 -1.80470198e-01  9.90580693e-02\n",
       "   1.94566786e-01  1.98664024e-01 -1.41002331e-02 -1.13829024e-01\n",
       "  -5.80763333e-02 -2.16203883e-01  1.06338970e-01  2.16930807e-01\n",
       "   6.71927333e-02  2.04950906e-02 -7.85547644e-02  8.46858770e-02\n",
       "   8.30188915e-02  5.32260314e-02 -8.55607837e-02  1.23072654e-01\n",
       "   8.80352780e-02  1.73887253e-01  1.28798082e-01 -1.02532813e-02\n",
       "  -5.51548116e-02  5.16374767e-01  1.05415851e-01  6.94479793e-02\n",
       "  -1.08459190e-01  1.49392590e-01  1.46637738e-01 -4.88004647e-02\n",
       "  -3.64536315e-01  9.46951807e-02 -6.99014682e-03  9.61752981e-02\n",
       "   2.43070424e-02 -1.86310068e-01  8.60393420e-02  4.59073037e-02]>,\n",
       " <Variable path=sequential_4/dense_layer_2/kernel, shape=(512, 512), dtype=float32, value=[[-0.15397263 -0.05963444  0.02631371 ...  0.05950936  0.04158408\n",
       "   -0.14892824]\n",
       "  [-0.01011233 -0.03999518  0.00930618 ... -0.12128723 -0.2155092\n",
       "   -0.09115811]\n",
       "  [ 0.03559158 -0.00044719  0.21101114 ... -0.10166333  0.04807992\n",
       "   -0.05461334]\n",
       "  ...\n",
       "  [ 0.07786672 -0.14963077 -0.03155444 ...  0.01697154 -0.06157869\n",
       "   -0.20270997]\n",
       "  [ 0.01966384 -0.00446464  0.09043828 ...  0.10107826 -0.0002467\n",
       "   -0.12835047]\n",
       "  [-0.03437258  0.10184243  0.01783883 ... -0.11552121  0.15109943\n",
       "   -0.00568898]]>,\n",
       " <Variable path=sequential_4/dense_layer_2/bias, shape=(512,), dtype=float32, value=[ 6.95979521e-02  2.02275425e-01  1.59507841e-01  1.23598039e-01\n",
       "   1.64766356e-01  1.93895012e-01 -1.21052586e-01  2.46681925e-02\n",
       "   1.01442598e-02  3.08464855e-01 -1.02979265e-01  7.63756111e-02\n",
       "  -1.10547170e-02  2.29891211e-01 -5.94807416e-02  2.23327577e-01\n",
       "   9.31188390e-02  1.70060277e-01 -1.00494057e-01 -1.30142033e-01\n",
       "   1.13799810e-01 -8.62766877e-02 -2.62617879e-02  2.02729523e-01\n",
       "   1.76272597e-02 -1.68198496e-01  1.37668222e-01  8.62101838e-03\n",
       "   1.03767805e-01  1.74819812e-01  3.10586751e-01 -6.92439079e-02\n",
       "   3.26913595e-02  6.17055558e-02  1.38272777e-01  2.45531395e-01\n",
       "   2.82866191e-02  2.72535145e-01  2.04929113e-01  1.05324723e-01\n",
       "   1.98871568e-01 -8.50876644e-02  6.73343986e-02  2.88554244e-02\n",
       "  -2.93163117e-02  9.29919013e-04  1.75661817e-01  2.36979783e-01\n",
       "   1.07806036e-02  4.28252406e-02 -1.02079608e-01  3.12277496e-01\n",
       "   1.94048017e-01  7.66804218e-02  1.37976408e-01  3.19205612e-01\n",
       "   6.92660958e-02  5.33135831e-02  1.11676343e-01  1.34141058e-01\n",
       "   9.99090597e-02  8.48274976e-02  1.51636928e-01 -1.60111174e-01\n",
       "   1.86017245e-01  3.07852030e-01  2.02750504e-01  7.73620000e-03\n",
       "  -2.74393465e-02  2.52730429e-01  8.28478858e-02  7.86298886e-02\n",
       "   1.45952150e-01  2.90552795e-01  1.29750088e-01  2.20764548e-01\n",
       "  -1.49963006e-01  2.32383534e-01  7.44269788e-02 -1.38138056e-01\n",
       "   6.72715455e-02 -1.70781445e-02  3.33888918e-01  7.60261565e-02\n",
       "   2.31662080e-01  1.89879432e-01 -1.63246363e-01  6.93505332e-02\n",
       "   1.44561678e-01  2.80315369e-01  7.49059767e-02  2.03496665e-01\n",
       "   4.82288487e-02  5.86771481e-02 -7.89644942e-02 -7.89038092e-02\n",
       "   2.30522797e-01  2.59705693e-01  1.92889854e-01  2.41288155e-01\n",
       "   1.53778836e-01 -7.44755492e-02  1.88784763e-01  2.28056476e-01\n",
       "  -6.18079975e-02  4.52505276e-02  3.00671965e-01  3.00720096e-01\n",
       "   2.59847283e-01  1.54768795e-01  2.40658112e-02  1.65752575e-01\n",
       "   1.63786292e-01  8.50218832e-02  2.28864208e-01  1.50461644e-01\n",
       "  -7.37409741e-02 -1.90518200e-01  6.57904744e-02  8.27429444e-02\n",
       "   1.89875230e-01  1.32671371e-01  2.47345045e-01 -1.42289460e-01\n",
       "   5.18445447e-02  1.96743384e-01  1.49857122e-02  1.97326884e-01\n",
       "   2.52989590e-01  2.47230127e-01  1.46569416e-01 -3.11541706e-02\n",
       "   1.15084276e-01 -2.82335076e-02  1.82589382e-01  1.60493210e-01\n",
       "   2.56483734e-01  2.18245983e-01 -7.17386901e-02  7.63209760e-02\n",
       "   4.96292226e-02 -9.83946249e-02  2.67519295e-01  1.31416053e-01\n",
       "  -1.15395099e-01 -1.75367575e-02 -9.02865306e-02 -3.03561203e-02\n",
       "   2.66141742e-01  2.08491504e-01  1.24556564e-01  2.70929970e-02\n",
       "   4.75241989e-02  3.06192674e-02  7.63850138e-02 -1.88600328e-02\n",
       "  -5.15401028e-02 -1.79821208e-01  5.22615574e-02  1.71547264e-01\n",
       "  -1.53692901e-01  1.28594488e-01  3.53672355e-02 -9.43302140e-02\n",
       "   9.55523774e-02  1.15614302e-01 -8.12960491e-02  1.12499438e-01\n",
       "   4.78846878e-02  3.01149581e-02  1.67289793e-01 -4.58463002e-03\n",
       "   1.10192887e-01  2.48251818e-02  2.10109577e-02 -9.20870900e-02\n",
       "   2.91082561e-01  1.88039139e-01  7.51339719e-02  1.12950765e-01\n",
       "   3.06977928e-01  2.03300372e-01  1.09741732e-01  9.97121409e-02\n",
       "  -8.81188810e-02  6.93592355e-02  2.32709106e-02  1.14701770e-01\n",
       "  -1.37009323e-01 -8.64799246e-02 -1.96687989e-02  8.60478058e-02\n",
       "   8.53676498e-02  2.39207491e-01  1.50745576e-02  1.79454759e-01\n",
       "   1.66642174e-01  8.72263089e-02  1.80257663e-01 -1.21531114e-02\n",
       "   1.89344868e-01  2.21042931e-02  1.22106159e-02  1.38207838e-01\n",
       "   1.84657142e-01 -1.02422692e-01  1.78198591e-01  1.63480029e-01\n",
       "   3.11385632e-01  2.38102108e-01  1.44686952e-01  7.00920597e-02\n",
       "   1.90495268e-01  2.01608494e-01  9.63109136e-02 -1.19958697e-02\n",
       "   2.49786079e-01  1.00795746e-01  1.39290139e-01  1.58754855e-01\n",
       "   3.01475704e-01 -1.62211418e-01 -3.96117801e-04  1.20406471e-01\n",
       "   1.90968484e-01  5.44595942e-02  1.31238148e-01 -2.30435356e-02\n",
       "  -1.05947457e-01  6.13828003e-02 -1.28310710e-01  1.96357235e-01\n",
       "   2.58837402e-01  2.37402450e-02  2.92203128e-02  1.34355098e-01\n",
       "  -1.57015860e-01  7.44287968e-02  5.25884852e-02  1.29212684e-04\n",
       "  -3.12202163e-02  2.60031372e-01  2.08355952e-02 -7.45345205e-02\n",
       "   1.10263206e-01  2.35695064e-01  1.03341877e-01  1.55762479e-01\n",
       "   3.73837887e-03 -2.20669806e-01  1.75318226e-01  6.53910860e-02\n",
       "   1.25832796e-01 -3.47538032e-02  9.57060009e-02  1.52341984e-02\n",
       "   1.04926392e-01  1.98435813e-01  2.06050426e-01 -2.32368968e-02\n",
       "   8.11238363e-02  1.62748232e-01  9.28177685e-02  2.35263318e-01\n",
       "  -2.40869448e-01  1.43132627e-01  3.06271017e-01 -1.44793559e-02\n",
       "   1.04619905e-01  1.89487383e-01  4.75784279e-02  2.07626760e-01\n",
       "   1.00016311e-01 -3.61179486e-02  1.09085962e-01  4.29519005e-02\n",
       "  -1.00628138e-01  1.23636819e-01  2.39743106e-02  1.52085140e-01\n",
       "   1.11635886e-01  1.49664566e-01  2.66829789e-01  2.08948180e-01\n",
       "   1.47034034e-01  1.34909555e-01  2.66717881e-01 -7.92448744e-02\n",
       "   1.08522721e-01  8.37817565e-02  1.71932206e-01  7.24401847e-02\n",
       "   2.32763290e-02  3.70608419e-02  2.53124982e-01  1.43245339e-01\n",
       "   1.09287143e-01  1.18433192e-01  1.42391950e-01  1.59006312e-01\n",
       "   1.47780348e-02 -5.51784858e-02  2.04402268e-01  3.17229390e-01\n",
       "   7.57010058e-02  1.58190832e-01  1.68049872e-01  9.86865759e-02\n",
       "   8.35319981e-02 -2.62673269e-03  1.63695633e-01  1.51014492e-01\n",
       "   8.75482634e-02 -1.48283660e-01  4.92538661e-02  1.93980172e-01\n",
       "   1.93716869e-01  4.81898151e-02  4.27242070e-02  1.82215020e-01\n",
       "   1.31477183e-02  1.46505907e-01  2.93867737e-01  2.09300280e-01\n",
       "   2.03690335e-01 -2.59317346e-02  3.65531491e-03 -1.09117612e-01\n",
       "   2.07129538e-01 -4.27518487e-02 -3.76861617e-02  1.33372754e-01\n",
       "   1.15142064e-02 -9.97408703e-02  2.36439645e-01  1.14480674e-01\n",
       "  -4.31226492e-02  1.78250283e-01  1.87471449e-01  2.44437262e-01\n",
       "   1.31475076e-01  5.80540150e-02  1.81313530e-01  2.27681503e-01\n",
       "  -5.52952616e-03 -3.04568596e-02  3.26505214e-01  8.73445868e-02\n",
       "   5.69871999e-02 -2.11940154e-01 -2.68659815e-02  1.16850786e-01\n",
       "   2.57135816e-02  1.40790984e-01 -2.14523822e-02  5.14351912e-02\n",
       "   2.47662112e-01 -1.06103063e-01  2.04223797e-01  1.52034119e-01\n",
       "   3.00785631e-01  1.19810384e-02  8.05677623e-02  1.11378422e-02\n",
       "   1.11981533e-01  1.40492544e-01  1.57303169e-01  5.50359786e-02\n",
       "   1.07712336e-01 -6.36537895e-02 -1.83761008e-02  2.06231698e-01\n",
       "   2.66344070e-01  2.74203956e-01  2.95181815e-02  6.44115433e-02\n",
       "   1.35389507e-01  4.94986326e-02 -2.72587817e-02  2.00906813e-01\n",
       "   2.64006793e-01  9.04989019e-02  1.52477832e-03 -1.79538116e-01\n",
       "   1.97138846e-01  2.62098432e-01 -5.26022315e-02 -1.02974929e-01\n",
       "   9.17285383e-02  2.04484925e-01 -1.77371219e-01  1.95713744e-01\n",
       "   1.62052944e-01  7.89691508e-02  2.60826051e-01 -3.54109854e-02\n",
       "  -1.59918711e-01 -2.47198865e-02 -1.92062482e-01  1.16131231e-01\n",
       "   1.37912616e-01  3.55177000e-02  8.93054530e-03  3.90931703e-02\n",
       "  -1.15751363e-02 -1.95512727e-01  1.43925890e-01  2.22383246e-01\n",
       "   1.03172816e-01  9.20907184e-02 -3.98223922e-02  1.07122831e-01\n",
       "   2.30798259e-01  1.20341040e-01  2.36935988e-01 -1.07242875e-01\n",
       "   1.47196949e-01  2.51373708e-01  1.67710036e-01  1.72835499e-01\n",
       "   1.33150160e-01  7.57524222e-02  1.08380057e-01  1.41042769e-01\n",
       "   2.08796486e-01 -1.33242412e-02  2.02115357e-01 -1.18642069e-01\n",
       "   2.09102154e-01  2.87546307e-01  4.56776954e-02  2.62679309e-01\n",
       "  -2.28320971e-01  2.05353927e-02  2.75928676e-01  1.73188910e-01\n",
       "   1.85603648e-01  2.39111915e-01  7.86314905e-02  5.20930588e-02\n",
       "   2.55646586e-01  2.26717770e-01  2.28947654e-01 -8.15008488e-03\n",
       "   1.41288146e-01 -1.27666011e-01  2.30738103e-01 -5.66449799e-02\n",
       "  -1.16917863e-02  2.95487136e-01  2.21478328e-01  3.86088789e-01\n",
       "   2.06315368e-01  1.12435162e-01 -1.04378432e-01 -8.52117315e-02\n",
       "  -6.92558475e-03  2.17114434e-01  1.75236851e-01  1.09611019e-01\n",
       "   3.05189908e-01  2.45520204e-01  1.61538139e-01  2.98736002e-02\n",
       "   4.25416119e-02 -6.88027442e-02  9.90308821e-02  8.76898915e-02\n",
       "   1.33022755e-01 -8.15922618e-02 -3.30674872e-02  2.31325090e-01\n",
       "   1.11020103e-01  1.44438505e-01  1.18461311e-01  4.05054502e-02\n",
       "   2.52396315e-01  1.29709706e-01 -5.17159095e-03  2.18520164e-01\n",
       "   1.62149757e-01  2.08018288e-01  2.39739660e-03 -2.04099994e-02\n",
       "   6.11278303e-02  4.22959812e-02  5.80819324e-02 -6.29364774e-02\n",
       "   3.64379548e-02  6.55056238e-02  7.28334580e-03  1.33250237e-01\n",
       "   3.10489416e-01  1.65982142e-01 -4.06220369e-02  1.01605676e-01\n",
       "  -3.45769897e-02  2.17023835e-01  1.98150724e-01  6.06831759e-02\n",
       "   2.00116858e-01 -4.63603847e-02  1.36688635e-01  1.91209942e-01\n",
       "   2.70493533e-02  8.52021482e-03  1.91457629e-01  2.78221130e-01\n",
       "   2.47225165e-01  7.63932392e-02  2.15932563e-01 -6.38428703e-02]>,\n",
       " <Variable path=sequential_4/dense_layer_3/kernel, shape=(512, 10), dtype=float32, value=[[ 0.10727096 -0.1926609  -0.01772105 ... -0.03210256  0.03248771\n",
       "   -0.02252947]\n",
       "  [-0.13860267 -0.04498805 -0.00061021 ...  0.04361512  0.06199843\n",
       "   -0.08120282]\n",
       "  [ 0.09866802 -0.16082613  0.08017689 ... -0.17761566  0.11187547\n",
       "   -0.08322671]\n",
       "  ...\n",
       "  [-0.00507793 -0.13448897  0.07307333 ... -0.09942392 -0.25490123\n",
       "    0.00531828]\n",
       "  [-0.17159517 -0.40271956 -0.09654456 ...  0.13317095  0.09374285\n",
       "    0.02448576]\n",
       "  [-0.03970797  0.20974734  0.03569337 ... -0.12158329 -0.11018956\n",
       "   -0.10194261]]>,\n",
       " <Variable path=sequential_4/dense_layer_3/bias, shape=(10,), dtype=float32, value=[-0.03968833 -0.35655662  0.10179963  0.25084886 -0.13275841 -0.09577582\n",
       "   0.02866391  0.14905423 -0.01260763 -0.14349826]>]"
      ]
     },
     "execution_count": 54,
     "metadata": {},
     "output_type": "execute_result"
    }
   ],
   "source": [
    "model_4.weights"
   ]
  },
  {
   "cell_type": "code",
   "execution_count": null,
   "metadata": {
    "colab": {
     "base_uri": "https://localhost:8080/"
    },
    "executionInfo": {
     "elapsed": 18,
     "status": "ok",
     "timestamp": 1742671593682,
     "user": {
      "displayName": "A_52_Priyank Maheshwari",
      "userId": "00590290924200288402"
     },
     "user_tz": -330
    },
    "id": "TLSWG-i5E8PS",
    "outputId": "b37100aa-cd30-4086-8205-23fcd7117ba2"
   },
   "outputs": [
    {
     "data": {
      "text/plain": [
       "{'name': 'sequential_4',\n",
       " 'trainable': True,\n",
       " 'dtype': {'module': 'keras',\n",
       "  'class_name': 'DTypePolicy',\n",
       "  'config': {'name': 'float32'},\n",
       "  'registered_name': None},\n",
       " 'layers': [{'module': 'keras.layers',\n",
       "   'class_name': 'InputLayer',\n",
       "   'config': {'batch_shape': (None, 784),\n",
       "    'dtype': 'float32',\n",
       "    'sparse': False,\n",
       "    'name': 'input_layer_4'},\n",
       "   'registered_name': None},\n",
       "  {'module': 'keras.layers',\n",
       "   'class_name': 'Dense',\n",
       "   'config': {'name': 'dense_layer',\n",
       "    'trainable': True,\n",
       "    'dtype': {'module': 'keras',\n",
       "     'class_name': 'DTypePolicy',\n",
       "     'config': {'name': 'float32'},\n",
       "     'registered_name': None},\n",
       "    'units': 512,\n",
       "    'activation': 'relu',\n",
       "    'use_bias': True,\n",
       "    'kernel_initializer': {'module': 'keras.initializers',\n",
       "     'class_name': 'GlorotUniform',\n",
       "     'config': {'seed': None},\n",
       "     'registered_name': None},\n",
       "    'bias_initializer': {'module': 'keras.initializers',\n",
       "     'class_name': 'Zeros',\n",
       "     'config': {},\n",
       "     'registered_name': None},\n",
       "    'kernel_regularizer': None,\n",
       "    'bias_regularizer': None,\n",
       "    'kernel_constraint': None,\n",
       "    'bias_constraint': None},\n",
       "   'registered_name': None,\n",
       "   'build_config': {'input_shape': (None, 784)}},\n",
       "  {'module': 'keras.layers',\n",
       "   'class_name': 'Dropout',\n",
       "   'config': {'name': 'dropout_4',\n",
       "    'trainable': True,\n",
       "    'dtype': {'module': 'keras',\n",
       "     'class_name': 'DTypePolicy',\n",
       "     'config': {'name': 'float32'},\n",
       "     'registered_name': None},\n",
       "    'rate': 0.3,\n",
       "    'seed': None,\n",
       "    'noise_shape': None},\n",
       "   'registered_name': None},\n",
       "  {'module': 'keras.layers',\n",
       "   'class_name': 'Dense',\n",
       "   'config': {'name': 'dense_layer_2',\n",
       "    'trainable': True,\n",
       "    'dtype': {'module': 'keras',\n",
       "     'class_name': 'DTypePolicy',\n",
       "     'config': {'name': 'float32'},\n",
       "     'registered_name': None},\n",
       "    'units': 512,\n",
       "    'activation': 'relu',\n",
       "    'use_bias': True,\n",
       "    'kernel_initializer': {'module': 'keras.initializers',\n",
       "     'class_name': 'GlorotUniform',\n",
       "     'config': {'seed': None},\n",
       "     'registered_name': None},\n",
       "    'bias_initializer': {'module': 'keras.initializers',\n",
       "     'class_name': 'Zeros',\n",
       "     'config': {},\n",
       "     'registered_name': None},\n",
       "    'kernel_regularizer': None,\n",
       "    'bias_regularizer': None,\n",
       "    'kernel_constraint': None,\n",
       "    'bias_constraint': None},\n",
       "   'registered_name': None,\n",
       "   'build_config': {'input_shape': (None, 512)}},\n",
       "  {'module': 'keras.layers',\n",
       "   'class_name': 'Dropout',\n",
       "   'config': {'name': 'dropout_5',\n",
       "    'trainable': True,\n",
       "    'dtype': {'module': 'keras',\n",
       "     'class_name': 'DTypePolicy',\n",
       "     'config': {'name': 'float32'},\n",
       "     'registered_name': None},\n",
       "    'rate': 0.3,\n",
       "    'seed': None,\n",
       "    'noise_shape': None},\n",
       "   'registered_name': None},\n",
       "  {'module': 'keras.layers',\n",
       "   'class_name': 'Dense',\n",
       "   'config': {'name': 'dense_layer_3',\n",
       "    'trainable': True,\n",
       "    'dtype': {'module': 'keras',\n",
       "     'class_name': 'DTypePolicy',\n",
       "     'config': {'name': 'float32'},\n",
       "     'registered_name': None},\n",
       "    'units': 10,\n",
       "    'activation': 'softmax',\n",
       "    'use_bias': True,\n",
       "    'kernel_initializer': {'module': 'keras.initializers',\n",
       "     'class_name': 'GlorotUniform',\n",
       "     'config': {'seed': None},\n",
       "     'registered_name': None},\n",
       "    'bias_initializer': {'module': 'keras.initializers',\n",
       "     'class_name': 'Zeros',\n",
       "     'config': {},\n",
       "     'registered_name': None},\n",
       "    'kernel_regularizer': None,\n",
       "    'bias_regularizer': None,\n",
       "    'kernel_constraint': None,\n",
       "    'bias_constraint': None},\n",
       "   'registered_name': None,\n",
       "   'build_config': {'input_shape': (None, 512)}}],\n",
       " 'build_input_shape': (None, 784)}"
      ]
     },
     "execution_count": 55,
     "metadata": {},
     "output_type": "execute_result"
    }
   ],
   "source": [
    "model_4.get_config()"
   ]
  },
  {
   "cell_type": "markdown",
   "metadata": {
    "id": "1ZGu68xfFCL6"
   },
   "source": [
    "#### Improved Model 5: Manipulating the batch size"
   ]
  },
  {
   "cell_type": "code",
   "execution_count": null,
   "metadata": {
    "executionInfo": {
     "elapsed": 25,
     "status": "ok",
     "timestamp": 1742671593708,
     "user": {
      "displayName": "A_52_Priyank Maheshwari",
      "userId": "00590290924200288402"
     },
     "user_tz": -330
    },
    "id": "O87KE28eE_QS"
   },
   "outputs": [],
   "source": [
    "#Most common type of model is a stack of layers\n",
    "model_5 = tf.keras.Sequential()\n",
    "N_hidden = 512\n",
    "\n",
    "# Adding a densely-connected layer with 64 units to the model:\n",
    "model_5.add(Dense(N_hidden, name='dense_layer', input_shape=(784,), activation = 'relu'))\n",
    "\n",
    "# Now the model will take as input arrays of shape (*, 784)# and output arrays of shape (*, 64)\n",
    "model_5.add(Dropout(0.3))\n",
    "\n",
    "# Adding another dense layer:\n",
    "model_5.add(Dense(N_hidden, name='dense_layer_2', activation='relu'))\n",
    "model_5.add(Dropout(0.3))\n",
    "\n",
    "# After the first layer, you don't need to specify\n",
    "# the size of the input anymore:\n",
    "# Add an output layer with 10 output units (10 different classes):\n",
    "model_5.add(Dense(10, name='dense_layer_3', activation = 'softmax'))"
   ]
  },
  {
   "cell_type": "code",
   "execution_count": null,
   "metadata": {
    "executionInfo": {
     "elapsed": 8,
     "status": "ok",
     "timestamp": 1742671593713,
     "user": {
      "displayName": "A_52_Priyank Maheshwari",
      "userId": "00590290924200288402"
     },
     "user_tz": -330
    },
    "id": "WzZlM5lUFKZS"
   },
   "outputs": [],
   "source": [
    "# Compiling the model.\n",
    "model_5.compile(optimizer='Adam', loss='categorical_crossentropy', metrics=['accuracy'])"
   ]
  },
  {
   "cell_type": "code",
   "execution_count": null,
   "metadata": {
    "colab": {
     "base_uri": "https://localhost:8080/"
    },
    "executionInfo": {
     "elapsed": 89638,
     "status": "ok",
     "timestamp": 1742671683354,
     "user": {
      "displayName": "A_52_Priyank Maheshwari",
      "userId": "00590290924200288402"
     },
     "user_tz": -330
    },
    "id": "5tc14aEcFOVi",
    "outputId": "32903f71-1817-4119-9248-8ce0a142036e"
   },
   "outputs": [
    {
     "name": "stdout",
     "output_type": "stream",
     "text": [
      "Epoch 1/30\n",
      "\u001b[1m750/750\u001b[0m \u001b[32m━━━━━━━━━━━━━━━━━━━━\u001b[0m\u001b[37m\u001b[0m \u001b[1m6s\u001b[0m 4ms/step - accuracy: 0.7436 - loss: 0.7133 - val_accuracy: 0.8521 - val_loss: 0.4025\n",
      "Epoch 2/30\n",
      "\u001b[1m750/750\u001b[0m \u001b[32m━━━━━━━━━━━━━━━━━━━━\u001b[0m\u001b[37m\u001b[0m \u001b[1m2s\u001b[0m 3ms/step - accuracy: 0.8437 - loss: 0.4312 - val_accuracy: 0.8616 - val_loss: 0.3946\n",
      "Epoch 3/30\n",
      "\u001b[1m750/750\u001b[0m \u001b[32m━━━━━━━━━━━━━━━━━━━━\u001b[0m\u001b[37m\u001b[0m \u001b[1m2s\u001b[0m 3ms/step - accuracy: 0.8587 - loss: 0.3874 - val_accuracy: 0.8597 - val_loss: 0.3766\n",
      "Epoch 4/30\n",
      "\u001b[1m750/750\u001b[0m \u001b[32m━━━━━━━━━━━━━━━━━━━━\u001b[0m\u001b[37m\u001b[0m \u001b[1m3s\u001b[0m 4ms/step - accuracy: 0.8678 - loss: 0.3612 - val_accuracy: 0.8775 - val_loss: 0.3323\n",
      "Epoch 5/30\n",
      "\u001b[1m750/750\u001b[0m \u001b[32m━━━━━━━━━━━━━━━━━━━━\u001b[0m\u001b[37m\u001b[0m \u001b[1m2s\u001b[0m 3ms/step - accuracy: 0.8741 - loss: 0.3447 - val_accuracy: 0.8774 - val_loss: 0.3391\n",
      "Epoch 6/30\n",
      "\u001b[1m750/750\u001b[0m \u001b[32m━━━━━━━━━━━━━━━━━━━━\u001b[0m\u001b[37m\u001b[0m \u001b[1m3s\u001b[0m 3ms/step - accuracy: 0.8766 - loss: 0.3335 - val_accuracy: 0.8798 - val_loss: 0.3335\n",
      "Epoch 7/30\n",
      "\u001b[1m750/750\u001b[0m \u001b[32m━━━━━━━━━━━━━━━━━━━━\u001b[0m\u001b[37m\u001b[0m \u001b[1m3s\u001b[0m 3ms/step - accuracy: 0.8789 - loss: 0.3266 - val_accuracy: 0.8817 - val_loss: 0.3180\n",
      "Epoch 8/30\n",
      "\u001b[1m750/750\u001b[0m \u001b[32m━━━━━━━━━━━━━━━━━━━━\u001b[0m\u001b[37m\u001b[0m \u001b[1m2s\u001b[0m 3ms/step - accuracy: 0.8846 - loss: 0.3082 - val_accuracy: 0.8838 - val_loss: 0.3201\n",
      "Epoch 9/30\n",
      "\u001b[1m750/750\u001b[0m \u001b[32m━━━━━━━━━━━━━━━━━━━━\u001b[0m\u001b[37m\u001b[0m \u001b[1m3s\u001b[0m 4ms/step - accuracy: 0.8870 - loss: 0.3014 - val_accuracy: 0.8838 - val_loss: 0.3238\n",
      "Epoch 10/30\n",
      "\u001b[1m750/750\u001b[0m \u001b[32m━━━━━━━━━━━━━━━━━━━━\u001b[0m\u001b[37m\u001b[0m \u001b[1m5s\u001b[0m 3ms/step - accuracy: 0.8884 - loss: 0.2954 - val_accuracy: 0.8866 - val_loss: 0.3117\n",
      "Epoch 11/30\n",
      "\u001b[1m750/750\u001b[0m \u001b[32m━━━━━━━━━━━━━━━━━━━━\u001b[0m\u001b[37m\u001b[0m \u001b[1m2s\u001b[0m 3ms/step - accuracy: 0.8931 - loss: 0.2856 - val_accuracy: 0.8875 - val_loss: 0.3092\n",
      "Epoch 12/30\n",
      "\u001b[1m750/750\u001b[0m \u001b[32m━━━━━━━━━━━━━━━━━━━━\u001b[0m\u001b[37m\u001b[0m \u001b[1m2s\u001b[0m 3ms/step - accuracy: 0.8928 - loss: 0.2823 - val_accuracy: 0.8862 - val_loss: 0.3185\n",
      "Epoch 13/30\n",
      "\u001b[1m750/750\u001b[0m \u001b[32m━━━━━━━━━━━━━━━━━━━━\u001b[0m\u001b[37m\u001b[0m \u001b[1m3s\u001b[0m 4ms/step - accuracy: 0.8958 - loss: 0.2789 - val_accuracy: 0.8916 - val_loss: 0.3079\n",
      "Epoch 14/30\n",
      "\u001b[1m750/750\u001b[0m \u001b[32m━━━━━━━━━━━━━━━━━━━━\u001b[0m\u001b[37m\u001b[0m \u001b[1m5s\u001b[0m 3ms/step - accuracy: 0.8962 - loss: 0.2704 - val_accuracy: 0.8841 - val_loss: 0.3211\n",
      "Epoch 15/30\n",
      "\u001b[1m750/750\u001b[0m \u001b[32m━━━━━━━━━━━━━━━━━━━━\u001b[0m\u001b[37m\u001b[0m \u001b[1m3s\u001b[0m 3ms/step - accuracy: 0.8979 - loss: 0.2672 - val_accuracy: 0.8873 - val_loss: 0.3223\n",
      "Epoch 16/30\n",
      "\u001b[1m750/750\u001b[0m \u001b[32m━━━━━━━━━━━━━━━━━━━━\u001b[0m\u001b[37m\u001b[0m \u001b[1m2s\u001b[0m 3ms/step - accuracy: 0.8994 - loss: 0.2646 - val_accuracy: 0.8867 - val_loss: 0.3107\n",
      "Epoch 17/30\n",
      "\u001b[1m750/750\u001b[0m \u001b[32m━━━━━━━━━━━━━━━━━━━━\u001b[0m\u001b[37m\u001b[0m \u001b[1m3s\u001b[0m 4ms/step - accuracy: 0.9028 - loss: 0.2537 - val_accuracy: 0.8786 - val_loss: 0.3261\n",
      "Epoch 18/30\n",
      "\u001b[1m750/750\u001b[0m \u001b[32m━━━━━━━━━━━━━━━━━━━━\u001b[0m\u001b[37m\u001b[0m \u001b[1m5s\u001b[0m 3ms/step - accuracy: 0.9042 - loss: 0.2539 - val_accuracy: 0.8923 - val_loss: 0.3014\n",
      "Epoch 19/30\n",
      "\u001b[1m750/750\u001b[0m \u001b[32m━━━━━━━━━━━━━━━━━━━━\u001b[0m\u001b[37m\u001b[0m \u001b[1m3s\u001b[0m 3ms/step - accuracy: 0.9030 - loss: 0.2549 - val_accuracy: 0.8928 - val_loss: 0.2961\n",
      "Epoch 20/30\n",
      "\u001b[1m750/750\u001b[0m \u001b[32m━━━━━━━━━━━━━━━━━━━━\u001b[0m\u001b[37m\u001b[0m \u001b[1m3s\u001b[0m 3ms/step - accuracy: 0.9068 - loss: 0.2458 - val_accuracy: 0.8938 - val_loss: 0.3026\n",
      "Epoch 21/30\n",
      "\u001b[1m750/750\u001b[0m \u001b[32m━━━━━━━━━━━━━━━━━━━━\u001b[0m\u001b[37m\u001b[0m \u001b[1m3s\u001b[0m 4ms/step - accuracy: 0.9087 - loss: 0.2377 - val_accuracy: 0.8918 - val_loss: 0.3055\n",
      "Epoch 22/30\n",
      "\u001b[1m750/750\u001b[0m \u001b[32m━━━━━━━━━━━━━━━━━━━━\u001b[0m\u001b[37m\u001b[0m \u001b[1m2s\u001b[0m 3ms/step - accuracy: 0.9093 - loss: 0.2403 - val_accuracy: 0.8898 - val_loss: 0.3161\n",
      "Epoch 23/30\n",
      "\u001b[1m750/750\u001b[0m \u001b[32m━━━━━━━━━━━━━━━━━━━━\u001b[0m\u001b[37m\u001b[0m \u001b[1m3s\u001b[0m 3ms/step - accuracy: 0.9103 - loss: 0.2396 - val_accuracy: 0.8953 - val_loss: 0.2993\n",
      "Epoch 24/30\n",
      "\u001b[1m750/750\u001b[0m \u001b[32m━━━━━━━━━━━━━━━━━━━━\u001b[0m\u001b[37m\u001b[0m \u001b[1m2s\u001b[0m 3ms/step - accuracy: 0.9134 - loss: 0.2293 - val_accuracy: 0.8923 - val_loss: 0.3120\n",
      "Epoch 25/30\n",
      "\u001b[1m750/750\u001b[0m \u001b[32m━━━━━━━━━━━━━━━━━━━━\u001b[0m\u001b[37m\u001b[0m \u001b[1m3s\u001b[0m 4ms/step - accuracy: 0.9129 - loss: 0.2325 - val_accuracy: 0.8919 - val_loss: 0.3151\n",
      "Epoch 26/30\n",
      "\u001b[1m750/750\u001b[0m \u001b[32m━━━━━━━━━━━━━━━━━━━━\u001b[0m\u001b[37m\u001b[0m \u001b[1m5s\u001b[0m 3ms/step - accuracy: 0.9123 - loss: 0.2355 - val_accuracy: 0.8941 - val_loss: 0.2975\n",
      "Epoch 27/30\n",
      "\u001b[1m750/750\u001b[0m \u001b[32m━━━━━━━━━━━━━━━━━━━━\u001b[0m\u001b[37m\u001b[0m \u001b[1m2s\u001b[0m 3ms/step - accuracy: 0.9132 - loss: 0.2285 - val_accuracy: 0.8935 - val_loss: 0.3215\n",
      "Epoch 28/30\n",
      "\u001b[1m750/750\u001b[0m \u001b[32m━━━━━━━━━━━━━━━━━━━━\u001b[0m\u001b[37m\u001b[0m \u001b[1m2s\u001b[0m 3ms/step - accuracy: 0.9170 - loss: 0.2201 - val_accuracy: 0.8935 - val_loss: 0.3108\n",
      "Epoch 29/30\n",
      "\u001b[1m750/750\u001b[0m \u001b[32m━━━━━━━━━━━━━━━━━━━━\u001b[0m\u001b[37m\u001b[0m \u001b[1m3s\u001b[0m 4ms/step - accuracy: 0.9164 - loss: 0.2174 - val_accuracy: 0.8924 - val_loss: 0.3268\n",
      "Epoch 30/30\n",
      "\u001b[1m750/750\u001b[0m \u001b[32m━━━━━━━━━━━━━━━━━━━━\u001b[0m\u001b[37m\u001b[0m \u001b[1m2s\u001b[0m 3ms/step - accuracy: 0.9166 - loss: 0.2217 - val_accuracy: 0.8971 - val_loss: 0.3178\n"
     ]
    }
   ],
   "source": [
    "# Training the model.\n",
    "training = model_5.fit(X_train, Y_train, batch_size=64, epochs=30, validation_split=0.2)"
   ]
  },
  {
   "cell_type": "code",
   "execution_count": null,
   "metadata": {
    "colab": {
     "base_uri": "https://localhost:8080/"
    },
    "executionInfo": {
     "elapsed": 30,
     "status": "ok",
     "timestamp": 1742671683388,
     "user": {
      "displayName": "A_52_Priyank Maheshwari",
      "userId": "00590290924200288402"
     },
     "user_tz": -330
    },
    "id": "zYR1rIPfFRL6",
    "outputId": "5498cb7e-2a6f-4f58-e4e1-ee5389dfc74b"
   },
   "outputs": [
    {
     "name": "stdout",
     "output_type": "stream",
     "text": [
      "dict_keys(['accuracy', 'loss', 'val_accuracy', 'val_loss'])\n"
     ]
    }
   ],
   "source": [
    "import matplotlib.pyplot as plt\n",
    "%matplotlib inline\n",
    "\n",
    "print(training.history.keys())"
   ]
  },
  {
   "cell_type": "code",
   "execution_count": null,
   "metadata": {
    "colab": {
     "base_uri": "https://localhost:8080/",
     "height": 472
    },
    "executionInfo": {
     "elapsed": 130,
     "status": "ok",
     "timestamp": 1742671683520,
     "user": {
      "displayName": "A_52_Priyank Maheshwari",
      "userId": "00590290924200288402"
     },
     "user_tz": -330
    },
    "id": "3qsmd9P9FW2j",
    "outputId": "72c58ed1-45a0-42a4-95e9-e5916ca44506"
   },
   "outputs": [
    {
     "data": {
      "image/png": "[encoded data removed]",
      "text/plain": [
       "<Figure size 640x480 with 1 Axes>"
      ]
     },
     "metadata": {},
     "output_type": "display_data"
    }
   ],
   "source": [
    "# Summarizing training for accuracy\n",
    "plt.plot(training.history['accuracy'])\n",
    "plt.plot(training.history['val_accuracy'])\n",
    "plt.title('model accuracy')\n",
    "plt.ylabel('accuracy')\n",
    "plt.xlabel('epoch')\n",
    "plt.legend(['train', 'test'], loc='upper left')\n",
    "plt.show()"
   ]
  },
  {
   "cell_type": "code",
   "execution_count": null,
   "metadata": {
    "colab": {
     "base_uri": "https://localhost:8080/",
     "height": 472
    },
    "executionInfo": {
     "elapsed": 123,
     "status": "ok",
     "timestamp": 1742671683645,
     "user": {
      "displayName": "A_52_Priyank Maheshwari",
      "userId": "00590290924200288402"
     },
     "user_tz": -330
    },
    "id": "7bxndyTAFcri",
    "outputId": "91304b67-891b-403b-f418-5688383bfcd5"
   },
   "outputs": [
    {
     "data": {
      "image/png": "[encoded data removed]",
      "text/plain": [
       "<Figure size 640x480 with 1 Axes>"
      ]
     },
     "metadata": {},
     "output_type": "display_data"
    }
   ],
   "source": [
    "# Summarizing traning for loss\n",
    "plt.plot(training.history['loss'])\n",
    "plt.plot(training.history['val_loss'])\n",
    "plt.title('model loss')\n",
    "plt.ylabel('loss')\n",
    "plt.xlabel('epoch')\n",
    "plt.legend(['train', 'test'], loc='upper left')\n",
    "plt.show()"
   ]
  },
  {
   "cell_type": "code",
   "execution_count": null,
   "metadata": {
    "colab": {
     "base_uri": "https://localhost:8080/"
    },
    "executionInfo": {
     "elapsed": 920,
     "status": "ok",
     "timestamp": 1742671684567,
     "user": {
      "displayName": "A_52_Priyank Maheshwari",
      "userId": "00590290924200288402"
     },
     "user_tz": -330
    },
    "id": "YfCGuzQZFhbK",
    "outputId": "4afc89f5-6fa3-4d50-850d-d3534657ffbf"
   },
   "outputs": [
    {
     "name": "stdout",
     "output_type": "stream",
     "text": [
      "\u001b[1m313/313\u001b[0m \u001b[32m━━━━━━━━━━━━━━━━━━━━\u001b[0m\u001b[37m\u001b[0m \u001b[1m1s\u001b[0m 3ms/step - accuracy: 0.8898 - loss: 0.3342\n",
      "Test accuracy: 0.8876000046730042\n"
     ]
    }
   ],
   "source": [
    "#Evaluating the model\n",
    "test_loss, test_acc = model_5.evaluate(X_test, Y_test)\n",
    "print('Test accuracy:', test_acc)"
   ]
  },
  {
   "cell_type": "code",
   "execution_count": null,
   "metadata": {
    "colab": {
     "base_uri": "https://localhost:8080/",
     "height": 323
    },
    "executionInfo": {
     "elapsed": 67,
     "status": "ok",
     "timestamp": 1742671684639,
     "user": {
      "displayName": "A_52_Priyank Maheshwari",
      "userId": "00590290924200288402"
     },
     "user_tz": -330
    },
    "id": "_O_1XvBWFlSi",
    "outputId": "2491f66a-deb9-4da5-b3f4-08f4ab004db4"
   },
   "outputs": [
    {
     "data": {
      "text/html": [
       "<pre style=\"white-space:pre;overflow-x:auto;line-height:normal;font-family:Menlo,'DejaVu Sans Mono',consolas,'Courier New',monospace\"><span style=\"font-weight: bold\">Model: \"sequential_5\"</span>\n",
       "</pre>\n"
      ],
      "text/plain": [
       "\u001b[1mModel: \"sequential_5\"\u001b[0m\n"
      ]
     },
     "metadata": {},
     "output_type": "display_data"
    },
    {
     "data": {
      "text/html": [
       "<pre style=\"white-space:pre;overflow-x:auto;line-height:normal;font-family:Menlo,'DejaVu Sans Mono',consolas,'Courier New',monospace\">┏━━━━━━━━━━━━━━━━━━━━━━━━━━━━━━━━━━━━━━┳━━━━━━━━━━━━━━━━━━━━━━━━━━━━━┳━━━━━━━━━━━━━━━━━┓\n",
       "┃<span style=\"font-weight: bold\"> Layer (type)                         </span>┃<span style=\"font-weight: bold\"> Output Shape                </span>┃<span style=\"font-weight: bold\">         Param # </span>┃\n",
       "┡━━━━━━━━━━━━━━━━━━━━━━━━━━━━━━━━━━━━━━╇━━━━━━━━━━━━━━━━━━━━━━━━━━━━━╇━━━━━━━━━━━━━━━━━┩\n",
       "│ dense_layer (<span style=\"color: #0087ff; text-decoration-color: #0087ff\">Dense</span>)                  │ (<span style=\"color: #00d7ff; text-decoration-color: #00d7ff\">None</span>, <span style=\"color: #00af00; text-decoration-color: #00af00\">512</span>)                 │         <span style=\"color: #00af00; text-decoration-color: #00af00\">401,920</span> │\n",
       "├──────────────────────────────────────┼─────────────────────────────┼─────────────────┤\n",
       "│ dropout_6 (<span style=\"color: #0087ff; text-decoration-color: #0087ff\">Dropout</span>)                  │ (<span style=\"color: #00d7ff; text-decoration-color: #00d7ff\">None</span>, <span style=\"color: #00af00; text-decoration-color: #00af00\">512</span>)                 │               <span style=\"color: #00af00; text-decoration-color: #00af00\">0</span> │\n",
       "├──────────────────────────────────────┼─────────────────────────────┼─────────────────┤\n",
       "│ dense_layer_2 (<span style=\"color: #0087ff; text-decoration-color: #0087ff\">Dense</span>)                │ (<span style=\"color: #00d7ff; text-decoration-color: #00d7ff\">None</span>, <span style=\"color: #00af00; text-decoration-color: #00af00\">512</span>)                 │         <span style=\"color: #00af00; text-decoration-color: #00af00\">262,656</span> │\n",
       "├──────────────────────────────────────┼─────────────────────────────┼─────────────────┤\n",
       "│ dropout_7 (<span style=\"color: #0087ff; text-decoration-color: #0087ff\">Dropout</span>)                  │ (<span style=\"color: #00d7ff; text-decoration-color: #00d7ff\">None</span>, <span style=\"color: #00af00; text-decoration-color: #00af00\">512</span>)                 │               <span style=\"color: #00af00; text-decoration-color: #00af00\">0</span> │\n",
       "├──────────────────────────────────────┼─────────────────────────────┼─────────────────┤\n",
       "│ dense_layer_3 (<span style=\"color: #0087ff; text-decoration-color: #0087ff\">Dense</span>)                │ (<span style=\"color: #00d7ff; text-decoration-color: #00d7ff\">None</span>, <span style=\"color: #00af00; text-decoration-color: #00af00\">10</span>)                  │           <span style=\"color: #00af00; text-decoration-color: #00af00\">5,130</span> │\n",
       "└──────────────────────────────────────┴─────────────────────────────┴─────────────────┘\n",
       "</pre>\n"
      ],
      "text/plain": [
       "┏━━━━━━━━━━━━━━━━━━━━━━━━━━━━━━━━━━━━━━┳━━━━━━━━━━━━━━━━━━━━━━━━━━━━━┳━━━━━━━━━━━━━━━━━┓\n",
       "┃\u001b[1m \u001b[0m\u001b[1mLayer (type)                        \u001b[0m\u001b[1m \u001b[0m┃\u001b[1m \u001b[0m\u001b[1mOutput Shape               \u001b[0m\u001b[1m \u001b[0m┃\u001b[1m \u001b[0m\u001b[1m        Param #\u001b[0m\u001b[1m \u001b[0m┃\n",
       "┡━━━━━━━━━━━━━━━━━━━━━━━━━━━━━━━━━━━━━━╇━━━━━━━━━━━━━━━━━━━━━━━━━━━━━╇━━━━━━━━━━━━━━━━━┩\n",
       "│ dense_layer (\u001b[38;5;33mDense\u001b[0m)                  │ (\u001b[38;5;45mNone\u001b[0m, \u001b[38;5;34m512\u001b[0m)                 │         \u001b[38;5;34m401,920\u001b[0m │\n",
       "├──────────────────────────────────────┼─────────────────────────────┼─────────────────┤\n",
       "│ dropout_6 (\u001b[38;5;33mDropout\u001b[0m)                  │ (\u001b[38;5;45mNone\u001b[0m, \u001b[38;5;34m512\u001b[0m)                 │               \u001b[38;5;34m0\u001b[0m │\n",
       "├──────────────────────────────────────┼─────────────────────────────┼─────────────────┤\n",
       "│ dense_layer_2 (\u001b[38;5;33mDense\u001b[0m)                │ (\u001b[38;5;45mNone\u001b[0m, \u001b[38;5;34m512\u001b[0m)                 │         \u001b[38;5;34m262,656\u001b[0m │\n",
       "├──────────────────────────────────────┼─────────────────────────────┼─────────────────┤\n",
       "│ dropout_7 (\u001b[38;5;33mDropout\u001b[0m)                  │ (\u001b[38;5;45mNone\u001b[0m, \u001b[38;5;34m512\u001b[0m)                 │               \u001b[38;5;34m0\u001b[0m │\n",
       "├──────────────────────────────────────┼─────────────────────────────┼─────────────────┤\n",
       "│ dense_layer_3 (\u001b[38;5;33mDense\u001b[0m)                │ (\u001b[38;5;45mNone\u001b[0m, \u001b[38;5;34m10\u001b[0m)                  │           \u001b[38;5;34m5,130\u001b[0m │\n",
       "└──────────────────────────────────────┴─────────────────────────────┴─────────────────┘\n"
      ]
     },
     "metadata": {},
     "output_type": "display_data"
    },
    {
     "data": {
      "text/html": [
       "<pre style=\"white-space:pre;overflow-x:auto;line-height:normal;font-family:Menlo,'DejaVu Sans Mono',consolas,'Courier New',monospace\"><span style=\"font-weight: bold\"> Total params: </span><span style=\"color: #00af00; text-decoration-color: #00af00\">2,009,120</span> (7.66 MB)\n",
       "</pre>\n"
      ],
      "text/plain": [
       "\u001b[1m Total params: \u001b[0m\u001b[38;5;34m2,009,120\u001b[0m (7.66 MB)\n"
      ]
     },
     "metadata": {},
     "output_type": "display_data"
    },
    {
     "data": {
      "text/html": [
       "<pre style=\"white-space:pre;overflow-x:auto;line-height:normal;font-family:Menlo,'DejaVu Sans Mono',consolas,'Courier New',monospace\"><span style=\"font-weight: bold\"> Trainable params: </span><span style=\"color: #00af00; text-decoration-color: #00af00\">669,706</span> (2.55 MB)\n",
       "</pre>\n"
      ],
      "text/plain": [
       "\u001b[1m Trainable params: \u001b[0m\u001b[38;5;34m669,706\u001b[0m (2.55 MB)\n"
      ]
     },
     "metadata": {},
     "output_type": "display_data"
    },
    {
     "data": {
      "text/html": [
       "<pre style=\"white-space:pre;overflow-x:auto;line-height:normal;font-family:Menlo,'DejaVu Sans Mono',consolas,'Courier New',monospace\"><span style=\"font-weight: bold\"> Non-trainable params: </span><span style=\"color: #00af00; text-decoration-color: #00af00\">0</span> (0.00 B)\n",
       "</pre>\n"
      ],
      "text/plain": [
       "\u001b[1m Non-trainable params: \u001b[0m\u001b[38;5;34m0\u001b[0m (0.00 B)\n"
      ]
     },
     "metadata": {},
     "output_type": "display_data"
    },
    {
     "data": {
      "text/html": [
       "<pre style=\"white-space:pre;overflow-x:auto;line-height:normal;font-family:Menlo,'DejaVu Sans Mono',consolas,'Courier New',monospace\"><span style=\"font-weight: bold\"> Optimizer params: </span><span style=\"color: #00af00; text-decoration-color: #00af00\">1,339,414</span> (5.11 MB)\n",
       "</pre>\n"
      ],
      "text/plain": [
       "\u001b[1m Optimizer params: \u001b[0m\u001b[38;5;34m1,339,414\u001b[0m (5.11 MB)\n"
      ]
     },
     "metadata": {},
     "output_type": "display_data"
    }
   ],
   "source": [
    "model_5.summary()"
   ]
  },
  {
   "cell_type": "code",
   "execution_count": null,
   "metadata": {
    "colab": {
     "base_uri": "https://localhost:8080/"
    },
    "executionInfo": {
     "elapsed": 11,
     "status": "ok",
     "timestamp": 1742671684652,
     "user": {
      "displayName": "A_52_Priyank Maheshwari",
      "userId": "00590290924200288402"
     },
     "user_tz": -330
    },
    "id": "dSDBD1a1FnxC",
    "outputId": "b08ffe32-2b85-4960-edb9-65fa9c1468ec"
   },
   "outputs": [
    {
     "data": {
      "text/plain": [
       "[<Variable path=sequential_5/dense_layer/kernel, shape=(784, 512), dtype=float32, value=[[ 0.02099827 -0.02488415  0.06189317 ...  0.02650075  0.05650564\n",
       "   -0.03760268]\n",
       "  [ 0.0326849  -0.02388162  0.01479421 ...  0.03629188  0.04916702\n",
       "    0.0189072 ]\n",
       "  [-0.03383493 -0.0603925  -0.05492549 ...  0.05379111 -0.05903924\n",
       "    0.02912284]\n",
       "  ...\n",
       "  [-0.10168745  0.02932113 -0.02353091 ... -0.1254828  -0.0020736\n",
       "   -0.03950975]\n",
       "  [ 0.00453503 -0.05151724 -0.02149657 ...  0.0262144  -0.00580992\n",
       "   -0.08680807]\n",
       "  [ 0.00211537  0.04510362 -0.05294997 ... -0.09721123  0.08946837\n",
       "   -0.07154679]]>,\n",
       " <Variable path=sequential_5/dense_layer/bias, shape=(512,), dtype=float32, value=[ 2.05316663e-01 -1.91340763e-02 -1.17593892e-02 -1.70307439e-02\n",
       "   1.38046652e-01 -1.92872286e-02  2.19552070e-01 -6.05192184e-02\n",
       "   3.71100893e-03 -1.47346497e-01  2.56879777e-01 -1.91634241e-02\n",
       "   4.34977919e-01 -4.50006500e-02  4.29542840e-01 -2.03575455e-02\n",
       "   3.78631614e-02  5.86134605e-02  3.83936822e-01 -1.01637505e-01\n",
       "   1.62005909e-02  1.70808494e-01  1.29244611e-01  1.85266346e-01\n",
       "   5.31503074e-02  4.79740016e-02  6.84615746e-02 -2.95526028e-01\n",
       "   3.75296474e-02  1.45781681e-01  2.59397980e-02  2.77586989e-02\n",
       "  -2.21213116e-03  1.14611156e-01  1.68725029e-02 -1.39876381e-02\n",
       "  -4.08081003e-02  1.40930817e-01  1.54299855e-01  3.54556382e-01\n",
       "  -1.73096657e-02  7.76746795e-02  1.23800598e-02  9.55370441e-03\n",
       "   3.16293359e-01 -3.92331602e-03 -2.71926820e-02  2.80181281e-02\n",
       "   2.70616025e-01  5.48407212e-02 -6.43019155e-02 -6.64032161e-01\n",
       "   4.21807200e-01 -5.30559709e-03 -2.48755738e-01  4.34289239e-02\n",
       "   1.72770277e-01  1.05108134e-01 -3.37471575e-01 -1.37846380e-01\n",
       "   1.67424306e-01 -7.89994299e-02  1.89205766e-01  8.68850201e-02\n",
       "   1.13367006e-01  1.28928751e-01  1.90035060e-01 -7.51844468e-03\n",
       "   2.69931972e-01 -2.01309696e-01 -1.74248978e-01  3.40874016e-01\n",
       "  -8.74628779e-03  2.07658499e-01  8.79219826e-03  3.28960061e-01\n",
       "   4.23165634e-02  1.09118544e-01 -1.42078266e-01  6.59980029e-02\n",
       "  -1.31629750e-01 -1.02190627e-02  3.85358036e-02  2.30234209e-03\n",
       "  -9.30510089e-02 -8.29870522e-01  2.19545066e-01  1.48736730e-01\n",
       "  -9.74532589e-03  8.31756666e-02  4.07393202e-02  2.25806460e-01\n",
       "   4.00471240e-01  1.32665277e-01  1.50061422e-03 -1.80161476e-01\n",
       "  -1.40719160e-01 -6.38305116e-03 -2.50282168e-01 -1.29405931e-01\n",
       "  -6.18313113e-03 -1.50242439e-02 -3.30491737e-02 -4.12490293e-02\n",
       "   1.60808593e-01  2.80986279e-01 -8.39429200e-02  2.91060835e-01\n",
       "  -8.57340917e-03  1.97470173e-01  3.63126934e-01  4.95791063e-02\n",
       "   6.72002062e-02  1.61864962e-02  1.49328873e-01  2.28149757e-01\n",
       "   2.94503361e-01 -5.92694879e-02  7.00555220e-02 -7.00217336e-02\n",
       "  -1.74950492e-02 -5.87479711e-01 -1.68622676e-02 -1.68025613e-01\n",
       "  -1.00000268e-02 -2.06066087e-01 -2.00464725e-01  1.31083280e-01\n",
       "   9.90181267e-02  3.06439437e-02  9.92015898e-02 -4.39766124e-02\n",
       "   1.82090759e-01 -1.51767097e-02  6.65660156e-03  2.94611920e-02\n",
       "   1.18273050e-01  3.76577288e-01  3.41291912e-02  4.50339913e-02\n",
       "  -9.85883921e-03 -7.62795657e-02  1.08933382e-01 -5.96495159e-03\n",
       "   4.08029974e-01  1.55493617e-01  9.56579521e-02  2.29945019e-01\n",
       "  -4.29133803e-01 -1.69255342e-02  8.63676369e-02  1.01143427e-01\n",
       "   3.58217061e-01  2.48997495e-01 -1.90691575e-02  1.24754913e-01\n",
       "  -2.36088913e-02  4.23264802e-01  1.52358502e-01 -1.29819298e-02\n",
       "   3.17550600e-01 -8.23373199e-01  3.03435236e-01  7.57052451e-02\n",
       "   1.60822630e-01 -2.38937169e-01  2.11296305e-01  4.36643451e-01\n",
       "   2.36428268e-02 -4.35258932e-02  1.72884110e-02 -2.72078872e-01\n",
       "  -2.68115073e-01  2.55010962e-01  3.39524984e-01  1.60359358e-03\n",
       "   1.83363050e-01  2.17090502e-01  4.90676332e-03 -2.45788340e-02\n",
       "   1.94681674e-01 -2.02845540e-02  1.34341151e-01 -1.04154274e-02\n",
       "   3.98562074e-01  1.71855569e-01 -3.55647840e-02  8.21738243e-02\n",
       "   1.82106793e-02 -1.44698061e-02 -2.01492250e-01  3.93175781e-02\n",
       "  -6.72322363e-02  5.91375902e-02  2.41082937e-01 -1.61843430e-02\n",
       "  -1.17447060e-02 -1.25090480e-02 -1.20716887e-02 -7.82984272e-02\n",
       "   2.23673433e-01  5.08337701e-03 -1.03338426e-02 -8.75966437e-03\n",
       "   1.53932422e-01 -2.15525795e-02 -2.02281594e-01  7.51208887e-02\n",
       "   8.57683867e-02  8.95762667e-02 -1.01148272e-02  1.80307761e-01\n",
       "   4.04535756e-02 -5.79545740e-03  2.06536651e-01  3.09127361e-01\n",
       "   2.21018180e-01 -2.54459947e-01 -2.57588271e-02  1.44019350e-01\n",
       "   6.33782968e-02  2.13406950e-01  6.80232048e-02  2.04462633e-01\n",
       "   9.91404615e-03 -1.34075925e-01  2.28464097e-01  1.10575825e-01\n",
       "  -7.38834888e-02 -2.08521053e-01  8.89362488e-03  5.37398225e-03\n",
       "  -4.76735711e-01  2.22062469e-01  1.80318788e-01 -1.33486986e-02\n",
       "   1.58101674e-02  1.42236754e-01  1.62107885e-01  7.47596547e-02\n",
       "   5.15750870e-02  4.07482415e-01 -6.42754138e-02  2.79162437e-01\n",
       "  -8.75583198e-03  4.63860296e-03 -1.44132748e-02  2.43303120e-01\n",
       "   1.24965131e-01  3.53187025e-01  2.17212453e-01  1.10137165e-01\n",
       "  -5.06177247e-01 -2.32813936e-02  6.14198297e-02 -1.84664384e-01\n",
       "  -1.23407254e-02 -7.07302839e-02  1.42896101e-01 -5.98510861e-01\n",
       "   2.43878633e-01  2.72185892e-01  1.11129105e-01 -3.65516059e-02\n",
       "   1.38396427e-01  2.35007912e-01  1.11201942e-01 -2.06440352e-02\n",
       "   1.46337211e-01 -1.62233844e-01  2.90073100e-02 -2.08540976e-01\n",
       "  -5.93872145e-02 -2.39910884e-03 -1.01817856e-02  2.95518219e-01\n",
       "  -2.06658449e-02 -2.44032778e-02  2.13760480e-01 -1.88370072e-03\n",
       "   2.24773735e-01  9.79812071e-02 -5.84862083e-02  4.70278077e-02\n",
       "   6.68956116e-02  3.34274918e-01 -1.63118050e-01  1.04973260e-02\n",
       "   2.99306363e-01 -2.75847584e-01  4.53061283e-01  8.54726508e-02\n",
       "   2.20687076e-01 -4.57119122e-02 -9.29233152e-03 -2.57683069e-01\n",
       "   1.70865238e-01  1.94353700e-01 -3.00218984e-02  7.62741491e-02\n",
       "   1.77346006e-01 -2.58995265e-01 -4.02644455e-01  1.35127157e-01\n",
       "   1.23773493e-01  3.54430109e-01  2.46254116e-01  2.83362210e-01\n",
       "   1.58570915e-01 -1.50075350e-02  1.26205772e-01  3.22868466e-01\n",
       "   2.96879020e-02  5.53417467e-02  4.35593367e-01  2.76095539e-01\n",
       "  -2.17503626e-02  6.64386526e-02  3.29267941e-02  1.41988769e-01\n",
       "   1.36356965e-01 -3.43210511e-02  2.06067488e-01 -1.64645705e-02\n",
       "  -1.93313416e-02  2.53481641e-02  6.27292767e-02  1.26775345e-02\n",
       "   2.23373666e-01  4.35159914e-02  6.99713454e-02  5.70100732e-02\n",
       "   1.67018771e-01  2.29702815e-01  2.86786973e-01  1.79565161e-01\n",
       "  -4.48085308e-01  1.99417397e-01  1.62714973e-01  4.57974523e-02\n",
       "  -3.85222077e-01  3.46153021e-01 -9.60135739e-03  2.07236335e-02\n",
       "  -4.31162387e-01  1.98065937e-01  1.71486828e-02 -1.41492300e-02\n",
       "   2.50090152e-01  9.09192115e-03  2.48966500e-01  6.17999071e-03\n",
       "  -1.71830896e-02 -1.57558136e-02  9.52643231e-02  1.54323772e-01\n",
       "  -3.35072011e-01  2.54599243e-01  9.62688029e-02  1.12991259e-01\n",
       "  -1.30713172e-02  1.88724101e-01  2.27374174e-02 -2.90851705e-02\n",
       "   1.38072282e-01 -3.29605211e-03  2.62496173e-01 -2.07884401e-01\n",
       "   3.55704367e-01 -1.66109711e-01 -4.26613748e-01  2.01563314e-01\n",
       "   3.64622623e-01  5.69366515e-02  1.67941764e-01 -2.52252724e-02\n",
       "   1.12066567e-01  1.69079632e-01  1.14394076e-01 -6.69480383e-01\n",
       "  -1.21413805e-02  2.75097843e-02 -7.29725361e-02  3.98424476e-01\n",
       "  -2.70771072e-03 -1.35401580e-02  9.22702849e-02  1.62233319e-02\n",
       "   1.83714069e-02 -1.50062591e-02  3.18063766e-01  1.41360044e-01\n",
       "   2.16527477e-01  1.42264301e-02  5.06655931e-01 -1.26543231e-02\n",
       "   1.27928331e-01  3.63917977e-01  2.91880608e-01  7.36961141e-02\n",
       "  -1.91279158e-01  6.91407127e-04  1.93799824e-01  3.69761549e-02\n",
       "   1.76868401e-02 -1.28566390e-02  1.09843984e-01 -3.47562522e-01\n",
       "  -1.04255900e-02 -1.12697007e-02 -3.13921094e-01  6.85684383e-02\n",
       "  -2.08538845e-01  9.49452892e-02  6.47693202e-02 -1.66823957e-02\n",
       "   3.08677524e-01 -2.92681009e-01  3.73939276e-01  2.50274748e-01\n",
       "   1.77441269e-01 -5.39645851e-01 -1.44030144e-02  4.95817438e-02\n",
       "   6.36713803e-02 -2.15959623e-01  2.89986908e-01 -1.96822599e-01\n",
       "   2.09860831e-01  6.01657256e-02 -6.74560547e-01  2.07458705e-01\n",
       "  -5.64556895e-03  4.05266017e-01 -5.03183544e-01  4.58618551e-02\n",
       "  -2.75829345e-01  1.25154212e-01  1.35899901e-01 -1.60020050e-02\n",
       "   1.54135272e-01 -3.48369814e-02  1.94536433e-01 -2.57388979e-01\n",
       "  -1.01094944e-02  1.49429709e-01 -2.40027115e-01  5.52306883e-02\n",
       "   1.63930077e-02 -1.85057689e-02 -1.01650603e-01 -7.50404969e-02\n",
       "   1.40388384e-01  2.45903045e-01  1.46441996e-01 -1.62289795e-02\n",
       "  -4.12012003e-02 -2.04699170e-02  2.90271431e-01 -1.95894927e-01\n",
       "  -1.28500506e-01 -1.72436815e-02  3.46822619e-01  5.43164983e-02\n",
       "   7.42031857e-02 -1.49345510e-02  1.55052572e-01  1.60052851e-01\n",
       "  -4.67683673e-02 -8.73529613e-01 -2.73496960e-03  1.36684133e-02\n",
       "   1.91712648e-01  3.53172272e-02 -4.60239083e-01 -9.37285572e-02\n",
       "   1.89085759e-03  8.70806631e-04  9.65208560e-02 -3.02890807e-01\n",
       "   1.47726610e-01  1.04863033e-01  3.28993767e-01  5.70439935e-01\n",
       "   1.74846202e-01  4.97960970e-02 -6.76861545e-03  1.36881903e-01\n",
       "   2.20545512e-02 -1.02555603e-01 -1.21617869e-01  3.50116283e-01\n",
       "  -1.61893070e-02  1.90945908e-01  1.96206063e-01 -7.07576610e-03\n",
       "   3.26270372e-01  2.62937546e-01 -2.52037942e-01  5.55385910e-02\n",
       "   2.05558911e-02 -2.80217797e-01  2.48024151e-01 -4.06063795e-01\n",
       "  -2.07389966e-01  2.02986777e-01 -3.13298881e-01  1.85562611e-01\n",
       "   1.29907027e-01  2.01942418e-02  2.60890663e-01  4.10282575e-02]>,\n",
       " <Variable path=sequential_5/dense_layer_2/kernel, shape=(512, 512), dtype=float32, value=[[ 0.32287574 -0.02346541 -0.00759646 ...  0.01584798 -0.12756528\n",
       "    0.00990565]\n",
       "  [ 0.0376169   0.02120441  0.00640411 ...  0.02549307 -0.07366048\n",
       "    0.06513178]\n",
       "  [ 0.19832945  0.11191002  0.07302412 ...  0.03143113 -0.10151919\n",
       "    0.15247582]\n",
       "  ...\n",
       "  [-0.05830878 -0.24203219  0.03946203 ... -0.09384575  0.06947285\n",
       "   -0.20919274]\n",
       "  [ 0.29700798 -0.01221692 -0.02800149 ...  0.04234142 -0.1132355\n",
       "   -0.13920508]\n",
       "  [ 0.07440549 -0.06683412  0.03122537 ... -0.14024064 -0.07220774\n",
       "    0.00557374]]>,\n",
       " <Variable path=sequential_5/dense_layer_2/bias, shape=(512,), dtype=float32, value=[-2.15686411e-01  3.33539367e-01 -7.20664337e-02  7.52216876e-02\n",
       "   1.96975231e-01  1.66156083e-01  1.02287576e-01 -4.97661307e-02\n",
       "   1.66292563e-01 -4.60025668e-02 -1.82053000e-01  5.90187237e-02\n",
       "   3.08673322e-01 -2.04697903e-03  3.92789915e-02  1.81528814e-02\n",
       "   9.74790826e-02  3.92345369e-01  1.21718897e-02  1.77766323e-01\n",
       "   2.71105886e-01  1.22026965e-01 -2.54023653e-02 -1.65649265e-01\n",
       "   3.44059393e-02  1.82033047e-01  1.71064451e-01  1.40093073e-01\n",
       "   4.33072865e-01  4.80289161e-01 -2.81609982e-01  1.37060255e-01\n",
       "   1.57943144e-01 -1.26427665e-01 -1.11172020e-01  6.89499900e-02\n",
       "   2.66352352e-02  2.78777540e-01  1.66164920e-01  2.95503467e-01\n",
       "   1.05905369e-01  1.54980406e-01 -2.43744284e-01  1.93971261e-01\n",
       "  -2.33359128e-01  2.16381215e-02  1.69210300e-01  4.26274650e-02\n",
       "   4.88243327e-02 -3.28888185e-02 -2.19127402e-01  4.39171582e-01\n",
       "  -5.18812165e-02  1.33444414e-01  8.07507783e-02  1.65551007e-01\n",
       "   4.00274470e-02 -1.84371814e-01 -2.60832328e-02  1.82679892e-01\n",
       "  -2.46895611e-01  3.06530949e-02 -2.83053815e-01 -4.37576734e-02\n",
       "   4.25785810e-01 -2.40297690e-01  9.76401269e-02  3.24524611e-01\n",
       "   9.23459530e-02 -1.37143925e-01 -5.48801310e-02 -1.04857184e-01\n",
       "  -1.66443318e-01  2.87338734e-01  1.66440755e-01 -1.96148790e-02\n",
       "  -5.45706637e-02  5.08495532e-02 -1.55238628e-01 -7.12390011e-03\n",
       "  -3.42325196e-02 -2.52944261e-01  2.44795263e-01 -2.28244379e-01\n",
       "   4.33078595e-02  4.33450937e-02  1.15074717e-01  9.69237089e-02\n",
       "   3.72982509e-02 -3.08282543e-02 -9.37909260e-02 -1.22914456e-01\n",
       "   1.59732655e-01 -8.97074491e-02 -2.12670341e-02 -2.05832452e-01\n",
       "  -1.36611298e-01  9.45743173e-02  1.34458095e-01 -2.42361143e-01\n",
       "   1.32630840e-02  1.46725312e-01  3.19195926e-01  1.24045119e-01\n",
       "  -2.19981179e-01 -1.89769849e-01  2.73127764e-01  1.46322712e-01\n",
       "   2.47041494e-01  2.29447439e-01  7.42738321e-02  4.08715829e-02\n",
       "  -7.42509887e-02 -1.49017483e-01  4.41329107e-02  1.95631742e-01\n",
       "   1.69640377e-01  2.94726163e-01  6.79361541e-03  1.65841922e-01\n",
       "   1.96954489e-01 -4.27686796e-02  6.05028830e-02  2.15330534e-02\n",
       "   2.21711189e-01  2.18627647e-01  1.97498932e-01  1.25853956e-01\n",
       "   3.50891314e-02 -2.07662553e-01  3.45962971e-01  9.86281186e-02\n",
       "   2.29131296e-01  1.41214415e-01  3.51247340e-01 -4.12385836e-02\n",
       "   3.15884538e-02  1.85479492e-01  2.89283961e-01 -2.81011075e-01\n",
       "   1.41475022e-01  3.16749848e-02 -2.58536562e-02  3.36270958e-01\n",
       "   1.85957849e-01 -5.81074469e-02 -1.87874869e-01 -7.15625286e-02\n",
       "   2.58165658e-01  1.01403557e-01 -2.59536892e-01 -1.03860222e-01\n",
       "   1.31535918e-01 -8.62613842e-02 -2.32825145e-01 -3.68754387e-01\n",
       "   3.04417312e-01  2.13404521e-01 -4.29640152e-02  7.66029283e-02\n",
       "  -5.31168357e-02  3.51744741e-02  8.13271999e-02  4.29485813e-02\n",
       "  -3.70549224e-02 -1.67947352e-01  3.91602188e-01  2.26905838e-01\n",
       "   3.71768981e-01  1.26917422e-01  2.83562541e-01  9.91692692e-02\n",
       "   5.37211038e-02  2.61237115e-01 -8.67259875e-02  1.18166447e-01\n",
       "   1.26231417e-01 -1.44792512e-01  1.08595639e-01  5.33545204e-02\n",
       "   4.50282497e-03 -2.44800702e-01  8.47733542e-02 -1.12206019e-01\n",
       "  -8.82527307e-02 -2.41948381e-01 -8.98168012e-02  1.20723285e-01\n",
       "   2.96212882e-02  1.42246455e-01 -1.44372225e-01 -2.40098685e-01\n",
       "   2.25979779e-02  1.53262049e-01  1.31930724e-01  1.54894739e-01\n",
       "   2.30294392e-01  5.88339716e-02 -1.43717989e-01  5.30595295e-02\n",
       "  -3.82573120e-02 -3.31587553e-01  8.91957134e-02 -1.49640664e-01\n",
       "   9.17795748e-02 -2.84823239e-01  2.97553331e-01  3.10891122e-02\n",
       "  -9.17536169e-02 -1.31072663e-02 -1.68650448e-01 -2.02909917e-01\n",
       "  -8.84496719e-02 -2.39379425e-03  5.09205051e-02  3.45436811e-01\n",
       "  -5.82347773e-02  1.70301646e-02  3.00520454e-02  2.83972230e-02\n",
       "   1.18592411e-01 -6.26015142e-02  3.23178798e-01 -3.37129503e-01\n",
       "   4.55927476e-02  3.41424674e-01  2.01370031e-01  1.05865210e-01\n",
       "  -1.45037979e-01  5.79163656e-02  7.74096027e-02 -1.08230323e-01\n",
       "   2.59137660e-01 -1.80975750e-01 -5.40483855e-02  5.94399832e-02\n",
       "  -1.24136299e-01  3.54330480e-01 -8.75524282e-02  1.01922508e-02\n",
       "  -4.68937010e-02  1.62606239e-01  2.77834147e-01 -1.78784549e-01\n",
       "   3.43547054e-02 -1.55392200e-01 -1.81181550e-01  5.93371354e-02\n",
       "  -4.79645990e-02  2.35972166e-01 -4.16923203e-02  4.22865838e-01\n",
       "   9.01206136e-02  2.22855866e-01 -4.05728333e-02 -3.14308666e-02\n",
       "  -2.13755205e-01  1.89274877e-01 -3.09148461e-01  2.72001922e-01\n",
       "   2.21521452e-01  1.15177102e-01 -1.78539068e-01 -2.44727939e-01\n",
       "  -8.29733983e-02 -2.69151509e-01  3.11933514e-02 -1.91916391e-01\n",
       "  -2.00577915e-01 -7.56376311e-02  2.46472463e-01 -4.21026759e-02\n",
       "  -8.81529227e-02  1.59860197e-02 -5.92098795e-02  1.45958155e-01\n",
       "  -1.20833755e-01 -3.77830774e-01  1.20139427e-01  5.60006201e-01\n",
       "   4.34150159e-01  1.18701786e-01 -6.05984125e-03  2.33938456e-01\n",
       "  -1.48913786e-01 -2.63025999e-01 -1.40017703e-01  9.18512121e-02\n",
       "   1.88027453e-02 -1.39135346e-01  1.19805016e-01  2.54299164e-01\n",
       "  -1.77836865e-01  2.92579025e-01  1.17855221e-01  3.06682855e-01\n",
       "   3.41497332e-01  2.85856277e-01 -2.18896076e-01  2.01167986e-02\n",
       "   1.60509557e-01  2.58903891e-01  2.28343293e-01 -1.37263745e-01\n",
       "  -7.87302386e-03  1.42853826e-01 -4.72445786e-02 -1.48440152e-01\n",
       "  -1.91068754e-01 -7.15810955e-02  1.55040756e-01  5.20713180e-02\n",
       "   1.88865095e-01  6.87730499e-04 -8.43574032e-02  1.11035243e-01\n",
       "   1.57528132e-01  1.28102109e-01 -9.94324163e-02  2.34269992e-01\n",
       "   1.21800508e-02 -5.77607863e-02  8.30790102e-02 -3.67104948e-01\n",
       "   1.13668643e-01  3.71467590e-01 -1.61856130e-01  1.51364192e-01\n",
       "  -2.59722978e-01  1.31987616e-01 -3.56341638e-02  1.63795590e-01\n",
       "   1.01643801e-01 -2.85769291e-02 -1.46169543e-01  3.43599379e-01\n",
       "   6.94478974e-02  3.10037971e-01  2.54675835e-01  2.76779413e-01\n",
       "  -1.02304012e-01  2.29168180e-02  1.39326930e-01  1.19482778e-01\n",
       "   1.13031268e-01  7.64014851e-03 -1.46431088e-01 -2.79072858e-03\n",
       "  -1.48628969e-02 -5.99353276e-02 -1.46807462e-01  2.95461386e-01\n",
       "  -1.74889579e-01  1.56025037e-01 -3.32032204e-01 -6.40322939e-02\n",
       "  -2.15075701e-01  1.98996514e-01  2.53242373e-01 -5.57104610e-02\n",
       "   4.24181856e-02  7.70022571e-02 -2.21140429e-01  1.10550530e-01\n",
       "   1.02095038e-01 -2.94306934e-01 -3.01903002e-02 -2.37812698e-01\n",
       "   2.89472848e-01  7.83122107e-02 -5.43446988e-02  4.67007123e-02\n",
       "  -7.32786506e-02 -4.78719734e-03  1.28503650e-01  1.40508205e-01\n",
       "  -3.31743032e-01  2.71147992e-02  1.62838951e-01 -1.34252757e-01\n",
       "   5.37309377e-03  8.92585665e-02 -1.96815759e-01  4.49362472e-02\n",
       "   1.87278226e-01  7.41252080e-02  3.14601451e-01 -1.04511611e-01\n",
       "  -1.74229499e-02  1.54706687e-01  1.48974708e-04  3.00274044e-01\n",
       "   2.10062206e-01 -5.99188916e-02 -3.74718100e-01  1.19650841e-01\n",
       "   2.33148888e-01 -1.83559097e-02 -8.18348676e-02 -1.77383482e-01\n",
       "   5.85970841e-02 -1.00450777e-01  3.12168241e-01  4.15861279e-01\n",
       "  -1.64214879e-01  1.68738380e-01 -2.87202001e-01 -2.28320003e-01\n",
       "   2.08704963e-01  1.82999998e-01  1.90724149e-01  2.17703298e-01\n",
       "  -1.42425984e-01  1.58696756e-01 -4.69668686e-01  2.77859837e-01\n",
       "  -1.80973560e-01 -2.10116267e-01  1.12269506e-01  4.61485595e-01\n",
       "  -2.53062602e-02 -7.17387209e-03  1.78770274e-01 -6.70827851e-02\n",
       "   1.21026888e-01 -1.07021123e-01 -1.95810273e-01 -2.34450236e-01\n",
       "   4.98204343e-02  2.40470767e-01  3.53804499e-01  1.98618080e-02\n",
       "  -2.53443062e-01  4.13703293e-01  1.84462860e-01  4.23917681e-01\n",
       "   1.67495936e-01 -3.82812768e-01  1.51145294e-01 -1.04978301e-01\n",
       "  -2.23636344e-01  1.47380486e-01  6.02339320e-02 -1.05031155e-01\n",
       "   2.41446316e-01 -7.46777654e-02 -1.44417152e-01 -1.75129563e-01\n",
       "  -2.38574043e-01  1.38904065e-01  5.07770851e-02  2.24433109e-01\n",
       "  -1.10983253e-01 -1.73416585e-02  2.54764944e-01  4.64917541e-01\n",
       "   2.38677949e-01 -2.25977123e-01  2.39090562e-01  8.28147456e-02\n",
       "  -2.59131700e-01 -1.33312330e-01 -6.32034764e-02  1.17653273e-01\n",
       "   1.92394808e-01  1.94289356e-01  2.10492581e-01 -1.11666113e-01\n",
       "  -1.04878128e-01 -4.18447673e-01 -1.27201036e-01  4.73164693e-02\n",
       "  -2.97907948e-01  3.64074886e-01  3.46865743e-01 -2.78475672e-01\n",
       "  -1.67283490e-01  1.22599147e-01  2.92828351e-01 -1.83677569e-01\n",
       "   7.16651380e-02  4.59204987e-02  1.63471922e-01  1.00080647e-01\n",
       "   1.67352825e-01  4.43193674e-01  3.86925936e-01 -9.24030785e-03\n",
       "  -5.44226654e-02  2.23430753e-01  3.99316162e-01 -2.12998673e-01\n",
       "  -4.50818501e-02 -9.79105234e-02 -3.65340747e-02 -3.79934744e-03\n",
       "  -1.68423146e-01  4.08700764e-01  1.21931911e-01 -1.59476891e-01\n",
       "   2.12731898e-01  5.32011390e-02 -2.75254846e-01 -1.99271306e-01\n",
       "  -7.68769905e-02  1.07423350e-01  1.41095579e-01 -5.73662221e-02\n",
       "   3.38275939e-01  1.18321523e-01  4.15193243e-03  5.28065376e-02]>,\n",
       " <Variable path=sequential_5/dense_layer_3/kernel, shape=(512, 10), dtype=float32, value=[[-0.23817728  0.12069286 -0.01238023 ...  0.04688627 -0.3230291\n",
       "    0.13556768]\n",
       "  [-0.27343786  0.00400725  0.03046291 ... -0.40272257 -0.05194763\n",
       "   -0.13726366]\n",
       "  [-0.02072597 -0.2321904  -0.20772398 ...  0.07218319  0.00114091\n",
       "    0.03534216]\n",
       "  ...\n",
       "  [-0.14559858 -0.15561526  0.01535943 ... -0.20498931 -0.40558472\n",
       "   -0.1019879 ]\n",
       "  [-0.01773011 -0.05816577  0.13512172 ... -0.01394173 -0.17618893\n",
       "   -0.07415515]\n",
       "  [-0.08849888  0.08255213 -0.00228675 ... -0.23949377 -0.13704717\n",
       "   -0.02772343]]>,\n",
       " <Variable path=sequential_5/dense_layer_3/bias, shape=(10,), dtype=float32, value=[-0.05170097 -0.50702995  0.11078645  0.3364501  -0.19461735 -0.02539897\n",
       "   0.05336194  0.2530692  -0.0681503  -0.26404557]>]"
      ]
     },
     "execution_count": 64,
     "metadata": {},
     "output_type": "execute_result"
    }
   ],
   "source": [
    "model_5.weights"
   ]
  },
  {
   "cell_type": "code",
   "execution_count": null,
   "metadata": {
    "colab": {
     "base_uri": "https://localhost:8080/"
    },
    "executionInfo": {
     "elapsed": 43,
     "status": "ok",
     "timestamp": 1742671684696,
     "user": {
      "displayName": "A_52_Priyank Maheshwari",
      "userId": "00590290924200288402"
     },
     "user_tz": -330
    },
    "id": "kEVaqnKCFpIK",
    "outputId": "8bcbb585-822f-4d1d-bfd3-5422c36203d3"
   },
   "outputs": [
    {
     "data": {
      "text/plain": [
       "{'name': 'sequential_5',\n",
       " 'trainable': True,\n",
       " 'dtype': {'module': 'keras',\n",
       "  'class_name': 'DTypePolicy',\n",
       "  'config': {'name': 'float32'},\n",
       "  'registered_name': None},\n",
       " 'layers': [{'module': 'keras.layers',\n",
       "   'class_name': 'InputLayer',\n",
       "   'config': {'batch_shape': (None, 784),\n",
       "    'dtype': 'float32',\n",
       "    'sparse': False,\n",
       "    'name': 'input_layer_5'},\n",
       "   'registered_name': None},\n",
       "  {'module': 'keras.layers',\n",
       "   'class_name': 'Dense',\n",
       "   'config': {'name': 'dense_layer',\n",
       "    'trainable': True,\n",
       "    'dtype': {'module': 'keras',\n",
       "     'class_name': 'DTypePolicy',\n",
       "     'config': {'name': 'float32'},\n",
       "     'registered_name': None},\n",
       "    'units': 512,\n",
       "    'activation': 'relu',\n",
       "    'use_bias': True,\n",
       "    'kernel_initializer': {'module': 'keras.initializers',\n",
       "     'class_name': 'GlorotUniform',\n",
       "     'config': {'seed': None},\n",
       "     'registered_name': None},\n",
       "    'bias_initializer': {'module': 'keras.initializers',\n",
       "     'class_name': 'Zeros',\n",
       "     'config': {},\n",
       "     'registered_name': None},\n",
       "    'kernel_regularizer': None,\n",
       "    'bias_regularizer': None,\n",
       "    'kernel_constraint': None,\n",
       "    'bias_constraint': None},\n",
       "   'registered_name': None,\n",
       "   'build_config': {'input_shape': (None, 784)}},\n",
       "  {'module': 'keras.layers',\n",
       "   'class_name': 'Dropout',\n",
       "   'config': {'name': 'dropout_6',\n",
       "    'trainable': True,\n",
       "    'dtype': {'module': 'keras',\n",
       "     'class_name': 'DTypePolicy',\n",
       "     'config': {'name': 'float32'},\n",
       "     'registered_name': None},\n",
       "    'rate': 0.3,\n",
       "    'seed': None,\n",
       "    'noise_shape': None},\n",
       "   'registered_name': None},\n",
       "  {'module': 'keras.layers',\n",
       "   'class_name': 'Dense',\n",
       "   'config': {'name': 'dense_layer_2',\n",
       "    'trainable': True,\n",
       "    'dtype': {'module': 'keras',\n",
       "     'class_name': 'DTypePolicy',\n",
       "     'config': {'name': 'float32'},\n",
       "     'registered_name': None},\n",
       "    'units': 512,\n",
       "    'activation': 'relu',\n",
       "    'use_bias': True,\n",
       "    'kernel_initializer': {'module': 'keras.initializers',\n",
       "     'class_name': 'GlorotUniform',\n",
       "     'config': {'seed': None},\n",
       "     'registered_name': None},\n",
       "    'bias_initializer': {'module': 'keras.initializers',\n",
       "     'class_name': 'Zeros',\n",
       "     'config': {},\n",
       "     'registered_name': None},\n",
       "    'kernel_regularizer': None,\n",
       "    'bias_regularizer': None,\n",
       "    'kernel_constraint': None,\n",
       "    'bias_constraint': None},\n",
       "   'registered_name': None,\n",
       "   'build_config': {'input_shape': (None, 512)}},\n",
       "  {'module': 'keras.layers',\n",
       "   'class_name': 'Dropout',\n",
       "   'config': {'name': 'dropout_7',\n",
       "    'trainable': True,\n",
       "    'dtype': {'module': 'keras',\n",
       "     'class_name': 'DTypePolicy',\n",
       "     'config': {'name': 'float32'},\n",
       "     'registered_name': None},\n",
       "    'rate': 0.3,\n",
       "    'seed': None,\n",
       "    'noise_shape': None},\n",
       "   'registered_name': None},\n",
       "  {'module': 'keras.layers',\n",
       "   'class_name': 'Dense',\n",
       "   'config': {'name': 'dense_layer_3',\n",
       "    'trainable': True,\n",
       "    'dtype': {'module': 'keras',\n",
       "     'class_name': 'DTypePolicy',\n",
       "     'config': {'name': 'float32'},\n",
       "     'registered_name': None},\n",
       "    'units': 10,\n",
       "    'activation': 'softmax',\n",
       "    'use_bias': True,\n",
       "    'kernel_initializer': {'module': 'keras.initializers',\n",
       "     'class_name': 'GlorotUniform',\n",
       "     'config': {'seed': None},\n",
       "     'registered_name': None},\n",
       "    'bias_initializer': {'module': 'keras.initializers',\n",
       "     'class_name': 'Zeros',\n",
       "     'config': {},\n",
       "     'registered_name': None},\n",
       "    'kernel_regularizer': None,\n",
       "    'bias_regularizer': None,\n",
       "    'kernel_constraint': None,\n",
       "    'bias_constraint': None},\n",
       "   'registered_name': None,\n",
       "   'build_config': {'input_shape': (None, 512)}}],\n",
       " 'build_input_shape': (None, 784)}"
      ]
     },
     "execution_count": 65,
     "metadata": {},
     "output_type": "execute_result"
    }
   ],
   "source": [
    "model_5.get_config()"
   ]
  },
  {
   "cell_type": "markdown",
   "metadata": {
    "id": "WxiZ-knOFs_C"
   },
   "source": [
    "#### Improved Model 6: Adding Another Hidden Layer to the Model"
   ]
  },
  {
   "cell_type": "code",
   "execution_count": null,
   "metadata": {
    "executionInfo": {
     "elapsed": 68,
     "status": "ok",
     "timestamp": 1742671684767,
     "user": {
      "displayName": "A_52_Priyank Maheshwari",
      "userId": "00590290924200288402"
     },
     "user_tz": -330
    },
    "id": "SQyb2ZLtFqeD"
   },
   "outputs": [],
   "source": [
    "import tensorflow as tf\n",
    "\n",
    "#In Keras, layers are assembled to build models\n",
    "from tensorflow.keras.layers import Dense\n",
    "from tensorflow.keras.layers import Dropout\n",
    "\n",
    "#Most common type of model is a stack of layers\n",
    "model_6 = tf.keras.Sequential()\n",
    "N_hidden = 512\n",
    "\n",
    "# Adds a densely-connected layer with 64 units to the model:\n",
    "model_6.add(Dense(N_hidden, name='dense_layer', input_shape=(784,), activation = 'relu'))\n",
    "# Now the model will take as input arrays of shape (*, 784)# and output arrays of shape (*, 64)\n",
    "model_6.add(Dropout(0.3))\n",
    "\n",
    "# Adding another dense layer:\n",
    "model_6.add(Dense(N_hidden, name='dense_layer_2', activation='relu'))\n",
    "model_6.add(Dropout(0.3))\n",
    "\n",
    "# Adding another dense layer:\n",
    "model_6.add(Dense(N_hidden, name='dense_layer_3', activation='relu'))\n",
    "model_6.add(Dropout(0.3))\n",
    "\n",
    "# Add an output layer with 10 output units (10 different classes):\n",
    "model_6.add(Dense(10, name='dense_layer_4', activation = 'softmax'))"
   ]
  },
  {
   "cell_type": "code",
   "execution_count": null,
   "metadata": {
    "executionInfo": {
     "elapsed": 60,
     "status": "ok",
     "timestamp": 1742671684770,
     "user": {
      "displayName": "A_52_Priyank Maheshwari",
      "userId": "00590290924200288402"
     },
     "user_tz": -330
    },
    "id": "_NnNE4tAFz36"
   },
   "outputs": [],
   "source": [
    "# Compiling the model.\n",
    "model_6.compile(optimizer='Adam', loss='categorical_crossentropy', metrics=['accuracy'])"
   ]
  },
  {
   "cell_type": "code",
   "execution_count": null,
   "metadata": {
    "colab": {
     "base_uri": "https://localhost:8080/"
    },
    "executionInfo": {
     "elapsed": 89174,
     "status": "ok",
     "timestamp": 1742671773938,
     "user": {
      "displayName": "A_52_Priyank Maheshwari",
      "userId": "00590290924200288402"
     },
     "user_tz": -330
    },
    "id": "He3UgeuxF4e7",
    "outputId": "36768bb8-1010-4bd3-bff2-81f521b4b272"
   },
   "outputs": [
    {
     "name": "stdout",
     "output_type": "stream",
     "text": [
      "Epoch 1/30\n",
      "\u001b[1m750/750\u001b[0m \u001b[32m━━━━━━━━━━━━━━━━━━━━\u001b[0m\u001b[37m\u001b[0m \u001b[1m6s\u001b[0m 5ms/step - accuracy: 0.7241 - loss: 0.7569 - val_accuracy: 0.8439 - val_loss: 0.4134\n",
      "Epoch 2/30\n",
      "\u001b[1m750/750\u001b[0m \u001b[32m━━━━━━━━━━━━━━━━━━━━\u001b[0m\u001b[37m\u001b[0m \u001b[1m3s\u001b[0m 4ms/step - accuracy: 0.8366 - loss: 0.4413 - val_accuracy: 0.8609 - val_loss: 0.3838\n",
      "Epoch 3/30\n",
      "\u001b[1m750/750\u001b[0m \u001b[32m━━━━━━━━━━━━━━━━━━━━\u001b[0m\u001b[37m\u001b[0m \u001b[1m2s\u001b[0m 3ms/step - accuracy: 0.8539 - loss: 0.4020 - val_accuracy: 0.8608 - val_loss: 0.3664\n",
      "Epoch 4/30\n",
      "\u001b[1m750/750\u001b[0m \u001b[32m━━━━━━━━━━━━━━━━━━━━\u001b[0m\u001b[37m\u001b[0m \u001b[1m2s\u001b[0m 3ms/step - accuracy: 0.8571 - loss: 0.3827 - val_accuracy: 0.8662 - val_loss: 0.3661\n",
      "Epoch 5/30\n",
      "\u001b[1m750/750\u001b[0m \u001b[32m━━━━━━━━━━━━━━━━━━━━\u001b[0m\u001b[37m\u001b[0m \u001b[1m3s\u001b[0m 3ms/step - accuracy: 0.8660 - loss: 0.3660 - val_accuracy: 0.8747 - val_loss: 0.3436\n",
      "Epoch 6/30\n",
      "\u001b[1m750/750\u001b[0m \u001b[32m━━━━━━━━━━━━━━━━━━━━\u001b[0m\u001b[37m\u001b[0m \u001b[1m5s\u001b[0m 3ms/step - accuracy: 0.8713 - loss: 0.3532 - val_accuracy: 0.8777 - val_loss: 0.3406\n",
      "Epoch 7/30\n",
      "\u001b[1m750/750\u001b[0m \u001b[32m━━━━━━━━━━━━━━━━━━━━\u001b[0m\u001b[37m\u001b[0m \u001b[1m3s\u001b[0m 3ms/step - accuracy: 0.8754 - loss: 0.3446 - val_accuracy: 0.8756 - val_loss: 0.3544\n",
      "Epoch 8/30\n",
      "\u001b[1m750/750\u001b[0m \u001b[32m━━━━━━━━━━━━━━━━━━━━\u001b[0m\u001b[37m\u001b[0m \u001b[1m3s\u001b[0m 3ms/step - accuracy: 0.8781 - loss: 0.3322 - val_accuracy: 0.8831 - val_loss: 0.3244\n",
      "Epoch 9/30\n",
      "\u001b[1m750/750\u001b[0m \u001b[32m━━━━━━━━━━━━━━━━━━━━\u001b[0m\u001b[37m\u001b[0m \u001b[1m3s\u001b[0m 3ms/step - accuracy: 0.8828 - loss: 0.3222 - val_accuracy: 0.8796 - val_loss: 0.3398\n",
      "Epoch 10/30\n",
      "\u001b[1m750/750\u001b[0m \u001b[32m━━━━━━━━━━━━━━━━━━━━\u001b[0m\u001b[37m\u001b[0m \u001b[1m3s\u001b[0m 4ms/step - accuracy: 0.8842 - loss: 0.3161 - val_accuracy: 0.8742 - val_loss: 0.3523\n",
      "Epoch 11/30\n",
      "\u001b[1m750/750\u001b[0m \u001b[32m━━━━━━━━━━━━━━━━━━━━\u001b[0m\u001b[37m\u001b[0m \u001b[1m2s\u001b[0m 3ms/step - accuracy: 0.8870 - loss: 0.3098 - val_accuracy: 0.8841 - val_loss: 0.3297\n",
      "Epoch 12/30\n",
      "\u001b[1m750/750\u001b[0m \u001b[32m━━━━━━━━━━━━━━━━━━━━\u001b[0m\u001b[37m\u001b[0m \u001b[1m3s\u001b[0m 3ms/step - accuracy: 0.8881 - loss: 0.3081 - val_accuracy: 0.8807 - val_loss: 0.3204\n",
      "Epoch 13/30\n",
      "\u001b[1m750/750\u001b[0m \u001b[32m━━━━━━━━━━━━━━━━━━━━\u001b[0m\u001b[37m\u001b[0m \u001b[1m2s\u001b[0m 3ms/step - accuracy: 0.8910 - loss: 0.2987 - val_accuracy: 0.8815 - val_loss: 0.3353\n",
      "Epoch 14/30\n",
      "\u001b[1m750/750\u001b[0m \u001b[32m━━━━━━━━━━━━━━━━━━━━\u001b[0m\u001b[37m\u001b[0m \u001b[1m3s\u001b[0m 4ms/step - accuracy: 0.8895 - loss: 0.2980 - val_accuracy: 0.8828 - val_loss: 0.3294\n",
      "Epoch 15/30\n",
      "\u001b[1m750/750\u001b[0m \u001b[32m━━━━━━━━━━━━━━━━━━━━\u001b[0m\u001b[37m\u001b[0m \u001b[1m2s\u001b[0m 3ms/step - accuracy: 0.8938 - loss: 0.2867 - val_accuracy: 0.8838 - val_loss: 0.3351\n",
      "Epoch 16/30\n",
      "\u001b[1m750/750\u001b[0m \u001b[32m━━━━━━━━━━━━━━━━━━━━\u001b[0m\u001b[37m\u001b[0m \u001b[1m2s\u001b[0m 3ms/step - accuracy: 0.8924 - loss: 0.2887 - val_accuracy: 0.8773 - val_loss: 0.3270\n",
      "Epoch 17/30\n",
      "\u001b[1m750/750\u001b[0m \u001b[32m━━━━━━━━━━━━━━━━━━━━\u001b[0m\u001b[37m\u001b[0m \u001b[1m3s\u001b[0m 3ms/step - accuracy: 0.8955 - loss: 0.2785 - val_accuracy: 0.8907 - val_loss: 0.3086\n",
      "Epoch 18/30\n",
      "\u001b[1m750/750\u001b[0m \u001b[32m━━━━━━━━━━━━━━━━━━━━\u001b[0m\u001b[37m\u001b[0m \u001b[1m2s\u001b[0m 3ms/step - accuracy: 0.8987 - loss: 0.2757 - val_accuracy: 0.8905 - val_loss: 0.3061\n",
      "Epoch 19/30\n",
      "\u001b[1m750/750\u001b[0m \u001b[32m━━━━━━━━━━━━━━━━━━━━\u001b[0m\u001b[37m\u001b[0m \u001b[1m3s\u001b[0m 4ms/step - accuracy: 0.8996 - loss: 0.2709 - val_accuracy: 0.8856 - val_loss: 0.3158\n",
      "Epoch 20/30\n",
      "\u001b[1m750/750\u001b[0m \u001b[32m━━━━━━━━━━━━━━━━━━━━\u001b[0m\u001b[37m\u001b[0m \u001b[1m5s\u001b[0m 3ms/step - accuracy: 0.8968 - loss: 0.2770 - val_accuracy: 0.8912 - val_loss: 0.3252\n",
      "Epoch 21/30\n",
      "\u001b[1m750/750\u001b[0m \u001b[32m━━━━━━━━━━━━━━━━━━━━\u001b[0m\u001b[37m\u001b[0m \u001b[1m3s\u001b[0m 3ms/step - accuracy: 0.9003 - loss: 0.2705 - val_accuracy: 0.8929 - val_loss: 0.3047\n",
      "Epoch 22/30\n",
      "\u001b[1m750/750\u001b[0m \u001b[32m━━━━━━━━━━━━━━━━━━━━\u001b[0m\u001b[37m\u001b[0m \u001b[1m3s\u001b[0m 4ms/step - accuracy: 0.9003 - loss: 0.2709 - val_accuracy: 0.8887 - val_loss: 0.3286\n",
      "Epoch 23/30\n",
      "\u001b[1m750/750\u001b[0m \u001b[32m━━━━━━━━━━━━━━━━━━━━\u001b[0m\u001b[37m\u001b[0m \u001b[1m3s\u001b[0m 4ms/step - accuracy: 0.9031 - loss: 0.2637 - val_accuracy: 0.8903 - val_loss: 0.3161\n",
      "Epoch 24/30\n",
      "\u001b[1m750/750\u001b[0m \u001b[32m━━━━━━━━━━━━━━━━━━━━\u001b[0m\u001b[37m\u001b[0m \u001b[1m2s\u001b[0m 3ms/step - accuracy: 0.9010 - loss: 0.2609 - val_accuracy: 0.8928 - val_loss: 0.3063\n",
      "Epoch 25/30\n",
      "\u001b[1m750/750\u001b[0m \u001b[32m━━━━━━━━━━━━━━━━━━━━\u001b[0m\u001b[37m\u001b[0m \u001b[1m2s\u001b[0m 3ms/step - accuracy: 0.9025 - loss: 0.2605 - val_accuracy: 0.8885 - val_loss: 0.3297\n",
      "Epoch 26/30\n",
      "\u001b[1m750/750\u001b[0m \u001b[32m━━━━━━━━━━━━━━━━━━━━\u001b[0m\u001b[37m\u001b[0m \u001b[1m2s\u001b[0m 3ms/step - accuracy: 0.9050 - loss: 0.2597 - val_accuracy: 0.8869 - val_loss: 0.3238\n",
      "Epoch 27/30\n",
      "\u001b[1m750/750\u001b[0m \u001b[32m━━━━━━━━━━━━━━━━━━━━\u001b[0m\u001b[37m\u001b[0m \u001b[1m3s\u001b[0m 4ms/step - accuracy: 0.9094 - loss: 0.2512 - val_accuracy: 0.8942 - val_loss: 0.2974\n",
      "Epoch 28/30\n",
      "\u001b[1m750/750\u001b[0m \u001b[32m━━━━━━━━━━━━━━━━━━━━\u001b[0m\u001b[37m\u001b[0m \u001b[1m5s\u001b[0m 3ms/step - accuracy: 0.9090 - loss: 0.2476 - val_accuracy: 0.8925 - val_loss: 0.3092\n",
      "Epoch 29/30\n",
      "\u001b[1m750/750\u001b[0m \u001b[32m━━━━━━━━━━━━━━━━━━━━\u001b[0m\u001b[37m\u001b[0m \u001b[1m3s\u001b[0m 4ms/step - accuracy: 0.9081 - loss: 0.2497 - val_accuracy: 0.8936 - val_loss: 0.3057\n",
      "Epoch 30/30\n",
      "\u001b[1m750/750\u001b[0m \u001b[32m━━━━━━━━━━━━━━━━━━━━\u001b[0m\u001b[37m\u001b[0m \u001b[1m3s\u001b[0m 4ms/step - accuracy: 0.9102 - loss: 0.2449 - val_accuracy: 0.8883 - val_loss: 0.3239\n"
     ]
    }
   ],
   "source": [
    "# Training the model.\n",
    "training = model_6.fit(X_train, Y_train, batch_size=64, epochs=30, validation_split=0.2)"
   ]
  },
  {
   "cell_type": "code",
   "execution_count": null,
   "metadata": {
    "colab": {
     "base_uri": "https://localhost:8080/"
    },
    "executionInfo": {
     "elapsed": 17,
     "status": "ok",
     "timestamp": 1742671773956,
     "user": {
      "displayName": "A_52_Priyank Maheshwari",
      "userId": "00590290924200288402"
     },
     "user_tz": -330
    },
    "id": "QuET4Ya9F6XK",
    "outputId": "6fb14bf4-7dc3-47c3-8ad8-3c5f7fefc8e4"
   },
   "outputs": [
    {
     "name": "stdout",
     "output_type": "stream",
     "text": [
      "dict_keys(['accuracy', 'loss', 'val_accuracy', 'val_loss'])\n"
     ]
    }
   ],
   "source": [
    "import matplotlib.pyplot as plt\n",
    "%matplotlib inline\n",
    "\n",
    "print(training.history.keys())"
   ]
  },
  {
   "cell_type": "code",
   "execution_count": null,
   "metadata": {
    "colab": {
     "base_uri": "https://localhost:8080/",
     "height": 472
    },
    "executionInfo": {
     "elapsed": 94,
     "status": "ok",
     "timestamp": 1742671774052,
     "user": {
      "displayName": "A_52_Priyank Maheshwari",
      "userId": "00590290924200288402"
     },
     "user_tz": -330
    },
    "id": "n8FnV4Y9F9FC",
    "outputId": "1621b89f-5a0a-46c6-9908-8efa8b575487"
   },
   "outputs": [
    {
     "data": {
      "image/png": "[encoded data removed]",
      "text/plain": [
       "<Figure size 640x480 with 1 Axes>"
      ]
     },
     "metadata": {},
     "output_type": "display_data"
    }
   ],
   "source": [
    "# Summarizing training for accuracy\n",
    "plt.plot(training.history['accuracy'])\n",
    "plt.plot(training.history['val_accuracy'])\n",
    "plt.title('model accuracy')\n",
    "plt.ylabel('accuracy')\n",
    "plt.xlabel('epoch')\n",
    "plt.legend(['train', 'test'], loc='upper left')\n",
    "plt.show()"
   ]
  },
  {
   "cell_type": "code",
   "execution_count": null,
   "metadata": {
    "colab": {
     "base_uri": "https://localhost:8080/",
     "height": 472
    },
    "executionInfo": {
     "elapsed": 190,
     "status": "ok",
     "timestamp": 1742671774246,
     "user": {
      "displayName": "A_52_Priyank Maheshwari",
      "userId": "00590290924200288402"
     },
     "user_tz": -330
    },
    "id": "J3Vbd_cGGBo6",
    "outputId": "9f148f1b-6317-4708-fbb9-0d9c24b71607"
   },
   "outputs": [
    {
     "data": {
      "image/png": "[encoded data removed]",
      "text/plain": [
       "<Figure size 640x480 with 1 Axes>"
      ]
     },
     "metadata": {},
     "output_type": "display_data"
    }
   ],
   "source": [
    "# Summarizing traning for loss\n",
    "plt.plot(training.history['loss'])\n",
    "plt.plot(training.history['val_loss'])\n",
    "plt.title('model loss')\n",
    "plt.ylabel('loss')\n",
    "plt.xlabel('epoch')\n",
    "plt.legend(['train', 'test'], loc='upper left')\n",
    "plt.show()"
   ]
  },
  {
   "cell_type": "code",
   "execution_count": null,
   "metadata": {
    "colab": {
     "base_uri": "https://localhost:8080/",
     "height": 391
    },
    "executionInfo": {
     "elapsed": 89,
     "status": "ok",
     "timestamp": 1742671774339,
     "user": {
      "displayName": "A_52_Priyank Maheshwari",
      "userId": "00590290924200288402"
     },
     "user_tz": -330
    },
    "id": "ftLkLxZPGGGy",
    "outputId": "1ed7fe66-feab-4112-c5ac-1badefcf2951"
   },
   "outputs": [
    {
     "data": {
      "text/html": [
       "<pre style=\"white-space:pre;overflow-x:auto;line-height:normal;font-family:Menlo,'DejaVu Sans Mono',consolas,'Courier New',monospace\"><span style=\"font-weight: bold\">Model: \"sequential_6\"</span>\n",
       "</pre>\n"
      ],
      "text/plain": [
       "\u001b[1mModel: \"sequential_6\"\u001b[0m\n"
      ]
     },
     "metadata": {},
     "output_type": "display_data"
    },
    {
     "data": {
      "text/html": [
       "<pre style=\"white-space:pre;overflow-x:auto;line-height:normal;font-family:Menlo,'DejaVu Sans Mono',consolas,'Courier New',monospace\">┏━━━━━━━━━━━━━━━━━━━━━━━━━━━━━━━━━━━━━━┳━━━━━━━━━━━━━━━━━━━━━━━━━━━━━┳━━━━━━━━━━━━━━━━━┓\n",
       "┃<span style=\"font-weight: bold\"> Layer (type)                         </span>┃<span style=\"font-weight: bold\"> Output Shape                </span>┃<span style=\"font-weight: bold\">         Param # </span>┃\n",
       "┡━━━━━━━━━━━━━━━━━━━━━━━━━━━━━━━━━━━━━━╇━━━━━━━━━━━━━━━━━━━━━━━━━━━━━╇━━━━━━━━━━━━━━━━━┩\n",
       "│ dense_layer (<span style=\"color: #0087ff; text-decoration-color: #0087ff\">Dense</span>)                  │ (<span style=\"color: #00d7ff; text-decoration-color: #00d7ff\">None</span>, <span style=\"color: #00af00; text-decoration-color: #00af00\">512</span>)                 │         <span style=\"color: #00af00; text-decoration-color: #00af00\">401,920</span> │\n",
       "├──────────────────────────────────────┼─────────────────────────────┼─────────────────┤\n",
       "│ dropout_8 (<span style=\"color: #0087ff; text-decoration-color: #0087ff\">Dropout</span>)                  │ (<span style=\"color: #00d7ff; text-decoration-color: #00d7ff\">None</span>, <span style=\"color: #00af00; text-decoration-color: #00af00\">512</span>)                 │               <span style=\"color: #00af00; text-decoration-color: #00af00\">0</span> │\n",
       "├──────────────────────────────────────┼─────────────────────────────┼─────────────────┤\n",
       "│ dense_layer_2 (<span style=\"color: #0087ff; text-decoration-color: #0087ff\">Dense</span>)                │ (<span style=\"color: #00d7ff; text-decoration-color: #00d7ff\">None</span>, <span style=\"color: #00af00; text-decoration-color: #00af00\">512</span>)                 │         <span style=\"color: #00af00; text-decoration-color: #00af00\">262,656</span> │\n",
       "├──────────────────────────────────────┼─────────────────────────────┼─────────────────┤\n",
       "│ dropout_9 (<span style=\"color: #0087ff; text-decoration-color: #0087ff\">Dropout</span>)                  │ (<span style=\"color: #00d7ff; text-decoration-color: #00d7ff\">None</span>, <span style=\"color: #00af00; text-decoration-color: #00af00\">512</span>)                 │               <span style=\"color: #00af00; text-decoration-color: #00af00\">0</span> │\n",
       "├──────────────────────────────────────┼─────────────────────────────┼─────────────────┤\n",
       "│ dense_layer_3 (<span style=\"color: #0087ff; text-decoration-color: #0087ff\">Dense</span>)                │ (<span style=\"color: #00d7ff; text-decoration-color: #00d7ff\">None</span>, <span style=\"color: #00af00; text-decoration-color: #00af00\">512</span>)                 │         <span style=\"color: #00af00; text-decoration-color: #00af00\">262,656</span> │\n",
       "├──────────────────────────────────────┼─────────────────────────────┼─────────────────┤\n",
       "│ dropout_10 (<span style=\"color: #0087ff; text-decoration-color: #0087ff\">Dropout</span>)                 │ (<span style=\"color: #00d7ff; text-decoration-color: #00d7ff\">None</span>, <span style=\"color: #00af00; text-decoration-color: #00af00\">512</span>)                 │               <span style=\"color: #00af00; text-decoration-color: #00af00\">0</span> │\n",
       "├──────────────────────────────────────┼─────────────────────────────┼─────────────────┤\n",
       "│ dense_layer_4 (<span style=\"color: #0087ff; text-decoration-color: #0087ff\">Dense</span>)                │ (<span style=\"color: #00d7ff; text-decoration-color: #00d7ff\">None</span>, <span style=\"color: #00af00; text-decoration-color: #00af00\">10</span>)                  │           <span style=\"color: #00af00; text-decoration-color: #00af00\">5,130</span> │\n",
       "└──────────────────────────────────────┴─────────────────────────────┴─────────────────┘\n",
       "</pre>\n"
      ],
      "text/plain": [
       "┏━━━━━━━━━━━━━━━━━━━━━━━━━━━━━━━━━━━━━━┳━━━━━━━━━━━━━━━━━━━━━━━━━━━━━┳━━━━━━━━━━━━━━━━━┓\n",
       "┃\u001b[1m \u001b[0m\u001b[1mLayer (type)                        \u001b[0m\u001b[1m \u001b[0m┃\u001b[1m \u001b[0m\u001b[1mOutput Shape               \u001b[0m\u001b[1m \u001b[0m┃\u001b[1m \u001b[0m\u001b[1m        Param #\u001b[0m\u001b[1m \u001b[0m┃\n",
       "┡━━━━━━━━━━━━━━━━━━━━━━━━━━━━━━━━━━━━━━╇━━━━━━━━━━━━━━━━━━━━━━━━━━━━━╇━━━━━━━━━━━━━━━━━┩\n",
       "│ dense_layer (\u001b[38;5;33mDense\u001b[0m)                  │ (\u001b[38;5;45mNone\u001b[0m, \u001b[38;5;34m512\u001b[0m)                 │         \u001b[38;5;34m401,920\u001b[0m │\n",
       "├──────────────────────────────────────┼─────────────────────────────┼─────────────────┤\n",
       "│ dropout_8 (\u001b[38;5;33mDropout\u001b[0m)                  │ (\u001b[38;5;45mNone\u001b[0m, \u001b[38;5;34m512\u001b[0m)                 │               \u001b[38;5;34m0\u001b[0m │\n",
       "├──────────────────────────────────────┼─────────────────────────────┼─────────────────┤\n",
       "│ dense_layer_2 (\u001b[38;5;33mDense\u001b[0m)                │ (\u001b[38;5;45mNone\u001b[0m, \u001b[38;5;34m512\u001b[0m)                 │         \u001b[38;5;34m262,656\u001b[0m │\n",
       "├──────────────────────────────────────┼─────────────────────────────┼─────────────────┤\n",
       "│ dropout_9 (\u001b[38;5;33mDropout\u001b[0m)                  │ (\u001b[38;5;45mNone\u001b[0m, \u001b[38;5;34m512\u001b[0m)                 │               \u001b[38;5;34m0\u001b[0m │\n",
       "├──────────────────────────────────────┼─────────────────────────────┼─────────────────┤\n",
       "│ dense_layer_3 (\u001b[38;5;33mDense\u001b[0m)                │ (\u001b[38;5;45mNone\u001b[0m, \u001b[38;5;34m512\u001b[0m)                 │         \u001b[38;5;34m262,656\u001b[0m │\n",
       "├──────────────────────────────────────┼─────────────────────────────┼─────────────────┤\n",
       "│ dropout_10 (\u001b[38;5;33mDropout\u001b[0m)                 │ (\u001b[38;5;45mNone\u001b[0m, \u001b[38;5;34m512\u001b[0m)                 │               \u001b[38;5;34m0\u001b[0m │\n",
       "├──────────────────────────────────────┼─────────────────────────────┼─────────────────┤\n",
       "│ dense_layer_4 (\u001b[38;5;33mDense\u001b[0m)                │ (\u001b[38;5;45mNone\u001b[0m, \u001b[38;5;34m10\u001b[0m)                  │           \u001b[38;5;34m5,130\u001b[0m │\n",
       "└──────────────────────────────────────┴─────────────────────────────┴─────────────────┘\n"
      ]
     },
     "metadata": {},
     "output_type": "display_data"
    },
    {
     "data": {
      "text/html": [
       "<pre style=\"white-space:pre;overflow-x:auto;line-height:normal;font-family:Menlo,'DejaVu Sans Mono',consolas,'Courier New',monospace\"><span style=\"font-weight: bold\"> Total params: </span><span style=\"color: #00af00; text-decoration-color: #00af00\">2,797,088</span> (10.67 MB)\n",
       "</pre>\n"
      ],
      "text/plain": [
       "\u001b[1m Total params: \u001b[0m\u001b[38;5;34m2,797,088\u001b[0m (10.67 MB)\n"
      ]
     },
     "metadata": {},
     "output_type": "display_data"
    },
    {
     "data": {
      "text/html": [
       "<pre style=\"white-space:pre;overflow-x:auto;line-height:normal;font-family:Menlo,'DejaVu Sans Mono',consolas,'Courier New',monospace\"><span style=\"font-weight: bold\"> Trainable params: </span><span style=\"color: #00af00; text-decoration-color: #00af00\">932,362</span> (3.56 MB)\n",
       "</pre>\n"
      ],
      "text/plain": [
       "\u001b[1m Trainable params: \u001b[0m\u001b[38;5;34m932,362\u001b[0m (3.56 MB)\n"
      ]
     },
     "metadata": {},
     "output_type": "display_data"
    },
    {
     "data": {
      "text/html": [
       "<pre style=\"white-space:pre;overflow-x:auto;line-height:normal;font-family:Menlo,'DejaVu Sans Mono',consolas,'Courier New',monospace\"><span style=\"font-weight: bold\"> Non-trainable params: </span><span style=\"color: #00af00; text-decoration-color: #00af00\">0</span> (0.00 B)\n",
       "</pre>\n"
      ],
      "text/plain": [
       "\u001b[1m Non-trainable params: \u001b[0m\u001b[38;5;34m0\u001b[0m (0.00 B)\n"
      ]
     },
     "metadata": {},
     "output_type": "display_data"
    },
    {
     "data": {
      "text/html": [
       "<pre style=\"white-space:pre;overflow-x:auto;line-height:normal;font-family:Menlo,'DejaVu Sans Mono',consolas,'Courier New',monospace\"><span style=\"font-weight: bold\"> Optimizer params: </span><span style=\"color: #00af00; text-decoration-color: #00af00\">1,864,726</span> (7.11 MB)\n",
       "</pre>\n"
      ],
      "text/plain": [
       "\u001b[1m Optimizer params: \u001b[0m\u001b[38;5;34m1,864,726\u001b[0m (7.11 MB)\n"
      ]
     },
     "metadata": {},
     "output_type": "display_data"
    }
   ],
   "source": [
    "model_6.summary()"
   ]
  },
  {
   "cell_type": "code",
   "execution_count": null,
   "metadata": {
    "colab": {
     "base_uri": "https://localhost:8080/"
    },
    "executionInfo": {
     "elapsed": 15,
     "status": "ok",
     "timestamp": 1742671774351,
     "user": {
      "displayName": "A_52_Priyank Maheshwari",
      "userId": "00590290924200288402"
     },
     "user_tz": -330
    },
    "id": "asSJ5SvuGIIy",
    "outputId": "a94fc91b-d512-4f44-d5c2-16d2ef8e1377"
   },
   "outputs": [
    {
     "data": {
      "text/plain": [
       "[<Variable path=sequential_6/dense_layer/kernel, shape=(784, 512), dtype=float32, value=[[-0.03219258  0.01979236  0.05700715 ...  0.06346796  0.30214095\n",
       "    0.03889338]\n",
       "  [-0.0411438   0.06172475 -0.06340533 ... -0.04729802  0.291441\n",
       "   -0.07171958]\n",
       "  [-0.03857104 -0.03149366  0.01597655 ... -0.0390332   0.21906772\n",
       "   -0.06537043]\n",
       "  ...\n",
       "  [-0.03695926 -0.04890653 -0.01314913 ...  0.20888352 -0.11679764\n",
       "    0.01035617]\n",
       "  [ 0.02476981 -0.03703157  0.01611172 ...  0.18657097 -0.03084661\n",
       "    0.06907161]\n",
       "  [ 0.032336   -0.02449022  0.05424642 ...  0.24520704  0.10257884\n",
       "   -0.02262706]]>,\n",
       " <Variable path=sequential_6/dense_layer/bias, shape=(512,), dtype=float32, value=[-1.97391380e-02 -9.18766297e-03  1.72437436e-03  4.56431478e-01\n",
       "  -9.67814587e-03  9.48948637e-02 -3.37432742e-01 -1.00206593e-02\n",
       "  -6.04832964e-03 -6.07644767e-03  6.06127083e-02 -2.28044596e-02\n",
       "   2.81573106e-02 -4.04009014e-01 -1.11027926e-01  2.91931957e-01\n",
       "  -3.12615871e-01  6.20826408e-02  2.16610208e-02  7.80422091e-02\n",
       "  -2.15429604e-01  2.03135177e-01  2.83220615e-02  1.05947498e-02\n",
       "   2.02729195e-01 -2.21280932e-01 -1.77315682e-01  1.13933809e-01\n",
       "  -1.45763941e-02  1.61926284e-01  5.10640256e-02  1.64556667e-01\n",
       "  -6.21340089e-02  1.00331403e-01  1.75067812e-01  6.68753311e-02\n",
       "   2.58452237e-01  1.08620539e-01  5.84181100e-02  7.84467459e-02\n",
       "  -3.42071027e-01  1.86423972e-01 -2.22993293e-03  1.45259902e-01\n",
       "   7.27886055e-03 -2.54632205e-01  1.29444391e-01  3.22479643e-02\n",
       "  -4.37065326e-02 -1.91048943e-02 -1.27552496e-02  2.34823599e-01\n",
       "  -1.24861067e-02  2.78453916e-01  8.90348777e-02 -2.55441606e-01\n",
       "  -3.98098119e-03 -6.23776484e-03  3.37488353e-01 -4.43795929e-03\n",
       "   1.14822619e-01 -5.23682265e-03  1.21978305e-01  4.73688357e-02\n",
       "  -2.57644919e-03 -3.98418993e-01  7.94065073e-02  1.03769153e-01\n",
       "  -1.24080468e-03 -1.37257740e-01 -9.16718971e-03  3.00524645e-02\n",
       "   1.38652287e-02 -1.13605484e-02  1.38939127e-01  5.46938181e-02\n",
       "  -8.88975244e-03 -5.31640984e-02 -2.37449989e-01  1.26960576e-01\n",
       "  -1.99096873e-02  1.18291073e-01  2.23853230e-01  1.40622228e-01\n",
       "  -8.33318979e-02  9.72100198e-02 -3.87294978e-01  1.70238718e-01\n",
       "  -8.23107641e-03  3.19725880e-03  3.02869827e-02 -1.05585784e-01\n",
       "   2.55357325e-01  3.52861524e-01  1.99659579e-02  3.48458216e-02\n",
       "  -1.48353934e-01  2.29876384e-01 -1.00937031e-01  1.33947819e-01\n",
       "   2.71220319e-02 -2.34374274e-02 -1.48215620e-02 -5.00216261e-02\n",
       "  -1.63249169e-02  3.29112530e-01 -1.29026361e-02 -2.66540889e-02\n",
       "  -3.76669765e-01 -3.48300070e-01  1.29921660e-01  1.80431753e-01\n",
       "   3.24673653e-01 -8.31194781e-03 -1.91888753e-02 -2.33781133e-02\n",
       "   1.06120773e-01  3.05352807e-01  8.06912780e-02  1.41430974e-01\n",
       "  -3.65020707e-02  2.47413367e-01 -2.19231099e-02 -4.39890847e-02\n",
       "   4.94100302e-02  2.70617098e-01 -9.17802602e-02 -7.85569102e-02\n",
       "  -2.17566192e-02 -4.76774015e-02 -6.99673872e-03 -8.43879767e-03\n",
       "   8.21176218e-04  5.35992384e-02  2.81045973e-01 -3.98987383e-01\n",
       "   2.08151452e-02 -2.53575519e-02 -7.01966435e-02  1.83611050e-01\n",
       "   7.38645196e-02  9.00324583e-02  3.33908983e-02 -8.92462954e-03\n",
       "  -1.30768372e-02 -1.86347105e-02 -6.27406538e-01  1.69158146e-01\n",
       "  -7.78489839e-03  2.12608241e-02  1.87125821e-02 -2.04385430e-01\n",
       "   3.75574827e-01 -1.54255703e-03  1.83171943e-01 -6.25803089e-03\n",
       "  -1.61348730e-02 -1.98930223e-02  2.10346252e-01 -2.23394841e-01\n",
       "  -7.14764953e-01  1.90776646e-01 -5.14721036e-01  2.29094207e-01\n",
       "   1.05379373e-01  1.06440246e-01  1.42535940e-03  7.31506795e-02\n",
       "   9.95124131e-03 -1.41899049e-01 -2.68100470e-01  7.19935773e-03\n",
       "   2.00895980e-01 -1.02485493e-02 -2.09177323e-02  2.04204604e-01\n",
       "  -5.57301287e-03  4.62593883e-02  1.85100630e-01 -2.63122730e-02\n",
       "   2.02959731e-01 -1.11547776e-01  1.72719788e-02 -1.83662493e-02\n",
       "  -1.42886005e-02  8.93704742e-02  2.24138707e-01  1.47133812e-01\n",
       "  -1.04109280e-01  1.05099797e-01 -1.67890955e-02  5.82532994e-02\n",
       "   2.28741497e-01 -2.33200029e-01  1.14256726e-03 -1.26751410e-02\n",
       "   6.12843111e-02  1.09760523e-01 -1.85787734e-02 -7.25029269e-03\n",
       "  -3.98766957e-02  2.90799737e-01 -2.22270533e-01  8.29523429e-03\n",
       "   3.05619478e-01 -1.65090606e-01 -9.00643319e-03  5.26954457e-02\n",
       "   1.44319879e-02 -1.24198869e-02  2.87380457e-01  9.76166055e-02\n",
       "  -4.25245240e-02  2.13018879e-01  1.64812580e-01  2.55420089e-01\n",
       "   2.09239140e-01  2.18168288e-01  1.68906495e-01  6.72244355e-02\n",
       "  -1.16917863e-02  1.28998443e-01 -3.11033465e-02 -6.07959256e-02\n",
       "   5.85849211e-02 -8.83707125e-03  2.81765446e-04 -1.50538338e-02\n",
       "   1.59474880e-01  9.02221426e-02 -1.71121672e-01  2.56386936e-01\n",
       "   3.26351106e-01 -1.79193299e-02  2.17002437e-01 -1.15483776e-01\n",
       "   1.12497829e-01 -9.20655057e-02  1.91016376e-01 -1.16980756e-02\n",
       "   2.61059016e-01  1.75937384e-01  2.06615910e-01 -3.07835519e-01\n",
       "  -9.19237640e-03 -3.87674831e-02  1.93296686e-01  2.91296802e-02\n",
       "  -8.51083323e-02 -1.24981165e-01  2.83369869e-01 -1.13209905e-02\n",
       "   1.64057344e-01  2.81378299e-01  3.01816165e-01  9.36891139e-02\n",
       "  -3.40778500e-01  1.55445158e-01  5.03384955e-02  6.28084764e-02\n",
       "   4.69514616e-02 -2.98798084e-02 -5.04880212e-03 -2.35673878e-02\n",
       "  -2.31310986e-02 -6.09811954e-02  3.22059058e-02 -6.46069407e-01\n",
       "  -4.79936115e-02 -1.39099419e-01 -5.99865317e-01  1.64071620e-01\n",
       "  -2.73907240e-02 -1.19298063e-01 -2.55773086e-02  4.21262011e-02\n",
       "  -2.45239213e-02 -4.78958279e-01 -1.12556554e-01  1.71306223e-01\n",
       "  -2.00919315e-01  1.97555758e-02 -4.81668591e-01  4.79848348e-02\n",
       "   3.81004542e-01 -9.63485241e-02  5.10472851e-03  1.56583637e-01\n",
       "  -1.96106844e-02  9.87595171e-02  1.57230765e-01 -2.03627735e-01\n",
       "  -1.26886535e-02 -7.67572224e-03  1.72451645e-01 -8.69740918e-02\n",
       "  -6.23303726e-02 -2.60045260e-01  4.54407781e-02 -2.63045169e-02\n",
       "  -1.99885786e-01 -9.18616075e-04  1.15342364e-01  2.73678124e-01\n",
       "   3.63039881e-01 -2.11943295e-02 -9.28305183e-03  2.20281743e-02\n",
       "   1.12558991e-01  7.14459643e-02  2.43649080e-01 -1.72604635e-01\n",
       "   2.03679036e-02  1.01392388e-01  1.55225590e-01  5.45030311e-02\n",
       "  -2.02944409e-02  1.26329185e-02 -1.04996581e-02  2.18447551e-01\n",
       "  -2.30524153e-01  9.66670457e-03  3.85107659e-02 -1.40156578e-02\n",
       "   1.82904914e-01 -6.98725656e-02 -7.31104100e-03  1.41972497e-01\n",
       "   1.38019189e-01  1.44929186e-01  2.26010352e-01  1.74032524e-01\n",
       "  -1.10510640e-01 -7.44950846e-02 -1.21918824e-02 -4.29502696e-01\n",
       "   4.04344618e-01  1.00300036e-01 -2.64770463e-02 -6.48729622e-01\n",
       "   2.08216876e-01 -4.98168133e-02 -1.58774346e-01 -7.66194053e-03\n",
       "  -1.23670921e-01  1.68435618e-01 -1.26870275e-02  1.02135576e-01\n",
       "  -5.50420247e-02  5.05969264e-02 -1.47063076e-01 -8.35085195e-03\n",
       "  -4.24017042e-01 -3.12086523e-01 -2.95340572e-03  7.82065541e-02\n",
       "  -3.86644542e-01 -2.33145431e-01 -4.16146265e-03 -1.15939438e-01\n",
       "  -1.48720318e-03 -2.33133640e-02 -1.05692968e-02 -2.44927153e-01\n",
       "   2.95047015e-02  3.40834446e-02 -8.17403868e-02  1.75565809e-01\n",
       "   9.39035937e-02 -1.19967014e-01 -4.88673180e-01 -1.80160090e-01\n",
       "  -1.09151043e-02  2.25097999e-01  1.85412154e-01  2.19306082e-01\n",
       "  -5.24050176e-01 -2.99739055e-02  2.93882996e-01 -4.75286618e-02\n",
       "  -1.19018797e-02  1.71359986e-01  2.09087759e-01 -3.21716033e-02\n",
       "   1.00949844e-02 -6.14973865e-02  1.05948798e-01 -1.47115495e-02\n",
       "  -2.38271412e-02 -1.40034221e-02  7.86190480e-02  1.49331287e-01\n",
       "  -2.08017975e-02  2.94110030e-01  5.83437756e-02 -7.42998943e-02\n",
       "  -1.41740277e-01 -5.66842183e-02  1.43820932e-02  2.30412111e-01\n",
       "   1.46603972e-01 -3.25187971e-03  1.73486143e-01 -2.33556367e-02\n",
       "   4.44217101e-02  1.75752208e-01 -8.36091302e-03  9.67504457e-02\n",
       "   1.71282902e-01  1.41619056e-01 -1.68046504e-02 -8.98768473e-03\n",
       "   1.24082029e-01 -2.75053158e-02  4.16309029e-01  3.14525038e-01\n",
       "  -2.91971513e-03  5.81742562e-02 -1.19863860e-01  1.58897638e-02\n",
       "  -2.43851855e-01 -7.22291023e-02  3.17092717e-01  1.12850450e-01\n",
       "   1.61359742e-01  1.00459777e-01  4.39718306e-01  2.31972635e-01\n",
       "   2.67644644e-01 -1.68023445e-02 -3.46446872e-01  1.18497156e-01\n",
       "   1.40885219e-01  1.12920418e-01 -5.37247676e-03 -1.46622658e-02\n",
       "   8.34733844e-02  1.23344243e-01 -2.54682060e-02  6.64973035e-02\n",
       "  -1.16739646e-02  1.48406312e-01 -1.69508025e-01 -4.28179085e-01\n",
       "   1.43916175e-01  1.89807445e-01  8.17966461e-02 -4.77544338e-01\n",
       "  -5.34332283e-02  1.24107711e-01  3.87711450e-02  1.61720008e-01\n",
       "  -2.18116194e-02 -7.15400651e-03 -3.14346552e-02 -1.55412862e-02\n",
       "   2.12139025e-01 -1.25673525e-02 -1.47352116e-02 -1.85009688e-02\n",
       "   1.41794756e-01 -1.73255559e-02 -1.51687777e-02  1.61261007e-01\n",
       "   1.30266950e-01  5.47943227e-02  1.82056442e-01  6.18772358e-02\n",
       "  -1.05862657e-03  1.90280423e-01  9.93227214e-02  6.41153380e-02\n",
       "  -2.20685620e-02 -3.13265026e-02  1.51967071e-02  6.74130097e-02\n",
       "  -2.80421615e-01 -4.08033431e-02 -3.29944879e-01 -3.29398811e-01\n",
       "   1.31147295e-01  2.03398600e-01  1.69495076e-01  2.54037589e-01\n",
       "   2.79986918e-01  6.96225837e-03  2.34729588e-01  1.27449766e-01\n",
       "   2.93515533e-01  1.23329654e-01  2.75652826e-01 -2.07561776e-01\n",
       "   3.89035851e-01  7.70907477e-02  2.22327441e-01 -1.04304636e-02\n",
       "   1.22015961e-01  5.30021265e-02 -7.47876568e-03  3.07328045e-01\n",
       "   1.77594930e-01  8.28280225e-02  7.04622865e-02 -3.63463815e-03\n",
       "   2.93161184e-01 -3.01794019e-02  8.32688212e-02  1.31688148e-01\n",
       "   2.27542579e-01  4.91259014e-03  1.72024257e-02  2.32622445e-01]>,\n",
       " <Variable path=sequential_6/dense_layer_2/kernel, shape=(512, 512), dtype=float32, value=[[-0.01614849  0.0326127  -0.03572263 ...  0.01217328 -0.04327878\n",
       "    0.00262996]\n",
       "  [ 0.00120619 -0.01351343  0.00185251 ...  0.0544644   0.00677726\n",
       "   -0.0723852 ]\n",
       "  [-0.06293507  0.00437864  0.04660959 ...  0.04662208  0.03743323\n",
       "    0.01541724]\n",
       "  ...\n",
       "  [ 0.05868557 -0.0371404   0.09022938 ... -0.03063372 -0.0618672\n",
       "   -0.02584525]\n",
       "  [ 0.02534441 -0.21783963 -0.17910857 ... -0.14400639 -0.30737865\n",
       "   -0.01777023]\n",
       "  [ 0.23138274 -0.02387368 -0.05824844 ...  0.04692987  0.33633748\n",
       "   -0.10671531]]>,\n",
       " <Variable path=sequential_6/dense_layer_2/bias, shape=(512,), dtype=float32, value=[ 0.18695858  0.08278829 -0.08541612  0.06738813 -0.2608416   0.07347302\n",
       "  -0.17774421 -0.0398256   0.17399316 -0.1643374   0.16936934  0.01610192\n",
       "  -0.02616607 -0.02966873 -0.03650933  0.24724716  0.18960424  0.1465069\n",
       "  -0.13819034 -0.30135104 -0.21533425  0.18806578 -0.1668768   0.24755132\n",
       "  -0.42868736 -0.23961076  0.07885665 -0.16958328  0.22706048  0.15454988\n",
       "  -0.0905802   0.06693897 -0.01056652 -0.12489873 -0.27233046  0.10171802\n",
       "   0.223983   -0.09521595  0.064232   -0.10142589 -0.02565449  0.21201468\n",
       "  -0.29104093  0.30717966 -0.15462093  0.11829738  0.22067071 -0.05594948\n",
       "  -0.19698709 -0.10484854 -0.01691838  0.16152404  0.04096037 -0.2377833\n",
       "  -0.09853558  0.0464174   0.04881147  0.06065117 -0.1544228   0.24607222\n",
       "   0.1169517   0.17579629  0.33611697 -0.0539188  -0.31797162  0.07069073\n",
       "   0.11363544  0.07253306  0.11426961  0.14579323  0.01143146  0.02019298\n",
       "   0.15324624 -0.0624995  -0.10833661 -0.13074134 -0.36273855 -0.05803008\n",
       "  -0.13831967 -0.07905477  0.31665748  0.00210549 -0.2610493   0.21209815\n",
       "  -0.01688881 -0.08975982 -0.2501113  -0.16349879 -0.12913936  0.00968641\n",
       "  -0.07062746 -0.1010804   0.14426117 -0.15819356  0.00511298 -0.07345022\n",
       "   0.06533198  0.07494944 -0.1794646  -0.04998062 -0.22565913  0.34605542\n",
       "  -0.1707129   0.17251432 -0.13578981  0.0169285  -0.19514246 -0.17757137\n",
       "  -0.08162905 -0.07997812 -0.00100281  0.09392404  0.03925527 -0.15366197\n",
       "  -0.2742268   0.01694869 -0.17330785 -0.25398704 -0.21298467  0.12943932\n",
       "  -0.19798349  0.0830664   0.02179654 -0.1593962   0.24359156  0.18843561\n",
       "  -0.05795493 -0.08584786 -0.24755059 -0.03275922 -0.01130088 -0.2420328\n",
       "   0.15672363 -0.18756059 -0.04630335 -0.18496874 -0.16001315 -0.30777833\n",
       "   0.17865287 -0.43059793 -0.09445444 -0.1620893  -0.22550724  0.16151059\n",
       "   0.11677854 -0.3353325   0.07178551  0.02042222  0.00430257  0.02211643\n",
       "   0.24698415 -0.19730063 -0.17790572 -0.10215443 -0.20083113  0.12581311\n",
       "   0.01349834 -0.1264574   0.05905917 -0.13569644  0.02664675 -0.02867269\n",
       "  -0.31575003  0.12036528 -0.13976786 -0.03043479  0.1995214  -0.4213804\n",
       "  -0.28342727  0.0732421  -0.17824095  0.11333251  0.28913477 -0.25638616\n",
       "  -0.01961574  0.31405658 -0.12413774 -0.11831134 -0.23851861 -0.1741828\n",
       "  -0.3283708   0.29019052  0.06822816  0.08266861 -0.14096002  0.04764966\n",
       "  -0.05557329 -0.25942945  0.32262912 -0.0866762  -0.07214722 -0.214658\n",
       "  -0.12049583  0.10749201 -0.00461951  0.06998144 -0.27133095  0.02212599\n",
       "  -0.05002382  0.01201402  0.05385174 -0.11847448 -0.27920887 -0.2513754\n",
       "  -0.24957977 -0.00910198  0.07935201 -0.05077794 -0.29698431 -0.10122988\n",
       "  -0.11570551 -0.09719715 -0.05796513 -0.23148385 -0.27426612 -0.00299707\n",
       "  -0.07115158 -0.2779955  -0.16529731 -0.13395774 -0.18793356  0.12087777\n",
       "   0.18614793  0.06548004  0.37723756  0.265121    0.11149743  0.10093047\n",
       "  -0.0489429   0.06084122  0.28266189 -0.24606112  0.08814605 -0.40304157\n",
       "  -0.3277522  -0.00830821 -0.10503422  0.2729345  -0.25067198  0.02502239\n",
       "  -0.11089701 -0.12847483 -0.05427769 -0.17096189  0.21794654  0.15019146\n",
       "   0.24056056  0.09863368 -0.13974397 -0.09655848 -0.0595131   0.01557036\n",
       "   0.02920447 -0.07181446 -0.08798502 -0.1900622   0.35202554  0.10901631\n",
       "  -0.02491901  0.3023124   0.0799173   0.02599879  0.08037167 -0.04174162\n",
       "  -0.22002728 -0.00313164  0.10803108  0.13437845  0.12575519 -0.01626492\n",
       "   0.11067396 -0.12737033  0.07092083  0.24517086 -0.23760867 -0.37447718\n",
       "  -0.1343575   0.05948244 -0.17692252 -0.08594532 -0.21607946  0.21242146\n",
       "  -0.26923397 -0.0632279   0.2049767   0.1095769   0.0723692   0.12500921\n",
       "  -0.23485798 -0.0719901  -0.19067015 -0.27865234 -0.27536878  0.13744973\n",
       "  -0.10801868 -0.2781496  -0.3091433   0.12726195 -0.0596705   0.04241343\n",
       "  -0.13873042  0.08448843 -0.13763472  0.13425735 -0.14035048  0.08003102\n",
       "   0.00534103 -0.01404516 -0.21973766  0.34417582  0.26397434 -0.0513785\n",
       "  -0.21591684  0.18182999 -0.2829762   0.06384464  0.03450423  0.32290006\n",
       "   0.03192664 -0.06896731 -0.18553281  0.06607939  0.10941791 -0.0291941\n",
       "  -0.01818471 -0.02805324  0.07561454 -0.2974398  -0.29873955 -0.26345432\n",
       "  -0.18393081 -0.03627251  0.08927704 -0.07468521 -0.22112697 -0.12556225\n",
       "  -0.16676866  0.03436425 -0.02983078  0.2608174  -0.2102142  -0.06922309\n",
       "   0.10405775 -0.16160712 -0.23869538 -0.09178544 -0.11887692 -0.11031576\n",
       "  -0.00935238  0.10725954  0.01553573 -0.22944734  0.00997198 -0.18578626\n",
       "  -0.00918964  0.18478103  0.30952278 -0.22990388 -0.05780652  0.44371256\n",
       "   0.2086168  -0.16107112 -0.02272247 -0.4346382  -0.12212541 -0.26786816\n",
       "   0.08861704 -0.06751733  0.01471109 -0.23692481 -0.13583258  0.01595131\n",
       "  -0.04807223  0.04998319 -0.18679279 -0.50216305  0.06060175 -0.17675821\n",
       "  -0.04468148 -0.2063314   0.11625125  0.20505464 -0.05339764 -0.15650223\n",
       "  -0.3341279   0.1490311  -0.0811983  -0.13204965  0.29381943 -0.18303128\n",
       "  -0.05687914 -0.160813   -0.04952342  0.07343688 -0.34815606 -0.00158407\n",
       "  -0.1896076   0.09665765 -0.18629903  0.20840637 -0.16869251  0.1274393\n",
       "  -0.17992051 -0.20427866 -0.17793886  0.08228262 -0.01568889  0.00751925\n",
       "  -0.00362085 -0.06761472 -0.16087398  0.28662926  0.12016189 -0.37989387\n",
       "   0.07749486 -0.2737117   0.2811518  -0.13624832 -0.2400629  -0.07919554\n",
       "   0.17229368 -0.14200348  0.08143993 -0.26845822  0.20176877 -0.08596882\n",
       "   0.23932758  0.2565122  -0.00924013 -0.06025574 -0.08133563  0.20478886\n",
       "   0.14164302 -0.09566089  0.16687919 -0.3995287   0.03664387  0.02175647\n",
       "   0.02195478 -0.34013268  0.09076817  0.01648657 -0.31157845  0.09934092\n",
       "   0.26180896 -0.08539917  0.24193025 -0.01357952 -0.05704442 -0.09457146\n",
       "  -0.10888942  0.03105862 -0.22611855 -0.28271157  0.22579649 -0.22715661\n",
       "   0.0603463  -0.1919347  -0.0221918   0.28181455  0.21047595 -0.1349361\n",
       "   0.178739   -0.11024225 -0.35864413 -0.33630615 -0.16954856  0.346459\n",
       "   0.21444468  0.1806231  -0.28168368  0.17263268 -0.06619769 -0.2276941\n",
       "  -0.29459226  0.1185582   0.0426538  -0.11042709 -0.06700302 -0.03104428\n",
       "  -0.27660084 -0.40672007  0.09677283  0.08702679 -0.249683   -0.10968387\n",
       "   0.04579278 -0.3336028  -0.10135734  0.14300841  0.05537745  0.36111107\n",
       "  -0.14542784  0.30359882 -0.07466841  0.11968888 -0.16504034  0.08632219\n",
       "  -0.0332122  -0.26346496 -0.07278992 -0.22826156 -0.12031659  0.00581403\n",
       "  -0.00506545 -0.13652104 -0.01984962  0.012614   -0.10685989  0.00616813\n",
       "   0.01749712 -0.16094811]>,\n",
       " <Variable path=sequential_6/dense_layer_3/kernel, shape=(512, 512), dtype=float32, value=[[-0.22956829 -0.08138573 -0.00668187 ... -0.06116246 -0.12132804\n",
       "   -0.10304161]\n",
       "  [-0.05865629 -0.05015578  0.05917362 ... -0.10118569 -0.08313483\n",
       "   -0.09228992]\n",
       "  [-0.15339674 -0.05943242 -0.00739618 ... -0.08436908 -0.29722205\n",
       "    0.01030074]\n",
       "  ...\n",
       "  [-0.06960437 -0.04813964 -0.16624278 ... -0.13975568 -0.47531873\n",
       "   -0.10749453]\n",
       "  [ 0.00723242 -0.02697572 -0.21735205 ...  0.10077908 -0.06329621\n",
       "   -0.12331996]\n",
       "  [-0.02858898  0.08206382  0.03586828 ... -0.15511924 -0.00392421\n",
       "    0.00847077]]>,\n",
       " <Variable path=sequential_6/dense_layer_3/bias, shape=(512,), dtype=float32, value=[ 0.06539449 -0.04942602  0.0406251  -0.12062374 -0.26879662 -0.1776968\n",
       "  -0.29088482 -0.20450592  0.40242827  0.27522758  0.21736369  0.21606381\n",
       "   0.22396924 -0.18344402  0.15794471  0.04298338 -0.06145328 -0.12025694\n",
       "   0.14776498  0.03278311  0.15745918  0.08849826  0.27228898  0.45349225\n",
       "   0.23968509  0.32928458  0.1812991  -0.13049841  0.0821555   0.2300326\n",
       "  -0.16362083  0.19506977  0.38922486  0.22299013  0.07803557  0.4735274\n",
       "   0.19291413  0.29108703  0.13596497  0.39829314  0.09436896  0.19689699\n",
       "   0.29840392  0.3012318  -0.10410224 -0.01009458  0.00170664 -0.12936315\n",
       "  -0.00905441 -0.06486648 -0.00148439 -0.15489382  0.36469924 -0.16387095\n",
       "   0.09707519  0.07673241  0.4783093   0.3277419  -0.23754323  0.3596346\n",
       "  -0.08291765  0.25006756  0.04741899  0.27114162 -0.05479129 -0.06514293\n",
       "   0.433679   -0.27718788  0.10592049  0.3784269   0.3224763   0.2171707\n",
       "   0.30613172  0.34047943  0.10740791  0.22702813  0.2781132   0.37644172\n",
       "  -0.02182969  0.4170487  -0.20885229  0.38579378 -0.08646401  0.24502853\n",
       "   0.17001696  0.25752455  0.30344638  0.15505473 -0.0730865   0.24646528\n",
       "  -0.13503651 -0.08908796  0.05696354  0.22991318  0.44865748  0.03716728\n",
       "  -0.22623098 -0.15023865 -0.23806621  0.18247661 -0.11781365  0.3121726\n",
       "  -0.13796814 -0.10209785 -0.30941522 -0.07164176 -0.00384469 -0.4317691\n",
       "   0.31350318 -0.13619709 -0.06046857 -0.00191715  0.12877387  0.32996425\n",
       "  -0.02907874 -0.22760832 -0.14624238 -0.22339144  0.02682436  0.16539188\n",
       "   0.03962311  0.17942652 -0.08787803 -0.1079088   0.1197141  -0.1332142\n",
       "  -0.10621811  0.02288435  0.07782895 -0.2377174   0.38599664  0.32980236\n",
       "   0.24763083 -0.15715091  0.40901607  0.14708996  0.11135542  0.46872714\n",
       "  -0.20694378  0.06790791  0.15924245 -0.14664823 -0.1457253  -0.01326813\n",
       "   0.19392507 -0.12536629 -0.00447512  0.22695169  0.2756522  -0.18736726\n",
       "   0.05249164  0.44669962  0.5272086   0.3525233  -0.01305353  0.19965456\n",
       "   0.0929203  -0.03929693  0.01168558 -0.25199264  0.16853677 -0.11140499\n",
       "  -0.26645932  0.13006155  0.0951158  -0.13934945  0.4588241  -0.14346561\n",
       "   0.37303072  0.23969893 -0.24072866 -0.33356825  0.32448456  0.04169666\n",
       "  -0.06415389  0.12266947  0.32713485  0.03240392  0.04361226  0.32416248\n",
       "   0.20332547  0.2883782   0.4089008   0.36105672 -0.0034913  -0.22710301\n",
       "   0.09210581 -0.12020527  0.16027431  0.1512888  -0.21843486  0.48898748\n",
       "  -0.14338918 -0.01866484  0.27456006  0.34414855 -0.01115299 -0.1470987\n",
       "   0.2983144  -0.35847944  0.20821677  0.11667251 -0.09208853 -0.2116793\n",
       "   0.29541418  0.03122577  0.23970333 -0.05753624 -0.28926122  0.22255674\n",
       "  -0.18020082 -0.08590958  0.23268123 -0.38463345 -0.15076046 -0.02895742\n",
       "  -0.01056705  0.49331877 -0.3381991  -0.10669931  0.15439488 -0.06744092\n",
       "  -0.26224503  0.25737745 -0.01045596  0.36343813  0.30815396  0.05709932\n",
       "   0.2319965   0.27040124  0.164164    0.29128647  0.22644734 -0.27319893\n",
       "   0.11427137 -0.07372503 -0.03469588 -0.04368641  0.16503535  0.0774954\n",
       "   0.17306805 -0.08979117  0.4723766   0.41596732  0.17810754  0.20303677\n",
       "   0.43190482 -0.27489555  0.33384085 -0.3348711   0.14337116  0.01003717\n",
       "  -0.19581978  0.08611529 -0.17695715 -0.06671407  0.34536028  0.29438984\n",
       "   0.18936618  0.37660557 -0.03272129  0.4461079   0.39313346  0.24603415\n",
       "  -0.17289333 -0.06766357 -0.18551344  0.27884346  0.33621833  0.25925675\n",
       "   0.3071368  -0.00645737  0.20085122 -0.2502633  -0.18748055 -0.05019717\n",
       "   0.21461563 -0.03357951  0.00291834  0.4245574   0.25607756  0.07170938\n",
       "   0.3673424   0.13873658  0.4510576   0.19400223  0.35679725  0.35207108\n",
       "  -0.195338    0.14075248 -0.29959366 -0.14242795  0.05618091  0.06066872\n",
       "   0.18110713  0.4161952   0.36346078 -0.10403144  0.2814719   0.20993721\n",
       "  -0.2388345  -0.28803828  0.06678451  0.06471889 -0.17749403  0.11860536\n",
       "  -0.17263585  0.4785115   0.13641466  0.2091117   0.27845252  0.5390645\n",
       "   0.12713683  0.14444073 -0.22920357  0.05119362  0.14381254  0.17593901\n",
       "  -0.00444535  0.09535593  0.3259132   0.15812889  0.33548608  0.15020402\n",
       "  -0.25522533  0.3856336   0.18041502 -0.10220775  0.3014857  -0.09273702\n",
       "  -0.2666791   0.36929548 -0.26854867 -0.17179559 -0.19278333  0.2801353\n",
       "   0.06303131  0.23042704  0.01647685  0.16335456 -0.07713028 -0.1856058\n",
       "   0.34558693  0.16146863 -0.02675788 -0.06964664 -0.26778686 -0.05841326\n",
       "   0.4003728   0.1832867   0.18608655  0.15962578 -0.24144453  0.2907824\n",
       "   0.3390209  -0.21962552  0.28551948  0.0938077   0.20605367 -0.01290796\n",
       "  -0.11964743  0.20179537  0.16284564  0.2591669   0.22004846 -0.17190784\n",
       "  -0.08297379 -0.15354867  0.39633536  0.07392661  0.05188609 -0.11603802\n",
       "  -0.00304691  0.10150031  0.1995985  -0.02002949  0.34106228  0.3912273\n",
       "  -0.24856265  0.08249252 -0.31062797  0.03066679 -0.01114212 -0.297153\n",
       "  -0.24151191 -0.19695897  0.30696055 -0.22217637  0.28151834 -0.18353128\n",
       "   0.410234   -0.03424701  0.17679426  0.13159223  0.096766    0.02227966\n",
       "  -0.2530401  -0.00598716  0.14446564  0.13627785  0.13165845  0.2950823\n",
       "   0.01991597 -0.20391405  0.24524236  0.19959097 -0.14062428  0.2193485\n",
       "  -0.10901836 -0.2728571   0.26852188  0.1885631  -0.15637974  0.0641683\n",
       "   0.35821047  0.21990123  0.18492155  0.30298296 -0.23870505  0.06611542\n",
       "   0.36417538  0.4081733  -0.25969863  0.28559366 -0.05494193 -0.3307986\n",
       "   0.53374046 -0.03421309  0.04005348 -0.26613143  0.42107138 -0.18894584\n",
       "  -0.27946    -0.22933082  0.3195073   0.11431015  0.36765197 -0.2344172\n",
       "  -0.11887573 -0.18360826 -0.05409839  0.0755388  -0.2969225   0.4338095\n",
       "   0.23122698  0.14941761 -0.10231192  0.20554116  0.28233394  0.2728924\n",
       "   0.4610183  -0.16349754  0.24456976 -0.21485434  0.10462477  0.10196123\n",
       "  -0.00083283 -0.17742634 -0.20549609  0.01368051  0.49842775  0.1565235\n",
       "   0.12885796  0.3944008   0.08916752  0.19182362 -0.22211196  0.0547383\n",
       "   0.2007067  -0.12296122 -0.20324323 -0.19093353  0.19983676 -0.24684644\n",
       "  -0.23297702  0.21978228  0.2183933  -0.27082133  0.3291721   0.29583743\n",
       "   0.5429135  -0.25739425  0.02294985 -0.06012075 -0.02615257  0.04359105\n",
       "   0.06785512  0.21846606  0.06829078  0.41249418  0.2673548  -0.24002405\n",
       "   0.24678878 -0.23715375  0.19793141  0.05102058  0.09384809 -0.01422071\n",
       "  -0.08433988  0.2956478  -0.26931998  0.02810324 -0.2041296   0.2262565\n",
       "  -0.20594802 -0.17681581  0.04723091  0.36894044 -0.2513351   0.34953055\n",
       "   0.09380161 -0.15525194]>,\n",
       " <Variable path=sequential_6/dense_layer_4/kernel, shape=(512, 10), dtype=float32, value=[[-0.18154322 -0.38107547 -0.17733458 ...  0.11703668 -0.20107612\n",
       "    0.09936843]\n",
       "  [ 0.0955376   0.07846484 -0.11287525 ... -0.07368065 -0.02934664\n",
       "   -0.3245686 ]\n",
       "  [ 0.10586596 -0.3136039  -0.27014533 ... -0.04892115 -0.02739223\n",
       "   -0.07400613]\n",
       "  ...\n",
       "  [ 0.10436537 -0.3607749   0.1018429  ... -0.15695     0.04022303\n",
       "   -0.15782543]\n",
       "  [ 0.02984522 -0.1698964   0.05938424 ...  0.05255998 -0.05208788\n",
       "   -0.07130972]\n",
       "  [-0.16332439 -0.07475437 -0.07981171 ... -0.07786309 -0.14718346\n",
       "   -0.06770735]]>,\n",
       " <Variable path=sequential_6/dense_layer_4/bias, shape=(10,), dtype=float32, value=[-0.06849073 -0.44625777  0.06709963  0.22794221 -0.00690364 -0.24744566\n",
       "  -0.02898111  0.28708446  0.0517018  -0.12751846]>]"
      ]
     },
     "execution_count": 73,
     "metadata": {},
     "output_type": "execute_result"
    }
   ],
   "source": [
    "model_6.weights"
   ]
  },
  {
   "cell_type": "code",
   "execution_count": null,
   "metadata": {
    "colab": {
     "base_uri": "https://localhost:8080/"
    },
    "executionInfo": {
     "elapsed": 26,
     "status": "ok",
     "timestamp": 1742671774378,
     "user": {
      "displayName": "A_52_Priyank Maheshwari",
      "userId": "00590290924200288402"
     },
     "user_tz": -330
    },
    "id": "NLg2-B2_GJo6",
    "outputId": "b30526b2-8524-476a-c413-57a32d6aa6f6"
   },
   "outputs": [
    {
     "data": {
      "text/plain": [
       "{'name': 'sequential_6',\n",
       " 'trainable': True,\n",
       " 'dtype': {'module': 'keras',\n",
       "  'class_name': 'DTypePolicy',\n",
       "  'config': {'name': 'float32'},\n",
       "  'registered_name': None},\n",
       " 'layers': [{'module': 'keras.layers',\n",
       "   'class_name': 'InputLayer',\n",
       "   'config': {'batch_shape': (None, 784),\n",
       "    'dtype': 'float32',\n",
       "    'sparse': False,\n",
       "    'name': 'input_layer_6'},\n",
       "   'registered_name': None},\n",
       "  {'module': 'keras.layers',\n",
       "   'class_name': 'Dense',\n",
       "   'config': {'name': 'dense_layer',\n",
       "    'trainable': True,\n",
       "    'dtype': {'module': 'keras',\n",
       "     'class_name': 'DTypePolicy',\n",
       "     'config': {'name': 'float32'},\n",
       "     'registered_name': None},\n",
       "    'units': 512,\n",
       "    'activation': 'relu',\n",
       "    'use_bias': True,\n",
       "    'kernel_initializer': {'module': 'keras.initializers',\n",
       "     'class_name': 'GlorotUniform',\n",
       "     'config': {'seed': None},\n",
       "     'registered_name': None},\n",
       "    'bias_initializer': {'module': 'keras.initializers',\n",
       "     'class_name': 'Zeros',\n",
       "     'config': {},\n",
       "     'registered_name': None},\n",
       "    'kernel_regularizer': None,\n",
       "    'bias_regularizer': None,\n",
       "    'kernel_constraint': None,\n",
       "    'bias_constraint': None},\n",
       "   'registered_name': None,\n",
       "   'build_config': {'input_shape': (None, 784)}},\n",
       "  {'module': 'keras.layers',\n",
       "   'class_name': 'Dropout',\n",
       "   'config': {'name': 'dropout_8',\n",
       "    'trainable': True,\n",
       "    'dtype': {'module': 'keras',\n",
       "     'class_name': 'DTypePolicy',\n",
       "     'config': {'name': 'float32'},\n",
       "     'registered_name': None},\n",
       "    'rate': 0.3,\n",
       "    'seed': None,\n",
       "    'noise_shape': None},\n",
       "   'registered_name': None},\n",
       "  {'module': 'keras.layers',\n",
       "   'class_name': 'Dense',\n",
       "   'config': {'name': 'dense_layer_2',\n",
       "    'trainable': True,\n",
       "    'dtype': {'module': 'keras',\n",
       "     'class_name': 'DTypePolicy',\n",
       "     'config': {'name': 'float32'},\n",
       "     'registered_name': None},\n",
       "    'units': 512,\n",
       "    'activation': 'relu',\n",
       "    'use_bias': True,\n",
       "    'kernel_initializer': {'module': 'keras.initializers',\n",
       "     'class_name': 'GlorotUniform',\n",
       "     'config': {'seed': None},\n",
       "     'registered_name': None},\n",
       "    'bias_initializer': {'module': 'keras.initializers',\n",
       "     'class_name': 'Zeros',\n",
       "     'config': {},\n",
       "     'registered_name': None},\n",
       "    'kernel_regularizer': None,\n",
       "    'bias_regularizer': None,\n",
       "    'kernel_constraint': None,\n",
       "    'bias_constraint': None},\n",
       "   'registered_name': None,\n",
       "   'build_config': {'input_shape': (None, 512)}},\n",
       "  {'module': 'keras.layers',\n",
       "   'class_name': 'Dropout',\n",
       "   'config': {'name': 'dropout_9',\n",
       "    'trainable': True,\n",
       "    'dtype': {'module': 'keras',\n",
       "     'class_name': 'DTypePolicy',\n",
       "     'config': {'name': 'float32'},\n",
       "     'registered_name': None},\n",
       "    'rate': 0.3,\n",
       "    'seed': None,\n",
       "    'noise_shape': None},\n",
       "   'registered_name': None},\n",
       "  {'module': 'keras.layers',\n",
       "   'class_name': 'Dense',\n",
       "   'config': {'name': 'dense_layer_3',\n",
       "    'trainable': True,\n",
       "    'dtype': {'module': 'keras',\n",
       "     'class_name': 'DTypePolicy',\n",
       "     'config': {'name': 'float32'},\n",
       "     'registered_name': None},\n",
       "    'units': 512,\n",
       "    'activation': 'relu',\n",
       "    'use_bias': True,\n",
       "    'kernel_initializer': {'module': 'keras.initializers',\n",
       "     'class_name': 'GlorotUniform',\n",
       "     'config': {'seed': None},\n",
       "     'registered_name': None},\n",
       "    'bias_initializer': {'module': 'keras.initializers',\n",
       "     'class_name': 'Zeros',\n",
       "     'config': {},\n",
       "     'registered_name': None},\n",
       "    'kernel_regularizer': None,\n",
       "    'bias_regularizer': None,\n",
       "    'kernel_constraint': None,\n",
       "    'bias_constraint': None},\n",
       "   'registered_name': None,\n",
       "   'build_config': {'input_shape': (None, 512)}},\n",
       "  {'module': 'keras.layers',\n",
       "   'class_name': 'Dropout',\n",
       "   'config': {'name': 'dropout_10',\n",
       "    'trainable': True,\n",
       "    'dtype': {'module': 'keras',\n",
       "     'class_name': 'DTypePolicy',\n",
       "     'config': {'name': 'float32'},\n",
       "     'registered_name': None},\n",
       "    'rate': 0.3,\n",
       "    'seed': None,\n",
       "    'noise_shape': None},\n",
       "   'registered_name': None},\n",
       "  {'module': 'keras.layers',\n",
       "   'class_name': 'Dense',\n",
       "   'config': {'name': 'dense_layer_4',\n",
       "    'trainable': True,\n",
       "    'dtype': {'module': 'keras',\n",
       "     'class_name': 'DTypePolicy',\n",
       "     'config': {'name': 'float32'},\n",
       "     'registered_name': None},\n",
       "    'units': 10,\n",
       "    'activation': 'softmax',\n",
       "    'use_bias': True,\n",
       "    'kernel_initializer': {'module': 'keras.initializers',\n",
       "     'class_name': 'GlorotUniform',\n",
       "     'config': {'seed': None},\n",
       "     'registered_name': None},\n",
       "    'bias_initializer': {'module': 'keras.initializers',\n",
       "     'class_name': 'Zeros',\n",
       "     'config': {},\n",
       "     'registered_name': None},\n",
       "    'kernel_regularizer': None,\n",
       "    'bias_regularizer': None,\n",
       "    'kernel_constraint': None,\n",
       "    'bias_constraint': None},\n",
       "   'registered_name': None,\n",
       "   'build_config': {'input_shape': (None, 512)}}],\n",
       " 'build_input_shape': (None, 784)}"
      ]
     },
     "execution_count": 74,
     "metadata": {},
     "output_type": "execute_result"
    }
   ],
   "source": [
    "model_6.get_config()"
   ]
  }
 ],
 "metadata": {
  "accelerator": "GPU",
  "colab": {
   "authorship_tag": "ABX9TyNel1G4Udez6DIVCAS/KzeW",
   "gpuType": "T4",
   "provenance": []
  },
  "kernelspec": {
   "display_name": "Python 3",
   "language": "python",
   "name": "python3"
  },
  "language_info": {
   "codemirror_mode": {
    "name": "ipython",
    "version": 3
   },
   "file_extension": ".py",
   "mimetype": "text/x-python",
   "name": "python",
   "nbconvert_exporter": "python",
   "pygments_lexer": "ipython3",
   "version": "3.13.1"
  }
 },
 "nbformat": 4,
 "nbformat_minor": 4
}
